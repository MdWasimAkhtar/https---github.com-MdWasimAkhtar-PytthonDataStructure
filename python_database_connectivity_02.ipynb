{
 "cells": [
  {
   "cell_type": "markdown",
   "metadata": {},
   "source": [
    "errors\n",
    "\n",
    "    AttributeError: Unsupported argument 'hostname'"
   ]
  },
  {
   "cell_type": "code",
   "execution_count": 6,
   "metadata": {},
   "outputs": [
    {
     "name": "stdout",
     "output_type": "stream",
     "text": [
      "(133, 'Melina trump', '65341289')\n"
     ]
    }
   ],
   "source": [
    "import mysql.connector as connector\n",
    "\n",
    "con = connector.connect(host='localhost',port='3306',user='root',password = 'My@Sql1234',database='Python_DB',)\n",
    "cur = con.cursor()\n",
    "userId = int(input(\"Enter userId \"))\n",
    "cur.execute(\"select * from user where userId={}\".format(userId))\n",
    "data = cur.fetchone()\n",
    "print(data)"
   ]
  },
  {
   "cell_type": "code",
   "execution_count": 12,
   "metadata": {},
   "outputs": [],
   "source": [
    "class Sql_curd:\n",
    "\n",
    "    def __init__(self):\n",
    "        self.con = connector.connect(host=\"localhost\" , port=\"3306\",user=\"root\",password='My@Sql1234',database='Python_DB')\n",
    "        \n",
    "        sql_Query =\"create table if not exists Student(S_name varchar(30) , rollNo int primary key , grade varchar(20)) \"\n",
    "        cur = self.con.cursor()\n",
    "        cur.execute(sql_Query)\n",
    "\n",
    "\n",
    "    def insert(self, s_name , roll , g ):\n",
    "        sql_insert_Query = \"Insert into Student(S_name,rollNo , grade) values('{}' ,{},'{}' )\".format(s_name,roll , g)\n",
    "\n",
    "        cur = self.con.cursor()\n",
    "        cur.execute(sql_insert_Query)\n",
    "        self.con.commit()\n",
    "        print(\"Student data inserted\")\n",
    "\n",
    "    def update(self,rollNo):\n",
    "        pass\n"
   ]
  },
  {
   "cell_type": "code",
   "execution_count": 13,
   "metadata": {},
   "outputs": [
    {
     "name": "stdout",
     "output_type": "stream",
     "text": [
      "Student data inserted\n"
     ]
    }
   ],
   "source": [
    "sql1 = Sql_curd()\n",
    "sql1.insert(\"Wasim\",23,'A')"
   ]
  },
  {
   "cell_type": "code",
   "execution_count": null,
   "metadata": {},
   "outputs": [],
   "source": []
  }
 ],
 "metadata": {
  "interpreter": {
   "hash": "916dbcbb3f70747c44a77c7bcd40155683ae19c65e1c03b4aa3499c5328201f1"
  },
  "kernelspec": {
   "display_name": "Python 3.8.10 64-bit",
   "language": "python",
   "name": "python3"
  },
  "language_info": {
   "codemirror_mode": {
    "name": "ipython",
    "version": 3
   },
   "file_extension": ".py",
   "mimetype": "text/x-python",
   "name": "python",
   "nbconvert_exporter": "python",
   "pygments_lexer": "ipython3",
   "version": "3.8.10"
  },
  "orig_nbformat": 4
 },
 "nbformat": 4,
 "nbformat_minor": 2
}
