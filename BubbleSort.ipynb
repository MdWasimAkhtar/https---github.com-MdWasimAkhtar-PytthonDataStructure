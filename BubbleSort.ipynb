{
 "cells": [
  {
   "cell_type": "markdown",
   "metadata": {},
   "source": [
    "Bubble Sort \n",
    "--------------\n",
    "is the simplest sorting algorithm that works by repeatedly swapping the adjacent elements if they are in wrong order.\n",
    "\n",
    "Bubble sort works on the repeatedly swapping of adjacent elements until they are not in the intended order. It is called bubble sort because the movement of array elements is just like the movement of air bubbles in the water. Bubbles in water rise up to the surface; similarly, the array elements in bubble sort move to the end in each iteration.\n",
    "\n",
    "Although it is simple to use, it is primarily used as an educational tool because the performance of bubble sort is \n",
    "\n",
    "poor in the real world. It is not suitable for large data sets. The average and worst-case complexity of Bubble sort \n",
    "\n",
    "is O(n2), where n is a number of items.\n",
    "\n",
    "Bubble short is majorly used where -\n",
    "\n",
    "complexity does not matter\n",
    "\n",
    "simple and shortcode is preferred"
   ]
  },
  {
   "cell_type": "code",
   "execution_count": 15,
   "metadata": {},
   "outputs": [],
   "source": [
    "list2 = [19,2,31,45,6,11,121,27]"
   ]
  },
  {
   "cell_type": "code",
   "execution_count": 52,
   "metadata": {},
   "outputs": [],
   "source": [
    "def bubblesort(list2):\n",
    "    for i in range(len(list2)-1,0,-1):\n",
    "        print(\"  i =  \",i)\n",
    "        for j in range(i):\n",
    "            print(j, '___________________________',i)    \n",
    "            if list2[j] > list2[j+1]:\n",
    "                temp = list2[j]\n",
    "                list2[j] = list2[j+1]\n",
    "                list2[j+1] = temp\n",
    "                "
   ]
  },
  {
   "cell_type": "code",
   "execution_count": 53,
   "metadata": {},
   "outputs": [
    {
     "name": "stdout",
     "output_type": "stream",
     "text": [
      "  i =   7\n",
      "0 ___________________________ 7\n",
      "1 ___________________________ 7\n",
      "2 ___________________________ 7\n",
      "3 ___________________________ 7\n",
      "4 ___________________________ 7\n",
      "5 ___________________________ 7\n",
      "6 ___________________________ 7\n",
      "  i =   6\n",
      "0 ___________________________ 6\n",
      "1 ___________________________ 6\n",
      "2 ___________________________ 6\n",
      "3 ___________________________ 6\n",
      "4 ___________________________ 6\n",
      "5 ___________________________ 6\n",
      "  i =   5\n",
      "0 ___________________________ 5\n",
      "1 ___________________________ 5\n",
      "2 ___________________________ 5\n",
      "3 ___________________________ 5\n",
      "4 ___________________________ 5\n",
      "  i =   4\n",
      "0 ___________________________ 4\n",
      "1 ___________________________ 4\n",
      "2 ___________________________ 4\n",
      "3 ___________________________ 4\n",
      "  i =   3\n",
      "0 ___________________________ 3\n",
      "1 ___________________________ 3\n",
      "2 ___________________________ 3\n",
      "  i =   2\n",
      "0 ___________________________ 2\n",
      "1 ___________________________ 2\n",
      "  i =   1\n",
      "0 ___________________________ 1\n"
     ]
    },
    {
     "data": {
      "text/plain": [
       "[2, 6, 11, 19, 27, 31, 45, 121]"
      ]
     },
     "execution_count": 53,
     "metadata": {},
     "output_type": "execute_result"
    }
   ],
   "source": [
    "\n",
    "bubblesort(list2)\n",
    "list2"
   ]
  },
  {
   "cell_type": "code",
   "execution_count": null,
   "metadata": {},
   "outputs": [],
   "source": []
  },
  {
   "cell_type": "markdown",
   "metadata": {},
   "source": [
    "Insertion Sort\n",
    "----------------------\n",
    "Insertion sort works similar to the sorting of playing cards in hands. It is assumed that the first card is already sorted in the card game, and then we select an unsorted card. If the selected unsorted card is greater than the first card, it will be placed at the right side; otherwise, it will be placed at the left side. Similarly, all unsorted cards are taken and put in their exact place.\n",
    "\n",
    "The same approach is applied in insertion sort. The idea behind the insertion sort is that first take one element, iterate it through the sorted array. Although it is simple to use, it is not appropriate for large data sets as the time complexity of insertion sort in the average case and worst case is O(n2), where n is the number of items. Insertion sort is less efficient than the other sorting algorithms like heap sort, quick sort, merge sort, etc.\n",
    "\n",
    "Insertion sort has various advantages such as -\n",
    "\n",
    "Simple implementation\n",
    "\n",
    "Efficient for small data sets\n",
    "\n",
    "Adaptive, i.e., it is appropriate for data sets that are already substantially sorted.\n",
    "\n"
   ]
  },
  {
   "cell_type": "markdown",
   "metadata": {},
   "source": [
    "--------------------------------------------------------\n",
    "Time Complexities\n",
    "\n",
    "Worst Case Complexity: O(n2)\n",
    "\n",
    "Suppose, an array is in ascending order, and you want to sort it in descending order. In this case, worst case complexity occurs.\n",
    "\n",
    "Each element has to be compared with each of the other elements so, for every nth element, (n-1) number of comparisons are made.\n",
    "\n",
    "Thus, the total number of comparisons = n*(n-1) ~ n2\n",
    "\n",
    "Best Case Complexity: O(n)\n",
    "\n",
    "When the array is already sorted, the outer loop runs for n number of times whereas the inner loop does not run at all. So, there are only n number of comparisons. Thus, complexity is linear.\n",
    "\n",
    "Average Case Complexity: O(n2)\n",
    "\n",
    "It occurs when the elements of an array are in jumbled order (neither ascending nor descending).\n",
    "Space Complexity\n",
    "\n",
    "Space complexity is O(1) because an extra variable key is used.\n",
    "\n"
   ]
  },
  {
   "cell_type": "code",
   "execution_count": 21,
   "metadata": {},
   "outputs": [],
   "source": [
    "list3=[19,2,33,4,50,23,10,121,18,15]\n"
   ]
  },
  {
   "cell_type": "code",
   "execution_count": 27,
   "metadata": {},
   "outputs": [
    {
     "name": "stdout",
     "output_type": "stream",
     "text": [
      "[19, 2, 33, 4, 50, 23, 10, 121, 18, 18]\n"
     ]
    }
   ],
   "source": [
    "def insertion_sort(inp_list):\n",
    "    for i in range(1 , len(inp_list)):\n",
    "        j = i-1\n",
    "        nxt_element = inp_list[i]\n",
    "    while (inp_list[j]> nxt_element) and (j >=0):\n",
    "        inp_list[j+1] = inp_list[j]\n",
    "        j = j-1\n",
    "    inp_list[j+1] = nxt_element\n",
    "\n",
    "insertion_sort(list3)\n",
    "print(list3)\n"
   ]
  },
  {
   "cell_type": "code",
   "execution_count": 100,
   "metadata": {},
   "outputs": [
    {
     "name": "stdout",
     "output_type": "stream",
     "text": [
      "___________________________ 0\n",
      "2  <  19\n",
      "___________________________ 1\n",
      "___________________________ 2\n",
      "4  <  33\n",
      "4  <  19\n",
      "___________________________ 3\n",
      "___________________________ 4\n",
      "23  <  50\n",
      "23  <  33\n",
      "___________________________ 5\n",
      "10  <  50\n",
      "10  <  33\n",
      "10  <  23\n",
      "10  <  19\n",
      "___________________________ 6\n",
      "___________________________ 7\n",
      "18  <  121\n",
      "18  <  50\n",
      "18  <  33\n",
      "18  <  23\n",
      "18  <  19\n",
      "___________________________ 8\n",
      "15  <  121\n",
      "15  <  50\n",
      "15  <  33\n",
      "15  <  23\n",
      "15  <  19\n",
      "15  <  18\n",
      "___________________________ 9\n",
      "18  <  121\n",
      "18  <  50\n",
      "18  <  33\n",
      "18  <  23\n",
      "18  <  19\n",
      "___________________________ 10\n",
      "15  <  121\n",
      "15  <  50\n",
      "15  <  33\n",
      "15  <  23\n",
      "15  <  19\n",
      "15  <  18\n",
      "15  <  18\n",
      "___________________________ 11\n",
      "15  <  121\n",
      "15  <  50\n",
      "15  <  33\n",
      "15  <  23\n",
      "15  <  19\n",
      "15  <  18\n",
      "15  <  18\n",
      "2 4 10 15 15 15 18 18 19 23 33 50 121 "
     ]
    }
   ],
   "source": [
    "def insertion_Sort2(arr):\n",
    "    for i in range(1,len(arr)):\n",
    "\n",
    "        key = arr[i]\n",
    "\n",
    "        j = i - 1\n",
    "        print(\"___________________________\",j)\n",
    "        while j >= 0 and key < arr[j]:\n",
    "            print( key ,\" < \",arr[j])\n",
    "            arr[j+1] = arr[j]\n",
    "            j -= 1\n",
    "# when the condition is false , change the key \n",
    "        arr[j+1]  = key\n",
    "\n",
    "#Driver code\n",
    "arr= [19,2,33,4,50,23,10,121,18,15,18,15,15]\n",
    "\n",
    "insertion_Sort2(arr)\n",
    "\n",
    "for i in range(len(arr)):\n",
    "    print(\"%d\"%arr[i],end=' ')"
   ]
  },
  {
   "cell_type": "markdown",
   "metadata": {},
   "source": [
    "Selection Sort Algorithm\n",
    "------------------------------\n",
    "\n",
    "The selection sort algorithm sorts an array by repeatedly finding the minimum element (considering ascending order) \n",
    "\n",
    "from unsorted part and putting it at the beginning. The algorithm maintains two subarrays in a given array.\n",
    "\n",
    "1) The subarray which is already sorted.\n",
    "\n",
    "2) Remaining subarray which is unsorted.\n",
    "\n",
    "In every iteration of selection sort, the minimum element (considering ascending order) from the unsorted subarray is \n",
    "\n",
    "picked and moved to the sorted subarray."
   ]
  },
  {
   "cell_type": "markdown",
   "metadata": {},
   "source": [
    "--------------------------------------\n",
    "Number of comparisons: (n - 1) + (n - 2) + (n - 3) + ..... + 1 = n(n - 1) / 2 nearly equals to n2.\n",
    "\n",
    "Complexity = O(n2)\n",
    "\n",
    "Also, we can analyze the complexity by simply observing the number of loops. There are 2 loops so the complexity is n*n = n2.\n",
    "\n",
    "Time Complexities:\n",
    "\n",
    "Worst Case Complexity: O(n2)\n",
    "\n",
    "If we want to sort in ascending order and the array is in descending order then, the worst case occurs.\n",
    "\n",
    "Best Case Complexity: O(n2)\n",
    "\n",
    "It occurs when the array is already sorted\n",
    "\n",
    "Average Case Complexity: O(n2)\n",
    "It occurs when the elements of the array are in jumbled order (neither ascending nor descending).\n",
    "The time complexity of the selection sort is the same in all cases. At every step, you have to find the minimum element and put it in the right place. The minimum element is not known until the end of the array is not reached.\n",
    "\n",
    "Space Complexity:\n",
    "\n",
    "Space complexity is O(1) because an extra variable temp is used."
   ]
  },
  {
   "cell_type": "code",
   "execution_count": 79,
   "metadata": {},
   "outputs": [
    {
     "name": "stdout",
     "output_type": "stream",
     "text": [
      "__________________________________________________ 0\n",
      "19  >  2\n",
      "2  >  64\n",
      "2  >  25\n",
      "2  >  12\n",
      "2  >  22\n",
      "2  >  11\n",
      "2  >  18\n",
      "2  >  15\n",
      "2  >  23\n",
      "__________________________________________________ 1\n",
      "19  >  64\n",
      "19  >  25\n",
      "19  >  12\n",
      "12  >  22\n",
      "12  >  11\n",
      "11  >  18\n",
      "11  >  15\n",
      "11  >  23\n",
      "__________________________________________________ 2\n",
      "64  >  25\n",
      "25  >  12\n",
      "12  >  22\n",
      "12  >  19\n",
      "12  >  18\n",
      "12  >  15\n",
      "12  >  23\n",
      "__________________________________________________ 3\n",
      "25  >  64\n",
      "25  >  22\n",
      "22  >  19\n",
      "19  >  18\n",
      "18  >  15\n",
      "15  >  23\n",
      "__________________________________________________ 4\n",
      "64  >  22\n",
      "22  >  19\n",
      "19  >  18\n",
      "18  >  25\n",
      "18  >  23\n",
      "__________________________________________________ 5\n",
      "22  >  19\n",
      "19  >  64\n",
      "19  >  25\n",
      "19  >  23\n",
      "__________________________________________________ 6\n",
      "22  >  64\n",
      "22  >  25\n",
      "22  >  23\n",
      "__________________________________________________ 7\n",
      "64  >  25\n",
      "25  >  23\n",
      "__________________________________________________ 8\n",
      "25  >  64\n",
      "__________________________________________________ 9\n",
      "[2, 11, 12, 15, 18, 19, 22, 23, 25, 64]\n"
     ]
    }
   ],
   "source": [
    "def selection_sort(list_arr):\n",
    "\n",
    "    # traverse through all the array\n",
    "    for i in range(len(list_arr)):\n",
    "\n",
    "        min_indx = i \n",
    "        print(\"__________________________________________________\",i)\n",
    "        for j in range(i+1, len(list_arr)):\n",
    "            print(list_arr[min_indx],\" > \",list_arr[j])\n",
    "            if list_arr[min_indx] > list_arr[j]:\n",
    "                min_indx = j\n",
    "        \n",
    "        temp = list_arr[i] \n",
    "        list_arr[i] = list_arr[min_indx]\n",
    "        list_arr[min_indx] = temp\n",
    "\n",
    " #Driver code \n",
    "arr_1= [19,2,64, 25, 12, 22, 11,18,15,23]\n",
    "selection_sort(arr_1)\n",
    "print(arr_1)\n",
    "   "
   ]
  },
  {
   "cell_type": "code",
   "execution_count": null,
   "metadata": {},
   "outputs": [],
   "source": []
  },
  {
   "cell_type": "markdown",
   "metadata": {},
   "source": [
    "Merge Sort Algorithm\n",
    "--------------------\n",
    "----> is based on the principle of Divide and Conquer Algorithm.\n",
    "\n",
    "Here, a problem is divided into multiple sub-problems. Each sub-problem is solved individually. Finally, sub-problems are combined to form the final solution.\n",
    "\n",
    "MergeSort Algorithm\n",
    "The MergeSort function repeatedly divides the array into two halves until we reach a stage where we try to perform MergeSort on a subarray of size 1 i.e. p == r.\n",
    "\n",
    "After that, the merge function comes into play and combines the sorted arrays into larger arrays until the whole array is merged.\n",
    "\n",
    "Every recursive algorithm is dependent on a base case\n",
    "------------\n",
    " and the ability to combine the results from base cases. Merge sort is no different. The most important part of the merge sort algorithm is, you guessed it, merge step.\n"
   ]
  },
  {
   "cell_type": "code",
   "execution_count": 94,
   "metadata": {},
   "outputs": [],
   "source": [
    "\n",
    "def merg_func(list_merg):\n",
    "    left_list = []\n",
    "    right_list = []\n",
    "    if len(list_merg) > 1:\n",
    "\n",
    "        mid = len(list_merg) // 2 \n",
    "        left_list = list_merg[:mid]\n",
    "        right_list = list_merg[mid:]\n",
    "\n",
    "        merg_func(left_list)\n",
    "        merg_func(right_list)\n",
    "\n",
    "    i = 0 \n",
    "    j =0 \n",
    "    k = 0 \n",
    "    while i < len(left_list) and j < len(right_list):\n",
    "        if left_list[i] < right_list[j]:\n",
    "            list_merg[k] = left_list[i]\n",
    "            i += 1 \n",
    "            k += 1 \n",
    "        else:\n",
    "            list_merg[k] = right_list[j]\n",
    "            j += 1\n",
    "            k += 1 \n",
    "    while  len(left_list) > i :\n",
    "        list_merg[k] = left_list[i]\n",
    "        i += 1 \n",
    "        k += 1\n",
    "    while len(right_list) > j :\n",
    "        list_merg[k] = right_list[j]\n",
    "        j +=1\n",
    "        k +=1 \n"
   ]
  },
  {
   "cell_type": "code",
   "execution_count": 95,
   "metadata": {},
   "outputs": [
    {
     "name": "stdout",
     "output_type": "stream",
     "text": [
      "[1, 2, 3, 4, 5]\n"
     ]
    }
   ],
   "source": [
    "num = int(input(\"how many input you want...\"))\n",
    "list_merg = [int(input()) for x in range(num)]\n",
    "merg_func(list_merg)\n",
    "print(list_merg)"
   ]
  },
  {
   "cell_type": "markdown",
   "metadata": {},
   "source": [
    "Shell Sort Algorithm\n",
    "---------------\n",
    "It is a sorting algorithm that is an extended version of insertion sort. Shell sort has improved the average time complexity of insertion sort. As similar to insertion sort, it is a comparison-based and in-place sorting algorithm. Shell sort is efficient for medium-sized data sets\n",
    "\n",
    "This algorithm first sorts the elements that are far away from each other, then it subsequently reduces the gap between them. This gap is called as interval. This interval can be calculated by using the Knuth's formula given below -\n",
    "\n",
    "hh = h * 3 + 1  \n",
    "\n",
    "where, 'h' is the interval having initial value 1.  "
   ]
  },
  {
   "cell_type": "markdown",
   "metadata": {},
   "source": [
    "33,31,40,8,12,17,25,42  -------> gap = len(arr)//2 = 4 \n",
    "\n",
    "0th ele. will be compared with 4th ele. {33<12} -false then swap\n",
    "\n",
    "1th ele. will be compared wih 5th , {31 < 17} --false then swap\n",
    "\n",
    "{40 < 25} --false then swap , {8<42} True don't swap\n",
    "\n",
    "arrage list will be ..\n",
    "12,17,25,8,33,31,40,42\n",
    "\n",
    "then , the gap will be gap = 4// 2 =2 \n",
    "\n",
    "now {12,25},{17,8},{25,33},{8,31},{33,40},{31,40}\n",
    "\n",
    "arrage list -->  12,8,25,17,33,31,40,42\n",
    "\n",
    "then gap = 2 // 2 = 1 \n",
    "\n",
    "In the third loop, elements are lying at the interval of 1 (n/8 = 1), where n = 8. At last, we use the interval of value 1 to sort the rest of the array elements. In this step, shell sort uses insertion sort to sort the array elements\n",
    "\n",
    "apply insertion sort bcz the gap = 1 \n",
    "\n",
    "{12 , 8}  , 25, 17 , 33 , 31 , 40 , 42  \n",
    "=======\n",
    "{8 , 12 , 25 }, 17 , 33 , 31 , 40, 42\n",
    "\n",
    "{ 8 , 12 , 25 , 17 }, 33, 31, 40, 42\n",
    "\n",
    "\n",
    "{8 , 12 , 17 , 25 } , 33 , 31 , 40 , 42....\n"
   ]
  },
  {
   "cell_type": "markdown",
   "metadata": {},
   "source": [
    "Best Case Complexity - It occurs when there is no sorting required, i.e., the array is already sorted. The best-case time complexity of Shell sort is O(n*logn).\n",
    "\n",
    "Average Case Complexity - It occurs when the array elements are in jumbled order that is not properly ascending and not properly descending. The average case time complexity of Shell sort is O(n*logn).\n",
    "\n",
    "Worst Case Complexity - It occurs when the array elements are required to be sorted in reverse order. That means suppose you have to sort the array elements in ascending order, but its elements are in descending order. The \n",
    "\n",
    "worst-case time complexity of Shell sort is O(n2)."
   ]
  },
  {
   "cell_type": "code",
   "execution_count": 101,
   "metadata": {},
   "outputs": [
    {
     "name": "stdout",
     "output_type": "stream",
     "text": [
      "[17, 20, 26, 31, 44, 54, 55, 77, 93]\n"
     ]
    }
   ],
   "source": [
    "def Shell_sort(alist):\n",
    "    gap = len(alist)//2 \n",
    "    while gap > 0 :\n",
    "        for index in range(gap , len(alist)):\n",
    "            current_element = alist[index] \n",
    "            pos = index \n",
    "\n",
    "            while pos >= gap and current_element <= alist[pos-gap]:\n",
    "                alist[pos]  = alist[pos-gap]\n",
    "                pos = pos - gap\n",
    "\n",
    "            alist[pos] = current_element\n",
    "        gap = gap // 2 \n",
    "\n",
    "\n",
    "\n",
    "#num = int(input(\"list length :  \"))\n",
    "#list1 = [int(input()) for i in range(num)]\n",
    "list1 = [54 , 26 , 93 , 17 , 77 , 31 , 44 , 55 , 20]\n",
    "Shell_sort(list1)\n",
    "print(list1)"
   ]
  }
 ],
 "metadata": {
  "interpreter": {
   "hash": "916dbcbb3f70747c44a77c7bcd40155683ae19c65e1c03b4aa3499c5328201f1"
  },
  "kernelspec": {
   "display_name": "Python 3.8.10 64-bit",
   "language": "python",
   "name": "python3"
  },
  "language_info": {
   "codemirror_mode": {
    "name": "ipython",
    "version": 3
   },
   "file_extension": ".py",
   "mimetype": "text/x-python",
   "name": "python",
   "nbconvert_exporter": "python",
   "pygments_lexer": "ipython3",
   "version": "3.8.10"
  },
  "orig_nbformat": 4
 },
 "nbformat": 4,
 "nbformat_minor": 2
}
