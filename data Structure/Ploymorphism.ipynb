{
 "cells": [
  {
   "cell_type": "markdown",
   "metadata": {},
   "source": [
    "Inheritance \n",
    "-------------\n",
    "Inheritance is the capability of one class to derive or inherit the properties from another class. The benefits of inheritance are: \n",
    " \n",
    "\n",
    "It represents real-world relationships well.\n",
    "\n",
    "It provides reusability of a code. We don’t have to write the same code again and again. Also, it \n",
    "allows us to add more features to a class without modifying it.\n",
    "\n",
    "It is transitive in nature, which means that if class B inherits from another class A, then all the subclasses of B would automatically inherit from class"
   ]
  },
  {
   "cell_type": "code",
   "execution_count": 3,
   "metadata": {},
   "outputs": [
    {
     "name": "stdout",
     "output_type": "stream",
     "text": [
      "Jessica\n",
      "cash+land \n",
      "Sulekha\n"
     ]
    }
   ],
   "source": [
    "class P:\n",
    "    def property(self):\n",
    "        print('cash+land ')\n",
    "    \n",
    "    def marry(self):\n",
    "        print(\"Sulekha\")\n",
    "\n",
    "class C(P):\n",
    "    def marry(self):\n",
    "        print(\"Jessica\")\n",
    "\n",
    "c = C()\n",
    "c.marry()\n",
    "c.property()\n",
    "\n",
    "p1 = P()\n",
    "p1.marry()"
   ]
  },
  {
   "cell_type": "markdown",
   "metadata": {},
   "source": [
    "IS-A VS Has-A Relationship\n",
    "----------------------------\n",
    "\n",
    "composition vs Aggregation\n",
    "\n",
    "---both are has-a relation \n",
    "\n",
    "University vs Department  -- strong \n",
    "\n",
    "department  vs professor --- weak association\n"
   ]
  },
  {
   "cell_type": "code",
   "execution_count": 8,
   "metadata": {},
   "outputs": [
    {
     "name": "stdout",
     "output_type": "stream",
     "text": [
      "Name :  Shilpa\n",
      "ROll No. :  23\n"
     ]
    },
    {
     "data": {
      "text/plain": [
       "'SEA College of Engineering and techanology '"
      ]
     },
     "execution_count": 8,
     "metadata": {},
     "output_type": "execute_result"
    }
   ],
   "source": [
    "class Student :\n",
    "    collegeName = \"SEA College of Engineering and techanology \"\n",
    "\n",
    "    def __init__(self, name ,rollno):\n",
    "        self.name = name \n",
    "        self.rollno = rollno\n",
    "\n",
    "    def display(self):\n",
    "        print(\"Name : \",self.name)\n",
    "        print(\"ROll No. : \",self.rollno)\n",
    "\n",
    "s1 = Student(\"Shilpa\",23)\n",
    "s1.display()\n",
    "#s1.collegeName\n",
    "Student.collegeName"
   ]
  },
  {
   "cell_type": "markdown",
   "metadata": {},
   "source": [
    "without existing Student Object name , rollno won't exist\n",
    "\n",
    "The realtion between class/Object and instance variable is composition\n",
    "\n",
    "but collegeName can exist without ceating Object \n",
    "\n",
    "the relationship class and static variable is Aggregation "
   ]
  },
  {
   "cell_type": "code",
   "execution_count": null,
   "metadata": {},
   "outputs": [],
   "source": []
  }
 ],
 "metadata": {
  "interpreter": {
   "hash": "916dbcbb3f70747c44a77c7bcd40155683ae19c65e1c03b4aa3499c5328201f1"
  },
  "kernelspec": {
   "display_name": "Python 3.8.10 64-bit",
   "language": "python",
   "name": "python3"
  },
  "language_info": {
   "codemirror_mode": {
    "name": "ipython",
    "version": 3
   },
   "file_extension": ".py",
   "mimetype": "text/x-python",
   "name": "python",
   "nbconvert_exporter": "python",
   "pygments_lexer": "ipython3",
   "version": "3.8.10"
  },
  "orig_nbformat": 4
 },
 "nbformat": 4,
 "nbformat_minor": 2
}
