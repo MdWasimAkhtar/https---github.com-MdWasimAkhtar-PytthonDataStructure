{
 "cells": [
  {
   "cell_type": "markdown",
   "metadata": {},
   "source": [
    "# String in_bulit Function"
   ]
  },
  {
   "cell_type": "markdown",
   "metadata": {},
   "source": [
    "---\n",
    "# 1. capitalize()\n",
    "\n",
    "    method returns a string where the first character is upper case, and the rest is lower case."
   ]
  },
  {
   "cell_type": "code",
   "execution_count": 14,
   "metadata": {},
   "outputs": [
    {
     "name": "stdout",
     "output_type": "stream",
     "text": [
      "Sahithi is python data science \n"
     ]
    }
   ],
   "source": [
    "name = \"sahithi is python data science \"\n",
    "name2 = name.capitalize()\n",
    "print(name2)"
   ]
  },
  {
   "cell_type": "code",
   "execution_count": 16,
   "metadata": {},
   "outputs": [
    {
     "name": "stdout",
     "output_type": "stream",
     "text": [
      "0python is fun!\n"
     ]
    }
   ],
   "source": [
    "txt = \"0python is FUN!\"\n",
    "\n",
    "x = txt.capitalize()\n",
    "\n",
    "print (x)"
   ]
  },
  {
   "cell_type": "markdown",
   "metadata": {},
   "source": [
    "# 2.casefold()\n",
    "\n",
    "    The casefold() method returns a string where all the characters are lower case.\n",
    "\n",
    "    This method is similar to the lower() method, but the casefold() method is stronger, more aggressive, meaning that it will convert more characters into lower case, and will find more matches when comparing two strings and both are converted using the casefold() method."
   ]
  },
  {
   "cell_type": "code",
   "execution_count": 25,
   "metadata": {},
   "outputs": [
    {
     "name": "stdout",
     "output_type": "stream",
     "text": [
      "3030303030\n"
     ]
    }
   ],
   "source": [
    "str1 = '3030303030'\n",
    "print(int(str1))"
   ]
  },
  {
   "cell_type": "code",
   "execution_count": 30,
   "metadata": {},
   "outputs": [
    {
     "name": "stdout",
     "output_type": "stream",
     "text": [
      "hello , it a great day \n"
     ]
    }
   ],
   "source": [
    "string2 = \"Hello , It a GReat DAy \"\n",
    "\n",
    "str1 =string2.casefold()\n",
    "print(str1)\n"
   ]
  },
  {
   "cell_type": "code",
   "execution_count": 31,
   "metadata": {},
   "outputs": [
    {
     "name": "stdout",
     "output_type": "stream",
     "text": [
      "hello , it a great day \n"
     ]
    }
   ],
   "source": [
    "print(string2.lower())"
   ]
  },
  {
   "cell_type": "code",
   "execution_count": 34,
   "metadata": {},
   "outputs": [
    {
     "name": "stdout",
     "output_type": "stream",
     "text": [
      "south east asian engineering \n"
     ]
    }
   ],
   "source": [
    "my_College_name = \"South east AsiAn EnginEEring \"\n",
    "print(my_College_name.casefold())"
   ]
  },
  {
   "cell_type": "code",
   "execution_count": 35,
   "metadata": {},
   "outputs": [
    {
     "data": {
      "text/plain": [
       "'south east asian engineering '"
      ]
     },
     "execution_count": 35,
     "metadata": {},
     "output_type": "execute_result"
    }
   ],
   "source": [
    "my_College_name.lower()"
   ]
  },
  {
   "cell_type": "markdown",
   "metadata": {},
   "source": [
    "# 3. center()\n",
    "\n",
    "    The center() method will center align the string, using a specified character (space is default) as the fill character.\n",
    "\n",
    "    TypeError: The fill character must be exactly one character long"
   ]
  },
  {
   "cell_type": "code",
   "execution_count": 45,
   "metadata": {},
   "outputs": [
    {
     "name": "stdout",
     "output_type": "stream",
     "text": [
      "!!!Biryani with chiken!!!\n"
     ]
    }
   ],
   "source": [
    "string3 =\"Biryani with chiken\"\n",
    "print(string3.center(25,\"!\"))"
   ]
  },
  {
   "cell_type": "markdown",
   "metadata": {},
   "source": [
    "# 4 . count(value,start,end)\n",
    "\n",
    "    The count() method returns the number of times a specified value appears in the string."
   ]
  },
  {
   "cell_type": "code",
   "execution_count": 93,
   "metadata": {},
   "outputs": [
    {
     "name": "stdout",
     "output_type": "stream",
     "text": [
      "1\n"
     ]
    }
   ],
   "source": [
    "sweety = \"Ocean Eleven Ocean\"\n",
    "#          0                 18\n",
    "\n",
    "txt = sweety.count('Ocean',13,18)\n",
    "print(txt)"
   ]
  },
  {
   "cell_type": "code",
   "execution_count": 51,
   "metadata": {},
   "outputs": [
    {
     "data": {
      "text/plain": [
       "18"
      ]
     },
     "execution_count": 51,
     "metadata": {},
     "output_type": "execute_result"
    }
   ],
   "source": [
    "len(sweety)"
   ]
  },
  {
   "cell_type": "markdown",
   "metadata": {},
   "source": [
    "# 5 .format()\n",
    "\n",
    "    \n",
    "    TypeError: cannot unpack non-iterable int object"
   ]
  },
  {
   "cell_type": "code",
   "execution_count": 73,
   "metadata": {},
   "outputs": [
    {
     "name": "stdout",
     "output_type": "stream",
     "text": [
      " the cost is : 300 ,100 ,3000,it's my BirthDay \n"
     ]
    }
   ],
   "source": [
    "txt = \"i am trying to get a job\"\n",
    "a = 100\n",
    "b = c = 300\n",
    "d=800\n",
    "print(\" the cost is : {} ,{} ,{},{} \".format(b,a,3000,\"it's my BirthDay\"))"
   ]
  },
  {
   "cell_type": "code",
   "execution_count": 63,
   "metadata": {},
   "outputs": [
    {
     "name": "stdout",
     "output_type": "stream",
     "text": [
      "Hello, I am 18 years old !\n"
     ]
    }
   ],
   "source": [
    "print(\"Hello, I am {} years old !\".format(18))"
   ]
  },
  {
   "cell_type": "code",
   "execution_count": 78,
   "metadata": {},
   "outputs": [
    {
     "name": "stdout",
     "output_type": "stream",
     "text": [
      "isoft, is a main frame geeks science portal for sahithi\n"
     ]
    }
   ],
   "source": [
    "my_string = \"{}, is a {} {} science portal for {}\"\n",
    " \n",
    "print(my_string.format(\"isoft\", \"main frame\", \"geeks\",\"sahithi\"))"
   ]
  },
  {
   "cell_type": "code",
   "execution_count": 89,
   "metadata": {},
   "outputs": [
    {
     "name": "stdout",
     "output_type": "stream",
     "text": [
      "for only you 78000.0000 $\n"
     ]
    }
   ],
   "source": [
    "txt =\"for only you {value:.4f} $\"\n",
    "print(txt.format(value=78000))"
   ]
  },
  {
   "cell_type": "markdown",
   "metadata": {},
   "source": [
    "\n",
    "AttributeError: 'int' object has no attribute '8f'"
   ]
  },
  {
   "cell_type": "code",
   "execution_count": 106,
   "metadata": {},
   "outputs": [
    {
     "name": "stdout",
     "output_type": "stream",
     "text": [
      "for only you 780.00 $\n"
     ]
    }
   ],
   "source": [
    "txt =\"for only you {:.2f} $\"\n",
    "print(txt.format(780))"
   ]
  },
  {
   "cell_type": "markdown",
   "metadata": {},
   "source": [
    "    ~~~~~~~~~~~~~~~~~~~~~~~~~~~~~~~~~~~~~~~~~~~~~~~~~~~~~~~~~~~~~~~~~~~~~~~~~~~~~~~~~~~~~~~\n",
    "    Reverse a String\n",
    "\n",
    "    slicing[begin: end : step]\n",
    "\n",
    "    step = always be pos. integer or neg integer not zero\n"
   ]
  },
  {
   "cell_type": "code",
   "execution_count": 8,
   "metadata": {},
   "outputs": [
    {
     "data": {
      "text/plain": [
       "'yenom em teg lliw boj gnioD'"
      ]
     },
     "execution_count": 8,
     "metadata": {},
     "output_type": "execute_result"
    }
   ],
   "source": [
    "s= \"Doing job will get me money\"\n",
    "s[::-1]"
   ]
  },
  {
   "cell_type": "code",
   "execution_count": 16,
   "metadata": {},
   "outputs": [
    {
     "name": "stdout",
     "output_type": "stream",
     "text": [
      " teg lli\n",
      "Doing job will get me money\n"
     ]
    }
   ],
   "source": [
    "print(s[18:10:-1])\n",
    "print(s[::1])"
   ]
  },
  {
   "cell_type": "code",
   "execution_count": 24,
   "metadata": {},
   "outputs": [
    {
     "name": "stdout",
     "output_type": "stream",
     "text": [
      "y e n o m   e m   t e g   l l i w   b o j   g n i o D "
     ]
    }
   ],
   "source": [
    "r = reversed(s)\n",
    "for ch in r :\n",
    "    print(ch,end=\" \")"
   ]
  },
  {
   "cell_type": "code",
   "execution_count": 26,
   "metadata": {},
   "outputs": [
    {
     "name": "stdout",
     "output_type": "stream",
     "text": [
      "sseccus ot yaw si gnikrow\n"
     ]
    }
   ],
   "source": [
    "s = \"working is way to success\"\n",
    "r = reversed(s)\n",
    "op = ''.join(r)\n",
    "print(op)"
   ]
  },
  {
   "cell_type": "code",
   "execution_count": 32,
   "metadata": {},
   "outputs": [
    {
     "name": "stdout",
     "output_type": "stream",
     "text": [
      " gnikorw si misaw\n"
     ]
    }
   ],
   "source": [
    "s = input('enter ')\n",
    "r = reversed(s)\n",
    "op = ''.join(r)\n",
    "print(op)"
   ]
  },
  {
   "cell_type": "code",
   "execution_count": 20,
   "metadata": {},
   "outputs": [],
   "source": [
    "def rev_str(s):pass"
   ]
  },
  {
   "cell_type": "code",
   "execution_count": 31,
   "metadata": {},
   "outputs": [
    {
     "data": {
      "text/plain": [
       "8889.99"
      ]
     },
     "execution_count": 31,
     "metadata": {},
     "output_type": "execute_result"
    }
   ],
   "source": [
    "eval(input('enter '))"
   ]
  },
  {
   "cell_type": "markdown",
   "metadata": {},
   "source": [
    "______________________________________________________\n"
   ]
  },
  {
   "cell_type": "code",
   "execution_count": 41,
   "metadata": {},
   "outputs": [
    {
     "name": "stdout",
     "output_type": "stream",
     "text": [
      "['hii', 'how', 'r', 'u', 'doing']\n"
     ]
    }
   ],
   "source": [
    "s = str(input('Hello plz enter here ').split())\n",
    "print(s)"
   ]
  },
  {
   "cell_type": "code",
   "execution_count": 47,
   "metadata": {},
   "outputs": [
    {
     "name": "stdout",
     "output_type": "stream",
     "text": [
      "origional string is : hii \n",
      "2\n",
      "iih"
     ]
    }
   ],
   "source": [
    "s = str(input('Hello plz enter here '))\n",
    "print(\"origional string is : {} \".format(s))\n",
    "\n",
    "length = len(s)-1\n",
    "print(length)\n",
    "while 0<=length:\n",
    "    print(s[length],end='')\n",
    "    length -= 1"
   ]
  },
  {
   "cell_type": "code",
   "execution_count": 53,
   "metadata": {},
   "outputs": [
    {
     "name": "stdout",
     "output_type": "stream",
     "text": [
      "4\n",
      "misaw\n"
     ]
    }
   ],
   "source": [
    "s = input(\"enter a sentence\")\n",
    "output = ''\n",
    "i = len(s)-1\n",
    "print(i)\n",
    "while i>= 0 :\n",
    "    output = output+ s[i]\n",
    "    i =i- 1 \n",
    "\n",
    "print(output)"
   ]
  },
  {
   "cell_type": "markdown",
   "metadata": {},
   "source": [
    "    ~~~~~~~~~~~~~~~~~~~~~~~~~~~~~~~~~~~~~~~~~~~~~~~~~~~~~~~~~~~~~~~~~~~~~~~~~~~\n",
    "    reverse the order of the program"
   ]
  },
  {
   "cell_type": "code",
   "execution_count": 60,
   "metadata": {},
   "outputs": [
    {
     "data": {
      "text/plain": [
       "['learning', 'python', 'is', 'very', 'easy']"
      ]
     },
     "execution_count": 60,
     "metadata": {},
     "output_type": "execute_result"
    }
   ],
   "source": [
    "s = \"learning  python is very easy \"\n",
    "s.split()"
   ]
  },
  {
   "cell_type": "code",
   "execution_count": 62,
   "metadata": {},
   "outputs": [
    {
     "data": {
      "text/plain": [
       "10"
      ]
     },
     "execution_count": 62,
     "metadata": {},
     "output_type": "execute_result"
    }
   ],
   "source": [
    "s.index('p')"
   ]
  },
  {
   "cell_type": "code",
   "execution_count": 70,
   "metadata": {},
   "outputs": [
    {
     "name": "stdout",
     "output_type": "stream",
     "text": [
      "doing you are how sahithi hii\n"
     ]
    }
   ],
   "source": [
    "s = input(\"enter here \").split()\n",
    "op = s[::-1]\n",
    "op = ' '.join(op)\n",
    "print(op)"
   ]
  },
  {
   "cell_type": "code",
   "execution_count": null,
   "metadata": {},
   "outputs": [],
   "source": [
    "s = input(\"enter here \").split()\n"
   ]
  },
  {
   "cell_type": "markdown",
   "metadata": {},
   "source": [
    "     program to write reverse internal content of String"
   ]
  },
  {
   "cell_type": "code",
   "execution_count": 75,
   "metadata": {},
   "outputs": [
    {
     "name": "stdout",
     "output_type": "stream",
     "text": [
      "iih evah a taerg yad mam\n"
     ]
    }
   ],
   "source": [
    "s = input(\"Enter a String here\")\n",
    "list_1 = s.split()\n",
    "\n",
    "list_2 =[]\n",
    "\n",
    "for i in list_1:\n",
    "    list_2.append(i[::-1])\n",
    "\n",
    "op = ' '.join(list_2)\n",
    "print(op)"
   ]
  },
  {
   "cell_type": "code",
   "execution_count": 91,
   "metadata": {},
   "outputs": [
    {
     "name": "stdout",
     "output_type": "stream",
     "text": [
      "hi ris don't evah a doog day evah a taerg day\n"
     ]
    }
   ],
   "source": [
    "s = \"hi sir don't have a good day  have a great day\"\n",
    "l = s.split()\n",
    "l2 = []\n",
    "for i in range(len(l)):\n",
    "    if i % 2 == 0 :\n",
    "        l2.append(l[i])\n",
    "    else:\n",
    "        l2.append(l[i][::-1])\n",
    "\n",
    "op = ' '.join(l2)\n",
    "print(op)"
   ]
  },
  {
   "cell_type": "code",
   "execution_count": 96,
   "metadata": {},
   "outputs": [
    {
     "name": "stdout",
     "output_type": "stream",
     "text": [
      "Working or hardly "
     ]
    }
   ],
   "source": [
    "s= \"Working hard or working hardly\".split()\n",
    "i=0 \n",
    "while i<len(s):\n",
    "    print(s[i],end=\" \")\n",
    "    i += 2 "
   ]
  },
  {
   "cell_type": "code",
   "execution_count": null,
   "metadata": {},
   "outputs": [],
   "source": []
  }
 ],
 "metadata": {
  "interpreter": {
   "hash": "916dbcbb3f70747c44a77c7bcd40155683ae19c65e1c03b4aa3499c5328201f1"
  },
  "kernelspec": {
   "display_name": "Python 3.8.10 64-bit",
   "language": "python",
   "name": "python3"
  },
  "language_info": {
   "codemirror_mode": {
    "name": "ipython",
    "version": 3
   },
   "file_extension": ".py",
   "mimetype": "text/x-python",
   "name": "python",
   "nbconvert_exporter": "python",
   "pygments_lexer": "ipython3",
   "version": "3.8.10"
  },
  "orig_nbformat": 4
 },
 "nbformat": 4,
 "nbformat_minor": 2
}
