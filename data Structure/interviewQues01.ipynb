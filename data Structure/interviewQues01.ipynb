{
 "cells": [
  {
   "cell_type": "code",
   "execution_count": 1,
   "metadata": {},
   "outputs": [],
   "source": [
    "class Book2:\n",
    "\n",
    "    def __init__(self,page):\n",
    "        self.page = page\n",
    "\n",
    "    def __str__(self):\n",
    "        return \"the Number of pages are : \"+str(self.page)\n",
    "\n",
    "    def __add__(self , other):\n",
    "        total = self.page + other.page\n",
    "        b = Book2(total)\n",
    "        return b"
   ]
  },
  {
   "cell_type": "markdown",
   "metadata": {},
   "source": [
    "== operator\n",
    "---\n",
    " in python == operator meant for content comparison  i.e eventhough Object are different . if the content is same then == operator return True."
   ]
  },
  {
   "cell_type": "code",
   "execution_count": 8,
   "metadata": {},
   "outputs": [],
   "source": [
    "l1 = [10,20,30,40]\n",
    "l2 = [x for x in range(10,41,10)]"
   ]
  },
  {
   "cell_type": "code",
   "execution_count": 9,
   "metadata": {},
   "outputs": [
    {
     "data": {
      "text/plain": [
       "[10, 20, 30, 40]"
      ]
     },
     "execution_count": 9,
     "metadata": {},
     "output_type": "execute_result"
    }
   ],
   "source": [
    "l2"
   ]
  },
  {
   "cell_type": "code",
   "execution_count": 10,
   "metadata": {},
   "outputs": [
    {
     "data": {
      "text/plain": [
       "True"
      ]
     },
     "execution_count": 10,
     "metadata": {},
     "output_type": "execute_result"
    }
   ],
   "source": [
    "l1 == l2"
   ]
  },
  {
   "cell_type": "code",
   "execution_count": 11,
   "metadata": {},
   "outputs": [
    {
     "data": {
      "text/plain": [
       "True"
      ]
     },
     "execution_count": 11,
     "metadata": {},
     "output_type": "execute_result"
    }
   ],
   "source": [
    "name1 = \"Shilpa\"\n",
    "name2 = \"Shilpa\"\n",
    "name1 == name2"
   ]
  },
  {
   "cell_type": "code",
   "execution_count": 12,
   "metadata": {},
   "outputs": [
    {
     "data": {
      "text/plain": [
       "False"
      ]
     },
     "execution_count": 12,
     "metadata": {},
     "output_type": "execute_result"
    }
   ],
   "source": [
    "name3 = \"Wasim\"\n",
    "name1 == name3"
   ]
  },
  {
   "cell_type": "markdown",
   "metadata": {},
   "source": [
    "is Operator\n",
    "---\n",
    "\n",
    "check the Object refrenece / address "
   ]
  },
  {
   "cell_type": "code",
   "execution_count": 13,
   "metadata": {},
   "outputs": [
    {
     "data": {
      "text/plain": [
       "False"
      ]
     },
     "execution_count": 13,
     "metadata": {},
     "output_type": "execute_result"
    }
   ],
   "source": [
    "l2 is l1"
   ]
  },
  {
   "cell_type": "code",
   "execution_count": 14,
   "metadata": {},
   "outputs": [
    {
     "data": {
      "text/plain": [
       "True"
      ]
     },
     "execution_count": 14,
     "metadata": {},
     "output_type": "execute_result"
    }
   ],
   "source": [
    "name1 is name2"
   ]
  },
  {
   "cell_type": "code",
   "execution_count": 15,
   "metadata": {},
   "outputs": [
    {
     "data": {
      "text/plain": [
       "False"
      ]
     },
     "execution_count": 15,
     "metadata": {},
     "output_type": "execute_result"
    }
   ],
   "source": [
    "name3 is name2"
   ]
  },
  {
   "cell_type": "markdown",
   "metadata": {},
   "source": [
    "ternary operator\n",
    "---\n",
    "\n",
    "x = firstValue if condition  else secondValue\n",
    "\n",
    "if condition is true then firstValue will  be considered or else tur then SecondValue will be consideed "
   ]
  },
  {
   "cell_type": "code",
   "execution_count": 19,
   "metadata": {},
   "outputs": [
    {
     "name": "stdout",
     "output_type": "stream",
     "text": [
      " max value :   100\n"
     ]
    }
   ],
   "source": [
    "z1 = 100 \n",
    "z2 = 20\n",
    "\n",
    "maxx = z1 if z1>z2 else z2\n",
    "print(' max value :  ',maxx)"
   ]
  },
  {
   "cell_type": "markdown",
   "metadata": {},
   "source": [
    "nesting of ternary Operator\n",
    "---"
   ]
  },
  {
   "cell_type": "code",
   "execution_count": 24,
   "metadata": {},
   "outputs": [
    {
     "name": "stdout",
     "output_type": "stream",
     "text": [
      " max value :   20\n"
     ]
    }
   ],
   "source": [
    "z1 = 1 \n",
    "z2 = 20\n",
    "z3 =9\n",
    "\n",
    "maxx = z1 if z1>z2 and z1>z3 else z2 if z2>z3 else z3\n",
    "print(' max value :  ',maxx)"
   ]
  },
  {
   "cell_type": "markdown",
   "metadata": {},
   "source": [
    "What are various data Type Available in Pyhton\n",
    "\n",
    "inbuilt available in Pyhton\n",
    "----\n",
    "fundamental data type in Pyhton\n",
    "\n",
    "int \n",
    "\n",
    "float \n",
    "\n",
    "complex \n",
    "\n",
    "string(str)\n",
    "\n",
    "bool\n",
    "\n",
    "\n",
    "list , tuple,set, dict , frozenset  , bytes, bytearray , range\n",
    "_______________________________________\n"
   ]
  },
  {
   "cell_type": "markdown",
   "metadata": {},
   "source": [
    "mutability -- (means changable)  , list , set , bytearray , dict\n",
    "\n",
    "Immutable -- tuple , str , frozenset , range byte \n",
    "\n",
    "all fundamenta data type are Immutable\n",
    "______________________________________________\n",
    "\n",
    "immutable Objects -- int , str , bool , complex , float "
   ]
  },
  {
   "cell_type": "code",
   "execution_count": null,
   "metadata": {},
   "outputs": [],
   "source": []
  },
  {
   "cell_type": "markdown",
   "metadata": {},
   "source": [
    "list vs tuple\n",
    "----\n",
    "\n",
    "list comma separated , square [ 'a',100 ,] values\n",
    "\n",
    "tuple are comma separated , parenthesis and paraenthis are optional\n",
    "___________________\n",
    "mutablility\n",
    "----\n",
    "\n",
    "list - mutable mean we can change the value inside \n",
    "\n",
    "tuple - are Immutable , not allowed to change , update , delete we can delete the entire tuple but not the element inside\n",
    "\n",
    "______________________\n",
    "memory utilization\n",
    "------\n",
    "\n",
    "list - list Object takes more memeory \n",
    "\n",
    "tuple - tuple take less memory \n",
    "___________________________________\n",
    "\n",
    "list - list Objects won't be reusable if content is fixed \n",
    "\n",
    "tuple - memory utilization , if content are fixed \n",
    "\n",
    "__________________________________________\n",
    "\n",
    "speed \n",
    "---\n",
    "list - performance of list is low , ie operation on list required more time \n",
    "\n",
    "tuple - performance of tuple is high , \n",
    "\n",
    "____________________________________________________\n",
    "comphrehension \n",
    "---\n",
    "list -- applicable for list \n",
    "\n",
    "tuple - not applicable for tuple\n",
    "\n",
    "______________________________________________________________\n",
    "Hashable\n",
    "-----\n",
    "list - list Object are not hashable , so we cannot add list Object into dict , set , TypeError: unhashable type: 'list'\n",
    "\n",
    "tuple - tuple are hashable and hence we can store in set and dict  \n",
    "\n",
    "_________________________________________________\n",
    "when to use \n",
    "---------\n",
    "if the content is not fixed and keep on changing then its recommended to go for list\n",
    "\n",
    "if the content is fixed and never change then .....\n",
    "eg - Allowed input values for Vendor machine"
   ]
  },
  {
   "cell_type": "code",
   "execution_count": 25,
   "metadata": {},
   "outputs": [],
   "source": [
    "t = 20,30 , 'wasim'"
   ]
  },
  {
   "cell_type": "code",
   "execution_count": 26,
   "metadata": {},
   "outputs": [
    {
     "data": {
      "text/plain": [
       "(20, 30, 'wasim')"
      ]
     },
     "execution_count": 26,
     "metadata": {},
     "output_type": "execute_result"
    }
   ],
   "source": [
    "t\n"
   ]
  },
  {
   "cell_type": "code",
   "execution_count": 49,
   "metadata": {},
   "outputs": [
    {
     "ename": "TypeError",
     "evalue": "unhashable type: 'list'",
     "output_type": "error",
     "traceback": [
      "\u001b[0;31m---------------------------------------------------------------------------\u001b[0m",
      "\u001b[0;31mTypeError\u001b[0m                                 Traceback (most recent call last)",
      "\u001b[0;32m/tmp/ipykernel_4551/3425695514.py\u001b[0m in \u001b[0;36m<module>\u001b[0;34m\u001b[0m\n\u001b[0;32m----> 1\u001b[0;31m \u001b[0mset1\u001b[0m \u001b[0;34m=\u001b[0m \u001b[0;34m{\u001b[0m \u001b[0;36m10\u001b[0m\u001b[0;34m,\u001b[0m \u001b[0;36m200\u001b[0m \u001b[0;34m,\u001b[0m \u001b[0;34m'wasim'\u001b[0m\u001b[0;34m,\u001b[0m\u001b[0;34m[\u001b[0m\u001b[0;36m20\u001b[0m\u001b[0;34m,\u001b[0m\u001b[0;36m303\u001b[0m\u001b[0;34m]\u001b[0m\u001b[0;34m}\u001b[0m\u001b[0;34m\u001b[0m\u001b[0;34m\u001b[0m\u001b[0m\n\u001b[0m",
      "\u001b[0;31mTypeError\u001b[0m: unhashable type: 'list'"
     ]
    }
   ],
   "source": [
    "set1 = { 10, 200 , 'wasim',[20,303]}"
   ]
  },
  {
   "cell_type": "code",
   "execution_count": 38,
   "metadata": {},
   "outputs": [],
   "source": [
    "list = [ x for x  in range(1000,2000,10)]\n",
    "list1 = [ x for x  in range(1000 , 2000,10)]\n",
    "\n",
    "tup1 = (x for x in range(1000, 2000,10))\n",
    "\n",
    "tup2 = (x for x in range(1000,2000 , 10))\n"
   ]
  },
  {
   "cell_type": "code",
   "execution_count": 39,
   "metadata": {},
   "outputs": [
    {
     "data": {
      "text/plain": [
       "False"
      ]
     },
     "execution_count": 39,
     "metadata": {},
     "output_type": "execute_result"
    }
   ],
   "source": [
    "tup1 is tup2"
   ]
  },
  {
   "cell_type": "code",
   "execution_count": 43,
   "metadata": {},
   "outputs": [
    {
     "name": "stdout",
     "output_type": "stream",
     "text": [
      "112\n",
      "112\n"
     ]
    }
   ],
   "source": [
    "import sys\n",
    "print(sys.getsizeof(tup1))\n",
    "print(sys.getsizeof(tup2))"
   ]
  },
  {
   "cell_type": "code",
   "execution_count": 44,
   "metadata": {},
   "outputs": [
    {
     "data": {
      "text/plain": [
       "904"
      ]
     },
     "execution_count": 44,
     "metadata": {},
     "output_type": "execute_result"
    }
   ],
   "source": [
    "sys.getsizeof(list1)"
   ]
  },
  {
   "cell_type": "code",
   "execution_count": 45,
   "metadata": {},
   "outputs": [
    {
     "name": "stdout",
     "output_type": "stream",
     "text": [
      "140296822980048\n",
      "140296822980160\n"
     ]
    }
   ],
   "source": [
    "print(id(tup1))\n",
    "print(id(tup2))"
   ]
  },
  {
   "cell_type": "code",
   "execution_count": 46,
   "metadata": {},
   "outputs": [],
   "source": [
    "tup3=(10,20,30,40,50,60)\n",
    "tup4=(10,20,30,40,50,60)"
   ]
  },
  {
   "cell_type": "code",
   "execution_count": 47,
   "metadata": {},
   "outputs": [
    {
     "data": {
      "text/plain": [
       "False"
      ]
     },
     "execution_count": 47,
     "metadata": {},
     "output_type": "execute_result"
    }
   ],
   "source": [
    "tup3 is tup4"
   ]
  },
  {
   "cell_type": "code",
   "execution_count": 48,
   "metadata": {},
   "outputs": [
    {
     "name": "stdout",
     "output_type": "stream",
     "text": [
      "140297119791712\n",
      "140297119791520\n"
     ]
    }
   ],
   "source": [
    "print(id(tup4))\n",
    "print(id(tup3))"
   ]
  },
  {
   "cell_type": "markdown",
   "metadata": {},
   "source": [
    "set   vs  fronenset\n",
    "-----\n",
    "________________________________________\n",
    "set --- set is mutable  , can store all data type Objects\n",
    "\n",
    "frozenset --- frozenset is immutable , AttributeError: 'frozenset' object has no attribute 'add\n",
    "                 \n",
    "                 add , remove is not applicalbe\n",
    "___________________________________________\n",
    "\n",
    "\n",
    "\n"
   ]
  },
  {
   "cell_type": "code",
   "execution_count": 53,
   "metadata": {},
   "outputs": [
    {
     "data": {
      "text/plain": [
       "{10, 20.3, 505, 909, 'Shilpa'}"
      ]
     },
     "execution_count": 53,
     "metadata": {},
     "output_type": "execute_result"
    }
   ],
   "source": [
    "s = { 10 , 20.3, 505 ,\"Shilpa\"}\n",
    "s.add(909)\n",
    "s"
   ]
  },
  {
   "cell_type": "code",
   "execution_count": 55,
   "metadata": {},
   "outputs": [
    {
     "ename": "AttributeError",
     "evalue": "'frozenset' object has no attribute 'add'",
     "output_type": "error",
     "traceback": [
      "\u001b[0;31m---------------------------------------------------------------------------\u001b[0m",
      "\u001b[0;31mAttributeError\u001b[0m                            Traceback (most recent call last)",
      "\u001b[0;32m/tmp/ipykernel_4551/1524439105.py\u001b[0m in \u001b[0;36m<module>\u001b[0;34m\u001b[0m\n\u001b[1;32m      1\u001b[0m \u001b[0mfs\u001b[0m \u001b[0;34m=\u001b[0m \u001b[0mfrozenset\u001b[0m\u001b[0;34m(\u001b[0m\u001b[0ms\u001b[0m\u001b[0;34m)\u001b[0m\u001b[0;34m\u001b[0m\u001b[0;34m\u001b[0m\u001b[0m\n\u001b[0;32m----> 2\u001b[0;31m \u001b[0mfs\u001b[0m\u001b[0;34m.\u001b[0m\u001b[0madd\u001b[0m\u001b[0;34m(\u001b[0m\u001b[0;36m899\u001b[0m\u001b[0;34m)\u001b[0m\u001b[0;34m\u001b[0m\u001b[0;34m\u001b[0m\u001b[0m\n\u001b[0m",
      "\u001b[0;31mAttributeError\u001b[0m: 'frozenset' object has no attribute 'add'"
     ]
    }
   ],
   "source": [
    "fs = frozenset(s)\n",
    "fs.add(899)"
   ]
  },
  {
   "cell_type": "code",
   "execution_count": null,
   "metadata": {},
   "outputs": [],
   "source": []
  },
  {
   "cell_type": "markdown",
   "metadata": {},
   "source": [
    "list  vs Dict \n",
    "---------------\n",
    "______________________\n",
    "list-- is a group of []square braket , comma separated , Mutiable\n",
    "\n",
    "dict -- is a grup of comma separated , curly bracket ,{ key : value pairs}\n",
    "\n",
    "___________________\n",
    "insertion oreder\n",
    "\n",
    "list --- order is preserved\n",
    "\n",
    "dict -- all key value paires will be stored  based on hash code of keys and hence is not preserved \n",
    "but in newer version from 3.7 onward , insertion order is preserved \n",
    "\n",
    "____________________\n",
    "duplicate\n",
    "----\n",
    "list -- duplicate object are allowed  in list\n",
    "\n",
    "dict -- Duplicate value allowed but not duplicate  key, if we are trying to add new value with a key present in dict it will repalce the old valye to new value\n",
    "\n",
    "______________________________________\n",
    "access element\n",
    "---\n",
    "list --- indexing , slicing , \n",
    "\n",
    "dict - by key  dict[key]  , getValues() , getKeys()\n",
    "________________________________\n",
    "hashable \n",
    "\n",
    "list -- object need not be hashable\n",
    "\n",
    "dict --- dict Object has to be hashable , all keys has to be hashable\n",
    "\n",
    "______________________________\n"
   ]
  },
  {
   "cell_type": "code",
   "execution_count": 58,
   "metadata": {},
   "outputs": [],
   "source": [
    "d= {}\n",
    "d[100]= 'A'\n",
    "d[200] = 'B'\n",
    "d[90]='Shilpa'\n",
    "d['Shilpa'] = 'Wasim'"
   ]
  },
  {
   "cell_type": "code",
   "execution_count": 59,
   "metadata": {},
   "outputs": [
    {
     "data": {
      "text/plain": [
       "{100: 'A', 200: 'B', 90: 'Shilpa', 'Shilpa': 'Wasim'}"
      ]
     },
     "execution_count": 59,
     "metadata": {},
     "output_type": "execute_result"
    }
   ],
   "source": [
    "d"
   ]
  },
  {
   "cell_type": "code",
   "execution_count": null,
   "metadata": {},
   "outputs": [],
   "source": []
  },
  {
   "cell_type": "markdown",
   "metadata": {},
   "source": [
    "list vs set\n",
    "-----------\n",
    "__________________________________\n",
    "list ----\n",
    "\n",
    "set ---set is agroup of individual Object , comma separated inside curly braces {} \n",
    "\n",
    "_________________\n",
    "duplicate Object\n",
    "------------\n",
    "\n",
    "list ----\n",
    "\n",
    "set ----- duplicate are not allowed \n",
    "\n",
    "______________________\n",
    "insertion order \n",
    "\n",
    "list ---\n",
    "\n",
    "set --- Objects will be inserted based on hash code and hence insertion Object is not preserved\n",
    "______________________________\n",
    "\n",
    "set ---indexing and slicing is not applicable for set\n",
    "----"
   ]
  },
  {
   "cell_type": "code",
   "execution_count": 61,
   "metadata": {},
   "outputs": [
    {
     "data": {
      "text/plain": [
       "{10, 40, 'wasim'}"
      ]
     },
     "execution_count": 61,
     "metadata": {},
     "output_type": "execute_result"
    }
   ],
   "source": [
    "set1 = {10,40,'wasim'}\n",
    "set1"
   ]
  },
  {
   "cell_type": "markdown",
   "metadata": {},
   "source": [
    "Variable Length argument\n",
    "\n",
    "with all these value tuple will be crested "
   ]
  },
  {
   "cell_type": "code",
   "execution_count": 68,
   "metadata": {},
   "outputs": [],
   "source": [
    "def vLenArgs(*num):\n",
    "    res = 0 \n",
    "    for i in num:\n",
    "        res = res +i\n",
    "    print(res)\n"
   ]
  },
  {
   "cell_type": "code",
   "execution_count": 70,
   "metadata": {},
   "outputs": [
    {
     "name": "stdout",
     "output_type": "stream",
     "text": [
      "140\n"
     ]
    }
   ],
   "source": [
    "vLenArgs(20,30,40,50)"
   ]
  },
  {
   "cell_type": "markdown",
   "metadata": {},
   "source": [
    "**kwargs ( Variable Length Keyword Argument)\n",
    "----\n",
    "f1(**kwargs)  : a dict will be created will all thses value"
   ]
  },
  {
   "cell_type": "code",
   "execution_count": null,
   "metadata": {},
   "outputs": [],
   "source": []
  },
  {
   "cell_type": "markdown",
   "metadata": {},
   "source": [
    "generator\n",
    "-----"
   ]
  },
  {
   "cell_type": "code",
   "execution_count": null,
   "metadata": {},
   "outputs": [],
   "source": [
    "def gen():\n",
    "    a , b = 0 , 1 \n",
    "    for i in "
   ]
  }
 ],
 "metadata": {
  "interpreter": {
   "hash": "916dbcbb3f70747c44a77c7bcd40155683ae19c65e1c03b4aa3499c5328201f1"
  },
  "kernelspec": {
   "display_name": "Python 3.8.10 64-bit",
   "language": "python",
   "name": "python3"
  },
  "language_info": {
   "codemirror_mode": {
    "name": "ipython",
    "version": 3
   },
   "file_extension": ".py",
   "mimetype": "text/x-python",
   "name": "python",
   "nbconvert_exporter": "python",
   "pygments_lexer": "ipython3",
   "version": "3.8.10"
  },
  "orig_nbformat": 4
 },
 "nbformat": 4,
 "nbformat_minor": 2
}
