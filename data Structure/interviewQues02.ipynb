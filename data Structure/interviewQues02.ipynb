{
 "cells": [
  {
   "cell_type": "markdown",
   "metadata": {},
   "source": [
    "**kwargs\n",
    "-----\n",
    "\n",
    "**kwargs is a special syntax used in the function definition to pass variable-length keyworded arguments.\n",
    "\n",
    "Here, also, “kwargs” is used just by convention. You can use any other name.\n",
    "\n",
    "keyworded argument means a variable that has a name when passed to a function.\n",
    "\n",
    "It is actually a dictionary of the variable names and its value."
   ]
  },
  {
   "cell_type": "markdown",
   "metadata": {},
   "source": [
    "TypeError: can only concatenate str (not \"int\") to str"
   ]
  },
  {
   "cell_type": "code",
   "execution_count": 2,
   "metadata": {},
   "outputs": [
    {
     "name": "stdout",
     "output_type": "stream",
     "text": [
      "name  :  shilpa\n",
      "dept  :  Csc\n",
      "wroking  :  yes\n",
      "Salary  :  560000\n"
     ]
    }
   ],
   "source": [
    "def tellArgument(**kwargs):\n",
    "    for key , value in kwargs.items():\n",
    "        print(key,\" : \",value)\n",
    "\n",
    "tellArgument(name=\"shilpa\",dept=\"Csc\",wroking=\"yes\",Salary=560000)"
   ]
  },
  {
   "cell_type": "code",
   "execution_count": 19,
   "metadata": {},
   "outputs": [
    {
     "name": "stdout",
     "output_type": "stream",
     "text": [
      "Shilpa\n"
     ]
    },
    {
     "data": {
      "text/plain": [
       "'TCS'"
      ]
     },
     "execution_count": 19,
     "metadata": {},
     "output_type": "execute_result"
    }
   ],
   "source": [
    "class Interview01:\n",
    "\n",
    "    # by default member are public \n",
    "    _company=\"TCS\"\n",
    "\n",
    "    #protected members\n",
    "    __emp_name =\"Shilpa\"\n",
    "    _emp_age = 24\n",
    "\n",
    "    #private members\n",
    "    _emp_sal=34000\n",
    "    __emp_gmail = \"Shilpa334@gmail.com\"\n",
    "\n",
    "    # private member we can use inside class \n",
    "    print(__emp_name)\n",
    "\n",
    "ob1 = Interview01()\n",
    "ob1._company\n",
    "#ob1.__emp_name\n",
    "# ob1._emp_sal we can't access private member outside of the class "
   ]
  },
  {
   "cell_type": "code",
   "execution_count": 23,
   "metadata": {},
   "outputs": [
    {
     "data": {
      "text/plain": [
       "'TCS'"
      ]
     },
     "execution_count": 23,
     "metadata": {},
     "output_type": "execute_result"
    }
   ],
   "source": [
    "class Interview02(Interview01):\n",
    "    pass\n",
    "\n",
    "ob2 = Interview02()\n",
    "ob2._company\n",
    "# ob2.__emp_name   private member can't be inherited  "
   ]
  },
  {
   "cell_type": "code",
   "execution_count": 26,
   "metadata": {},
   "outputs": [
    {
     "data": {
      "text/plain": [
       "False"
      ]
     },
     "execution_count": 26,
     "metadata": {},
     "output_type": "execute_result"
    }
   ],
   "source": [
    "issubclass(Interview01,Interview02)"
   ]
  },
  {
   "cell_type": "code",
   "execution_count": 30,
   "metadata": {},
   "outputs": [
    {
     "name": "stdout",
     "output_type": "stream",
     "text": [
      "800\n"
     ]
    }
   ],
   "source": [
    "mul = lambda x , y: x * y \n",
    "print(mul(2,400))"
   ]
  },
  {
   "cell_type": "code",
   "execution_count": 48,
   "metadata": {},
   "outputs": [
    {
     "data": {
      "text/plain": [
       "[0, 100, 400, 900, 1600, 2500, 3600, 4900, 6400, 8100]"
      ]
     },
     "execution_count": 48,
     "metadata": {},
     "output_type": "execute_result"
    }
   ],
   "source": [
    "# list contained squared root with 0 last digits\n",
    "\n",
    "sq_ = [x**2 for x  in range(100) if x % 10 == 0  ]\n",
    "sq_"
   ]
  },
  {
   "cell_type": "code",
   "execution_count": 58,
   "metadata": {},
   "outputs": [
    {
     "name": "stdout",
     "output_type": "stream",
     "text": [
      "20\n",
      "18\n",
      "16\n",
      "14\n",
      "12\n",
      "10\n",
      "8\n",
      "6\n",
      "4\n",
      "2\n"
     ]
    }
   ],
   "source": [
    "def recursion01(num):\n",
    "    if num <=0:\n",
    "        return 1 \n",
    "    res = num *2\n",
    "    print(res)\n",
    "\n",
    "    recursion01(num-1)\n",
    "\n",
    "recursion01(10)"
   ]
  },
  {
   "cell_type": "code",
   "execution_count": 64,
   "metadata": {},
   "outputs": [
    {
     "name": "stdout",
     "output_type": "stream",
     "text": [
      "factorial of  20  =  2432902008176640000\n",
      "factorial of  21  =  51090942171709440000\n",
      "factorial of  22  =  1124000727777607680000\n",
      "factorial of  23  =  25852016738884976640000\n",
      "factorial of  24  =  620448401733239439360000\n",
      "factorial of  25  =  15511210043330985984000000\n",
      "factorial of  26  =  403291461126605635584000000\n",
      "factorial of  27  =  10888869450418352160768000000\n",
      "factorial of  28  =  304888344611713860501504000000\n",
      "factorial of  29  =  8841761993739701954543616000000\n",
      "factorial of  30  =  265252859812191058636308480000000\n"
     ]
    }
   ],
   "source": [
    "def fibo(num):\n",
    "    if num<=0 :\n",
    "        return 1 \n",
    "    return num * fibo(num-1)\n",
    "\n",
    "for i in range(20,31):\n",
    "    print(\"factorial of \",i ,\" = \",fibo(i))"
   ]
  },
  {
   "cell_type": "code",
   "execution_count": 116,
   "metadata": {},
   "outputs": [
    {
     "data": {
      "text/plain": [
       "16"
      ]
     },
     "execution_count": 116,
     "metadata": {},
     "output_type": "execute_result"
    }
   ],
   "source": [
    "fibo_lambda = lambda x , y : x+10+y\n",
    "\n",
    "fibo_lambda(1,5)"
   ]
  },
  {
   "cell_type": "code",
   "execution_count": 71,
   "metadata": {},
   "outputs": [
    {
     "name": "stdout",
     "output_type": "stream",
     "text": [
      "1 1 =  1\n",
      "2 2 =  2\n",
      "6 3 =  6\n",
      "24 4 =  24\n",
      "120 5 =  120\n",
      "720 6 =  720\n",
      "5040 7 =  5040\n",
      "40320 8 =  40320\n",
      "362880 9 =  362880\n",
      "3628800 10 =  3628800\n",
      "3628800\n"
     ]
    }
   ],
   "source": [
    "num = 1\n",
    "res = 1 \n",
    "while num <=10 :\n",
    "    res = num*res\n",
    "    print(res , num  , \"= \",res)\n",
    "    num +=1\n",
    "print(res)"
   ]
  },
  {
   "cell_type": "code",
   "execution_count": 73,
   "metadata": {},
   "outputs": [
    {
     "name": "stdout",
     "output_type": "stream",
     "text": [
      "10\n",
      "90\n",
      "720\n",
      "5040\n",
      "30240\n",
      "151200\n",
      "604800\n",
      "1814400\n",
      "3628800\n",
      "3628800\n"
     ]
    }
   ],
   "source": [
    "num = 10 \n",
    "res = 1 \n",
    "while num >=1:\n",
    "    res = res * num\n",
    "    num -=1\n",
    "    print(res)"
   ]
  },
  {
   "cell_type": "code",
   "execution_count": 99,
   "metadata": {},
   "outputs": [
    {
     "name": "stdout",
     "output_type": "stream",
     "text": [
      "1\n"
     ]
    }
   ],
   "source": [
    "def recursion(num):\n",
    "    if num <1 :\n",
    "        return 1 \n",
    "    \n",
    "    \n",
    "    num -= 1\n",
    "    return recursion(num)\n",
    "\n",
    "\n",
    "print(recursion(10))"
   ]
  },
  {
   "cell_type": "code",
   "execution_count": 101,
   "metadata": {},
   "outputs": [
    {
     "name": "stdout",
     "output_type": "stream",
     "text": [
      "20\n",
      "18\n",
      "16\n",
      "14\n",
      "12\n",
      "10\n",
      "8\n",
      "6\n",
      "4\n"
     ]
    },
    {
     "data": {
      "text/plain": [
       "1"
      ]
     },
     "execution_count": 101,
     "metadata": {},
     "output_type": "execute_result"
    }
   ],
   "source": [
    "def recursion(num):\n",
    "    if num == 1 :\n",
    "        return 1 \n",
    "    print(num*2)\n",
    "\n",
    "    return recursion(num-1)\n",
    "\n",
    "recursion(10)"
   ]
  },
  {
   "cell_type": "code",
   "execution_count": 111,
   "metadata": {},
   "outputs": [
    {
     "name": "stdout",
     "output_type": "stream",
     "text": [
      "9 * 1 = 9\n",
      "9 * 2 = 18\n",
      "9 * 3 = 27\n",
      "9 * 4 = 36\n",
      "9 * 5 = 45\n",
      "9 * 6 = 54\n",
      "9 * 7 = 63\n",
      "9 * 8 = 72\n",
      "9 * 9 = 81\n",
      "9 * 10 = 90\n"
     ]
    }
   ],
   "source": [
    "def recursion_table(num,i):\n",
    "    if i > 10:\n",
    "        return \n",
    "    \n",
    "    print(num,\"*\",i,\"=\",num*i)\n",
    "    i +=1\n",
    "    return recursion_table(num,i)\n",
    "\n",
    "recursion_table(9,1)"
   ]
  },
  {
   "cell_type": "code",
   "execution_count": null,
   "metadata": {},
   "outputs": [],
   "source": []
  },
  {
   "cell_type": "code",
   "execution_count": null,
   "metadata": {},
   "outputs": [],
   "source": []
  }
 ],
 "metadata": {
  "interpreter": {
   "hash": "916dbcbb3f70747c44a77c7bcd40155683ae19c65e1c03b4aa3499c5328201f1"
  },
  "kernelspec": {
   "display_name": "Python 3.8.10 64-bit",
   "language": "python",
   "name": "python3"
  },
  "language_info": {
   "codemirror_mode": {
    "name": "ipython",
    "version": 3
   },
   "file_extension": ".py",
   "mimetype": "text/x-python",
   "name": "python",
   "nbconvert_exporter": "python",
   "pygments_lexer": "ipython3",
   "version": "3.8.10"
  },
  "orig_nbformat": 4
 },
 "nbformat": 4,
 "nbformat_minor": 2
}
