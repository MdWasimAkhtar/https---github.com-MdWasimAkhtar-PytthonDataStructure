{
 "cells": [
  {
   "cell_type": "markdown",
   "metadata": {},
   "source": [
    "Operator Overloading is supported in Python but method and constructor Overloading is not possible"
   ]
  },
  {
   "cell_type": "code",
   "execution_count": 45,
   "metadata": {},
   "outputs": [],
   "source": [
    "class Book:\n",
    "    def __init__(self,pages):\n",
    "        self.pages = pages\n",
    "\n",
    "#magic method \n",
    "    def __add__(self, other):\n",
    "        return self.pages + other.pages\n",
    "\n",
    "    def __sub__(self, other):\n",
    "        return self.pages - other.pages    \n",
    "   \n",
    "    \n",
    "    def __mul__(self,other):\n",
    "        return self.pages * other.pages\n",
    "    \n",
    "    def __floordiv__(self, other):\n",
    "        return self.pages // other.pages\n",
    "\n",
    "    def __mod__(self,other):\n",
    "        return self.pages % other.pages\n",
    "        \n",
    "\n"
   ]
  },
  {
   "cell_type": "markdown",
   "metadata": {},
   "source": [
    "TypeError: unsupported operand type(s) for +: 'Book' and 'Book"
   ]
  },
  {
   "cell_type": "code",
   "execution_count": 48,
   "metadata": {},
   "outputs": [
    {
     "name": "stdout",
     "output_type": "stream",
     "text": [
      "210\n",
      "-190\n",
      "2000\n",
      "10\n"
     ]
    }
   ],
   "source": [
    "b1 = Book(10)\n",
    "b2 = Book(200)\n",
    "b3 = Book(365)\n",
    "\n",
    "print(b1+b2)\n",
    "print(b1-b2)\n",
    "print(b1*b2)\n",
    "print(b1%b3)"
   ]
  },
  {
   "cell_type": "markdown",
   "metadata": {},
   "source": [
    "@Note--------->\n",
    "string concatenation \n",
    "--------\n",
    "We can perform string concatenation using following ways:\n",
    " \n",
    "\n",
    "Using + operator \n",
    " \n",
    "Using join() method \n",
    " \n",
    "Using % operator \n",
    " \n",
    "Using format() function \n",
    " \n",
    "Using , (comma)\n"
   ]
  },
  {
   "cell_type": "code",
   "execution_count": 75,
   "metadata": {},
   "outputs": [
    {
     "name": "stdout",
     "output_type": "stream",
     "text": [
      "(using comma) Shilpa Love's  Wasi\n",
      "Shilpa Love's   Wasi \n",
      "Shilpa Love's   Wasi \n",
      "Shilpa Love's Wasi\n",
      "Shilpa Love's Wasi\n"
     ]
    }
   ],
   "source": [
    "var1 = \"Shilpa Love's \"\n",
    "var2=\"Wasi\"\n",
    "print(\"(using comma)\",var1,var2)\n",
    "print(\"{}  {} \".format(var1,var2))\n",
    "print(\"%s  %s \"%(var1,var2))\n",
    "print(\"\".join([var1,var2]))\n",
    "print(var1+var2)"
   ]
  },
  {
   "cell_type": "markdown",
   "metadata": {},
   "source": [
    "\n",
    "TypeError: unsupported operand type(s) for +: 'int' and 'str'\n",
    "---------------\n"
   ]
  },
  {
   "cell_type": "code",
   "execution_count": 81,
   "metadata": {},
   "outputs": [
    {
     "name": "stdout",
     "output_type": "stream",
     "text": [
      "The Number of pages : 400 Shilpa\n"
     ]
    }
   ],
   "source": [
    "print(str(b1)+\" Shilpa\")"
   ]
  },
  {
   "cell_type": "code",
   "execution_count": 82,
   "metadata": {},
   "outputs": [
    {
     "name": "stdout",
     "output_type": "stream",
     "text": [
      "234  shilpa Love's Silk\n"
     ]
    }
   ],
   "source": [
    "print(str(234)+\"  shilpa Love's Silk\")"
   ]
  },
  {
   "cell_type": "code",
   "execution_count": 83,
   "metadata": {},
   "outputs": [],
   "source": [
    "class Book1:\n",
    "\n",
    "    def __init__(self,pages):\n",
    "        self.pages = pages\n",
    "    \n",
    "    def __str__(self):\n",
    "        return  \"The Number of pages : \"+str (self.pages)\n",
    "\n",
    "    def __add__(self,other):\n",
    "        total =  self.pages + other.pages\n",
    "        b = Book1(total)\n",
    "        return b \n",
    "\n",
    "    def __sub__(self,other):\n",
    "        total = self.pages - other.pages\n",
    "        b = Book1(total)\n",
    "        return b\n",
    "\n",
    "    def __mul__(self,other):\n",
    "        total = self.pages * other.pages\n",
    "        b = Book1(total)\n",
    "        return b "
   ]
  },
  {
   "cell_type": "code",
   "execution_count": 84,
   "metadata": {},
   "outputs": [
    {
     "data": {
      "text/plain": [
       "400"
      ]
     },
     "execution_count": 84,
     "metadata": {},
     "output_type": "execute_result"
    }
   ],
   "source": [
    "b1 = Book1(240)\n",
    "b1.pages = 400\n",
    "b1.pages"
   ]
  },
  {
   "cell_type": "code",
   "execution_count": 85,
   "metadata": {},
   "outputs": [
    {
     "name": "stdout",
     "output_type": "stream",
     "text": [
      "The Number of pages : 400\n"
     ]
    }
   ],
   "source": [
    "print(b1)"
   ]
  },
  {
   "cell_type": "code",
   "execution_count": 86,
   "metadata": {},
   "outputs": [
    {
     "name": "stdout",
     "output_type": "stream",
     "text": [
      "The Number of pages : 1063\n"
     ]
    }
   ],
   "source": [
    "b2 =Book1(233)\n",
    "b3 = Book1(430)\n",
    "print(b1+b2+b3)"
   ]
  },
  {
   "cell_type": "code",
   "execution_count": 87,
   "metadata": {},
   "outputs": [
    {
     "name": "stdout",
     "output_type": "stream",
     "text": [
      "The Number of pages : -263\n"
     ]
    }
   ],
   "source": [
    "print(b1-b2-b3)"
   ]
  },
  {
   "cell_type": "code",
   "execution_count": 88,
   "metadata": {},
   "outputs": [
    {
     "name": "stdout",
     "output_type": "stream",
     "text": [
      "The Number of pages : 40076000\n"
     ]
    }
   ],
   "source": [
    "print(b1*b2*b3)"
   ]
  },
  {
   "cell_type": "markdown",
   "metadata": {},
   "source": []
  },
  {
   "cell_type": "code",
   "execution_count": 89,
   "metadata": {},
   "outputs": [],
   "source": [
    "class Student :\n",
    "\n",
    "    def __init__(self, name , marks):\n",
    "        self.name  = name\n",
    "        self.marks = marks\n",
    "    \n",
    "    def __lt__(self,other):\n",
    "        return self.marks < other.marks\n",
    "\n",
    "    def __le__(self,other):\n",
    "        return  self.marks < other.marks\n",
    "\n",
    "    "
   ]
  },
  {
   "cell_type": "code",
   "execution_count": 90,
   "metadata": {},
   "outputs": [
    {
     "name": "stdout",
     "output_type": "stream",
     "text": [
      "True\n"
     ]
    }
   ],
   "source": [
    "s1 = Student(\"shilpa\",400)\n",
    "s2 = Student(\"Silk\",300)\n",
    "print(s1>s2)"
   ]
  },
  {
   "cell_type": "code",
   "execution_count": 95,
   "metadata": {},
   "outputs": [],
   "source": [
    "class Employee:\n",
    "    def __init__(self, name , salary):\n",
    "        self.name = name \n",
    "        self.salary = salary \n",
    "    \n",
    "    def __mul__(self,other):\n",
    "        return self.salary * other.days\n",
    "\n",
    "class TimeSheet:\n",
    "    def __init__(self,name,days):\n",
    "        self.name  = name \n",
    "        self.days = days\n",
    "    \n",
    "    def __mul__(self,other):\n",
    "        return self.days * other.salary\n",
    "    "
   ]
  },
  {
   "cell_type": "code",
   "execution_count": 96,
   "metadata": {},
   "outputs": [
    {
     "name": "stdout",
     "output_type": "stream",
     "text": [
      "This month salary is :  11600\n"
     ]
    }
   ],
   "source": [
    "e1 = Employee(\"Shilpa\",400)\n",
    "t1 = TimeSheet(\"Shilpa\",29)\n",
    "print(\"This month salary is : \",e1*t1)"
   ]
  },
  {
   "cell_type": "code",
   "execution_count": 97,
   "metadata": {},
   "outputs": [
    {
     "name": "stdout",
     "output_type": "stream",
     "text": [
      "11600\n"
     ]
    }
   ],
   "source": [
    "print(t1*e1)"
   ]
  },
  {
   "cell_type": "markdown",
   "metadata": {},
   "source": [
    "Method Overloading\n",
    "---------------\n",
    "\n",
    "method overloading is not supported in Pyhton , even if we write overloaded method python will alwasys considered last define method "
   ]
  },
  {
   "cell_type": "code",
   "execution_count": 100,
   "metadata": {},
   "outputs": [],
   "source": [
    "class Test:\n",
    "\n",
    "    def m1(self):\n",
    "        print(\"No-Args Method\")\n",
    "\n",
    "    def m1(self,x ):\n",
    "        print(\"One_args Method\",x)\n",
    "    "
   ]
  },
  {
   "cell_type": "code",
   "execution_count": 101,
   "metadata": {},
   "outputs": [
    {
     "ename": "TypeError",
     "evalue": "m1() missing 1 required positional argument: 'x'",
     "output_type": "error",
     "traceback": [
      "\u001b[0;31m---------------------------------------------------------------------------\u001b[0m",
      "\u001b[0;31mTypeError\u001b[0m                                 Traceback (most recent call last)",
      "\u001b[0;32m/tmp/ipykernel_20296/1299173872.py\u001b[0m in \u001b[0;36m<module>\u001b[0;34m\u001b[0m\n\u001b[1;32m      1\u001b[0m \u001b[0mc1\u001b[0m \u001b[0;34m=\u001b[0m \u001b[0mTest\u001b[0m\u001b[0;34m(\u001b[0m\u001b[0;34m)\u001b[0m\u001b[0;34m\u001b[0m\u001b[0;34m\u001b[0m\u001b[0m\n\u001b[0;32m----> 2\u001b[0;31m \u001b[0mc1\u001b[0m\u001b[0;34m.\u001b[0m\u001b[0mm1\u001b[0m\u001b[0;34m(\u001b[0m\u001b[0;34m)\u001b[0m\u001b[0;34m\u001b[0m\u001b[0;34m\u001b[0m\u001b[0m\n\u001b[0m",
      "\u001b[0;31mTypeError\u001b[0m: m1() missing 1 required positional argument: 'x'"
     ]
    }
   ],
   "source": [
    "c1 = Test()\n",
    "c1.m1()"
   ]
  },
  {
   "cell_type": "code",
   "execution_count": 102,
   "metadata": {},
   "outputs": [
    {
     "name": "stdout",
     "output_type": "stream",
     "text": [
      "One_args Method 900\n"
     ]
    }
   ],
   "source": [
    "c1.m1(900)"
   ]
  },
  {
   "cell_type": "code",
   "execution_count": null,
   "metadata": {},
   "outputs": [],
   "source": []
  }
 ],
 "metadata": {
  "interpreter": {
   "hash": "916dbcbb3f70747c44a77c7bcd40155683ae19c65e1c03b4aa3499c5328201f1"
  },
  "kernelspec": {
   "display_name": "Python 3.8.10 64-bit",
   "language": "python",
   "name": "python3"
  },
  "language_info": {
   "codemirror_mode": {
    "name": "ipython",
    "version": 3
   },
   "file_extension": ".py",
   "mimetype": "text/x-python",
   "name": "python",
   "nbconvert_exporter": "python",
   "pygments_lexer": "ipython3",
   "version": "3.8.10"
  },
  "orig_nbformat": 4
 },
 "nbformat": 4,
 "nbformat_minor": 2
}
