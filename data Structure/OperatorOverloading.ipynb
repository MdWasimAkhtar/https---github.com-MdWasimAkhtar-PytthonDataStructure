{
 "cells": [
  {
   "cell_type": "markdown",
   "metadata": {},
   "source": [
    "Operator Overloading is supported in Python but method and constructor Overloading is not possible"
   ]
  },
  {
   "cell_type": "code",
   "execution_count": 2,
   "metadata": {},
   "outputs": [],
   "source": [
    "class Book:\n",
    "    def __init__(self,pages):\n",
    "        self.pages = pages\n",
    "\n",
    "#magic method \n",
    "    def __add__(self, other):\n",
    "        return self.pages + other.pages\n",
    "\n",
    "    def __sub__(self, other):\n",
    "        return self.pages - other.pages    \n",
    "   \n",
    "    \n",
    "    def __mul__(self,other):\n",
    "        return self.pages * other.pages\n",
    "    \n",
    "    def __floordiv__(self, other):\n",
    "        return self.pages // other.pages\n",
    "\n",
    "    def __mod__(self,other):\n",
    "        return self.pages % other.pages\n",
    "        \n",
    "\n"
   ]
  },
  {
   "cell_type": "markdown",
   "metadata": {},
   "source": [
    "TypeError: unsupported operand type(s) for +: 'Book' and 'Book"
   ]
  },
  {
   "cell_type": "code",
   "execution_count": 3,
   "metadata": {},
   "outputs": [
    {
     "name": "stdout",
     "output_type": "stream",
     "text": [
      "210\n",
      "-190\n",
      "2000\n",
      "10\n"
     ]
    }
   ],
   "source": [
    "b1 = Book(10)\n",
    "b2 = Book(200)\n",
    "b3 = Book(365)\n",
    "\n",
    "print(b1+b2)\n",
    "print(b1-b2)\n",
    "print(b1*b2)\n",
    "print(b1%b3)"
   ]
  },
  {
   "cell_type": "markdown",
   "metadata": {},
   "source": [
    "@Note--------->\n",
    "string concatenation \n",
    "--------\n",
    "We can perform string concatenation using following ways:\n",
    " \n",
    "\n",
    "Using + operator \n",
    " \n",
    "Using join() method \n",
    " \n",
    "Using % operator \n",
    " \n",
    "Using format() function \n",
    " \n",
    "Using , (comma)\n"
   ]
  },
  {
   "cell_type": "code",
   "execution_count": 4,
   "metadata": {},
   "outputs": [
    {
     "name": "stdout",
     "output_type": "stream",
     "text": [
      "(using comma) Shilpa Love's  Wasi\n",
      "Shilpa Love's   Wasi \n",
      "Shilpa Love's   Wasi \n",
      "Shilpa Love's Wasi\n",
      "Shilpa Love's Wasi\n"
     ]
    }
   ],
   "source": [
    "var1 = \"Shilpa Love's \"\n",
    "var2=\"Wasi\"\n",
    "print(\"(using comma)\",var1,var2)\n",
    "print(\"{}  {} \".format(var1,var2))\n",
    "print(\"%s  %s \"%(var1,var2))\n",
    "print(\"\".join([var1,var2]))\n",
    "print(var1+var2)"
   ]
  },
  {
   "cell_type": "markdown",
   "metadata": {},
   "source": [
    "\n",
    "TypeError: unsupported operand type(s) for +: 'int' and 'str'\n",
    "---------------\n"
   ]
  },
  {
   "cell_type": "code",
   "execution_count": 5,
   "metadata": {},
   "outputs": [
    {
     "name": "stdout",
     "output_type": "stream",
     "text": [
      "<__main__.Book object at 0x7f204c57ca90> Shilpa\n"
     ]
    }
   ],
   "source": [
    "print(str(b1)+\" Shilpa\")"
   ]
  },
  {
   "cell_type": "code",
   "execution_count": 6,
   "metadata": {},
   "outputs": [
    {
     "name": "stdout",
     "output_type": "stream",
     "text": [
      "234  shilpa Love's Silk\n"
     ]
    }
   ],
   "source": [
    "print(str(234)+\"  shilpa Love's Silk\")"
   ]
  },
  {
   "cell_type": "code",
   "execution_count": 7,
   "metadata": {},
   "outputs": [],
   "source": [
    "class Book1:\n",
    "\n",
    "    def __init__(self,pages):\n",
    "        self.pages = pages\n",
    "    \n",
    "    def __str__(self):\n",
    "        return  \"The Number of pages : \"+str (self.pages)\n",
    "\n",
    "    def __add__(self,other):\n",
    "        total =  self.pages + other.pages\n",
    "        b = Book1(total)\n",
    "        return b \n",
    "\n",
    "    def __sub__(self,other):\n",
    "        total = self.pages - other.pages\n",
    "        b = Book1(total)\n",
    "        return b\n",
    "\n",
    "    def __mul__(self,other):\n",
    "        total = self.pages * other.pages\n",
    "        b = Book1(total)\n",
    "        return b "
   ]
  },
  {
   "cell_type": "code",
   "execution_count": 8,
   "metadata": {},
   "outputs": [
    {
     "data": {
      "text/plain": [
       "400"
      ]
     },
     "execution_count": 8,
     "metadata": {},
     "output_type": "execute_result"
    }
   ],
   "source": [
    "b1 = Book1(240)\n",
    "b1.pages = 400\n",
    "b1.pages"
   ]
  },
  {
   "cell_type": "code",
   "execution_count": 9,
   "metadata": {},
   "outputs": [
    {
     "name": "stdout",
     "output_type": "stream",
     "text": [
      "The Number of pages : 400\n"
     ]
    }
   ],
   "source": [
    "print(b1)"
   ]
  },
  {
   "cell_type": "code",
   "execution_count": 10,
   "metadata": {},
   "outputs": [
    {
     "name": "stdout",
     "output_type": "stream",
     "text": [
      "The Number of pages : 1063\n"
     ]
    }
   ],
   "source": [
    "b2 =Book1(233)\n",
    "b3 = Book1(430)\n",
    "print(b1+b2+b3)"
   ]
  },
  {
   "cell_type": "code",
   "execution_count": 11,
   "metadata": {},
   "outputs": [
    {
     "name": "stdout",
     "output_type": "stream",
     "text": [
      "The Number of pages : -263\n"
     ]
    }
   ],
   "source": [
    "print(b1-b2-b3)"
   ]
  },
  {
   "cell_type": "code",
   "execution_count": 12,
   "metadata": {},
   "outputs": [
    {
     "name": "stdout",
     "output_type": "stream",
     "text": [
      "The Number of pages : 40076000\n"
     ]
    }
   ],
   "source": [
    "print(b1*b2*b3)"
   ]
  },
  {
   "cell_type": "markdown",
   "metadata": {},
   "source": []
  },
  {
   "cell_type": "code",
   "execution_count": 13,
   "metadata": {},
   "outputs": [],
   "source": [
    "class Student :\n",
    "\n",
    "    def __init__(self, name , marks):\n",
    "        self.name  = name\n",
    "        self.marks = marks\n",
    "    \n",
    "    def __lt__(self,other):\n",
    "        return self.marks < other.marks\n",
    "\n",
    "    def __le__(self,other):\n",
    "        return  self.marks < other.marks\n",
    "\n",
    "    "
   ]
  },
  {
   "cell_type": "code",
   "execution_count": 14,
   "metadata": {},
   "outputs": [
    {
     "name": "stdout",
     "output_type": "stream",
     "text": [
      "True\n"
     ]
    }
   ],
   "source": [
    "s1 = Student(\"shilpa\",400)\n",
    "s2 = Student(\"Silk\",300)\n",
    "print(s1>s2)"
   ]
  },
  {
   "cell_type": "code",
   "execution_count": 15,
   "metadata": {},
   "outputs": [],
   "source": [
    "class Employee:\n",
    "    def __init__(self, name , salary):\n",
    "        self.name = name \n",
    "        self.salary = salary \n",
    "    \n",
    "    def __mul__(self,other):\n",
    "        return self.salary * other.days\n",
    "\n",
    "class TimeSheet:\n",
    "    def __init__(self,name,days):\n",
    "        self.name  = name \n",
    "        self.days = days\n",
    "    \n",
    "    def __mul__(self,other):\n",
    "        return self.days * other.salary\n",
    "    "
   ]
  },
  {
   "cell_type": "code",
   "execution_count": 16,
   "metadata": {},
   "outputs": [
    {
     "name": "stdout",
     "output_type": "stream",
     "text": [
      "This month salary is :  11600\n"
     ]
    }
   ],
   "source": [
    "e1 = Employee(\"Shilpa\",400)\n",
    "t1 = TimeSheet(\"Shilpa\",29)\n",
    "print(\"This month salary is : \",e1*t1)"
   ]
  },
  {
   "cell_type": "code",
   "execution_count": 17,
   "metadata": {},
   "outputs": [
    {
     "name": "stdout",
     "output_type": "stream",
     "text": [
      "11600\n"
     ]
    }
   ],
   "source": [
    "print(t1*e1)"
   ]
  },
  {
   "cell_type": "code",
   "execution_count": 18,
   "metadata": {},
   "outputs": [
    {
     "name": "stdout",
     "output_type": "stream",
     "text": [
      "The Number of pages : 233 ,Name:  Shilpa\n"
     ]
    }
   ],
   "source": [
    "class Book_1:\n",
    "    def __init__(self,pages,name):\n",
    "        self.pages = pages\n",
    "        self.name =name\n",
    "    \n",
    "    def __str__(self):\n",
    "        return \"The Number of pages : \"+str(self.pages)+\" ,Name:  \"+str(self.name)\n",
    "    \n",
    "b1 = Book_1(233,\"Shilpa\")\n",
    "print(b1)"
   ]
  },
  {
   "cell_type": "markdown",
   "metadata": {},
   "source": [
    "Method Overloading\n",
    "---------------\n",
    "\n",
    "method overloading is not supported in Pyhton , even if we write overloaded method python will alwasys considered last define method "
   ]
  },
  {
   "cell_type": "code",
   "execution_count": 19,
   "metadata": {},
   "outputs": [],
   "source": [
    "class Test:\n",
    "\n",
    "    def m1(self):\n",
    "        print(\"No-Args Method\")\n",
    "\n",
    "    def m1(self,x ):\n",
    "        print(\"One_args Method\",x)\n",
    "    "
   ]
  },
  {
   "cell_type": "code",
   "execution_count": 20,
   "metadata": {},
   "outputs": [
    {
     "ename": "TypeError",
     "evalue": "m1() missing 1 required positional argument: 'x'",
     "output_type": "error",
     "traceback": [
      "\u001b[0;31m---------------------------------------------------------------------------\u001b[0m",
      "\u001b[0;31mTypeError\u001b[0m                                 Traceback (most recent call last)",
      "\u001b[0;32m/tmp/ipykernel_7599/1299173872.py\u001b[0m in \u001b[0;36m<module>\u001b[0;34m\u001b[0m\n\u001b[1;32m      1\u001b[0m \u001b[0mc1\u001b[0m \u001b[0;34m=\u001b[0m \u001b[0mTest\u001b[0m\u001b[0;34m(\u001b[0m\u001b[0;34m)\u001b[0m\u001b[0;34m\u001b[0m\u001b[0;34m\u001b[0m\u001b[0m\n\u001b[0;32m----> 2\u001b[0;31m \u001b[0mc1\u001b[0m\u001b[0;34m.\u001b[0m\u001b[0mm1\u001b[0m\u001b[0;34m(\u001b[0m\u001b[0;34m)\u001b[0m\u001b[0;34m\u001b[0m\u001b[0;34m\u001b[0m\u001b[0m\n\u001b[0m",
      "\u001b[0;31mTypeError\u001b[0m: m1() missing 1 required positional argument: 'x'"
     ]
    }
   ],
   "source": [
    "c1 = Test()\n",
    "c1.m1()"
   ]
  },
  {
   "cell_type": "code",
   "execution_count": null,
   "metadata": {},
   "outputs": [
    {
     "name": "stdout",
     "output_type": "stream",
     "text": [
      "One_args Method 900\n"
     ]
    }
   ],
   "source": [
    "c1.m1(900)"
   ]
  },
  {
   "cell_type": "code",
   "execution_count": null,
   "metadata": {},
   "outputs": [
    {
     "name": "stdout",
     "output_type": "stream",
     "text": [
      "0 1 1 2 3 5 8 13 21 34 55 89 "
     ]
    }
   ],
   "source": [
    "count = int(input(\"Enter your number \"))\n",
    "a , b = 0  ,1 \n",
    "for i in range(0,count):\n",
    "    if i <=1:\n",
    "        c = i\n",
    "    else:\n",
    "        c = a + b \n",
    "\n",
    "        a = b \n",
    "        b =  c \n",
    "    print(c,end=' ')\n",
    "\n"
   ]
  },
  {
   "cell_type": "code",
   "execution_count": null,
   "metadata": {},
   "outputs": [
    {
     "name": "stdout",
     "output_type": "stream",
     "text": [
      "The Factorial of  1 = 1\n",
      "The Factorial of  2 = 2\n",
      "The Factorial of  3 = 6\n",
      "The Factorial of  4 = 24\n",
      "The Factorial of  5 = 120\n",
      "The Factorial of  6 = 720\n"
     ]
    }
   ],
   "source": [
    "num = int(input('Enter number '))\n",
    "res = 1 \n",
    "for i in range(1,num):\n",
    "    res = res*i\n",
    "    print(\"The Factorial of  \"+str(i)+\" = \"+str (res))"
   ]
  },
  {
   "cell_type": "code",
   "execution_count": null,
   "metadata": {},
   "outputs": [
    {
     "name": "stdout",
     "output_type": "stream",
     "text": [
      "1\n",
      "1\n",
      "2\n",
      "3\n",
      "1\n",
      "1\n"
     ]
    }
   ],
   "source": [
    "def generator_():\n",
    "    yield 1 \n",
    "    yield 2 \n",
    "    yield 3\n",
    "    \n",
    "x = generator_()\n",
    "\n",
    "print(next(x))\n",
    "print(next(generator_()))\n",
    "print(next(x))\n",
    "print(next(x))\n",
    "print(next(generator_()))\n",
    "print(next(generator_())) # why this function always yielding one"
   ]
  },
  {
   "cell_type": "code",
   "execution_count": 23,
   "metadata": {},
   "outputs": [],
   "source": [
    "def gen():\n",
    "    a , b  = 0 ,1 \n",
    "    while True:\n",
    "        yield a \n",
    "        c = a + b \n",
    "        a = b \n",
    "        b = c "
   ]
  },
  {
   "cell_type": "code",
   "execution_count": 24,
   "metadata": {},
   "outputs": [
    {
     "name": "stdout",
     "output_type": "stream",
     "text": [
      "0 1 1 2 3 5 8 13 21 34 55 89 "
     ]
    }
   ],
   "source": [
    "fib = gen()\n",
    "for i in gen():\n",
    "    if i <=100:\n",
    "        print(next(fib),end=\" \")\n",
    "    else:\n",
    "        break\n"
   ]
  },
  {
   "cell_type": "code",
   "execution_count": 25,
   "metadata": {},
   "outputs": [
    {
     "name": "stdout",
     "output_type": "stream",
     "text": [
      "0 1 1 2 3 5 8 13 21 34 55 89 144 233 377 610 987 "
     ]
    }
   ],
   "source": [
    "fib = gen()\n",
    "for i in gen():\n",
    "    if i > 1000:\n",
    "        break\n",
    "    print(next(fib), end=\" \")"
   ]
  },
  {
   "cell_type": "markdown",
   "metadata": {},
   "source": [
    "method Overloading \n",
    "\n",
    "java----------\n",
    "\n",
    "m1(int i )\n",
    "\n",
    "m1(int i , int j)\n",
    "\n",
    "m1(double i )\n",
    "\n",
    "m1(int i , double d )\n",
    "\n",
    "m1(int i , double d , string s)\n",
    "\n",
    "python won't support for overloading , method or constructor \n",
    "while define overloading we always going to talk about type  , but in python we are nevr going to talk about type , while we passing argument based on behaviour we can decide it may be string or int or float \n",
    "m1(i)\n",
    "\n",
    "m1(str)\n",
    "\n",
    "m1(double d )   all these method are same \n",
    "\n",
    "we can all same method by passing string or int or float or double \n",
    "\n",
    "Overloading is not required for python \n"
   ]
  },
  {
   "cell_type": "code",
   "execution_count": 30,
   "metadata": {},
   "outputs": [
    {
     "name": "stdout",
     "output_type": "stream",
     "text": [
      "m1 method : wasim\n",
      "m1 method : 34.34\n",
      "m1 method : (10+90j)\n",
      "m1 method : Rekha 99\n"
     ]
    }
   ],
   "source": [
    "class Test :\n",
    "\n",
    "    def m1(self,i):\n",
    "        print(\"m1 method : \"+str(i))\n",
    "\n",
    "t = Test()\n",
    "t.m1(\"wasim\")\n",
    "t.m1(34.34)\n",
    "t.m1(10+90j)\n",
    "t.m1(\"Rekha \"+str(99))\n"
   ]
  },
  {
   "cell_type": "markdown",
   "metadata": {},
   "source": [
    "w.r.t Number of argument \n",
    "-------------\n",
    "\n",
    "differnet number of argument are there \n",
    "\n",
    "How we can handle \n",
    "\n",
    "1.default argument \n",
    "\n",
    "Default values indicate that the function argument will take that value if no argument value is passed during the function call. The default value is assigned by using the assignment(=) operator of the form keywordname=value.\n",
    "\n",
    "2.Variable length \n",
    "\n",
    "None is used to define a null value. It is not the same as an empty string, False, or a zero. It is a data type of the class NoneType object. \n",
    "\n",
    "Assigning a value of None to a variable is one way to reset it to its original, empty state.\n",
    "\n",
    "Note: If a function does not return anything, it returns None in python."
   ]
  },
  {
   "cell_type": "code",
   "execution_count": 60,
   "metadata": {},
   "outputs": [
    {
     "name": "stdout",
     "output_type": "stream",
     "text": [
      "50\n",
      "1900\n",
      "total  sum : 40\n"
     ]
    }
   ],
   "source": [
    "#          if a != None or b != None or c != None or d != None or e != None or f != None :\n",
    "\n",
    "class Test_1:\n",
    "\n",
    "    def sum_(self, a = 0 , b = 0 , c = 0 , d = 0 , e = 0 , f = 0):\n",
    "\n",
    "        print(a+b+c+d+e)\n",
    "        \n",
    "    def mul_(self,a =1 , b=1 , c =1 , d=1 , e=1):\n",
    "        print(a*b*c*d*e)\n",
    "\n",
    "    def sum_VarArgs(self,*a):\n",
    "        total = 0 \n",
    "        for i in a:\n",
    "            total = total+ i \n",
    "        print(\"total  sum : \"+str(total))\n",
    "\n",
    "t1 = Test_1()\n",
    "t1.sum_(10,10,10,10,10)\n",
    "\n",
    "t1.mul_(10,19,10)\n",
    "t1.sum_VarArgs(12,14,14)\n",
    "\n",
    "# t1.sum_(\"wasim\",\"shilpa\")"
   ]
  },
  {
   "cell_type": "markdown",
   "metadata": {},
   "source": [
    "constructor Overloading and method Overlind\n",
    "\n",
    "we can declare method with same name but python will always consider last define constructor"
   ]
  },
  {
   "cell_type": "code",
   "execution_count": 64,
   "metadata": {},
   "outputs": [
    {
     "name": "stdout",
     "output_type": "stream",
     "text": [
      "Tow args Method  180\n"
     ]
    }
   ],
   "source": [
    "class Test:\n",
    "    def __init__(self):\n",
    "        print(\"No args Constructor \")\n",
    "    \n",
    "    def __init__(self, a ):\n",
    "        self.a = a\n",
    "        print(\"One args COnstructor \",a)\n",
    "\n",
    "    def __init__(self , a , b ):\n",
    "        self.a = a\n",
    "        self.b = b \n",
    "\n",
    "\n",
    "\n",
    "    def m1(Self):\n",
    "        print(\"No args Method \")\n",
    "\n",
    "    def m1(self,a ):\n",
    "        print(\"One args Method\",a)\n",
    "\n",
    "    def m1(self,a,b):\n",
    "        print( \"Tow args Method \",a+b)\n",
    "\n",
    "# \n",
    "#TypeError: m1() missing 2 required positional arguments: 'a' and 'b'\n",
    "\n",
    "t2 = Test()\n",
    "t2.m1(90,90)"
   ]
  },
  {
   "cell_type": "markdown",
   "metadata": {},
   "source": [
    "Constructor with default argsument \n"
   ]
  },
  {
   "cell_type": "code",
   "execution_count": 67,
   "metadata": {},
   "outputs": [
    {
     "name": "stdout",
     "output_type": "stream",
     "text": [
      "Constructor with default args 12\n"
     ]
    }
   ],
   "source": [
    "class test4 :\n",
    "\n",
    "    def __init__(self , a = None , b = None ):\n",
    "        print(\"Constructor with default args\",a)\n",
    "\n",
    "\n",
    "t3  = test4(12,18)\n"
   ]
  },
  {
   "cell_type": "code",
   "execution_count": 70,
   "metadata": {},
   "outputs": [
    {
     "name": "stdout",
     "output_type": "stream",
     "text": [
      "Variable length argument constructor \n"
     ]
    }
   ],
   "source": [
    "class Test4:\n",
    "\n",
    "        def __init__(self ,*a):\n",
    "            self.a =a\n",
    "            print(\"Variable length argument constructor \")\n",
    "\n",
    "t5 = Test4(800,200)\n"
   ]
  },
  {
   "cell_type": "code",
   "execution_count": null,
   "metadata": {},
   "outputs": [],
   "source": []
  }
 ],
 "metadata": {
  "interpreter": {
   "hash": "916dbcbb3f70747c44a77c7bcd40155683ae19c65e1c03b4aa3499c5328201f1"
  },
  "kernelspec": {
   "display_name": "Python 3.8.10 64-bit",
   "language": "python",
   "name": "python3"
  },
  "language_info": {
   "codemirror_mode": {
    "name": "ipython",
    "version": 3
   },
   "file_extension": ".py",
   "mimetype": "text/x-python",
   "name": "python",
   "nbconvert_exporter": "python",
   "pygments_lexer": "ipython3",
   "version": "3.8.10"
  },
  "orig_nbformat": 4
 },
 "nbformat": 4,
 "nbformat_minor": 2
}
