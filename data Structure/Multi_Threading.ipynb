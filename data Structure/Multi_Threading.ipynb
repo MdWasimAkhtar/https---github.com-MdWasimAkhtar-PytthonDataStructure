{
 "cells": [
  {
   "cell_type": "code",
   "execution_count": 25,
   "metadata": {},
   "outputs": [
    {
     "name": "stdout",
     "output_type": "stream",
     "text": [
      "current Thread :  MainThread\n",
      "this code executed by :  Thread-26\n",
      "62\n"
     ]
    }
   ],
   "source": [
    "from threading import  * \n",
    "\n",
    "def display():\n",
    "    print(\"This code executed by : \",current_thread().getName())\n",
    "\n",
    "def add(num1,num2):\n",
    "    print(\"this code executed by : \",current_thread().getName())\n",
    "    print(num1+num2)\n",
    "    return num1+num2\n",
    "\n",
    "\n",
    "\n",
    "t = Thread(target=add ,args=(12,50)) # main Thread creates child thread Objects\n",
    "print('current Thread : ',current_thread().getName())\n",
    "t.start() # main Thread starts Child Thread"
   ]
  },
  {
   "cell_type": "code",
   "execution_count": 23,
   "metadata": {},
   "outputs": [
    {
     "name": "stdout",
     "output_type": "stream",
     "text": [
      "Name : Name :  MainThread\n",
      "25\n",
      "36\n",
      "49\n",
      "64\n",
      "81\n",
      "Name :  MainThread\n",
      "121\n",
      "144\n",
      "169\n",
      "196\n",
      "225\n",
      " Thread-24\n",
      "1\n",
      "4\n",
      "9\n",
      "16\n"
     ]
    }
   ],
   "source": [
    "from threading import * \n",
    "\n",
    "def display():\n",
    "    print(\"Name : \",current_thread().getName())\n",
    "    for i in range(1,5):\n",
    "        print(i*i)\n",
    "        \n",
    "\n",
    "t = Thread(target=display)\n",
    "t.start()\n",
    "\n",
    "print(\"Name : \",current_thread().getName())\n",
    "for i in range(5,10):\n",
    "    print(i*i)\n",
    "\n",
    "\n",
    "print(\"Name : \",current_thread().getName())\n",
    "for i in range(11,16):\n",
    "    print(i*i)\n",
    "    "
   ]
  },
  {
   "cell_type": "markdown",
   "metadata": {},
   "source": [
    "# By extending thread class"
   ]
  },
  {
   "cell_type": "code",
   "execution_count": 55,
   "metadata": {},
   "outputs": [
    {
     "name": "stdout",
     "output_type": "stream",
     "text": [
      "2  cube of  8\n",
      "4  cube of  64\n",
      "6  cube of  216\n",
      "8  cube of  512\n",
      "10  cube of  1000\n",
      "2  cube of  8\n",
      "4  cube of  64\n",
      "6  cube of  216\n",
      "8  cube of  512\n"
     ]
    }
   ],
   "source": [
    "from threading import * \n",
    "class MyThread(Thread):\n",
    "\n",
    "    def run(self):\n",
    "        num = eval(input(\"enter number\"))\n",
    "        for i in range(1,num):\n",
    "            if (i %2 == 0 ):\n",
    "                print(i ,\" cube of \",i*i*i)\n",
    "\n",
    "t = MyThread()\n",
    "t.start()\n",
    "\n",
    "t2 = MyThread()\n",
    "t2.start()"
   ]
  },
  {
   "cell_type": "code",
   "execution_count": 28,
   "metadata": {},
   "outputs": [],
   "source": []
  },
  {
   "cell_type": "code",
   "execution_count": 45,
   "metadata": {},
   "outputs": [
    {
     "name": "stdout",
     "output_type": "stream",
     "text": [
      "17  is prime number \n"
     ]
    }
   ],
   "source": [
    "def check_prime(num):\n",
    "    count =0\n",
    "    for i in range(1,num+1):\n",
    "        if num % i == 0 :\n",
    "            count += 1\n",
    "            \n",
    "    if(count==2 ):\n",
    "        print(num , \" is prime number \")\n",
    "    else:\n",
    "        print(num , \"is Not a Prime Number\")\n",
    "\n",
    "check_prime(17)"
   ]
  },
  {
   "cell_type": "code",
   "execution_count": 49,
   "metadata": {},
   "outputs": [
    {
     "name": "stdout",
     "output_type": "stream",
     "text": [
      "55 is Not a Prime Number\n",
      "_____________________________\n",
      "56 is Not a Prime Number\n",
      "_____________________________\n",
      "57 is Not a Prime Number\n",
      "_____________________________\n",
      "58 is Not a Prime Number\n",
      "_____________________________\n",
      "59  is prime number \n",
      "_____________________________\n"
     ]
    }
   ],
   "source": [
    "for i in range(55,60):\n",
    "    check_prime(i)\n",
    "    print('_____________________________')"
   ]
  },
  {
   "cell_type": "markdown",
   "metadata": {},
   "source": [
    "# creating thread without extending Thread class"
   ]
  },
  {
   "cell_type": "code",
   "execution_count": 59,
   "metadata": {},
   "outputs": [
    {
     "name": "stdout",
     "output_type": "stream",
     "text": [
      "leap year  4\n",
      "leap year  8\n",
      "leap year  12\n",
      "leap year  16\n"
     ]
    }
   ],
   "source": [
    "from threading import * \n",
    "class MyThread2:\n",
    "\n",
    "    def runing(self): #  not run()\n",
    "\n",
    "        num = eval(input(\"enter number\"))\n",
    "        for i in range(1,num):\n",
    "            if (i %4 == 0 and i % 100 != 0 or i % 400 ==0  ):\n",
    "                print(\"leap year \", i)\n",
    "\n",
    "obj = MyThread2()\n",
    "\n",
    "t =Thread(target=obj.runing)\n",
    "t.start()"
   ]
  },
  {
   "cell_type": "code",
   "execution_count": 62,
   "metadata": {},
   "outputs": [
    {
     "name": "stdout",
     "output_type": "stream",
     "text": [
      "Double :  2\n",
      "Double :  4\n",
      "Double :  6\n",
      "Double :  8\n",
      "Double :  10\n",
      "Double :  12\n",
      "Double :  14\n",
      "Double :  16\n",
      "Square :  1\n",
      "Square :  4\n",
      "Square :  9\n",
      "Square :  16\n",
      "Square :  25\n",
      "Square :  36\n",
      "Square :  49\n",
      "Square :  64\n",
      "total time taken :  16.02010178565979\n"
     ]
    }
   ],
   "source": [
    "import time \n",
    "def double_(number):\n",
    "    for n in number:\n",
    "        time.sleep(1)\n",
    "        print(\"Double : \",2*n)\n",
    "\n",
    "def square(number):\n",
    "\n",
    "    for n in number:\n",
    "        time.sleep(1)\n",
    "        print('Square : ', n*n)\n",
    "\n",
    "number = [1,2,3,4,5,6,7,8]\n",
    "\n",
    "begin_time = time.time()\n",
    "double_(number)\n",
    "square(number)\n",
    "end_time= time.time()\n",
    "print(\"total time taken : \",end_time-begin_time)"
   ]
  },
  {
   "cell_type": "code",
   "execution_count": 65,
   "metadata": {},
   "outputs": [
    {
     "name": "stdout",
     "output_type": "stream",
     "text": [
      "Double :  2\n",
      "Square :  1\n",
      "Double :  4\n",
      "Square :  4\n",
      "Double :  6\n",
      "Square :  9\n",
      "Double :  8\n",
      "Square :  16\n",
      "Double :  10\n",
      "Square :  25\n",
      "Double :  12\n",
      "Square :  36\n",
      "Double :  14\n",
      "Square :  49\n",
      "Double :  16\n",
      "Square :  64\n",
      "total time taken :  8.014319658279419\n"
     ]
    }
   ],
   "source": [
    "import time \n",
    "from threading import * \n",
    "\n",
    "def double_(number):\n",
    "    for n in number:\n",
    "        time.sleep(1)\n",
    "        print(\"Double : \",2*n)\n",
    "\n",
    "def square(number):\n",
    "\n",
    "    for n in number:\n",
    "        time.sleep(1)\n",
    "        print('Square : ', n*n)\n",
    "\n",
    "number = [1,2,3,4,5,6,7,8]\n",
    "\n",
    "begin_time = time.time()\n",
    "\n",
    "t1 = Thread(target=double_, args=(number,))\n",
    "t2 = Thread(target=square,args=(number,))\n",
    "t1.start()\n",
    "t2.start()\n",
    "\n",
    "t1.join()\n",
    "t2.join()\n",
    "end_time= time.time()\n",
    "\n",
    "print(\"total time taken : \",end_time-begin_time)"
   ]
  },
  {
   "cell_type": "code",
   "execution_count": null,
   "metadata": {},
   "outputs": [],
   "source": []
  }
 ],
 "metadata": {
  "interpreter": {
   "hash": "916dbcbb3f70747c44a77c7bcd40155683ae19c65e1c03b4aa3499c5328201f1"
  },
  "kernelspec": {
   "display_name": "Python 3.8.10 64-bit",
   "language": "python",
   "name": "python3"
  },
  "language_info": {
   "codemirror_mode": {
    "name": "ipython",
    "version": 3
   },
   "file_extension": ".py",
   "mimetype": "text/x-python",
   "name": "python",
   "nbconvert_exporter": "python",
   "pygments_lexer": "ipython3",
   "version": "3.8.10"
  },
  "orig_nbformat": 4
 },
 "nbformat": 4,
 "nbformat_minor": 2
}
