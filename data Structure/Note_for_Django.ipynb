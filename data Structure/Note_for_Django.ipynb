{
 "cells": [
  {
   "cell_type": "markdown",
   "metadata": {},
   "source": [
    "            [django]\n",
    "    check\n",
    "    compilemessages\n",
    "    createcachetable\n",
    "    dbshell\n",
    "    diffsettings\n",
    "    dumpdata\n",
    "    flush\n",
    "    inspectdb\n",
    "    loaddata\n",
    "    makemessages\n",
    "    makemigrations\n",
    "    migrate\n",
    "    runserver\n",
    "    sendtestemail\n",
    "    shell\n",
    "    showmigrations\n",
    "    sqlflush\n",
    "    sqlmigrate\n",
    "    sqlsequencereset\n",
    "    squashmigrations\n",
    "    startapp\n",
    "    startproject\n",
    "    test\n",
    "    testserver\n"
   ]
  },
  {
   "cell_type": "code",
   "execution_count": null,
   "metadata": {},
   "outputs": [],
   "source": []
  }
 ],
 "metadata": {
  "interpreter": {
   "hash": "916dbcbb3f70747c44a77c7bcd40155683ae19c65e1c03b4aa3499c5328201f1"
  },
  "kernelspec": {
   "display_name": "Python 3.8.10 64-bit",
   "language": "python",
   "name": "python3"
  },
  "language_info": {
   "name": "python",
   "version": "3.8.10"
  },
  "orig_nbformat": 4
 },
 "nbformat": 4,
 "nbformat_minor": 2
}
