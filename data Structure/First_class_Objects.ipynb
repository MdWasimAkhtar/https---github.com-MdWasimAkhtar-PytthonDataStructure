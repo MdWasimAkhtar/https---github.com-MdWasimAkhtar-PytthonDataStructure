{
 "cells": [
  {
   "cell_type": "markdown",
   "metadata": {},
   "source": [
    "In short, it means there are no restrictions on the object's use. It's the same as any other object.\n",
    "\n",
    "\n",
    "    A first class object is an entity that can be dynamically created, destroyed, passed to a function, returned as a value, and have all the rights as other variables in the programming language have.\n",
    "\n",
    "    First Class objects are those objects, which can be handled uniformly. First Class objects can be stored as Data Structures, as some parameters of some other functions, as control structures etc. We can say that a function in Python is First Class Function, if it supports all of the properties of a First Class object.\n",
    "\n",
    "    What are the properties of First Class Functions?\n",
    "    It is an instance of an Object type\n",
    "    Functions can be stored as variable\n",
    "    Pass First Class Function as argument of some other functions\n",
    "    Return Functions from other function\n",
    "    Store Functions in lists, sets or some other data structures."
   ]
  },
  {
   "cell_type": "markdown",
   "metadata": {},
   "source": [
    "________________________________________________\n",
    "1.\n",
    "\n",
    "    \n",
    "    Functions are first class objects\n",
    "    In Python, functions behave like any other object, such as an int or a list. That means that you can use functions as arguments to other functions, store functions as dictionary values, or return a function from another function. This leads to many powerful ways to use functions."
   ]
  },
  {
   "cell_type": "code",
   "execution_count": 3,
   "metadata": {},
   "outputs": [
    {
     "name": "stdout",
     "output_type": "stream",
     "text": [
      "125\n"
     ]
    }
   ],
   "source": [
    "def cube(x):\n",
    "    return x*x*x;\n",
    "\n",
    "res = cube(5)\n",
    "print(res)"
   ]
  },
  {
   "cell_type": "code",
   "execution_count": 4,
   "metadata": {},
   "outputs": [
    {
     "data": {
      "text/plain": [
       "1000"
      ]
     },
     "execution_count": 4,
     "metadata": {},
     "output_type": "execute_result"
    }
   ],
   "source": [
    "my_cube = cube\n",
    "\n",
    "res = my_cube(10)\n",
    "res"
   ]
  },
  {
   "cell_type": "markdown",
   "metadata": {},
   "source": [
    "functions can be passed as argument of another functions. "
   ]
  },
  {
   "cell_type": "code",
   "execution_count": 5,
   "metadata": {},
   "outputs": [],
   "source": [
    "def cube(x):\n",
    "    return x*x*x\n",
    "\n",
    "def func_pass_func(method , args_list):\n",
    "    mylist = list()\n",
    "    for item in args_list:\n",
    "        mylist.append(method(item))\n",
    "    return mylist"
   ]
  },
  {
   "cell_type": "code",
   "execution_count": 6,
   "metadata": {},
   "outputs": [
    {
     "name": "stdout",
     "output_type": "stream",
     "text": [
      "[1, 8, 27, 64, 125, 216, 343, 512, 729, 1000, 0, 1331]\n"
     ]
    }
   ],
   "source": [
    "fpf = func_pass_func(cube,[1,2,3,4,5,6,7,8,9,10,0,11])\n",
    "print(fpf)"
   ]
  },
  {
   "cell_type": "code",
   "execution_count": 7,
   "metadata": {},
   "outputs": [
    {
     "data": {
      "text/plain": [
       "990"
      ]
     },
     "execution_count": 7,
     "metadata": {},
     "output_type": "execute_result"
    }
   ],
   "source": [
    "def add_(x):\n",
    "    def adder(y):\n",
    "        return x+y ;\n",
    "    return adder\n",
    "\n",
    "add_1 = add_(90)\n",
    "add_1(900)"
   ]
  },
  {
   "cell_type": "code",
   "execution_count": 8,
   "metadata": {},
   "outputs": [
    {
     "data": {
      "text/plain": [
       "362880"
      ]
     },
     "execution_count": 8,
     "metadata": {},
     "output_type": "execute_result"
    }
   ],
   "source": [
    "import math\n",
    "math.factorial(9)"
   ]
  },
  {
   "cell_type": "code",
   "execution_count": 13,
   "metadata": {},
   "outputs": [
    {
     "name": "stdout",
     "output_type": "stream",
     "text": [
      "1\n",
      "2\n",
      "6\n",
      "24\n",
      "120\n",
      "720\n",
      "5040\n",
      "40320\n",
      "362880\n",
      "3628800\n"
     ]
    }
   ],
   "source": [
    "def factorial(num):\n",
    "    for i in range(1,num):\n",
    "        num = i*num\n",
    "    return num\n",
    "\n",
    "for i in range(1,11):\n",
    "    print(factorial(i))"
   ]
  },
  {
   "cell_type": "code",
   "execution_count": null,
   "metadata": {},
   "outputs": [],
   "source": []
  },
  {
   "cell_type": "code",
   "execution_count": 38,
   "metadata": {},
   "outputs": [
    {
     "name": "stdout",
     "output_type": "stream",
     "text": [
      "2\n",
      "1\n"
     ]
    },
    {
     "data": {
      "text/plain": [
       "100"
      ]
     },
     "execution_count": 38,
     "metadata": {},
     "output_type": "execute_result"
    }
   ],
   "source": [
    "def plus_one(num):\n",
    "\n",
    "    def add_one(num):\n",
    "        print(\"2\")\n",
    "        return num+1\n",
    "    \n",
    "    result = add_one(num)\n",
    "    print(\"1\")\n",
    "    return result\n",
    "\n",
    "plus_one(99)"
   ]
  },
  {
   "cell_type": "code",
   "execution_count": 36,
   "metadata": {},
   "outputs": [
    {
     "name": "stdout",
     "output_type": "stream",
     "text": [
      "2\n",
      "2\n"
     ]
    },
    {
     "data": {
      "text/plain": [
       "78"
      ]
     },
     "execution_count": 36,
     "metadata": {},
     "output_type": "execute_result"
    }
   ],
   "source": [
    "def plus_one(num):\n",
    "\n",
    "    def add_one(num):\n",
    "        print(\"2\")\n",
    "        return num+1\n",
    "    \n",
    "    return add_one\n",
    "\n",
    "res = plus_one(90)\n",
    "res(12)\n",
    "res(77)"
   ]
  },
  {
   "cell_type": "code",
   "execution_count": 21,
   "metadata": {},
   "outputs": [
    {
     "data": {
      "text/plain": [
       "990"
      ]
     },
     "execution_count": 21,
     "metadata": {},
     "output_type": "execute_result"
    }
   ],
   "source": [
    "def add_(x):\n",
    "    def adder(y):\n",
    "        return x+y \n",
    "    return adder\n",
    "\n",
    "add_1 = add_(90)\n",
    "add_1(900)"
   ]
  },
  {
   "cell_type": "code",
   "execution_count": 55,
   "metadata": {},
   "outputs": [],
   "source": [
    "def multiply(a , b):\n",
    "    return a * b\n",
    "def adding(a,b):\n",
    "    return a+b\n",
    "def substracting(a ,b ):\n",
    "    return a - b\n",
    "\n",
    "\n",
    "def pass_by_function(a,b):\n",
    "    return multiply(a,b),adding(a,b),substracting(a,b)\n",
    "\n"
   ]
  },
  {
   "cell_type": "code",
   "execution_count": 56,
   "metadata": {},
   "outputs": [
    {
     "data": {
      "text/plain": [
       "(156, 25, -1)"
      ]
     },
     "execution_count": 56,
     "metadata": {},
     "output_type": "execute_result"
    }
   ],
   "source": [
    "pass_by_function(12,13)"
   ]
  },
  {
   "cell_type": "code",
   "execution_count": 61,
   "metadata": {},
   "outputs": [],
   "source": [
    "def return_function(func,a,b):\n",
    "    if func == multiply:\n",
    "        return multiply(a,b)\n",
    "    elif func == adding:\n",
    "        return adding(a,b)\n",
    "    elif func == substracting:\n",
    "        return substracting(a,b)\n",
    "    else:\n",
    "        return \"Invalid Option ! \"\n"
   ]
  },
  {
   "cell_type": "code",
   "execution_count": 62,
   "metadata": {},
   "outputs": [
    {
     "data": {
      "text/plain": [
       "390.1"
      ]
     },
     "execution_count": 62,
     "metadata": {},
     "output_type": "execute_result"
    }
   ],
   "source": [
    "return_function(adding , 90.100,300)"
   ]
  },
  {
   "cell_type": "code",
   "execution_count": 63,
   "metadata": {},
   "outputs": [
    {
     "data": {
      "text/plain": [
       "230"
      ]
     },
     "execution_count": 63,
     "metadata": {},
     "output_type": "execute_result"
    }
   ],
   "source": [
    "return_function(substracting ,300,70)"
   ]
  },
  {
   "cell_type": "code",
   "execution_count": 97,
   "metadata": {},
   "outputs": [
    {
     "data": {
      "text/plain": [
       "<function __main__.return_func.<locals>.inner()>"
      ]
     },
     "execution_count": 97,
     "metadata": {},
     "output_type": "execute_result"
    }
   ],
   "source": [
    "def return_func(fun,a,b):\n",
    "    def inner():\n",
    "        res = fun(a,b)\n",
    "        return res\n",
    "    return inner\n",
    "\n",
    "return_func(multiply,12,10)"
   ]
  },
  {
   "cell_type": "code",
   "execution_count": 100,
   "metadata": {},
   "outputs": [
    {
     "data": {
      "text/plain": [
       "30"
      ]
     },
     "execution_count": 100,
     "metadata": {},
     "output_type": "execute_result"
    }
   ],
   "source": [
    "def return_func2(func,a,b):\n",
    "    res = func(a,b)\n",
    "    return res\n",
    "\n",
    "return_func2(adding,56,30)\n",
    "return_func2(substracting,40,10)"
   ]
  },
  {
   "cell_type": "code",
   "execution_count": 69,
   "metadata": {},
   "outputs": [
    {
     "data": {
      "text/plain": [
       "120.0"
      ]
     },
     "execution_count": 69,
     "metadata": {},
     "output_type": "execute_result"
    }
   ],
   "source": [
    "def divide(a,b):\n",
    "    return a/b\n",
    "\n",
    "divide(120,1)"
   ]
  },
  {
   "cell_type": "code",
   "execution_count": 91,
   "metadata": {},
   "outputs": [
    {
     "name": "stdout",
     "output_type": "stream",
     "text": [
      "2\n",
      "1\n",
      "3\n"
     ]
    },
    {
     "data": {
      "text/plain": [
       "(404.7368421052632, 'division occured ')"
      ]
     },
     "execution_count": 91,
     "metadata": {},
     "output_type": "execute_result"
    }
   ],
   "source": [
    "def smart_division(func):\n",
    "    def inner_func(a,b):\n",
    "        if b == 0 :\n",
    "            print(\"Can't divide with zero ! \")\n",
    "            return \"Impossible it will goes to infinity !! \"\n",
    "        print(\"1\")\n",
    "        return func(a,b) , \"division occured \"\n",
    "\n",
    "    print(\"2\")\n",
    "    return inner_func\n",
    "\n",
    "\n",
    "def after_division(func):\n",
    "    def inner_(a,b):\n",
    "        res = func(a,b)\n",
    "        return res + 400\n",
    "    return inner_\n",
    "\n",
    "\n",
    "@smart_division\n",
    "@after_division\n",
    "def divide(a,b):\n",
    "    print(\"3\")\n",
    "    return a/b\n",
    "\n",
    "divide(90,19)"
   ]
  },
  {
   "cell_type": "code",
   "execution_count": 75,
   "metadata": {},
   "outputs": [
    {
     "name": "stdout",
     "output_type": "stream",
     "text": [
      "Can't divide with zero ! \n"
     ]
    },
    {
     "data": {
      "text/plain": [
       "'Impossible it will goes to infinity !! '"
      ]
     },
     "execution_count": 75,
     "metadata": {},
     "output_type": "execute_result"
    }
   ],
   "source": [
    "divide(100,0.0)"
   ]
  },
  {
   "cell_type": "code",
   "execution_count": 103,
   "metadata": {},
   "outputs": [
    {
     "data": {
      "text/plain": [
       "170"
      ]
     },
     "execution_count": 103,
     "metadata": {},
     "output_type": "execute_result"
    }
   ],
   "source": [
    "lambda_function = lambda x : x+100\n",
    "func_lambda = lambda x , y , z : x + y -z \n",
    "lambda_function(10)\n",
    "func_lambda(90,90,10)"
   ]
  },
  {
   "cell_type": "code",
   "execution_count": 122,
   "metadata": {},
   "outputs": [
    {
     "name": "stdout",
     "output_type": "stream",
     "text": [
      "10 20 30 40 50 60 70 80 90 100 "
     ]
    }
   ],
   "source": [
    "tables = [lambda x=x: x*10 for x in range(1, 11)]\n",
    "\n",
    "for t in tables:\n",
    "\tprint(t(),end=\" \")\n"
   ]
  },
  {
   "cell_type": "code",
   "execution_count": 113,
   "metadata": {},
   "outputs": [
    {
     "name": "stdout",
     "output_type": "stream",
     "text": [
      "34\n"
     ]
    }
   ],
   "source": [
    "max = lambda a , b : a  if (a>b) else b\n",
    "print(max(20,34))"
   ]
  },
  {
   "cell_type": "code",
   "execution_count": 112,
   "metadata": {},
   "outputs": [
    {
     "data": {
      "text/plain": [
       "[12, 22, 32, 42, 52, 62, 72, 82, 92, 102]"
      ]
     },
     "execution_count": 112,
     "metadata": {},
     "output_type": "execute_result"
    }
   ],
   "source": [
    "[x*10+2 for x in range(1,11)]"
   ]
  },
  {
   "cell_type": "code",
   "execution_count": 142,
   "metadata": {},
   "outputs": [],
   "source": [
    "sentence = \"Wasim is a AI Scientist\"\n",
    "\n",
    "def get_vowels(sent):\n",
    "    sent = sent.lower()\n",
    "\n",
    "    vowel_list=['a','e','i','o','u']\n",
    "    if sent in vowel_list:\n",
    "        return True\n",
    "    else:\n",
    "        return False"
   ]
  },
  {
   "cell_type": "code",
   "execution_count": 143,
   "metadata": {},
   "outputs": [
    {
     "name": "stdout",
     "output_type": "stream",
     "text": [
      "a  , i  , i  , a  , A  , I  , i  , e  , i  , "
     ]
    }
   ],
   "source": [
    "filtered = filter(get_vowels , sentence)\n",
    "\n",
    "for i in filtered:\n",
    "    print(i,end='  , ')"
   ]
  },
  {
   "cell_type": "code",
   "execution_count": 153,
   "metadata": {},
   "outputs": [
    {
     "data": {
      "text/plain": [
       "False"
      ]
     },
     "execution_count": 153,
     "metadata": {},
     "output_type": "execute_result"
    }
   ],
   "source": [
    "def vowels(sent):\n",
    "    sent = sent.lower()\n",
    "    sent_list= list(sent)\n",
    "    indx_list = list()\n",
    "    vowel_list=['a','e','i','o','u']\n",
    "\n",
    "    for v in sent_list:\n",
    "        if v in vowel_list:\n",
    "            indx_list.append(v)\n",
    "            return True\n",
    "        else:\n",
    "            return False\n",
    "            \n",
    "    print(indx_list)\n",
    "    for i in indx_list:\n",
    "        print(i)\n",
    "\n",
    "vowels(sentence)"
   ]
  },
  {
   "cell_type": "code",
   "execution_count": 149,
   "metadata": {},
   "outputs": [
    {
     "name": "stdout",
     "output_type": "stream",
     "text": [
      "a , o , i , a , o , u , e , a , o , i , a , e , o , e , a , e , A , o , o , "
     ]
    }
   ],
   "source": [
    "sent1 = \"My Laptop is about 5 year old , i have to get a new  MAc Book\"\n",
    "\n",
    "filter_vowels = filter(vowels,sent1)\n",
    "\n",
    "for i in filter_vowels:\n",
    "    print(i,end=' , ')"
   ]
  },
  {
   "cell_type": "code",
   "execution_count": 156,
   "metadata": {},
   "outputs": [
    {
     "data": {
      "text/plain": [
       "[10, 12, 27, 18, 22, 82, 95.09, 39.33]"
      ]
     },
     "execution_count": 156,
     "metadata": {},
     "output_type": "execute_result"
    }
   ],
   "source": [
    "li = [ 5 , 7 ,22, 13, 17 , 77,90.09,34.33]\n",
    "\n",
    "list(map(lambda x : x+5 , li))"
   ]
  },
  {
   "cell_type": "code",
   "execution_count": 157,
   "metadata": {},
   "outputs": [
    {
     "data": {
      "text/plain": [
       "[5, 7, 13, 17, 77, 90.09, 34.33]"
      ]
     },
     "execution_count": 157,
     "metadata": {},
     "output_type": "execute_result"
    }
   ],
   "source": [
    "list(filter(lambda x : x%2 != 0 ,li))"
   ]
  },
  {
   "cell_type": "code",
   "execution_count": 161,
   "metadata": {},
   "outputs": [
    {
     "data": {
      "text/plain": [
       "265.42"
      ]
     },
     "execution_count": 161,
     "metadata": {},
     "output_type": "execute_result"
    }
   ],
   "source": [
    "from functools import *\n",
    "reduce(lambda x , y : x+y,li)"
   ]
  },
  {
   "cell_type": "code",
   "execution_count": 162,
   "metadata": {},
   "outputs": [
    {
     "data": {
      "text/plain": [
       "90.09"
      ]
     },
     "execution_count": 162,
     "metadata": {},
     "output_type": "execute_result"
    }
   ],
   "source": [
    "# find max element in the list\n",
    "\n",
    "from functools import reduce\n",
    "reduce(lambda x , y : x if x > y else y,li)"
   ]
  },
  {
   "cell_type": "code",
   "execution_count": 163,
   "metadata": {},
   "outputs": [
    {
     "data": {
      "text/plain": [
       "'ilp'"
      ]
     },
     "execution_count": 163,
     "metadata": {},
     "output_type": "execute_result"
    }
   ],
   "source": [
    "str2 = 'Shilpa is working'\n",
    "str2[2:5]"
   ]
  },
  {
   "cell_type": "code",
   "execution_count": null,
   "metadata": {},
   "outputs": [],
   "source": []
  }
 ],
 "metadata": {
  "interpreter": {
   "hash": "916dbcbb3f70747c44a77c7bcd40155683ae19c65e1c03b4aa3499c5328201f1"
  },
  "kernelspec": {
   "display_name": "Python 3.8.10 64-bit",
   "language": "python",
   "name": "python3"
  },
  "language_info": {
   "codemirror_mode": {
    "name": "ipython",
    "version": 3
   },
   "file_extension": ".py",
   "mimetype": "text/x-python",
   "name": "python",
   "nbconvert_exporter": "python",
   "pygments_lexer": "ipython3",
   "version": "3.8.10"
  },
  "orig_nbformat": 4
 },
 "nbformat": 4,
 "nbformat_minor": 2
}
