{
 "cells": [
  {
   "cell_type": "code",
   "execution_count": 183,
   "metadata": {},
   "outputs": [
    {
     "name": "stdout",
     "output_type": "stream",
     "text": [
      "0  0  0  0  0  0  0  0  0  0  \n",
      "1  1  1  1  1  1  1  1  1  1  \n",
      "2  2  2  2  2  2  2  2  2  2  \n",
      "3  3  3  3  3  3  3  3  3  3  \n",
      "4  4  4  4  4  4  4  4  4  4  \n",
      "5  5  5  5  5  5  5  5  5  5  \n",
      "6  6  6  6  6  6  6  6  6  6  \n",
      "7  7  7  7  7  7  7  7  7  7  \n",
      "8  8  8  8  8  8  8  8  8  8  \n",
      "9  9  9  9  9  9  9  9  9  9  \n"
     ]
    }
   ],
   "source": [
    "class pattern:\n",
    "    @staticmethod\n",
    "    def star1():\n",
    "        rows = int(input(\"Enter your number\"))\n",
    "        for i in range(rows):  # number of rows\n",
    "            for j in range(rows):  # column \n",
    "                print(i , end=\"  \") # by default print() '\\n'\n",
    "            print()\n",
    "   \n",
    "\n",
    "p1 = pattern()\n",
    "p1.star1()"
   ]
  },
  {
   "cell_type": "code",
   "execution_count": null,
   "metadata": {},
   "outputs": [],
   "source": []
  },
  {
   "cell_type": "code",
   "execution_count": null,
   "metadata": {},
   "outputs": [
    {
     "name": "stdout",
     "output_type": "stream",
     "text": [
      "Welcome to  GeeksforGeeks How Are You Aliza   Is Aliza is beautiful \n"
     ]
    }
   ],
   "source": [
    "# ends the output with a <space> \n",
    "print(\"Welcome to  \" ,end=\"\") \n",
    "print(\"GeeksforGeeks\" , end=\" How Are You Aliza   \")\n",
    "print(\"Is Aliza is beautiful \")"
   ]
  },
  {
   "cell_type": "code",
   "execution_count": null,
   "metadata": {},
   "outputs": [
    {
     "name": "stdout",
     "output_type": "stream",
     "text": [
      "*  *  *  *  *  \n",
      "*  *  \n",
      "*  *  \n",
      "*  *  \n",
      "*  *  *  *  *  \n"
     ]
    }
   ],
   "source": [
    "n=m=5\n",
    "for i in range(n):\n",
    "    for j in range(m):\n",
    "        if i==0 or i==n-1 or j == 0  or j == 4:\n",
    "            print(\"*\",end=\"  \")\n",
    "    print()\n"
   ]
  },
  {
   "cell_type": "code",
   "execution_count": null,
   "metadata": {},
   "outputs": [
    {
     "name": "stdout",
     "output_type": "stream",
     "text": [
      "*   \n",
      "*   *   \n",
      "*   *   *   \n",
      "*   *   *   *   \n",
      "*   *   *   *   *   \n"
     ]
    }
   ],
   "source": [
    "row = 5 \n",
    "for i in range(row):\n",
    "    for j in range(i+1):\n",
    "        print(\"*\" , end='   ')\n",
    "    print()"
   ]
  },
  {
   "cell_type": "code",
   "execution_count": null,
   "metadata": {},
   "outputs": [
    {
     "name": "stdout",
     "output_type": "stream",
     "text": [
      "* * * * * \n",
      "  * * * * \n",
      "    * * * \n",
      "      * * \n",
      "        * \n"
     ]
    }
   ],
   "source": [
    "row = 5 \n",
    "for i in range(row):\n",
    "    for j in range(i):\n",
    "        print(\" \", end=' ')\n",
    "    for j in range(i,row):\n",
    "        print(\"*\" , end=' ')\n",
    "    print()"
   ]
  },
  {
   "cell_type": "code",
   "execution_count": null,
   "metadata": {},
   "outputs": [
    {
     "name": "stdout",
     "output_type": "stream",
     "text": [
      "* * * * * \n",
      "* * * * \n",
      "* * * \n",
      "* * \n",
      "* \n"
     ]
    }
   ],
   "source": [
    "# decreasing triangle\n",
    "num = 5\n",
    "for i in range(num):\n",
    "    for j in range(i,num):\n",
    "        print('*', end=' ')\n",
    "    print()\n"
   ]
  },
  {
   "cell_type": "code",
   "execution_count": null,
   "metadata": {},
   "outputs": [
    {
     "name": "stdout",
     "output_type": "stream",
     "text": [
      "          \n",
      "        * \n",
      "      * * \n",
      "    * * * \n",
      "  * * * * \n"
     ]
    }
   ],
   "source": [
    "#\n",
    "row=5 \n",
    "for i in range(row):\n",
    "    for j in range(i , row):\n",
    "        print(' ' , end=\" \")\n",
    "    for j in range(i):\n",
    "        print('*', end=\" \")\n",
    "    print()"
   ]
  },
  {
   "cell_type": "code",
   "execution_count": null,
   "metadata": {},
   "outputs": [
    {
     "name": "stdout",
     "output_type": "stream",
     "text": [
      "0 1 2 3 4 \n",
      "1 2 3 4 \n",
      "2 3 4 \n",
      "3 4 \n",
      "4 \n"
     ]
    }
   ],
   "source": [
    "num = 5 \n",
    "j=0\n",
    "for i in range(num):\n",
    "    for j in range(i,num):\n",
    "        #j+=1\n",
    "        print(j,end=' ')\n",
    "    print()"
   ]
  },
  {
   "cell_type": "code",
   "execution_count": null,
   "metadata": {},
   "outputs": [
    {
     "name": "stdout",
     "output_type": "stream",
     "text": [
      "6\n",
      "12\n",
      "36\n",
      "144\n",
      "720\n",
      "720\n"
     ]
    }
   ],
   "source": [
    "# factorial of a number\n",
    "num = 6 \n",
    "for i in range(1,num):\n",
    "    num=num * i\n",
    "    print(num)\n",
    "\n",
    "print(num)"
   ]
  },
  {
   "cell_type": "code",
   "execution_count": 184,
   "metadata": {},
   "outputs": [],
   "source": [
    "class Birds:\n",
    "    def fly(self):\n",
    "        print(\"birds are Flying\")\n",
    "class BabyBird():\n",
    "    def learntoFly(self):\n",
    "        print('im flyig mom')"
   ]
  },
  {
   "cell_type": "code",
   "execution_count": 187,
   "metadata": {},
   "outputs": [],
   "source": [
    "class imBird(Birds,BabyBird):\n",
    "    def imBirdToo(self):\n",
    "        print('I am Bird Too')\n",
    "    def  fly(self):\n",
    "        print(\"i am flying too\")"
   ]
  },
  {
   "cell_type": "code",
   "execution_count": 188,
   "metadata": {},
   "outputs": [
    {
     "name": "stdout",
     "output_type": "stream",
     "text": [
      "i am flying too\n"
     ]
    }
   ],
   "source": [
    "im1 = imBird()\n",
    "im1.fly()"
   ]
  },
  {
   "cell_type": "code",
   "execution_count": null,
   "metadata": {},
   "outputs": [],
   "source": [
    "class Garuda(Birds):\n",
    "    def birdName(self):\n",
    "        print(\"hey my name is hard to pronounced\")"
   ]
  },
  {
   "cell_type": "code",
   "execution_count": null,
   "metadata": {},
   "outputs": [
    {
     "name": "stdout",
     "output_type": "stream",
     "text": [
      "hey my name is hard to pronounced\n"
     ]
    }
   ],
   "source": [
    "g1 = Garuda()\n",
    "g1.birdName()"
   ]
  },
  {
   "cell_type": "code",
   "execution_count": null,
   "metadata": {},
   "outputs": [
    {
     "name": "stdout",
     "output_type": "stream",
     "text": [
      "birds are Flying\n"
     ]
    }
   ],
   "source": [
    "g1.fly()"
   ]
  },
  {
   "cell_type": "code",
   "execution_count": null,
   "metadata": {},
   "outputs": [],
   "source": []
  }
 ],
 "metadata": {
  "interpreter": {
   "hash": "916dbcbb3f70747c44a77c7bcd40155683ae19c65e1c03b4aa3499c5328201f1"
  },
  "kernelspec": {
   "display_name": "Python 3.8.10 64-bit",
   "language": "python",
   "name": "python3"
  },
  "language_info": {
   "codemirror_mode": {
    "name": "ipython",
    "version": 3
   },
   "file_extension": ".py",
   "mimetype": "text/x-python",
   "name": "python",
   "nbconvert_exporter": "python",
   "pygments_lexer": "ipython3",
   "version": "3.8.10"
  },
  "orig_nbformat": 4
 },
 "nbformat": 4,
 "nbformat_minor": 2
}
