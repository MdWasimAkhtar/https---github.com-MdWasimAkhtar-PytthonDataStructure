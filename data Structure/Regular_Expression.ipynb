{
 "cells": [
  {
   "cell_type": "markdown",
   "metadata": {},
   "source": [
    "Regular Expression\n",
    "---------\n",
    "\n",
    "    if we want to represent a group of string according to perticuar pattern then we should go for Reg Ex\n",
    "\n",
    "    A Regular Expressions (RegEx) is a special sequence of characters that uses a search pattern to find a string or set of strings. It can detect the presence or absence of a text by matching with a particular pattern, and also can split a pattern into one or more sub-patterns. Python provides a re module that supports the use of regex in Python. Its primary function is to offer a search, where it takes a regular expression and a string. Here, it either returns the first match or else none.\n",
    "\n",
    "    ADV.\n",
    "    ----\n",
    "    1.Validation \n",
    "    2.regular expression is language independent \n",
    "    3.search operation /specific pattern matching\n",
    "    4.lexical Analysis(scanning or tokenization internally implemented by regular expression (compiler desing , interpreter , assembler ), to developed digital circuits /communication protocols  TCP/ IP)\n",
    "     /Syntax ANalysis/Semanctic Analysis"
   ]
  },
  {
   "cell_type": "markdown",
   "metadata": {},
   "source": [
    "________________________________________\n",
    "____________________________________________\n",
    "____________________________________________\n",
    "compile() --->  "
   ]
  },
  {
   "cell_type": "code",
   "execution_count": 3,
   "metadata": {},
   "outputs": [
    {
     "name": "stdout",
     "output_type": "stream",
     "text": [
      "<class 're.Pattern'>\n"
     ]
    }
   ],
   "source": [
    "import re\n",
    "pattern = re.compile(\"Shilpa\")\n",
    "print(type(pattern))"
   ]
  },
  {
   "cell_type": "markdown",
   "metadata": {},
   "source": [
    "start() ---> start index of match\n",
    "\n",
    "end()----> end+1 index of match\n",
    "\n",
    "group() ----> mathod returns the matched item"
   ]
  },
  {
   "cell_type": "code",
   "execution_count": 6,
   "metadata": {},
   "outputs": [
    {
     "name": "stdout",
     "output_type": "stream",
     "text": [
      "match is avilable at start index :  0\n",
      "match is avilable at start index :  4\n",
      "match is avilable at start index :  6\n",
      "The number of Occurances :  3\n"
     ]
    }
   ],
   "source": [
    "import re\n",
    "count = 0 \n",
    "pattern = re.compile('ab')\n",
    "matcher = pattern.finditer('abaaababa')\n",
    "\n",
    "for match in matcher:\n",
    "    count += 1 \n",
    "    print(\"match is avilable at start index : \",match.start())\n",
    "print(\"The number of Occurances : \",count)"
   ]
  },
  {
   "cell_type": "code",
   "execution_count": 11,
   "metadata": {},
   "outputs": [
    {
     "name": "stdout",
     "output_type": "stream",
     "text": [
      "matched at :  bb\n",
      "matched at :  bb\n",
      "matched at :  bb\n",
      "matched at :  bb\n",
      "Number of times Occur's is   4\n"
     ]
    }
   ],
   "source": [
    "pattern = re.compile('bb')\n",
    "matcher = pattern.finditer('ababababbabbbbbaababababba')\n",
    "count = 0 \n",
    "for mat in matcher:\n",
    "    count += 1 \n",
    "    print(\"matched at : \",mat.group())\n",
    "print(\"Number of times Occur's is  \",count)"
   ]
  },
  {
   "cell_type": "code",
   "execution_count": 13,
   "metadata": {},
   "outputs": [
    {
     "name": "stdout",
     "output_type": "stream",
     "text": [
      "start:0 , end:2, group:ab\n",
      "start:2 , end:4, group:ab\n",
      "start:4 , end:6, group:ab\n",
      "start:9 , end:11, group:ab\n",
      "start:11 , end:13, group:ab\n",
      "start:13 , end:15, group:ab\n",
      "start:15 , end:17, group:ab\n",
      "The Number of Occurance is :  7\n"
     ]
    }
   ],
   "source": [
    "count = 0 \n",
    "pattern = re.compile('ab')\n",
    "mat = pattern.finditer('abababaaaabababab')\n",
    "for m in mat :\n",
    "    count = count + 1 \n",
    "    print('start:{} , end:{}, group:{}'.format(m.start(),m.end(),m.group() ))\n",
    "\n",
    "print(\"The Number of Occurance is : \",count)"
   ]
  },
  {
   "cell_type": "code",
   "execution_count": 16,
   "metadata": {},
   "outputs": [
    {
     "name": "stdout",
     "output_type": "stream",
     "text": [
      "start:7, end:10,group:abc\n",
      "start:19, end:22,group:abc\n"
     ]
    }
   ],
   "source": [
    "count = 0 \n",
    "m = re.finditer('abc',\"ABCabaaabccccaaabababc\")\n",
    "for i in m:\n",
    "    print('start:{}, end:{},group:{}'.format(i.start(),i.end(),i.group()))"
   ]
  },
  {
   "cell_type": "markdown",
   "metadata": {},
   "source": [
    "Character Classes:\n",
    "--------------\n",
    "[abc] ==> either a or b or c \n",
    "\n",
    "[^abc] ==> except a and b and c \n",
    "\n",
    "[a-z] == any lower case alphabet symbol\n",
    "\n",
    "[0-9] \n",
    "\n",
    "[A-z] == uppercase symbol\n",
    "\n",
    "[a-zA-Z0-9]\n",
    "\n",
    "[^a-zA-Z0-9]"
   ]
  },
  {
   "cell_type": "code",
   "execution_count": 19,
   "metadata": {},
   "outputs": [
    {
     "name": "stdout",
     "output_type": "stream",
     "text": [
      "1    2    9\n",
      "2    3    7\n",
      "4    5    @\n",
      "5    6    9\n",
      "6    7    9\n",
      "7    8    x\n"
     ]
    }
   ],
   "source": [
    "import re\n",
    "\n",
    "matcher = re.finditer('[^abc]',\"a97b@99x\")\n",
    "\n",
    "for i in matcher:\n",
    "    print(i.start(),\"  \",i.end(),\"  \",i.group())"
   ]
  },
  {
   "cell_type": "code",
   "execution_count": 20,
   "metadata": {},
   "outputs": [
    {
     "name": "stdout",
     "output_type": "stream",
     "text": [
      "0     7\n",
      "1     9\n"
     ]
    }
   ],
   "source": [
    "import re\n",
    "mat = re.finditer('[0-9]',\"79@adhdh##\")\n",
    "\n",
    "for i in mat:\n",
    "    print(i.start(),\"   \",i.group())"
   ]
  },
  {
   "cell_type": "markdown",
   "metadata": {},
   "source": [
    "Except alpha num character"
   ]
  },
  {
   "cell_type": "code",
   "execution_count": 22,
   "metadata": {},
   "outputs": [
    {
     "name": "stdout",
     "output_type": "stream",
     "text": [
      "2     @\n",
      "8     #\n",
      "9     #\n"
     ]
    }
   ],
   "source": [
    "import re\n",
    "mat = re.finditer('[^a-zA-z0-9]',\"79@adhdh##\")\n",
    "\n",
    "for i in mat:\n",
    "    print(i.start(),\"   \",i.group())"
   ]
  },
  {
   "cell_type": "markdown",
   "metadata": {},
   "source": [
    "Predefined Character classes:\n",
    "----------\n",
    "\n",
    "    \\s---> space character\n",
    "    "
   ]
  },
  {
   "cell_type": "code",
   "execution_count": null,
   "metadata": {},
   "outputs": [],
   "source": []
  }
 ],
 "metadata": {
  "interpreter": {
   "hash": "916dbcbb3f70747c44a77c7bcd40155683ae19c65e1c03b4aa3499c5328201f1"
  },
  "kernelspec": {
   "display_name": "Python 3.8.10 64-bit",
   "language": "python",
   "name": "python3"
  },
  "language_info": {
   "codemirror_mode": {
    "name": "ipython",
    "version": 3
   },
   "file_extension": ".py",
   "mimetype": "text/x-python",
   "name": "python",
   "nbconvert_exporter": "python",
   "pygments_lexer": "ipython3",
   "version": "3.8.10"
  },
  "orig_nbformat": 4
 },
 "nbformat": 4,
 "nbformat_minor": 2
}
