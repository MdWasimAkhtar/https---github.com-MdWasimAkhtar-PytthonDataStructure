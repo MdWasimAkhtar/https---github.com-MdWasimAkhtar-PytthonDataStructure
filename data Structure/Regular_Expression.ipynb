{
 "cells": [
  {
   "cell_type": "markdown",
   "metadata": {},
   "source": [
    "Regular Expression\n",
    "---------\n",
    "\n",
    "    if we want to represent a group of string according to perticuar pattern then we should go for Reg Ex\n",
    "\n",
    "    A Regular Expressions (RegEx) is a special sequence of characters that uses a search pattern to find a string or set of strings. It can detect the presence or absence of a text by matching with a particular pattern, and also can split a pattern into one or more sub-patterns. Python provides a re module that supports the use of regex in Python. Its primary function is to offer a search, where it takes a regular expression and a string. Here, it either returns the first match or else none.\n",
    "\n",
    "    ADV.\n",
    "    ----\n",
    "    1.Validation \n",
    "    2.regular expression is language independent \n",
    "    3.search operation /specific pattern matching\n",
    "    4.lexical Analysis(scanning or tokenization internally implemented by regular expression (compiler desing , interpreter , assembler ), to developed digital circuits /communication protocols  TCP/ IP)\n",
    "     /Syntax ANalysis/Semanctic Analysis"
   ]
  },
  {
   "cell_type": "markdown",
   "metadata": {},
   "source": [
    "________________________________________\n",
    "____________________________________________\n",
    "____________________________________________\n",
    "compile() --->  "
   ]
  },
  {
   "cell_type": "code",
   "execution_count": 3,
   "metadata": {},
   "outputs": [
    {
     "name": "stdout",
     "output_type": "stream",
     "text": [
      "<class 're.Pattern'>\n"
     ]
    }
   ],
   "source": [
    "import re\n",
    "pattern = re.compile(\"Shilpa\")\n",
    "print(type(pattern))"
   ]
  },
  {
   "cell_type": "markdown",
   "metadata": {},
   "source": [
    "start() ---> start index of match\n",
    "\n",
    "end()----> end+1 index of match\n",
    "\n",
    "group() ----> mathod returns the matched item"
   ]
  },
  {
   "cell_type": "code",
   "execution_count": 6,
   "metadata": {},
   "outputs": [
    {
     "name": "stdout",
     "output_type": "stream",
     "text": [
      "match is avilable at start index :  0\n",
      "match is avilable at start index :  4\n",
      "match is avilable at start index :  6\n",
      "The number of Occurances :  3\n"
     ]
    }
   ],
   "source": [
    "import re\n",
    "count = 0 \n",
    "pattern = re.compile('ab')\n",
    "matcher = pattern.finditer('abaaababa')\n",
    "\n",
    "for match in matcher:\n",
    "    count += 1 \n",
    "    print(\"match is avilable at start index : \",match.start())\n",
    "print(\"The number of Occurances : \",count)"
   ]
  },
  {
   "cell_type": "code",
   "execution_count": 11,
   "metadata": {},
   "outputs": [
    {
     "name": "stdout",
     "output_type": "stream",
     "text": [
      "matched at :  bb\n",
      "matched at :  bb\n",
      "matched at :  bb\n",
      "matched at :  bb\n",
      "Number of times Occur's is   4\n"
     ]
    }
   ],
   "source": [
    "pattern = re.compile('bb')\n",
    "matcher = pattern.finditer('ababababbabbbbbaababababba')\n",
    "count = 0 \n",
    "for mat in matcher:\n",
    "    count += 1 \n",
    "    print(\"matched at : \",mat.group())\n",
    "print(\"Number of times Occur's is  \",count)"
   ]
  },
  {
   "cell_type": "code",
   "execution_count": 13,
   "metadata": {},
   "outputs": [
    {
     "name": "stdout",
     "output_type": "stream",
     "text": [
      "start:0 , end:2, group:ab\n",
      "start:2 , end:4, group:ab\n",
      "start:4 , end:6, group:ab\n",
      "start:9 , end:11, group:ab\n",
      "start:11 , end:13, group:ab\n",
      "start:13 , end:15, group:ab\n",
      "start:15 , end:17, group:ab\n",
      "The Number of Occurance is :  7\n"
     ]
    }
   ],
   "source": [
    "count = 0 \n",
    "pattern = re.compile('ab')\n",
    "mat = pattern.finditer('abababaaaabababab')\n",
    "for m in mat :\n",
    "    count = count + 1 \n",
    "    print('start:{} , end:{}, group:{}'.format(m.start(),m.end(),m.group() ))\n",
    "\n",
    "print(\"The Number of Occurance is : \",count)"
   ]
  },
  {
   "cell_type": "code",
   "execution_count": 16,
   "metadata": {},
   "outputs": [
    {
     "name": "stdout",
     "output_type": "stream",
     "text": [
      "start:7, end:10,group:abc\n",
      "start:19, end:22,group:abc\n"
     ]
    }
   ],
   "source": [
    "count = 0 \n",
    "m = re.finditer('abc',\"ABCabaaabccccaaabababc\")\n",
    "for i in m:\n",
    "    print('start:{}, end:{},group:{}'.format(i.start(),i.end(),i.group()))"
   ]
  },
  {
   "cell_type": "markdown",
   "metadata": {},
   "source": [
    "Character Classes:\n",
    "--------------\n",
    "[abc] ==> either a or b or c \n",
    "\n",
    "[^abc] ==> except a and b and c \n",
    "\n",
    "[a-z] == any lower case alphabet symbol\n",
    "\n",
    "[0-9] \n",
    "\n",
    "[A-z] == uppercase symbol\n",
    "\n",
    "[a-zA-Z0-9]\n",
    "\n",
    "[^a-zA-Z0-9]"
   ]
  },
  {
   "cell_type": "code",
   "execution_count": 19,
   "metadata": {},
   "outputs": [
    {
     "name": "stdout",
     "output_type": "stream",
     "text": [
      "1    2    9\n",
      "2    3    7\n",
      "4    5    @\n",
      "5    6    9\n",
      "6    7    9\n",
      "7    8    x\n"
     ]
    }
   ],
   "source": [
    "import re\n",
    "\n",
    "matcher = re.finditer('[^abc]',\"a97b@99x\")\n",
    "\n",
    "for i in matcher:\n",
    "    print(i.start(),\"  \",i.end(),\"  \",i.group())"
   ]
  },
  {
   "cell_type": "code",
   "execution_count": 20,
   "metadata": {},
   "outputs": [
    {
     "name": "stdout",
     "output_type": "stream",
     "text": [
      "0     7\n",
      "1     9\n"
     ]
    }
   ],
   "source": [
    "import re\n",
    "mat = re.finditer('[0-9]',\"79@adhdh##\")\n",
    "\n",
    "for i in mat:\n",
    "    print(i.start(),\"   \",i.group())"
   ]
  },
  {
   "cell_type": "markdown",
   "metadata": {},
   "source": [
    "Except alpha num character"
   ]
  },
  {
   "cell_type": "code",
   "execution_count": 22,
   "metadata": {},
   "outputs": [
    {
     "name": "stdout",
     "output_type": "stream",
     "text": [
      "2     @\n",
      "8     #\n",
      "9     #\n"
     ]
    }
   ],
   "source": [
    "import re\n",
    "mat = re.finditer('[^a-zA-z0-9]',\"79@adhdh##\")\n",
    "\n",
    "for i in mat:\n",
    "    print(i.start(),\"   \",i.group())"
   ]
  },
  {
   "cell_type": "markdown",
   "metadata": {},
   "source": [
    "Predefined Character classes:\n",
    "----------\n",
    "\n",
    "    \\s---> space character\n",
    "    \\S --> except space character \n",
    "    \\d ---> any digit \n",
    "    \\D --> except digit\n",
    "    \\w -- any word Character (alpha numeric char.)\n",
    "    \\W-->any character except  word (special char )\n",
    "    . -- > every character\n",
    "    \n",
    "    "
   ]
  },
  {
   "cell_type": "markdown",
   "metadata": {},
   "source": [
    "1\n",
    "    \n",
    "    we cannot use slicing or indexing in dict"
   ]
  },
  {
   "cell_type": "code",
   "execution_count": 27,
   "metadata": {},
   "outputs": [
    {
     "data": {
      "text/plain": [
       "'windy'"
      ]
     },
     "execution_count": 27,
     "metadata": {},
     "output_type": "execute_result"
    }
   ],
   "source": [
    "tup = (12,13,14,77,99,)\n",
    "tup[0:3]\n",
    "\n",
    "dict1 = {'a':'shilpa','b':'wasi','c':'Silk','d':'windy'}\n",
    "dict1['d'] # we cannot use slicing or indexing in dict"
   ]
  },
  {
   "cell_type": "code",
   "execution_count": 31,
   "metadata": {},
   "outputs": [
    {
     "name": "stdout",
     "output_type": "stream",
     "text": [
      "3  ,   @\n",
      "4  ,   w\n",
      "5  ,   a\n",
      "6  ,   r\n",
      "7  ,   ?\n"
     ]
    }
   ],
   "source": [
    "import re \n",
    "mat = re.finditer('\\D','997@war?')\n",
    "\n",
    "for i in mat:\n",
    "    print(i.start() , \" ,  \",i.group())"
   ]
  },
  {
   "cell_type": "code",
   "execution_count": 36,
   "metadata": {},
   "outputs": [
    {
     "name": "stdout",
     "output_type": "stream",
     "text": [
      "0  ,   9\n",
      "1  ,   9\n",
      "2  ,   7\n"
     ]
    }
   ],
   "source": [
    "import re \n",
    "mat = re.finditer('\\d','997@war?')\n",
    "\n",
    "for i in mat:\n",
    "    print(i.start() , \" ,  \",i.group())"
   ]
  },
  {
   "cell_type": "markdown",
   "metadata": {},
   "source": [
    "Quantifier(+,*,?)\n",
    "----------------\n",
    "    a-- exactly one 'a'\n",
    "    a+ -- atleast one 'a'\n",
    "    a* --> any number of a's uncluding zero number also\n",
    "    a?  --> atmost one a "
   ]
  },
  {
   "cell_type": "markdown",
   "metadata": {},
   "source": [
    "^a --> without sq bracket , wheather the given target string start with a or not \n",
    "\n",
    "a$ ---> wheather the target string ends with a or not \n",
    "\n",
    "[^a]---> except a all the remaining "
   ]
  },
  {
   "cell_type": "code",
   "execution_count": 59,
   "metadata": {},
   "outputs": [
    {
     "name": "stdout",
     "output_type": "stream",
     "text": [
      "0    1\n"
     ]
    }
   ],
   "source": [
    "import re \n",
    "mat = re.finditer('^[0-9]','1234bsbsbaababcabc')\n",
    "\n",
    "for i in mat:\n",
    "    print(i.start(),'  ',i.group())"
   ]
  },
  {
   "cell_type": "code",
   "execution_count": 66,
   "metadata": {},
   "outputs": [
    {
     "name": "stdout",
     "output_type": "stream",
     "text": [
      "6    8\n"
     ]
    }
   ],
   "source": [
    "import re \n",
    "mat = re.finditer('[0-9]$','abac128')\n",
    "\n",
    "for i in mat:\n",
    "    print(i.start(),'  ',i.group())"
   ]
  },
  {
   "cell_type": "markdown",
   "metadata": {},
   "source": [
    "# Import function of re module\n",
    "_____________________________________\n",
    "\n",
    "    match() -->to check the given pattern at the beginning of the target string if then return match Object otherwise none\n",
    "\n",
    "    fullmatch()--> full string should be matched \n",
    "\n",
    "    search() --> matched Object of the first occurance \n",
    "\n",
    "    findall() -->\n",
    "\n",
    "    sub()  --->\n",
    "    \n",
    "    subn()  -->\n",
    "    \n",
    "    split() -->\n",
    "    \n",
    "    compile() --->"
   ]
  },
  {
   "cell_type": "code",
   "execution_count": 71,
   "metadata": {},
   "outputs": [
    {
     "name": "stdout",
     "output_type": "stream",
     "text": [
      "match is availabe at the beginning of the string \n",
      "start Index:0 and end :2\n"
     ]
    }
   ],
   "source": [
    "import re \n",
    "s = str(input('enter a pattern to check'))\n",
    "\n",
    "mat = re.match(s,\"abcdefghiishilpa\")\n",
    "if mat != None:\n",
    "    print('match is availabe at the beginning of the string ')\n",
    "    print('start Index:{} and end :{}'.format(mat.start(),mat.end()))\n",
    "else:\n",
    "    print('pattern Not Found')"
   ]
  },
  {
   "cell_type": "code",
   "execution_count": 73,
   "metadata": {},
   "outputs": [
    {
     "name": "stdout",
     "output_type": "stream",
     "text": [
      "full string matched  \n",
      "start Index:0 and end :8\n"
     ]
    }
   ],
   "source": [
    "import re \n",
    "s = str(input('enter a pattern to check'))\n",
    "\n",
    "mat = re.fullmatch(s,\"iishilpa\")\n",
    "if mat != None:\n",
    "    print('full string matched  ')\n",
    "    print('start Index:{} and end :{}'.format(mat.start(),mat.end()))\n",
    "else:\n",
    "    print('pattern Not Found')"
   ]
  },
  {
   "cell_type": "code",
   "execution_count": 76,
   "metadata": {},
   "outputs": [
    {
     "name": "stdout",
     "output_type": "stream",
     "text": [
      " matched  \n",
      "start Index:6 and end :8\n"
     ]
    }
   ],
   "source": [
    "import re \n",
    "s = str(input('enter a pattern to check'))\n",
    "\n",
    "mat = re.search(s,\"iishilpa\")\n",
    "if mat != None:\n",
    "    print(' matched  ')\n",
    "    print('start Index:{} and end :{}'.format(mat.start(),mat.end()))\n",
    "else:\n",
    "    print('pattern Not Found')"
   ]
  },
  {
   "cell_type": "code",
   "execution_count": 77,
   "metadata": {},
   "outputs": [
    {
     "name": "stdout",
     "output_type": "stream",
     "text": [
      "['3', '4', '7', '8', '6']\n"
     ]
    }
   ],
   "source": [
    "find_num = re.findall('[0-9]','a34wasim@786')\n",
    "print(find_num)"
   ]
  },
  {
   "cell_type": "code",
   "execution_count": 83,
   "metadata": {},
   "outputs": [],
   "source": [
    "matcher = re.finditer('^[1-3]',\"9998shilpa@786\")\n",
    "\n",
    "for i in matcher:\n",
    "    print(i.start(),\"   \",i.end(),\"  \",i.group())"
   ]
  },
  {
   "cell_type": "code",
   "execution_count": 90,
   "metadata": {},
   "outputs": [
    {
     "name": "stdout",
     "output_type": "stream",
     "text": [
      "0    9\n"
     ]
    }
   ],
   "source": [
    "str2 = str(input(\"sentence \"))\n",
    "str3 = \" wasim is using laptop and reading \"\n",
    "mat = re.match('^[0-9]',str2)\n",
    "\n",
    "if mat != None:\n",
    "    print(i.start(),\"  \",i.group())\n",
    "else:\n",
    "    print(\"The string is not starting with number  \",str2)"
   ]
  },
  {
   "cell_type": "code",
   "execution_count": null,
   "metadata": {},
   "outputs": [],
   "source": []
  }
 ],
 "metadata": {
  "interpreter": {
   "hash": "916dbcbb3f70747c44a77c7bcd40155683ae19c65e1c03b4aa3499c5328201f1"
  },
  "kernelspec": {
   "display_name": "Python 3.8.10 64-bit",
   "language": "python",
   "name": "python3"
  },
  "language_info": {
   "codemirror_mode": {
    "name": "ipython",
    "version": 3
   },
   "file_extension": ".py",
   "mimetype": "text/x-python",
   "name": "python",
   "nbconvert_exporter": "python",
   "pygments_lexer": "ipython3",
   "version": "3.8.10"
  },
  "orig_nbformat": 4
 },
 "nbformat": 4,
 "nbformat_minor": 2
}
