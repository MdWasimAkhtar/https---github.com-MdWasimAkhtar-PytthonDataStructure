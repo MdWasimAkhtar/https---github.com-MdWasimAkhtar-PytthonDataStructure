{
 "cells": [
  {
   "cell_type": "markdown",
   "metadata": {},
   "source": [
    "# Immutability , mutable \n",
    "\n",
    "    mutable - changeable , \n",
    "\n",
    "    fundamental data type --> int , float , complex , bool and \n",
    "\n",
    "    text - String \n",
    "\n",
    "    squence type - list , tuples , range\n",
    "    "
   ]
  },
  {
   "cell_type": "code",
   "execution_count": 5,
   "metadata": {},
   "outputs": [
    {
     "name": "stdout",
     "output_type": "stream",
     "text": [
      "a address before  9789280\n",
      "a is after  9789312\n"
     ]
    }
   ],
   "source": [
    "a = 10\n",
    "print(\"a address before \",id(a))\n",
    "b = a\n",
    "\n",
    "a = 11\n",
    "\n",
    "print(\"a is after \",id(a))"
   ]
  },
  {
   "cell_type": "markdown",
   "metadata": {},
   "source": [
    "String is Immutable , if we try to change it will create a new Object with those changes and the reference point towards new Object"
   ]
  },
  {
   "cell_type": "code",
   "execution_count": 55,
   "metadata": {},
   "outputs": [
    {
     "name": "stdout",
     "output_type": "stream",
     "text": [
      "she is very strong\n",
      "140012594621616\n",
      "data science 99 \n",
      "140012594157968\n"
     ]
    }
   ],
   "source": [
    "sahithi = \"she is very strong\"\n",
    "print(sahithi)\n",
    "\n",
    "print(id(sahithi))\n",
    "\n",
    "sahithi = \"data science 99 \"\n",
    "print(sahithi)\n",
    "print(id(sahithi))\n"
   ]
  },
  {
   "cell_type": "code",
   "execution_count": 9,
   "metadata": {},
   "outputs": [
    {
     "data": {
      "text/plain": [
       "23"
      ]
     },
     "execution_count": 9,
     "metadata": {},
     "output_type": "execute_result"
    }
   ],
   "source": [
    "a = 10 \n",
    "\n",
    "a = a+ 13\n",
    "a"
   ]
  },
  {
   "cell_type": "code",
   "execution_count": null,
   "metadata": {},
   "outputs": [],
   "source": [
    "str_1 = \"\""
   ]
  },
  {
   "cell_type": "code",
   "execution_count": 21,
   "metadata": {},
   "outputs": [
    {
     "name": "stdout",
     "output_type": "stream",
     "text": [
      "['sahithi', 'wasim', 'data science']\n",
      "140012594388352\n",
      "['sahithi', 'wasim', 'sahithi patel ']\n",
      "140012594388352\n"
     ]
    }
   ],
   "source": [
    "list1 = ['sahithi',\"wasim\",\"data science\"]\n",
    "print(list1)\n",
    "print(id(list1))\n",
    "\n",
    "list1[2] =\"sahithi patel \"\n",
    "print(list1)\n",
    "print(id(list1))\n",
    "\n"
   ]
  },
  {
   "cell_type": "code",
   "execution_count": 22,
   "metadata": {},
   "outputs": [
    {
     "name": "stdout",
     "output_type": "stream",
     "text": [
      "('Sahithi', 'Isoft')\n"
     ]
    }
   ],
   "source": [
    "def perform(name , school ):\n",
    "    return name , school\n",
    "\n",
    "p1 = perform('Sahithi' , 'Isoft')\n",
    "print(p1)"
   ]
  },
  {
   "cell_type": "code",
   "execution_count": 27,
   "metadata": {},
   "outputs": [
    {
     "data": {
      "text/plain": [
       "('B+', ('rekha', 'DPS'))"
      ]
     },
     "execution_count": 27,
     "metadata": {},
     "output_type": "execute_result"
    }
   ],
   "source": [
    "def judge(marks):\n",
    "    p2 = perform('rekha' , 'DPS')\n",
    "    return marks , p2\n",
    "\n",
    "judge('B+')"
   ]
  },
  {
   "cell_type": "code",
   "execution_count": 25,
   "metadata": {},
   "outputs": [
    {
     "data": {
      "text/plain": [
       "('nita', 'BPS')"
      ]
     },
     "execution_count": 25,
     "metadata": {},
     "output_type": "execute_result"
    }
   ],
   "source": [
    "perform('nita','BPS')"
   ]
  },
  {
   "cell_type": "markdown",
   "metadata": {},
   "source": [
    "if we try to change /update  Immutable str or tuple or fundamental type , it will create an new Object with that change "
   ]
  },
  {
   "cell_type": "code",
   "execution_count": 3,
   "metadata": {},
   "outputs": [
    {
     "name": "stdout",
     "output_type": "stream",
     "text": [
      "id before assigment or update  140079649101456\n",
      "id after assigment or update  140080024284048\n"
     ]
    }
   ],
   "source": [
    "str_1 = \"working hardly or hardly working \"\n",
    "print(\"id before assigment or update \",id(str_1))\n",
    "\n",
    "str_1 = str_1+\" work is great \"\n",
    "print(\"id after assigment or update \",id(str_1))\n",
    "\n",
    "\n"
   ]
  },
  {
   "cell_type": "code",
   "execution_count": 28,
   "metadata": {},
   "outputs": [
    {
     "data": {
      "text/plain": [
       "11"
      ]
     },
     "execution_count": 28,
     "metadata": {},
     "output_type": "execute_result"
    }
   ],
   "source": [
    "def inc(number):\n",
    "    return number+1\n",
    "\n",
    "add_one = inc\n",
    "add_one(10)"
   ]
  },
  {
   "cell_type": "markdown",
   "metadata": {},
   "source": [
    "    Nested Function\n",
    "    "
   ]
  },
  {
   "cell_type": "code",
   "execution_count": 39,
   "metadata": {},
   "outputs": [
    {
     "name": "stdout",
     "output_type": "stream",
     "text": [
      "first\n",
      "second\n",
      "THIRD\n",
      "Fourth\n",
      "Fivth\n"
     ]
    }
   ],
   "source": [
    "def plus_one(num):\n",
    "    print('first')\n",
    "\n",
    "    def add_one(num):\n",
    "        print('THIRD')\n",
    "        return num+1\n",
    "\n",
    "    print('second')\n",
    "    result = add_one(num)\n",
    "\n",
    "    print('Fourth')\n",
    "    return result\n",
    "\n",
    "\n",
    "\n",
    "plus_one(10)\n",
    "\n",
    "print('Fivth')"
   ]
  },
  {
   "cell_type": "markdown",
   "metadata": {},
   "source": [
    "# Passing Functions as Arguments to other Functions"
   ]
  },
  {
   "cell_type": "code",
   "execution_count": 40,
   "metadata": {},
   "outputs": [
    {
     "data": {
      "text/plain": [
       "4"
      ]
     },
     "execution_count": 40,
     "metadata": {},
     "output_type": "execute_result"
    }
   ],
   "source": [
    "def dec(num):\n",
    "    return num-1\n",
    "\n",
    "\n",
    "def function_call(function):\n",
    "\n",
    "    number_to_add = 5 \n",
    "\n",
    "    return function(number_to_add)\n",
    "\n",
    "function_call(dec)"
   ]
  },
  {
   "cell_type": "code",
   "execution_count": 42,
   "metadata": {},
   "outputs": [
    {
     "data": {
      "text/plain": [
       "144"
      ]
     },
     "execution_count": 42,
     "metadata": {},
     "output_type": "execute_result"
    }
   ],
   "source": [
    "def square(num):\n",
    "    return num*num\n",
    "\n",
    "\n",
    "def other_func_call(function_to_call):\n",
    "    num = eval(input('Enter num here'))\n",
    "\n",
    "    return function_to_call(num)\n",
    "\n",
    "other_func_call(square)"
   ]
  },
  {
   "cell_type": "markdown",
   "metadata": {},
   "source": [
    "# Functions Returning other Functions"
   ]
  },
  {
   "cell_type": "code",
   "execution_count": 51,
   "metadata": {},
   "outputs": [
    {
     "data": {
      "text/plain": [
       "36"
      ]
     },
     "execution_count": 51,
     "metadata": {},
     "output_type": "execute_result"
    }
   ],
   "source": [
    "def function_returning_other_function(num):\n",
    "    def triple(num):\n",
    "        return 3*num\n",
    "\n",
    "    return triple\n",
    "\n",
    "    def cube(num):\n",
    "        return num*num*num\n",
    "\n",
    "    return cube  # unreachable Statement \n",
    "\n",
    "v1 = function_returning_other_function(10)\n",
    "v1(12)\n"
   ]
  },
  {
   "cell_type": "code",
   "execution_count": 53,
   "metadata": {},
   "outputs": [
    {
     "ename": "TypeError",
     "evalue": "'tuple' object is not callable",
     "output_type": "error",
     "traceback": [
      "\u001b[0;31m---------------------------------------------------------------------------\u001b[0m",
      "\u001b[0;31mTypeError\u001b[0m                                 Traceback (most recent call last)",
      "\u001b[0;32m/tmp/ipykernel_48552/3007249658.py\u001b[0m in \u001b[0;36m<module>\u001b[0;34m\u001b[0m\n\u001b[1;32m      9\u001b[0m \u001b[0;34m\u001b[0m\u001b[0m\n\u001b[1;32m     10\u001b[0m \u001b[0mv1\u001b[0m \u001b[0;34m=\u001b[0m \u001b[0mfunction_returning_other_function\u001b[0m\u001b[0;34m(\u001b[0m\u001b[0;36m10\u001b[0m\u001b[0;34m)\u001b[0m\u001b[0;34m\u001b[0m\u001b[0;34m\u001b[0m\u001b[0m\n\u001b[0;32m---> 11\u001b[0;31m \u001b[0mv1\u001b[0m\u001b[0;34m(\u001b[0m\u001b[0;36m12\u001b[0m\u001b[0;34m)\u001b[0m\u001b[0;34m\u001b[0m\u001b[0;34m\u001b[0m\u001b[0m\n\u001b[0m",
      "\u001b[0;31mTypeError\u001b[0m: 'tuple' object is not callable"
     ]
    }
   ],
   "source": [
    "def function_returning_other_function(num):\n",
    "    def triple(num):\n",
    "        return 3*num\n",
    "\n",
    "    def cube(num):\n",
    "        return num*num*num\n",
    "\n",
    "    return cube , triple # unreachable Statement \n",
    "\n",
    "v1 = function_returning_other_function(10)\n",
    "v1(12)\n"
   ]
  },
  {
   "cell_type": "code",
   "execution_count": null,
   "metadata": {},
   "outputs": [],
   "source": []
  }
 ],
 "metadata": {
  "interpreter": {
   "hash": "916dbcbb3f70747c44a77c7bcd40155683ae19c65e1c03b4aa3499c5328201f1"
  },
  "kernelspec": {
   "display_name": "Python 3.8.10 64-bit",
   "language": "python",
   "name": "python3"
  },
  "language_info": {
   "codemirror_mode": {
    "name": "ipython",
    "version": 3
   },
   "file_extension": ".py",
   "mimetype": "text/x-python",
   "name": "python",
   "nbconvert_exporter": "python",
   "pygments_lexer": "ipython3",
   "version": "3.8.10"
  },
  "orig_nbformat": 4
 },
 "nbformat": 4,
 "nbformat_minor": 2
}
