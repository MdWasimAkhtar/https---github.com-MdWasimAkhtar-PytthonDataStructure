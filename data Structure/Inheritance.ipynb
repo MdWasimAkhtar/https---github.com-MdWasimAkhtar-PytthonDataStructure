{
 "cells": [
  {
   "cell_type": "markdown",
   "metadata": {},
   "source": [
    "Types Of Inheritance:\n",
    "------------------------\n",
    "\n",
    "(1).Single Inheritance \n",
    "\n",
    "(2).multi level Inheritance\n",
    "\n",
    "(3).Hierarchical Inheritance\n",
    "\n",
    "(4).multiple Inheritance\n",
    "\n",
    "(5).hybrid \n",
    "\n",
    "(6).Cyclic"
   ]
  },
  {
   "cell_type": "code",
   "execution_count": 37,
   "metadata": {},
   "outputs": [],
   "source": [
    "class P :\n",
    "    def m1 (self):\n",
    "        print(\"M1_Parent_Mathod\")\n",
    "\n",
    "    def m2(self):\n",
    "        print(\"M2_Method\")"
   ]
  },
  {
   "cell_type": "code",
   "execution_count": 38,
   "metadata": {},
   "outputs": [],
   "source": [
    "class C1(P):\n",
    "\n",
    "    def m3(self):\n",
    "        print(\"My_Child_1 _ M3_Method\")\n",
    "    \n",
    "    def m4(self):\n",
    "        print(\"Method _ of_child_1 M4_method\")\n"
   ]
  },
  {
   "cell_type": "code",
   "execution_count": 39,
   "metadata": {},
   "outputs": [],
   "source": [
    "class C2(C1):\n",
    "\n",
    "    def m5(self):\n",
    "        print(\"m5_Method of _ Child_2\")\n",
    "        "
   ]
  },
  {
   "cell_type": "code",
   "execution_count": 40,
   "metadata": {},
   "outputs": [],
   "source": [
    "class C3(C2):\n",
    "\n",
    "    def m6(self):\n",
    "        print(\"child_3 Method\")"
   ]
  },
  {
   "cell_type": "code",
   "execution_count": 41,
   "metadata": {},
   "outputs": [],
   "source": [
    "c_3 = C3()"
   ]
  },
  {
   "cell_type": "code",
   "execution_count": 42,
   "metadata": {},
   "outputs": [
    {
     "name": "stdout",
     "output_type": "stream",
     "text": [
      "M1_Parent_Mathod\n"
     ]
    }
   ],
   "source": [
    "c_3.m1()"
   ]
  },
  {
   "cell_type": "code",
   "execution_count": null,
   "metadata": {},
   "outputs": [],
   "source": []
  },
  {
   "cell_type": "markdown",
   "metadata": {},
   "source": [
    "Hierarchical Inheritance\n",
    "-------------------------\n",
    "One parent multiple child"
   ]
  },
  {
   "cell_type": "markdown",
   "metadata": {},
   "source": []
  },
  {
   "cell_type": "markdown",
   "metadata": {},
   "source": [
    "Multiple Inheritance\n",
    "-----------------------\n",
    "a child class can inherits from two or more Parents \n",
    "\n",
    "order of inheritance is matter(P1,P2,P3)"
   ]
  },
  {
   "cell_type": "code",
   "execution_count": 43,
   "metadata": {},
   "outputs": [],
   "source": [
    "class Parent1:\n",
    "\n",
    "    def P1_method(self):\n",
    "        print('Method Parent1')"
   ]
  },
  {
   "cell_type": "code",
   "execution_count": 44,
   "metadata": {},
   "outputs": [],
   "source": [
    "class Parent2:\n",
    "\n",
    "    def P2_method(self):\n",
    "        print('Method Parent2')"
   ]
  },
  {
   "cell_type": "code",
   "execution_count": 45,
   "metadata": {},
   "outputs": [],
   "source": [
    "class Parent3:\n",
    "\n",
    "    def P3_method(self):\n",
    "        print('Method Parent3')"
   ]
  },
  {
   "cell_type": "code",
   "execution_count": 46,
   "metadata": {},
   "outputs": [],
   "source": [
    "class Child1(Parent1,Parent2,Parent3):\n",
    "\n",
    "    def child_1(self):\n",
    "        print(\"child_1 Method\")"
   ]
  },
  {
   "cell_type": "code",
   "execution_count": 47,
   "metadata": {},
   "outputs": [
    {
     "name": "stdout",
     "output_type": "stream",
     "text": [
      "Method Parent3\n"
     ]
    }
   ],
   "source": [
    "child_1 = Child1()\n",
    "child_1.P3_method()"
   ]
  },
  {
   "cell_type": "code",
   "execution_count": 48,
   "metadata": {},
   "outputs": [
    {
     "name": "stdout",
     "output_type": "stream",
     "text": [
      "Method Parent2\n"
     ]
    }
   ],
   "source": [
    "child_1.P2_method()"
   ]
  },
  {
   "cell_type": "markdown",
   "metadata": {},
   "source": [
    "Hybrid Inheritance\n",
    "--------------------------\n",
    "\n",
    ". Combination of two or more Inheritance is Hybrid Inheritance"
   ]
  },
  {
   "cell_type": "code",
   "execution_count": null,
   "metadata": {},
   "outputs": [],
   "source": []
  },
  {
   "cell_type": "markdown",
   "metadata": {},
   "source": [
    "Cyclic Inheritance \n",
    "-------------------------\n",
    "\n",
    ".if The Class Extends Same Class\n"
   ]
  },
  {
   "cell_type": "code",
   "execution_count": 56,
   "metadata": {},
   "outputs": [],
   "source": [
    "class A(A):\n",
    "    pass"
   ]
  },
  {
   "cell_type": "code",
   "execution_count": null,
   "metadata": {},
   "outputs": [],
   "source": []
  },
  {
   "cell_type": "code",
   "execution_count": 60,
   "metadata": {},
   "outputs": [],
   "source": [
    "class B(A):\n",
    "    pass"
   ]
  },
  {
   "cell_type": "code",
   "execution_count": 51,
   "metadata": {},
   "outputs": [],
   "source": [
    "class A(B):\n",
    "    pass"
   ]
  },
  {
   "cell_type": "markdown",
   "metadata": {},
   "source": [
    "Method Resolution Order\n",
    "---\n",
    "if the child class Does not contain Method , then parent class and next Parent class and so on"
   ]
  },
  {
   "cell_type": "code",
   "execution_count": 70,
   "metadata": {},
   "outputs": [],
   "source": [
    "class P1:\n",
    "    def m1(self):\n",
    "        print('Method---')\n",
    "\n",
    "class C1(P1):\n",
    "    pass"
   ]
  },
  {
   "cell_type": "code",
   "execution_count": 71,
   "metadata": {},
   "outputs": [
    {
     "name": "stdout",
     "output_type": "stream",
     "text": [
      "Method---\n"
     ]
    },
    {
     "data": {
      "text/plain": [
       "(__main__.C1, __main__.P1, object)"
      ]
     },
     "execution_count": 71,
     "metadata": {},
     "output_type": "execute_result"
    }
   ],
   "source": [
    "c = C1()\n",
    "c.m1()\n",
    "C1.__mro__"
   ]
  },
  {
   "cell_type": "code",
   "execution_count": 72,
   "metadata": {},
   "outputs": [],
   "source": [
    "class P:\n",
    "    def m2(self):\n",
    "        print(\"first it will search in parent class\")\n",
    "\n",
    "class C(P):\n",
    "    pass"
   ]
  },
  {
   "cell_type": "code",
   "execution_count": 73,
   "metadata": {},
   "outputs": [
    {
     "data": {
      "text/plain": [
       "[__main__.P, object]"
      ]
     },
     "execution_count": 73,
     "metadata": {},
     "output_type": "execute_result"
    }
   ],
   "source": [
    "P.mro()"
   ]
  },
  {
   "cell_type": "code",
   "execution_count": null,
   "metadata": {},
   "outputs": [],
   "source": [
    "class A:\n",
    "    pass\n",
    "\n",
    "class B(A):\n",
    "    pass\n",
    "\n",
    "class C3(A):\n",
    "    pass\n",
    "\n",
    "class D(B):\n",
    "    pass\n"
   ]
  }
 ],
 "metadata": {
  "interpreter": {
   "hash": "916dbcbb3f70747c44a77c7bcd40155683ae19c65e1c03b4aa3499c5328201f1"
  },
  "kernelspec": {
   "display_name": "Python 3.8.10 64-bit",
   "language": "python",
   "name": "python3"
  },
  "language_info": {
   "codemirror_mode": {
    "name": "ipython",
    "version": 3
   },
   "file_extension": ".py",
   "mimetype": "text/x-python",
   "name": "python",
   "nbconvert_exporter": "python",
   "pygments_lexer": "ipython3",
   "version": "3.8.10"
  },
  "orig_nbformat": 4
 },
 "nbformat": 4,
 "nbformat_minor": 2
}
