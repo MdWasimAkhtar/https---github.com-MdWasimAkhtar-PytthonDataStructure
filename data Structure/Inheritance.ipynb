{
 "cells": [
  {
   "cell_type": "markdown",
   "metadata": {},
   "source": [
    "Types Of Inheritance:\n",
    "------------------------\n",
    "\n",
    "(1).Single Inheritance \n",
    "\n",
    "(2).multi level Inheritance\n",
    "\n",
    "(3).Hierarchical Inheritance\n",
    "\n",
    "(4).multiple Inheritance\n",
    "\n",
    "(5).hybrid \n",
    "\n",
    "(6).Cyclic"
   ]
  },
  {
   "cell_type": "code",
   "execution_count": 37,
   "metadata": {},
   "outputs": [],
   "source": [
    "class P :\n",
    "    def m1 (self):\n",
    "        print(\"M1_Parent_Mathod\")\n",
    "\n",
    "    def m2(self):\n",
    "        print(\"M2_Method\")"
   ]
  },
  {
   "cell_type": "code",
   "execution_count": 38,
   "metadata": {},
   "outputs": [],
   "source": [
    "class C1(P):\n",
    "\n",
    "    def m3(self):\n",
    "        print(\"My_Child_1 _ M3_Method\")\n",
    "    \n",
    "    def m4(self):\n",
    "        print(\"Method _ of_child_1 M4_method\")\n"
   ]
  },
  {
   "cell_type": "code",
   "execution_count": 39,
   "metadata": {},
   "outputs": [],
   "source": [
    "class C2(C1):\n",
    "\n",
    "    def m5(self):\n",
    "        print(\"m5_Method of _ Child_2\")\n",
    "        "
   ]
  },
  {
   "cell_type": "code",
   "execution_count": 40,
   "metadata": {},
   "outputs": [],
   "source": [
    "class C3(C2):\n",
    "\n",
    "    def m6(self):\n",
    "        print(\"child_3 Method\")"
   ]
  },
  {
   "cell_type": "code",
   "execution_count": 41,
   "metadata": {},
   "outputs": [],
   "source": [
    "c_3 = C3()"
   ]
  },
  {
   "cell_type": "code",
   "execution_count": 42,
   "metadata": {},
   "outputs": [
    {
     "name": "stdout",
     "output_type": "stream",
     "text": [
      "M1_Parent_Mathod\n"
     ]
    }
   ],
   "source": [
    "c_3.m1()"
   ]
  },
  {
   "cell_type": "code",
   "execution_count": null,
   "metadata": {},
   "outputs": [],
   "source": []
  },
  {
   "cell_type": "markdown",
   "metadata": {},
   "source": [
    "Hierarchical Inheritance\n",
    "-------------------------\n",
    "One parent multiple child"
   ]
  },
  {
   "cell_type": "markdown",
   "metadata": {},
   "source": []
  },
  {
   "cell_type": "markdown",
   "metadata": {},
   "source": [
    "Multiple Inheritance\n",
    "-----------------------\n",
    "a child class can inherits from two or more Parents \n",
    "\n",
    "order of inheritance is matter(P1,P2,P3)"
   ]
  },
  {
   "cell_type": "code",
   "execution_count": 43,
   "metadata": {},
   "outputs": [],
   "source": [
    "class Parent1:\n",
    "\n",
    "    def P1_method(self):\n",
    "        print('Method Parent1')"
   ]
  },
  {
   "cell_type": "code",
   "execution_count": 44,
   "metadata": {},
   "outputs": [],
   "source": [
    "class Parent2:\n",
    "\n",
    "    def P2_method(self):\n",
    "        print('Method Parent2')"
   ]
  },
  {
   "cell_type": "code",
   "execution_count": 45,
   "metadata": {},
   "outputs": [],
   "source": [
    "class Parent3:\n",
    "\n",
    "    def P3_method(self):\n",
    "        print('Method Parent3')"
   ]
  },
  {
   "cell_type": "code",
   "execution_count": 46,
   "metadata": {},
   "outputs": [],
   "source": [
    "class Child1(Parent1,Parent2,Parent3):\n",
    "\n",
    "    def child_1(self):\n",
    "        print(\"child_1 Method\")"
   ]
  },
  {
   "cell_type": "code",
   "execution_count": 47,
   "metadata": {},
   "outputs": [
    {
     "name": "stdout",
     "output_type": "stream",
     "text": [
      "Method Parent3\n"
     ]
    }
   ],
   "source": [
    "child_1 = Child1()\n",
    "child_1.P3_method()"
   ]
  },
  {
   "cell_type": "code",
   "execution_count": 48,
   "metadata": {},
   "outputs": [
    {
     "name": "stdout",
     "output_type": "stream",
     "text": [
      "Method Parent2\n"
     ]
    }
   ],
   "source": [
    "child_1.P2_method()"
   ]
  },
  {
   "cell_type": "markdown",
   "metadata": {},
   "source": [
    "Hybrid Inheritance\n",
    "--------------------------\n",
    "\n",
    ". Combination of two or more Inheritance is Hybrid Inheritance"
   ]
  },
  {
   "cell_type": "code",
   "execution_count": null,
   "metadata": {},
   "outputs": [],
   "source": []
  },
  {
   "cell_type": "markdown",
   "metadata": {},
   "source": [
    "Cyclic Inheritance \n",
    "-------------------------\n",
    "\n",
    ".if The Class Extends Same Class\n"
   ]
  },
  {
   "cell_type": "code",
   "execution_count": 56,
   "metadata": {},
   "outputs": [],
   "source": [
    "class A(A):\n",
    "    pass"
   ]
  },
  {
   "cell_type": "code",
   "execution_count": null,
   "metadata": {},
   "outputs": [],
   "source": []
  },
  {
   "cell_type": "code",
   "execution_count": 60,
   "metadata": {},
   "outputs": [],
   "source": [
    "class B(A):\n",
    "    pass"
   ]
  },
  {
   "cell_type": "code",
   "execution_count": 51,
   "metadata": {},
   "outputs": [],
   "source": [
    "class A(B):\n",
    "    pass"
   ]
  },
  {
   "cell_type": "markdown",
   "metadata": {},
   "source": [
    "Method Resolution Order\n",
    "---\n",
    "if the child class Does not contain Method , then parent class and next Parent class and so on"
   ]
  },
  {
   "cell_type": "code",
   "execution_count": 70,
   "metadata": {},
   "outputs": [],
   "source": [
    "class P1:\n",
    "    def m1(self):\n",
    "        print('Method---')\n",
    "\n",
    "class C1(P1):\n",
    "    pass"
   ]
  },
  {
   "cell_type": "code",
   "execution_count": 71,
   "metadata": {},
   "outputs": [
    {
     "name": "stdout",
     "output_type": "stream",
     "text": [
      "Method---\n"
     ]
    },
    {
     "data": {
      "text/plain": [
       "(__main__.C1, __main__.P1, object)"
      ]
     },
     "execution_count": 71,
     "metadata": {},
     "output_type": "execute_result"
    }
   ],
   "source": [
    "c = C1()\n",
    "c.m1()\n",
    "C1.__mro__"
   ]
  },
  {
   "cell_type": "code",
   "execution_count": 72,
   "metadata": {},
   "outputs": [],
   "source": [
    "class P:\n",
    "    def m2(self):\n",
    "        print(\"first it will search in parent class\")\n",
    "\n",
    "class C(P):\n",
    "    pass"
   ]
  },
  {
   "cell_type": "code",
   "execution_count": 73,
   "metadata": {},
   "outputs": [
    {
     "data": {
      "text/plain": [
       "[__main__.P, object]"
      ]
     },
     "execution_count": 73,
     "metadata": {},
     "output_type": "execute_result"
    }
   ],
   "source": [
    "P.mro()"
   ]
  },
  {
   "cell_type": "code",
   "execution_count": 14,
   "metadata": {},
   "outputs": [],
   "source": [
    "class A:\n",
    "    pass\n",
    "\n",
    "class B(A):\n",
    "    def m1(self):\n",
    "        print(\"m1 method in class B(A) \")\n",
    "\n",
    "class C3(A):\n",
    "    pass\n",
    "\n",
    "class D(B):\n",
    "    \n",
    "    def m1(self):\n",
    "        print(\"m1 method in class D \")\n"
   ]
  },
  {
   "cell_type": "code",
   "execution_count": 15,
   "metadata": {},
   "outputs": [
    {
     "data": {
      "text/plain": [
       "(__main__.D, __main__.B, __main__.A, object)"
      ]
     },
     "execution_count": 15,
     "metadata": {},
     "output_type": "execute_result"
    }
   ],
   "source": [
    "d1 = D()\n",
    "D.__mro__"
   ]
  },
  {
   "cell_type": "markdown",
   "metadata": {},
   "source": [
    "first it will search in child class\n",
    "\n",
    "    (__main__.D, __main__.B, __main__.A, object)\n",
    "\n",
    "    if the method is not found in child class method then it will search in parent class method and so on \n",
    "\n",
    "    DEPTH FIRST  LEFT TO RIGHT ALGORITHM \n"
   ]
  },
  {
   "cell_type": "code",
   "execution_count": 16,
   "metadata": {},
   "outputs": [
    {
     "name": "stdout",
     "output_type": "stream",
     "text": [
      "m1 method in class D \n"
     ]
    }
   ],
   "source": [
    "d1 = D()\n",
    "d1.m1()"
   ]
  },
  {
   "cell_type": "markdown",
   "metadata": {},
   "source": [
    "error:\n",
    "\n",
    "    TypeError: Cannot create a consistent method resolution\n",
    "    order (MRO) for bases A, B"
   ]
  },
  {
   "cell_type": "code",
   "execution_count": 19,
   "metadata": {},
   "outputs": [
    {
     "ename": "TypeError",
     "evalue": "Cannot create a consistent method resolution\norder (MRO) for bases A, B",
     "output_type": "error",
     "traceback": [
      "\u001b[0;31m---------------------------------------------------------------------------\u001b[0m",
      "\u001b[0;31mTypeError\u001b[0m                                 Traceback (most recent call last)",
      "\u001b[0;32m/tmp/ipykernel_80700/2045896253.py\u001b[0m in \u001b[0;36m<module>\u001b[0;34m\u001b[0m\n\u001b[1;32m      7\u001b[0m     \u001b[0;32mpass\u001b[0m\u001b[0;34m\u001b[0m\u001b[0;34m\u001b[0m\u001b[0m\n\u001b[1;32m      8\u001b[0m \u001b[0;34m\u001b[0m\u001b[0m\n\u001b[0;32m----> 9\u001b[0;31m \u001b[0;32mclass\u001b[0m \u001b[0mX\u001b[0m\u001b[0;34m(\u001b[0m\u001b[0mA\u001b[0m\u001b[0;34m,\u001b[0m\u001b[0mB\u001b[0m\u001b[0;34m)\u001b[0m\u001b[0;34m:\u001b[0m\u001b[0;34m\u001b[0m\u001b[0;34m\u001b[0m\u001b[0m\n\u001b[0m\u001b[1;32m     10\u001b[0m     \u001b[0;32mpass\u001b[0m\u001b[0;34m\u001b[0m\u001b[0;34m\u001b[0m\u001b[0m\n",
      "\u001b[0;31mTypeError\u001b[0m: Cannot create a consistent method resolution\norder (MRO) for bases A, B"
     ]
    }
   ],
   "source": [
    "class A:\n",
    "    pass\n",
    "class B(A):\n",
    "    pass\n",
    "\n",
    "class C():\n",
    "    pass\n",
    "\n",
    "class X(A,B):\n",
    "    pass\n"
   ]
  },
  {
   "cell_type": "code",
   "execution_count": 20,
   "metadata": {},
   "outputs": [],
   "source": [
    "class A:\n",
    "    pass\n",
    "class B():\n",
    "    pass\n",
    "\n",
    "class C():\n",
    "    pass\n",
    "\n",
    "class X(A,B):\n",
    "    pass\n",
    "\n",
    "class Y(B,C):\n",
    "    pass\n",
    "\n",
    "class P(X,Y,C):\n",
    "    pass\n",
    "\n",
    "\n"
   ]
  },
  {
   "cell_type": "markdown",
   "metadata": {},
   "source": [
    "C3 ALGORITHM\n",
    "\n",
    "    "
   ]
  },
  {
   "cell_type": "code",
   "execution_count": 22,
   "metadata": {},
   "outputs": [
    {
     "name": "stdout",
     "output_type": "stream",
     "text": [
      "A class __mro__ [<class '__main__.A'>, <class 'object'>]\n",
      "B class __mro__ [<class '__main__.B'>, <class 'object'>]\n",
      "C class __mro__ [<class '__main__.C'>, <class 'object'>]\n",
      "X class __mro__ [<class '__main__.X'>, <class '__main__.A'>, <class '__main__.B'>, <class 'object'>]\n",
      "Y class __mro__ [<class '__main__.Y'>, <class '__main__.B'>, <class '__main__.C'>, <class 'object'>]\n",
      "P class __mro__ [<class '__main__.P'>, <class '__main__.X'>, <class '__main__.A'>, <class '__main__.Y'>, <class '__main__.B'>, <class '__main__.C'>, <class 'object'>]\n"
     ]
    }
   ],
   "source": [
    "print('A class __mro__',A.mro())\n",
    "print('B class __mro__',B.mro())\n",
    "print('C class __mro__',C.mro())\n",
    "print('X class __mro__',X.mro())\n",
    "print('Y class __mro__',Y.mro())\n",
    "print('P class __mro__',P.mro())"
   ]
  },
  {
   "cell_type": "markdown",
   "metadata": {},
   "source": [
    "C3 ALGORITHM :\n",
    "-----\n",
    "    mro(P) = P +       Merge(mro(X),mro(Y),mro(C),XYC)\n",
    "            |               |                       |\n",
    "            that class  + merge immediate parent + parent List , we should not change order list \n",
    "            \n",
    "    mro(P) = P + Merge(XABO ,YBCO , CO , XYC)\n",
    "\n",
    "    mro(P) = P + X +Merge(ABO, YBCO , CO , YC )\n",
    "\n",
    "    mro(P) = P + X + A + Merge(BO , YBCO , CO , YC )\n",
    "\n",
    "    mro(P)  = P + X + A + Y + Merge( BO , BCO , CO , C) # B is present in tail part of other list that's why regect that list\n",
    "\n",
    "    mro(P) = P + X + A + Y + B + Merge( O , CO , CO , C) # again from 1st list\n",
    "\n",
    "    mro(P) = P + X + A + Y + B + C + Merge( O , O , O )\n",
    "\n",
    "    mro(P) = P + X + A + Y + B + C + O \n",
    "\n",
    "    \n",
    "    \n",
    "    if the head element of first list not present in the tail part of any other list then\n",
    "\n",
    "    consider that element in the result and remove that element from all the list\n",
    "\n",
    "\n",
    "    ABCDEF\n",
    "\n",
    "    HEAD ELEMENT : A\n",
    "\n",
    "    TAIL PART : BCDEF\n"
   ]
  },
  {
   "cell_type": "markdown",
   "metadata": {},
   "source": [
    "_________________________________\n",
    "\n",
    "super()\n",
    "----------\n",
    "\n",
    "    code reusability , to invoke parent class constructor from child class \n",
    "\n",
    "    internally super is going to based on mro algorithm \n"
   ]
  },
  {
   "cell_type": "markdown",
   "metadata": {},
   "source": [
    "error:\n",
    "\n",
    "    TypeError: __str__ returned non-string (type NoneType)\n",
    "\n",
    "    Answer --- > Method __str__ should return string, not print.\n",
    "\n",
    "    TypeError: __str__ returned non-string (type tuple)\n",
    "\n",
    "    Those commas aren't actually doing what you think they do. The commas make your return value a tuple instead of a string which a __str__ method is supposed to return.\n"
   ]
  },
  {
   "cell_type": "code",
   "execution_count": 42,
   "metadata": {},
   "outputs": [
    {
     "name": "stdout",
     "output_type": "stream",
     "text": [
      " Shilpa,24,11,76 \n"
     ]
    }
   ],
   "source": [
    "class Person:\n",
    "\n",
    "    def __init__(self,name, age):\n",
    "        self.name = name \n",
    "        self.age = age\n",
    "\n",
    "\n",
    "class Student(Person):\n",
    "    def __init__(self, name , age , rollno , marks):\n",
    "        self.name  = name \n",
    "        self.age =age\n",
    "        self.rollno = rollno \n",
    "        self.marks = marks\n",
    "\n",
    "    def __str__(self):\n",
    "        return ' {},{},{},{} '.format(self.name,self.age,self.rollno,self.marks)\n",
    "\n",
    "\n",
    "class Teacher(Person):\n",
    "\n",
    "    def __init__(self, name , age , salary , subject):\n",
    "\n",
    "        self.name  = name \n",
    "        self.age = age \n",
    "        self.salary = salary\n",
    "        self.subject = subject\n",
    "\n",
    "\n",
    "s1 = Student('Shilpa',24 ,11,76)\n",
    "print(s1)"
   ]
  },
  {
   "cell_type": "markdown",
   "metadata": {},
   "source": [
    "error :\n",
    "\n",
    "    TypeError: super() argument 1 must be type, not str\n",
    "\n",
    "\n",
    "    TypeError: descriptor '__init__' requires a 'super' object but received a 'str'\n",
    "\n",
    "    use super().__init__() instead of super.__init__()\n",
    "\n",
    "    TypeError: object.__init__() takes exactly one argument (the instance to initialize)"
   ]
  },
  {
   "cell_type": "code",
   "execution_count": 43,
   "metadata": {},
   "outputs": [
    {
     "name": "stdout",
     "output_type": "stream",
     "text": [
      " Shilpa,24,11,76 \n"
     ]
    }
   ],
   "source": [
    "class Person:\n",
    "\n",
    "    def __init__(self,name, age):\n",
    "        self.name = name \n",
    "        self.age = age\n",
    "\n",
    "\n",
    "class Student(Person):\n",
    "    def __init__(self, name , age , rollno , marks):\n",
    "        super().__init__(name,age)\n",
    "        self.rollno = rollno \n",
    "        self.marks = marks\n",
    "\n",
    "    def __str__(self):\n",
    "        return ' {},{},{},{} '.format(self.name,self.age,self.rollno,self.marks)\n",
    "\n",
    "\n",
    "class Teacher(Person):\n",
    "\n",
    "    def __init__(self, name , age , salary , subject):\n",
    "        super().__init__(name , age)\n",
    "        self.salary = salary\n",
    "        self.subject = subject\n",
    "\n",
    "\n",
    "s1 = Student('Shilpa',24 ,11,76)\n",
    "print(s1)"
   ]
  },
  {
   "cell_type": "code",
   "execution_count": null,
   "metadata": {},
   "outputs": [],
   "source": []
  }
 ],
 "metadata": {
  "interpreter": {
   "hash": "916dbcbb3f70747c44a77c7bcd40155683ae19c65e1c03b4aa3499c5328201f1"
  },
  "kernelspec": {
   "display_name": "Python 3.8.10 64-bit",
   "language": "python",
   "name": "python3"
  },
  "language_info": {
   "codemirror_mode": {
    "name": "ipython",
    "version": 3
   },
   "file_extension": ".py",
   "mimetype": "text/x-python",
   "name": "python",
   "nbconvert_exporter": "python",
   "pygments_lexer": "ipython3",
   "version": "3.8.10"
  },
  "orig_nbformat": 4
 },
 "nbformat": 4,
 "nbformat_minor": 2
}
