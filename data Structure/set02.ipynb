{
 "cells": [
  {
   "cell_type": "markdown",
   "metadata": {},
   "source": [
    "\n",
    "\n",
    "    All the data in a Python code is represented by objects or by relations between objects. Every object has an identity, a type, and a value.\n",
    "\n",
    "Identity\n",
    "\n",
    "    An object’s identity never changes once it has been created; you may think of it as the object’s address in memory. The is operator compares the identity of two objects; the id() function returns an integer representing its identity.\n",
    "\n",
    "Type\n",
    "\n",
    "    An object’s type defines the possible values and operations (e.g. “does it have a length?”) that type supports. The type() function returns the type of an object. An object type is unchangeable like the identity.\n",
    "\n",
    "Value\n",
    "\n",
    "    The value of some objects can change. Objects whose value can change are said to be mutable; objects whose value is unchangeable once they are created are called immutable."
   ]
  },
  {
   "cell_type": "markdown",
   "metadata": {},
   "source": [
    "    ~~~~~~~~~~~~~~~~~~~~~~~~~~~~~~~~~~~~~~~~~~~~~~~~~~~~~~~\n",
    "    Reminder: the is operator compares the identity/address / memory location of two objects.\n",
    "\n",
    "    ~~~~~~~~~~~~~~~~~~~~~~~~~~~~~~~~~~~~~~~~~~~~~~~~~~~~~~~~~~~~~~~\n",
    "    The == operator\n",
    "    \n",
    "    Sometimes we don’t want to compare the identity of two objects, but to compare the values of these objects. We can do this using the == operator."
   ]
  },
  {
   "cell_type": "markdown",
   "metadata": {},
   "source": [
    "------------------------\n",
    "    set are used to store multiple items ina single variable { set  is a collection of unordered list , unindex thats why we cannot use indexing or slicing operator and item assigment is not supported  , and thats why  Unchangeable }\n",
    "\n",
    "    **NOTE- SET ITEMS ARE UNCHANGEABLE , BUT YOU CAN ADD ITEMS USING ADD() METHOD , AND REMOVE ITEMS USING POP() , REMOVE(\"\"), DISCARD(\"\")\n",
    "\n",
    "\n",
    "Set_1 = set() empty set\n",
    "\n",
    "set_2 = { } -- it will refer to dict not empty set\n"
   ]
  },
  {
   "cell_type": "code",
   "execution_count": 7,
   "metadata": {},
   "outputs": [
    {
     "name": "stdout",
     "output_type": "stream",
     "text": [
      "<class 'set'>\n",
      "<class 'dict'>\n"
     ]
    }
   ],
   "source": [
    "set_1 = set()\n",
    "print(type(set_1))\n",
    "\n",
    "# showing this is a dictionary not set\n",
    "set_2 = {}  \n",
    "print(type(set_2))"
   ]
  },
  {
   "cell_type": "code",
   "execution_count": 8,
   "metadata": {},
   "outputs": [],
   "source": [
    "set_3 = {\"apple\", \"Kiwi\",\"avocado\",\"Mango\",\"Dragon fruits\"}\n",
    "\n",
    "set_4 = {\"Blueberry\",\"Muskmelon\",\"strawberry\",\"apple\",\"kiwi\"}"
   ]
  },
  {
   "cell_type": "markdown",
   "metadata": {},
   "source": [
    "Unchangeable\n",
    "\n",
    "    Set items are unchangeable, meaning that we cannot change the items after the set has been created.\n",
    "\n",
    "    Once a set is created, you cannot change its items, but you can remove items and add new items.\n",
    "\n",
    "    --------------------\n",
    "\n",
    "    There is no indexing in set so we can not assign element"
   ]
  },
  {
   "cell_type": "code",
   "execution_count": 9,
   "metadata": {},
   "outputs": [
    {
     "ename": "TypeError",
     "evalue": "'set' object is not subscriptable",
     "output_type": "error",
     "traceback": [
      "\u001b[0;31m---------------------------------------------------------------------------\u001b[0m",
      "\u001b[0;31mTypeError\u001b[0m                                 Traceback (most recent call last)",
      "\u001b[0;32m/tmp/ipykernel_43141/175190841.py\u001b[0m in \u001b[0;36m<module>\u001b[0;34m\u001b[0m\n\u001b[0;32m----> 1\u001b[0;31m \u001b[0mset_3\u001b[0m\u001b[0;34m[\u001b[0m\u001b[0;36m3\u001b[0m\u001b[0;34m]\u001b[0m\u001b[0;34m\u001b[0m\u001b[0;34m\u001b[0m\u001b[0m\n\u001b[0m",
      "\u001b[0;31mTypeError\u001b[0m: 'set' object is not subscriptable"
     ]
    }
   ],
   "source": [
    "# TypeError: 'set' object is not subscriptable\n",
    "\n",
    "set_3[3]"
   ]
  },
  {
   "cell_type": "code",
   "execution_count": 11,
   "metadata": {},
   "outputs": [
    {
     "data": {
      "text/plain": [
       "5"
      ]
     },
     "execution_count": 11,
     "metadata": {},
     "output_type": "execute_result"
    }
   ],
   "source": [
    "len(set_3)"
   ]
  },
  {
   "cell_type": "code",
   "execution_count": 12,
   "metadata": {},
   "outputs": [],
   "source": [
    "set_5 = {\"abc\",33,False , object , 22.21, 9+23j}"
   ]
  },
  {
   "cell_type": "markdown",
   "metadata": {},
   "source": [
    "# 1.add() \n",
    "\n",
    "    The add() method adds an element to the set.\n",
    "\n",
    "    If the element already exists, the add() method does not add the element."
   ]
  },
  {
   "cell_type": "code",
   "execution_count": 25,
   "metadata": {},
   "outputs": [
    {
     "name": "stdout",
     "output_type": "stream",
     "text": [
      "{False, 33, 'abc', (9+23j), 22.21, 'Wasim', <class 'object'>}\n",
      "False , 33 , abc , (9+23j) , 22.21 , Wasim , <class 'object'> , "
     ]
    },
    {
     "data": {
      "text/plain": [
       "[False, 33, 'abc', (9+23j), 22.21, 'Wasim', object]"
      ]
     },
     "execution_count": 25,
     "metadata": {},
     "output_type": "execute_result"
    }
   ],
   "source": [
    "set_5.add(\"Wasim\")\n",
    "print(set_5)\n",
    "\n",
    "for i in set_5:\n",
    "    print(i,end=\" , \")\n",
    "\n",
    "list(set_5)"
   ]
  },
  {
   "cell_type": "markdown",
   "metadata": {},
   "source": [
    "# 2. clear()\n",
    "\n",
    "    The clear() method removes all elements in a set."
   ]
  },
  {
   "cell_type": "code",
   "execution_count": 28,
   "metadata": {},
   "outputs": [
    {
     "name": "stdout",
     "output_type": "stream",
     "text": [
      "set()\n"
     ]
    }
   ],
   "source": [
    "set_x= set_3\n",
    "set_x\n",
    "set_x.clear()\n",
    "print(set_x)"
   ]
  },
  {
   "cell_type": "markdown",
   "metadata": {},
   "source": [
    "# 3 . copy()\n",
    "\n",
    "    The copy() method copies the set."
   ]
  },
  {
   "cell_type": "code",
   "execution_count": 30,
   "metadata": {},
   "outputs": [
    {
     "name": "stdout",
     "output_type": "stream",
     "text": [
      "{'strawberry', 'apple', 'Muskmelon', 'kiwi', 'Blueberry'}\n"
     ]
    }
   ],
   "source": [
    "set_x2 = set_4.copy()\n",
    "print(set_x2)"
   ]
  },
  {
   "cell_type": "markdown",
   "metadata": {},
   "source": [
    "# 4. difference(set)\n",
    "\n",
    "    he difference() method returns a set that contains the difference between two sets.\n",
    "\n",
    "    Meaning: The returned set contains items that exist only in the first set, and not in both sets."
   ]
  },
  {
   "cell_type": "code",
   "execution_count": 36,
   "metadata": {},
   "outputs": [
    {
     "name": "stdout",
     "output_type": "stream",
     "text": [
      "{'apple', 'Kiwi', 'Mango', 'Dragon fruits', 'avocado'}\n",
      "{'apple', 'Muskmelon', 'Blueberry', 'kiwi', 'strawberry'}\n"
     ]
    }
   ],
   "source": [
    "set_6 = {\"apple\", \"Kiwi\",\"avocado\",\"Mango\",\"Dragon fruits\"}\n",
    "print(set_6)\n",
    "print(set_4)"
   ]
  },
  {
   "cell_type": "code",
   "execution_count": 37,
   "metadata": {},
   "outputs": [
    {
     "data": {
      "text/plain": [
       "{'Blueberry', 'Muskmelon', 'kiwi', 'strawberry'}"
      ]
     },
     "execution_count": 37,
     "metadata": {},
     "output_type": "execute_result"
    }
   ],
   "source": [
    "set_4.difference(set_6)"
   ]
  },
  {
   "cell_type": "code",
   "execution_count": 77,
   "metadata": {},
   "outputs": [
    {
     "data": {
      "text/plain": [
       "{2, 4}"
      ]
     },
     "execution_count": 77,
     "metadata": {},
     "output_type": "execute_result"
    }
   ],
   "source": [
    "set_7 = {1,2,3,4,5}\n",
    "set_8 = {6 , 7 , 8 , 9 , 1,3,5}\n",
    "\n",
    "set_7.difference(set_8) # will give the element which are not present  in set_8 eject the common element"
   ]
  },
  {
   "cell_type": "code",
   "execution_count": 78,
   "metadata": {},
   "outputs": [
    {
     "data": {
      "text/plain": [
       "{6, 7, 8, 9}"
      ]
     },
     "execution_count": 78,
     "metadata": {},
     "output_type": "execute_result"
    }
   ],
   "source": [
    "set_8.difference(set_7) # # will give the element not common in set_8"
   ]
  },
  {
   "cell_type": "markdown",
   "metadata": {},
   "source": [
    "# 5. differnece_update(set)\n",
    "\n",
    "    The difference_update() method removes the items that exist in both sets."
   ]
  },
  {
   "cell_type": "code",
   "execution_count": 87,
   "metadata": {},
   "outputs": [
    {
     "name": "stdout",
     "output_type": "stream",
     "text": [
      "{11, 13, 15, 17}\n"
     ]
    }
   ],
   "source": [
    "set_9 = {11 ,12 , 13 , 14 , 15 , 16 , 17 }\n",
    "set_10 = {12 , 14 , 16 , 18 , 20}\n",
    "\n",
    "set_9.difference_update(set_10)\n",
    "print(set_9)"
   ]
  },
  {
   "cell_type": "code",
   "execution_count": 86,
   "metadata": {},
   "outputs": [
    {
     "name": "stdout",
     "output_type": "stream",
     "text": [
      "{18, 20}\n"
     ]
    }
   ],
   "source": [
    "set_10.difference_update(set_9)\n",
    "print(set_10)"
   ]
  },
  {
   "cell_type": "markdown",
   "metadata": {},
   "source": [
    "# 6. Discard()\n",
    "\n",
    "    The discard() method removes the specified item from the set.\n",
    "\n",
    "    This method is different from the remove() method, because the remove() method will raise an error if the specified item does not exist, and the discard() method will not."
   ]
  },
  {
   "cell_type": "code",
   "execution_count": 89,
   "metadata": {},
   "outputs": [
    {
     "name": "stdout",
     "output_type": "stream",
     "text": [
      "{'cherry', 'Mango'}\n"
     ]
    }
   ],
   "source": [
    "set_11 = {\"apple\" , \"cherry\",'Mango'}\n",
    "\n",
    "set_11.discard(\"apple\")\n",
    "print(set_11)"
   ]
  },
  {
   "cell_type": "code",
   "execution_count": 90,
   "metadata": {},
   "outputs": [
    {
     "data": {
      "text/plain": [
       "'Renuka'"
      ]
     },
     "execution_count": 90,
     "metadata": {},
     "output_type": "execute_result"
    }
   ],
   "source": [
    "set_12 = {\"layla\",\"rekha\",\"Simran\",\"Renuka\"}\n",
    "set_12.pop()"
   ]
  },
  {
   "cell_type": "code",
   "execution_count": 91,
   "metadata": {},
   "outputs": [
    {
     "data": {
      "text/plain": [
       "'rekha'"
      ]
     },
     "execution_count": 91,
     "metadata": {},
     "output_type": "execute_result"
    }
   ],
   "source": [
    "set_12.pop()"
   ]
  },
  {
   "cell_type": "markdown",
   "metadata": {},
   "source": [
    "# 7 . intersection()\n",
    "\n",
    "    The intersection() method returns a set that contains the similarity between two or more sets.\n",
    "\n",
    "Meaning: The returned set contains only items that exist in both sets, or in all sets if the comparison is done with more than two sets."
   ]
  },
  {
   "cell_type": "code",
   "execution_count": 92,
   "metadata": {},
   "outputs": [
    {
     "name": "stdout",
     "output_type": "stream",
     "text": [
      "{'apple'}\n"
     ]
    }
   ],
   "source": [
    "x = {\"apple\", \"banana\", \"cherry\"}\n",
    "y = {\"google\", \"microsoft\", \"apple\"}\n",
    "\n",
    "z = x.intersection(y)\n",
    "\n",
    "print(z)"
   ]
  },
  {
   "cell_type": "code",
   "execution_count": 94,
   "metadata": {},
   "outputs": [
    {
     "name": "stdout",
     "output_type": "stream",
     "text": [
      "{'apple'}\n"
     ]
    }
   ],
   "source": [
    "set_13 = {'Papaya','gauva','Melon',\"apple\"}\n",
    "\n",
    "zz = set_13.intersection(x,y)\n",
    "print(zz)"
   ]
  },
  {
   "cell_type": "markdown",
   "metadata": {},
   "source": [
    "# 8 . intersaction_update()\n",
    "\n",
    "\n",
    "    The intersection_update() method removes the items that is not present in both sets (or in all sets if the comparison is done between more than two sets).\n",
    "\n",
    "    The intersection_update() method is different from the intersection() method, because the intersection() method returns a new set, without the unwanted items, and the intersection_update() method removes the unwanted items from the original set.\n",
    "\n"
   ]
  },
  {
   "cell_type": "code",
   "execution_count": 97,
   "metadata": {},
   "outputs": [
    {
     "name": "stdout",
     "output_type": "stream",
     "text": [
      "{'apple'}\n"
     ]
    }
   ],
   "source": [
    "x = {\"apple\", \"banana\", \"cherry\"}\n",
    "y = {\"google\", \"microsoft\", \"apple\"}\n",
    "\n",
    "x.intersection_update(y)\n",
    "\n",
    "print(x) # it will remove the common element in origional set"
   ]
  },
  {
   "cell_type": "markdown",
   "metadata": {},
   "source": [
    "# 9 . isdisjoint()  \n",
    "\n",
    "    if common element present in the set's then it will return false "
   ]
  },
  {
   "cell_type": "code",
   "execution_count": 99,
   "metadata": {},
   "outputs": [
    {
     "name": "stdout",
     "output_type": "stream",
     "text": [
      "True\n"
     ]
    }
   ],
   "source": [
    "set_14 = {100, 200, 300 , 400}\n",
    "\n",
    "set_15 = { 1000, 2000  , 3000}\n",
    "\n",
    "z = set_14.isdisjoint(set_15)\n",
    "print(z)"
   ]
  },
  {
   "cell_type": "markdown",
   "metadata": {},
   "source": [
    "# 10. issubset()\n",
    "\n",
    "    if all the element of set present in other set\n",
    "    "
   ]
  },
  {
   "cell_type": "code",
   "execution_count": 100,
   "metadata": {},
   "outputs": [
    {
     "name": "stdout",
     "output_type": "stream",
     "text": [
      "False\n"
     ]
    }
   ],
   "source": [
    "x1 = {99,199,299,399,499,599}\n",
    "\n",
    "x2 = {88,188,288,388,499,599}\n",
    "\n",
    "z1 = x2.issubset(x1)\n",
    "print(z1)"
   ]
  },
  {
   "cell_type": "code",
   "execution_count": 101,
   "metadata": {},
   "outputs": [
    {
     "name": "stdout",
     "output_type": "stream",
     "text": [
      "True\n"
     ]
    }
   ],
   "source": [
    "x3 = {99,399,599}  # true bcz all the element of x3 present in x1\n",
    "\n",
    "z2 = x3.issubset(x1)\n",
    "print(z2)"
   ]
  },
  {
   "cell_type": "markdown",
   "metadata": {},
   "source": [
    "# 10. superset()\n",
    "\n",
    "    opposite of issubset"
   ]
  },
  {
   "cell_type": "code",
   "execution_count": 102,
   "metadata": {},
   "outputs": [
    {
     "data": {
      "text/plain": [
       "True"
      ]
     },
     "execution_count": 102,
     "metadata": {},
     "output_type": "execute_result"
    }
   ],
   "source": [
    "x1.issuperset(x3)\n"
   ]
  },
  {
   "cell_type": "markdown",
   "metadata": {},
   "source": [
    "# 11 . union()\n",
    "\n",
    "     returns all the unique element prsent in all the set"
   ]
  },
  {
   "cell_type": "code",
   "execution_count": 106,
   "metadata": {},
   "outputs": [
    {
     "name": "stdout",
     "output_type": "stream",
     "text": [
      "{288, 'cherry', 99, 388, 'Mango', 199, 'Simran', 299, 'layla', 399, 499, 599, 88, 188}\n"
     ]
    }
   ],
   "source": [
    "z3 = x1.union(x2,x3,set_11,set_12)\n",
    "print(z3)"
   ]
  },
  {
   "cell_type": "markdown",
   "metadata": {},
   "source": [
    "# 12. update()\n",
    "\n",
    "it's like union method \n"
   ]
  },
  {
   "cell_type": "code",
   "execution_count": 113,
   "metadata": {},
   "outputs": [],
   "source": [
    "set_16 ={\"laptop\" , \"car\",\"areoplane\",\"watch\"}\n",
    "\n",
    "set_17 = {\"submarine\",\"fighterjet\",\"land Rover\",\"car\"}\n",
    "\n",
    "set_17.update(set_16,x1)"
   ]
  },
  {
   "cell_type": "code",
   "execution_count": 114,
   "metadata": {},
   "outputs": [
    {
     "name": "stdout",
     "output_type": "stream",
     "text": [
      "{99, 599, 199, 299, 'land Rover', 'fighterjet', 'watch', 399, 499, 'areoplane', 'submarine', 'car', 'laptop'}\n"
     ]
    }
   ],
   "source": [
    "print(set_17)"
   ]
  },
  {
   "cell_type": "code",
   "execution_count": null,
   "metadata": {},
   "outputs": [],
   "source": []
  }
 ],
 "metadata": {
  "interpreter": {
   "hash": "916dbcbb3f70747c44a77c7bcd40155683ae19c65e1c03b4aa3499c5328201f1"
  },
  "kernelspec": {
   "display_name": "Python 3.8.10 64-bit",
   "language": "python",
   "name": "python3"
  },
  "language_info": {
   "codemirror_mode": {
    "name": "ipython",
    "version": 3
   },
   "file_extension": ".py",
   "mimetype": "text/x-python",
   "name": "python",
   "nbconvert_exporter": "python",
   "pygments_lexer": "ipython3",
   "version": "3.8.10"
  },
  "orig_nbformat": 4
 },
 "nbformat": 4,
 "nbformat_minor": 2
}
