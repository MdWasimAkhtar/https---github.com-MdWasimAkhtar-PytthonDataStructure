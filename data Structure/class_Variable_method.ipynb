{
 "cells": [
  {
   "cell_type": "markdown",
   "metadata": {},
   "source": [
    "    Types of variable :\n",
    "    \n",
    "    1.Instance variable /(inside constr. and ...)\n",
    "        **for every object a separated copy of variable will be ceated\n",
    "        **by using self inside constr.  we have to declare \n",
    "        ** the value of the variable will be varied from object t object\n",
    "\n",
    "    2.static variable / class level variable \n",
    "        ** static variable will be shared by all the Object to the class\n",
    "\n",
    "    3.local variable(Method variable)\n",
    "        **temperory variable "
   ]
  },
  {
   "cell_type": "markdown",
   "metadata": {},
   "source": [
    "    ~~~~~~~~~~~~~~~~~~~~~~~~~~~~~~~~~~~~~~~~~~~~~~~~~~~~~~~~~~~~~~~~~~~~~~~~~~~~~~~~~~~~\n",
    "    Types of method :\n",
    "\n",
    "    1.instance method \n",
    "\n",
    "    2.class method \n",
    "\n",
    "    3.static method ( static method can access by using either className of obj reference)"
   ]
  },
  {
   "cell_type": "code",
   "execution_count": 15,
   "metadata": {},
   "outputs": [],
   "source": [
    "class Student:\n",
    "\n",
    "    college_name = \"S.E.A college\"  # static var.\n",
    "\n",
    "    def __init__(self, name , rollno):\n",
    "        count = 0  # local variable \n",
    "        self.name = name\n",
    "        self.rollno = rollno\n",
    "\n",
    "    def display(self):\n",
    "        x = 10  # local varible \n",
    "        print(\"name : \",self.name)\n",
    "        print(\"rollno : \", self.rollno)\n",
    "\n",
    "    @classmethod    # mandatory\n",
    "    def getCollegeName(cls):\n",
    "        print(\"College Name :\",cls.college_name)\n",
    "\n",
    "    @staticmethod\n",
    "    def find_avg(x,y):#  this   method is not accessing class or obj var\n",
    "        print((x+y)/2)\n",
    "    "
   ]
  },
  {
   "cell_type": "code",
   "execution_count": 17,
   "metadata": {},
   "outputs": [
    {
     "name": "stdout",
     "output_type": "stream",
     "text": [
      "College Name : S.E.A college\n",
      "28.0\n",
      "38.5\n"
     ]
    }
   ],
   "source": [
    "s1 = Student(\"Wasi\",123)\n",
    "\n",
    "s1.getCollegeName()\n",
    "s1.find_avg(12,44)\n",
    "Student.find_avg(33,44)"
   ]
  },
  {
   "cell_type": "code",
   "execution_count": 8,
   "metadata": {},
   "outputs": [
    {
     "name": "stdout",
     "output_type": "stream",
     "text": [
      "College Name : S.E.A college\n"
     ]
    }
   ],
   "source": [
    "Student.getCollegeName()"
   ]
  },
  {
   "cell_type": "code",
   "execution_count": null,
   "metadata": {},
   "outputs": [],
   "source": []
  }
 ],
 "metadata": {
  "interpreter": {
   "hash": "916dbcbb3f70747c44a77c7bcd40155683ae19c65e1c03b4aa3499c5328201f1"
  },
  "kernelspec": {
   "display_name": "Python 3.8.10 64-bit",
   "language": "python",
   "name": "python3"
  },
  "language_info": {
   "codemirror_mode": {
    "name": "ipython",
    "version": 3
   },
   "file_extension": ".py",
   "mimetype": "text/x-python",
   "name": "python",
   "nbconvert_exporter": "python",
   "pygments_lexer": "ipython3",
   "version": "3.8.10"
  },
  "orig_nbformat": 4
 },
 "nbformat": 4,
 "nbformat_minor": 2
}
