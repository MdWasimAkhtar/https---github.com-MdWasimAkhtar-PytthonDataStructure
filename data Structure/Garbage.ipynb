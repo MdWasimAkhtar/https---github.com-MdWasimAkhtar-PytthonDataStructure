{
 "cells": [
  {
   "cell_type": "markdown",
   "metadata": {},
   "source": [
    "Python’s memory allocation and deallocation method is automatic. The user does not have to preallocate or deallocate memory similar to using dynamic memory allocation in languages such as C or C++. \n",
    "Python uses two strategies for memory allocation: \n",
    "\n",
    "(1).Reference counting\n",
    "\n",
    "(2).Garbage collection\n",
    "\n",
    "gc module \n",
    "____________________\n",
    "\n",
    "gc.isenabled()\n",
    "\n",
    "gc.disable()\n",
    "\n",
    "gc.enable()\n",
    "__________________________________\n"
   ]
  },
  {
   "cell_type": "code",
   "execution_count": 6,
   "metadata": {},
   "outputs": [
    {
     "name": "stdout",
     "output_type": "stream",
     "text": [
      "False\n"
     ]
    }
   ],
   "source": [
    "import gc \n",
    "print(gc.isenabled())\n"
   ]
  },
  {
   "cell_type": "code",
   "execution_count": 7,
   "metadata": {},
   "outputs": [
    {
     "name": "stdout",
     "output_type": "stream",
     "text": [
      "False\n"
     ]
    }
   ],
   "source": [
    "gc.disable()\n",
    "print(gc.isenabled())"
   ]
  },
  {
   "cell_type": "code",
   "execution_count": 8,
   "metadata": {},
   "outputs": [],
   "source": [
    "gc.enable()"
   ]
  },
  {
   "cell_type": "code",
   "execution_count": 9,
   "metadata": {},
   "outputs": [
    {
     "name": "stdout",
     "output_type": "stream",
     "text": [
      "True\n"
     ]
    }
   ],
   "source": [
    "print(gc.isenabled())"
   ]
  },
  {
   "cell_type": "markdown",
   "metadata": {},
   "source": [
    "##  __del__(self)         in java we have finalize()\n",
    "\n",
    "Destructors are called when an object gets destroyed . just before destroying an Object just to release those resources \n",
    "\n",
    "close db connection  ,  close Network connection\n",
    "\n",
    " It is called when all references to the object have been deleted i.e when an object is garbage collected or when the program ends."
   ]
  },
  {
   "cell_type": "code",
   "execution_count": 17,
   "metadata": {},
   "outputs": [
    {
     "name": "stdout",
     "output_type": "stream",
     "text": [
      "Object Initialization\n",
      "Destructor Invokes for this Objects :  140222098159504\n"
     ]
    }
   ],
   "source": [
    "class TestGc:\n",
    "\n",
    "    def __init__(self):\n",
    "        print('Object Initialization')\n",
    "\n",
    "    def __del__(self):\n",
    "        print('Destructor Invokes for this Objects : ',id(self))\n",
    "    \n",
    "\n",
    "\n",
    "tgc = TestGc()\n",
    "del tgc\n"
   ]
  },
  {
   "cell_type": "code",
   "execution_count": 31,
   "metadata": {},
   "outputs": [
    {
     "name": "stdout",
     "output_type": "stream",
     "text": [
      "Object Initialization\n",
      "Destructor Invokes for this Objects 140221826715600\n",
      "32914\n",
      "None\n",
      "End of Application \n"
     ]
    }
   ],
   "source": [
    "import time\n",
    "import sys\n",
    "\n",
    "class TestGc:\n",
    "\n",
    "    def __init__(self):\n",
    "        print('Object Initialization')\n",
    "\n",
    "    def __del__(self):\n",
    "        print('Destructor Invokes for this Objects',id(self))\n",
    "    \n",
    "\n",
    "\n",
    "tgc = TestGc()\n",
    "tgc= None\n",
    "print(sys.getrefcount(tgc))  # ???????\n",
    "print(tgc)\n",
    "time.sleep(3)\n",
    "print('End of Application ')"
   ]
  },
  {
   "cell_type": "code",
   "execution_count": 29,
   "metadata": {},
   "outputs": [
    {
     "data": {
      "text/plain": [
       "32883"
      ]
     },
     "execution_count": 29,
     "metadata": {},
     "output_type": "execute_result"
    }
   ],
   "source": []
  },
  {
   "cell_type": "code",
   "execution_count": null,
   "metadata": {},
   "outputs": [],
   "source": []
  },
  {
   "cell_type": "code",
   "execution_count": null,
   "metadata": {},
   "outputs": [],
   "source": []
  }
 ],
 "metadata": {
  "interpreter": {
   "hash": "916dbcbb3f70747c44a77c7bcd40155683ae19c65e1c03b4aa3499c5328201f1"
  },
  "kernelspec": {
   "display_name": "Python 3.8.10 64-bit",
   "language": "python",
   "name": "python3"
  },
  "language_info": {
   "codemirror_mode": {
    "name": "ipython",
    "version": 3
   },
   "file_extension": ".py",
   "mimetype": "text/x-python",
   "name": "python",
   "nbconvert_exporter": "python",
   "pygments_lexer": "ipython3",
   "version": "3.8.10"
  },
  "orig_nbformat": 4
 },
 "nbformat": 4,
 "nbformat_minor": 2
}
