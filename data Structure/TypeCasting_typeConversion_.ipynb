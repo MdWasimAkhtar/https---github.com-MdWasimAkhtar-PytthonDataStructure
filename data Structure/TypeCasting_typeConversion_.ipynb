{
 "cells": [
  {
   "cell_type": "markdown",
   "metadata": {},
   "source": [
    "    \n",
    "    int() -- to convert from other data type to int type"
   ]
  },
  {
   "cell_type": "code",
   "execution_count": 16,
   "metadata": {},
   "outputs": [
    {
     "name": "stdout",
     "output_type": "stream",
     "text": [
      "10 12 10 0 1\n"
     ]
    }
   ],
   "source": [
    "x = int(10)\n",
    "y = int('12') # 12.99 not supported only with base then \n",
    "z = int(10.0)\n",
    "z1 = int(False)\n",
    "z2 = int(True)\n",
    "print(x , y , z , z1,z2)"
   ]
  },
  {
   "cell_type": "code",
   "execution_count": 17,
   "metadata": {},
   "outputs": [
    {
     "ename": "ValueError",
     "evalue": "invalid literal for int() with base 10: '12.4'",
     "output_type": "error",
     "traceback": [
      "\u001b[0;31m---------------------------------------------------------------------------\u001b[0m",
      "\u001b[0;31mValueError\u001b[0m                                Traceback (most recent call last)",
      "\u001b[0;32m/tmp/ipykernel_5221/178064661.py\u001b[0m in \u001b[0;36m<module>\u001b[0;34m\u001b[0m\n\u001b[0;32m----> 1\u001b[0;31m \u001b[0mint\u001b[0m\u001b[0;34m(\u001b[0m\u001b[0;34m'12.4'\u001b[0m\u001b[0;34m)\u001b[0m  \u001b[0;31m# complusory it will contain int type with base 10\u001b[0m\u001b[0;34m\u001b[0m\u001b[0;34m\u001b[0m\u001b[0m\n\u001b[0m",
      "\u001b[0;31mValueError\u001b[0m: invalid literal for int() with base 10: '12.4'"
     ]
    }
   ],
   "source": [
    "int('12.4')  # complusory it will contain int type with base 10 "
   ]
  },
  {
   "cell_type": "code",
   "execution_count": 21,
   "metadata": {},
   "outputs": [
    {
     "ename": "ValueError",
     "evalue": "invalid literal for int() with base 10: 'sara'",
     "output_type": "error",
     "traceback": [
      "\u001b[0;31m---------------------------------------------------------------------------\u001b[0m",
      "\u001b[0;31mValueError\u001b[0m                                Traceback (most recent call last)",
      "\u001b[0;32m/tmp/ipykernel_5221/1832734466.py\u001b[0m in \u001b[0;36m<module>\u001b[0;34m\u001b[0m\n\u001b[0;32m----> 1\u001b[0;31m \u001b[0mint\u001b[0m\u001b[0;34m(\u001b[0m\u001b[0;34m'sara'\u001b[0m\u001b[0;34m)\u001b[0m \u001b[0;31m# ValueError: invalid literal for int() with base 10: 'sara'\u001b[0m\u001b[0;34m\u001b[0m\u001b[0;34m\u001b[0m\u001b[0m\n\u001b[0m\u001b[1;32m      2\u001b[0m \u001b[0mint\u001b[0m\u001b[0;34m(\u001b[0m\u001b[0;36m10\u001b[0m\u001b[0;34m+\u001b[0m\u001b[0;36m19j\u001b[0m\u001b[0;34m)\u001b[0m \u001b[0;31m# TypeError: can't convert complex to int\u001b[0m\u001b[0;34m\u001b[0m\u001b[0;34m\u001b[0m\u001b[0m\n",
      "\u001b[0;31mValueError\u001b[0m: invalid literal for int() with base 10: 'sara'"
     ]
    }
   ],
   "source": [
    "int('sara') # ValueError: invalid literal for int() with base 10: 'sara'\n",
    "int(10+19j) # TypeError: can't convert complex to int"
   ]
  },
  {
   "cell_type": "markdown",
   "metadata": {},
   "source": [
    "-----------------------\n",
    "\n",
    "    float() ---> to convert from other data type to float type"
   ]
  },
  {
   "cell_type": "code",
   "execution_count": 23,
   "metadata": {},
   "outputs": [
    {
     "data": {
      "text/plain": [
       "89.99"
      ]
     },
     "execution_count": 23,
     "metadata": {},
     "output_type": "execute_result"
    }
   ],
   "source": [
    "float('12.77')\n",
    "float('133')\n",
    "float(True)\n",
    "float('89.99')"
   ]
  },
  {
   "cell_type": "code",
   "execution_count": 25,
   "metadata": {},
   "outputs": [
    {
     "ename": "TypeError",
     "evalue": "can't convert complex to float",
     "output_type": "error",
     "traceback": [
      "\u001b[0;31m---------------------------------------------------------------------------\u001b[0m",
      "\u001b[0;31mTypeError\u001b[0m                                 Traceback (most recent call last)",
      "\u001b[0;32m/tmp/ipykernel_5221/1444123534.py\u001b[0m in \u001b[0;36m<module>\u001b[0;34m\u001b[0m\n\u001b[0;32m----> 1\u001b[0;31m \u001b[0mfloat\u001b[0m\u001b[0;34m(\u001b[0m\u001b[0;36m10\u001b[0m\u001b[0;34m+\u001b[0m\u001b[0;36m12j\u001b[0m\u001b[0;34m)\u001b[0m \u001b[0;31m# TypeError: can't convert complex to float\u001b[0m\u001b[0;34m\u001b[0m\u001b[0;34m\u001b[0m\u001b[0m\n\u001b[0m",
      "\u001b[0;31mTypeError\u001b[0m: can't convert complex to float"
     ]
    }
   ],
   "source": [
    "float(10+12j) # TypeError: can't convert complex to float"
   ]
  },
  {
   "cell_type": "markdown",
   "metadata": {},
   "source": [
    "---------------\n",
    "    complex()  --> from other type to complex type\n"
   ]
  },
  {
   "cell_type": "code",
   "execution_count": 28,
   "metadata": {},
   "outputs": [
    {
     "data": {
      "text/plain": [
       "0j"
      ]
     },
     "execution_count": 28,
     "metadata": {},
     "output_type": "execute_result"
    }
   ],
   "source": [
    "complex(10)\n",
    "complex(True)\n",
    "complex(False)"
   ]
  },
  {
   "cell_type": "markdown",
   "metadata": {},
   "source": [
    "------------------\n",
    "    bool() ---> to convert other data type to bool type\n"
   ]
  },
  {
   "cell_type": "code",
   "execution_count": 37,
   "metadata": {},
   "outputs": [
    {
     "data": {
      "text/plain": [
       "True"
      ]
     },
     "execution_count": 37,
     "metadata": {},
     "output_type": "execute_result"
    }
   ],
   "source": [
    "bool(100) # true bcz , 0 means false , and non zero means True \n",
    "bool(0) # False\n",
    "bool(int) # True\n",
    "bool(float) # True\n",
    "bool(000000) # false\n",
    "bool('')  # False \n",
    "bool('Sahithi')  # True"
   ]
  },
  {
   "cell_type": "markdown",
   "metadata": {},
   "source": [
    "     empty string ---false \n",
    "     non empty string --- True"
   ]
  },
  {
   "cell_type": "code",
   "execution_count": 44,
   "metadata": {},
   "outputs": [
    {
     "name": "stdout",
     "output_type": "stream",
     "text": [
      "name :  122\n",
      "Yes \n"
     ]
    }
   ],
   "source": [
    "name = input(\"enter your roll no \")\n",
    "pass_or_not = bool(input('Are you Passed the exam T/F'))\n",
    "print(\"name : \",name)\n",
    "if pass_or_not == True:\n",
    "    print(\"Yes \")\n",
    "else:\n",
    "    print(\"NO\")\n",
    "\n",
    "# there is problem with this method bool(input(\"True/False\"))\n",
    "#means bool('str') is not empty is always true"
   ]
  },
  {
   "cell_type": "markdown",
   "metadata": {},
   "source": [
    "    use eval() instead of bool() , "
   ]
  },
  {
   "cell_type": "code",
   "execution_count": 45,
   "metadata": {},
   "outputs": [
    {
     "name": "stdout",
     "output_type": "stream",
     "text": [
      "name :  sahithi\n",
      "NO\n"
     ]
    }
   ],
   "source": [
    "name = input(\"enter your roll no \")\n",
    "pass_or_not = eval(input('Are you Passed the exam T/F'))\n",
    "print(\"name : \",name)\n",
    "if pass_or_not == True:\n",
    "    print(\"Yes \")\n",
    "else:\n",
    "    print(\"NO\")"
   ]
  },
  {
   "cell_type": "code",
   "execution_count": 47,
   "metadata": {},
   "outputs": [
    {
     "ename": "ValueError",
     "evalue": "invalid literal for int() with base 10: '12.00'",
     "output_type": "error",
     "traceback": [
      "\u001b[0;31m---------------------------------------------------------------------------\u001b[0m",
      "\u001b[0;31mValueError\u001b[0m                                Traceback (most recent call last)",
      "\u001b[0;32m/tmp/ipykernel_5221/3206102268.py\u001b[0m in \u001b[0;36m<module>\u001b[0;34m\u001b[0m\n\u001b[0;32m----> 1\u001b[0;31m \u001b[0mx\u001b[0m \u001b[0;34m=\u001b[0m \u001b[0mint\u001b[0m\u001b[0;34m(\u001b[0m\u001b[0minput\u001b[0m\u001b[0;34m(\u001b[0m\u001b[0;34m\"Enter your number \"\u001b[0m\u001b[0;34m)\u001b[0m\u001b[0;34m)\u001b[0m\u001b[0;34m\u001b[0m\u001b[0;34m\u001b[0m\u001b[0m\n\u001b[0m\u001b[1;32m      2\u001b[0m \u001b[0mx\u001b[0m\u001b[0;34m\u001b[0m\u001b[0;34m\u001b[0m\u001b[0m\n",
      "\u001b[0;31mValueError\u001b[0m: invalid literal for int() with base 10: '12.00'"
     ]
    }
   ],
   "source": [
    "x = int(input(\"Enter your number \"))\n",
    "x"
   ]
  },
  {
   "cell_type": "markdown",
   "metadata": {},
   "source": [
    "     if we don't know the type we can use eval() function is will convert the value given by user to corresponding data type"
   ]
  },
  {
   "cell_type": "code",
   "execution_count": 48,
   "metadata": {},
   "outputs": [
    {
     "data": {
      "text/plain": [
       "123.888"
      ]
     },
     "execution_count": 48,
     "metadata": {},
     "output_type": "execute_result"
    }
   ],
   "source": [
    "x = eval(input(\"Enter your number \"))\n",
    "x"
   ]
  },
  {
   "cell_type": "code",
   "execution_count": 55,
   "metadata": {},
   "outputs": [
    {
     "ename": "NameError",
     "evalue": "name 'wasi' is not defined",
     "output_type": "error",
     "traceback": [
      "\u001b[0;31m---------------------------------------------------------------------------\u001b[0m",
      "\u001b[0;31mNameError\u001b[0m                                 Traceback (most recent call last)",
      "\u001b[0;32m/tmp/ipykernel_5221/508939772.py\u001b[0m in \u001b[0;36m<module>\u001b[0;34m\u001b[0m\n\u001b[0;32m----> 1\u001b[0;31m \u001b[0mx\u001b[0m \u001b[0;34m=\u001b[0m \u001b[0meval\u001b[0m\u001b[0;34m(\u001b[0m\u001b[0minput\u001b[0m\u001b[0;34m(\u001b[0m\u001b[0;34m\"Enter your number \"\u001b[0m\u001b[0;34m)\u001b[0m\u001b[0;34m)\u001b[0m\u001b[0;34m\u001b[0m\u001b[0;34m\u001b[0m\u001b[0m\n\u001b[0m\u001b[1;32m      2\u001b[0m \u001b[0mx\u001b[0m\u001b[0;34m\u001b[0m\u001b[0;34m\u001b[0m\u001b[0m\n",
      "\u001b[0;32m<string>\u001b[0m in \u001b[0;36m<module>\u001b[0;34m\u001b[0m\n",
      "\u001b[0;31mNameError\u001b[0m: name 'wasi' is not defined"
     ]
    }
   ],
   "source": [
    "x = eval(input(\"Enter your number \"))\n",
    "x"
   ]
  },
  {
   "cell_type": "markdown",
   "metadata": {},
   "source": [
    "    if we know the type of value what we are passing at runtime --Typecasting functio\n",
    "\n",
    "    if we don't kmow the type of value ---eval()\n",
    "\n",
    "    TypeError: eval() arg 1 must be a string, bytes or code object"
   ]
  },
  {
   "cell_type": "code",
   "execution_count": 56,
   "metadata": {},
   "outputs": [
    {
     "ename": "TypeError",
     "evalue": "eval() arg 1 must be a string, bytes or code object",
     "output_type": "error",
     "traceback": [
      "\u001b[0;31m---------------------------------------------------------------------------\u001b[0m",
      "\u001b[0;31mTypeError\u001b[0m                                 Traceback (most recent call last)",
      "\u001b[0;32m/tmp/ipykernel_5221/2368974429.py\u001b[0m in \u001b[0;36m<module>\u001b[0;34m\u001b[0m\n\u001b[0;32m----> 1\u001b[0;31m \u001b[0meval\u001b[0m\u001b[0;34m(\u001b[0m\u001b[0;36m88\u001b[0m\u001b[0;34m+\u001b[0m\u001b[0;36m19.12\u001b[0m\u001b[0;34m)\u001b[0m\u001b[0;34m\u001b[0m\u001b[0;34m\u001b[0m\u001b[0m\n\u001b[0m",
      "\u001b[0;31mTypeError\u001b[0m: eval() arg 1 must be a string, bytes or code object"
     ]
    }
   ],
   "source": [
    "eval(88+19.12)"
   ]
  },
  {
   "cell_type": "code",
   "execution_count": 66,
   "metadata": {},
   "outputs": [
    {
     "data": {
      "text/plain": [
       "31.9"
      ]
     },
     "execution_count": 66,
     "metadata": {},
     "output_type": "execute_result"
    }
   ],
   "source": [
    "eval('1+2.9+56/2')"
   ]
  },
  {
   "cell_type": "markdown",
   "metadata": {},
   "source": [
    "    # it should be string and other data type of value not string"
   ]
  },
  {
   "cell_type": "code",
   "execution_count": 78,
   "metadata": {},
   "outputs": [
    {
     "ename": "SyntaxError",
     "evalue": "unexpected EOF while parsing (<string>, line 0)",
     "output_type": "error",
     "traceback": [
      "Traceback \u001b[0;36m(most recent call last)\u001b[0m:\n",
      "  File \u001b[1;32m\"/home/ubuntu-wasim/.local/lib/python3.8/site-packages/IPython/core/interactiveshell.py\"\u001b[0m, line \u001b[1;32m3457\u001b[0m, in \u001b[1;35mrun_code\u001b[0m\n    exec(code_obj, self.user_global_ns, self.user_ns)\n",
      "\u001b[0;36m  File \u001b[0;32m\"/tmp/ipykernel_5221/744736621.py\"\u001b[0;36m, line \u001b[0;32m1\u001b[0;36m, in \u001b[0;35m<module>\u001b[0;36m\u001b[0m\n\u001b[0;31m    x23 = eval('')\u001b[0m\n",
      "\u001b[0;36m  File \u001b[0;32m\"<string>\"\u001b[0;36m, line \u001b[0;32munknown\u001b[0m\n\u001b[0;31m    \u001b[0m\n\u001b[0m    ^\u001b[0m\n\u001b[0;31mSyntaxError\u001b[0m\u001b[0;31m:\u001b[0m unexpected EOF while parsing\n"
     ]
    }
   ],
   "source": [
    "x23 = eval('') "
   ]
  },
  {
   "cell_type": "code",
   "execution_count": 80,
   "metadata": {},
   "outputs": [
    {
     "data": {
      "text/plain": [
       "233"
      ]
     },
     "execution_count": 80,
     "metadata": {},
     "output_type": "execute_result"
    }
   ],
   "source": [
    "x = eval('233')\n",
    "x"
   ]
  },
  {
   "cell_type": "markdown",
   "metadata": {},
   "source": [
    "    bool() == the argument can be anything zero- False , non -zero true , empty string - false\n",
    "\n",
    "    eval -- the argument must be string type and contains some other type value"
   ]
  },
  {
   "cell_type": "markdown",
   "metadata": {},
   "source": [
    "    ~~~~~~~~~~~~~~~~~~~~~~~~~~~~~~~~~~~~~~~~~~~~~~~~~~~~~~~~~~~~~~~~~~~~~~~~~~~~~~~~~~~~~~~~\n",
    "\n",
    "    int() --\n",
    "\n",
    "    float() --\n",
    "\n",
    "    complex() ---\n",
    "\n",
    "    bool() ---\n",
    "\n",
    "    str() --- from other type to str type\n",
    "\n",
    "    from string to corresponding type , the go for eval() function"
   ]
  },
  {
   "cell_type": "code",
   "execution_count": 81,
   "metadata": {},
   "outputs": [
    {
     "data": {
      "text/plain": [
       "'10'"
      ]
     },
     "execution_count": 81,
     "metadata": {},
     "output_type": "execute_result"
    }
   ],
   "source": [
    "str('10')"
   ]
  },
  {
   "cell_type": "code",
   "execution_count": 82,
   "metadata": {},
   "outputs": [
    {
     "data": {
      "text/plain": [
       "'10.5'"
      ]
     },
     "execution_count": 82,
     "metadata": {},
     "output_type": "execute_result"
    }
   ],
   "source": [
    "str(10.5)"
   ]
  },
  {
   "cell_type": "code",
   "execution_count": 83,
   "metadata": {},
   "outputs": [
    {
     "data": {
      "text/plain": [
       "'(1+3j)'"
      ]
     },
     "execution_count": 83,
     "metadata": {},
     "output_type": "execute_result"
    }
   ],
   "source": [
    "str(1+3j)"
   ]
  },
  {
   "cell_type": "code",
   "execution_count": 84,
   "metadata": {},
   "outputs": [
    {
     "name": "stdout",
     "output_type": "stream",
     "text": [
      "<class 'float'>\n"
     ]
    }
   ],
   "source": [
    "print(type(eval(input('enter your number'))))"
   ]
  },
  {
   "cell_type": "code",
   "execution_count": 85,
   "metadata": {},
   "outputs": [
    {
     "data": {
      "text/plain": [
       "0"
      ]
     },
     "execution_count": 85,
     "metadata": {},
     "output_type": "execute_result"
    }
   ],
   "source": [
    "# int(10+89j) # error\n",
    "int(False)  # 0"
   ]
  },
  {
   "cell_type": "code",
   "execution_count": 91,
   "metadata": {},
   "outputs": [
    {
     "data": {
      "text/plain": [
       "float"
      ]
     },
     "execution_count": 91,
     "metadata": {},
     "output_type": "execute_result"
    }
   ],
   "source": [
    "eval('10.77')\n",
    "type(eval('True'))\n",
    "type(eval(input(\" \")))"
   ]
  },
  {
   "cell_type": "markdown",
   "metadata": {},
   "source": [
    "    Once we create an Object we can not change it's content . if we are trying to change it's content with those changes a new Object will be created and the reference will pointing towards new Object\n",
    "    and the \n",
    "\n"
   ]
  },
  {
   "cell_type": "code",
   "execution_count": 96,
   "metadata": {},
   "outputs": [
    {
     "name": "stdout",
     "output_type": "stream",
     "text": [
      "id before  9795328\n",
      "id after  140594094673136\n",
      "299\n",
      "id of b : 9795328\n",
      "199\n"
     ]
    }
   ],
   "source": [
    "a = 199\n",
    "print(\"id before \",id(a))\n",
    "b =a \n",
    "a = a+ 100\n",
    "print('id after ',id(a))\n",
    "print(a)\n",
    "print(\"id of b :\",id(b))\n",
    "print(b)"
   ]
  },
  {
   "cell_type": "code",
   "execution_count": 101,
   "metadata": {},
   "outputs": [
    {
     "name": "stdout",
     "output_type": "stream",
     "text": [
      "s1 id before : 140594094771504\n",
      "S2 id after : 140594094771504\n",
      "s1 id after : 140594091791216\n",
      "sahithi working\n",
      "sahithi\n",
      "s2 id after : 140594094771504\n"
     ]
    }
   ],
   "source": [
    "s1 = \"sahithi\"\n",
    "print('s1 id before :',id(s1))\n",
    "s2 = s1\n",
    "print('S2 id after :',id(s2))\n",
    "s1= s1+\" working\"\n",
    "print('s1 id after :',id(s1))\n",
    "print(s1)\n",
    "print(s2)\n",
    "print('s2 id after :',id(s2))"
   ]
  },
  {
   "cell_type": "markdown",
   "metadata": {},
   "source": [
    "     list is mutable thats why the id()/address is not changing "
   ]
  },
  {
   "cell_type": "code",
   "execution_count": 103,
   "metadata": {},
   "outputs": [
    {
     "name": "stdout",
     "output_type": "stream",
     "text": [
      "list1 id before changing /updating : 140594094657088\n",
      "list1 id after updating : 140594094657088\n"
     ]
    }
   ],
   "source": [
    "list1 = [10,44,55,66]\n",
    "print('list1 id before changing /updating :',id(list1))\n",
    "list1[0] = 9982\n",
    "print('list1 id after updating :',id(list1))\n"
   ]
  },
  {
   "cell_type": "markdown",
   "metadata": {},
   "source": [
    "     ~~~~~~~~~~~~~~~~~~~~~~~~~~~~~~~~~~~~~~~~~~~~~~~~~~~~~~~~~~~~~~~~~~~~~~~~~~~~~~~~~~~~~~~~~~~\n",
    "     tuple is mutable thats why the id()/address will be  changed\n",
    "\n",
    "     TypeError: 'tuple' object does not support item assignment"
   ]
  },
  {
   "cell_type": "code",
   "execution_count": 107,
   "metadata": {},
   "outputs": [
    {
     "name": "stdout",
     "output_type": "stream",
     "text": [
      "list1 id before changing /updating : 140594091806528\n",
      "list1 id after updating : 140594091805248\n"
     ]
    }
   ],
   "source": [
    "tuple1 = 10,44,55,66\n",
    "print('list1 id before changing /updating :',id(list1))\n",
    "\n",
    "#list1[0] = 9982TypeError: 'tuple' object does not support item assignment\n",
    "\n",
    "tuple1 = 10,44,55,66,99\n",
    "\n",
    "print('list1 id after updating :',id(tuple1))\n"
   ]
  },
  {
   "cell_type": "markdown",
   "metadata": {},
   "source": [
    "    ~~~~~~~~~~~~~~~~~~~~~~~~~~~~~~~~~~~~~~~~~~~~~~~~~~~~~~~~~~~~~~~~~~~~~~~~~~~~~~~~~~~~~~~~~~\n",
    "    Type Casting :\n",
    "\n",
    "\n",
    "    In typing casting, a data type is converted into another data type by the programmer using the casting operator during the program design. In typing casting, the destination data type may be smaller than the source data type when converting the data type to another data type, that’s why it is also called narrowing conversion.\n",
    "    \n",
    "    Explicit Type Conversion is also called Type Casting, the data types of objects are converted using predefined functions by the user.\n",
    "\n",
    "    2. Type conversion : Implicit Type Conversion\n",
    "\n",
    "    In type conversion, a data type is automatically converted into another data type by a compiler at the compiler time. In type conversion, the destination data type cannot be smaller than the source data type, that’s why it is also called widening conversion. One more important thing is that it can only be applied to compatible data types.\n",
    "    ~~~~~~~~~~~~~~~~~~~~~~~~~~~~~~~~~~~~~~~~~~~~~~~~~~~~~~~~~~~~~~~~~~~~~~~~~~~~~~~~~~~~~~~~~~~\n",
    "    TYPE CASTING\tTYPE CONVERSION\n",
    "    --------------------------------------------------------------------------------------\n",
    "    1.\tIn type casting, a data type is converted into another data type by a programmer using casting operator.\n",
    "\n",
    "\tWhereas in type conversion, a data type is converted into another data type by a compiler.\n",
    "\n",
    "    ~~~~~~~~~~~~~~~~~~~~~~~~~~~~~~~~~~~~~~~~~~~~~~~~~~~~~~~~~~~~~~~~~~~~~~~~~~~~~~~~~~~~~~~~~~~~~~~~~~~~~~\n",
    "\n",
    "    2.\tType casting can be applied to compatible data types as well as incompatible data types.\t\n",
    "\n",
    "    Whereas type conversion can only be applied to compatible datatypes.\n",
    "\n",
    "    ~~~~~~~~~~~~~~~~~~~~~~~~~~~~~~~~~~~~~~~~~~~~~~~~~~~~~~~~~~~~~~~~~~~~~~~~~~~~~~~~~~~~~~~~~~~~~~~~~~~~~~\n",
    "\n",
    "    3.\tIn type casting, casting operator is needed in order to cast the a data type to another data type.\n",
    "\n",
    "\tWhereas in type conversion, there is no need for a casting operator.\n",
    "\n",
    "    ~~~~~~~~~~~~~~~~~~~~~~~~~~~~~~~~~~~~~~~~~~~~~~~~~~~~~~~~~~~~~~~~~~~~~~~~~~~~~~~~~~~~~~~~~~~~~~~~~~~~~~\n",
    "\n",
    "    4.\tIn typing casting, the destination data type may be smaller than the source data type, when converting the data type to another data type.\t\n",
    "\n",
    "    Whereas in type conversion, the destination data type can’t be smaller than source data type.\n",
    "\n",
    "    ~~~~~~~~~~~~~~~~~~~~~~~~~~~~~~~~~~~~~~~~~~~~~~~~~~~~~~~~~~~~~~~~~~~~~~~~~~~~~~~~~~~~~~~~~~~~~~~~~~~~~~\n",
    "\n",
    "    5.\tType casting takes place during the program design by programmer.\n",
    "\n",
    "\tWhereas type conversion is done at the compile time.\n",
    "\n",
    "    ~~~~~~~~~~~~~~~~~~~~~~~~~~~~~~~~~~~~~~~~~~~~~~~~~~~~~~~~~~~~~~~~~~~~~~~~~~~~~~~~~~~~~~~~~~~~~~~~~~~~~~\n",
    "\n",
    "    6.\tType casting is also called narrowing conversion because in this, the destination data type may be smaller than the source data type.\n",
    "\n",
    "\tWhereas type conversion is also called widening conversion because in this, the destination data \n",
    "    type can not be smaller than the source data type.\n",
    "\n",
    "   ~~~~~~~~~~~~~~~~~~~~~~~~~~~~~~~~~~~~~~~~~~~~~~~~~~~~~~~~~~~~~~~~~~~~~~~~~~~~~~~~~~~~~~~~~~~~~~~~~~~~~\n",
    "\n",
    "    7.\tType casting is often used in coding and competitive programming works.\n",
    "\n",
    "\tWhereas type conversion is less used in coding and competitive programming as it might cause incorrect answer.\n",
    "    ~~~~~~~~~~~~~~~~~~~~~~~~~~~~~~~~~~~~~~~~~~~~~~~~~~~~~~~~~~~~~~~~~~~~~~~~~~~~~~~~~~~~~~~~~~~~~~~~~~~~~~\n",
    "\n",
    "    8.\tType casting is more efficient and reliable.\t\n",
    "\n",
    "    Whereas type conversion is less efficient and less reliable."
   ]
  },
  {
   "cell_type": "code",
   "execution_count": 108,
   "metadata": {},
   "outputs": [
    {
     "name": "stdout",
     "output_type": "stream",
     "text": [
      "data type of num_int : <class 'int'>\n",
      "data type of num_int : <class 'float'>\n",
      "1077.77\n",
      "data type of num_int : <class 'float'>\n"
     ]
    }
   ],
   "source": [
    "# 1 . implicit type Conversion or type Conversion\n",
    "\n",
    "num_int = 1000\n",
    "num_float = 77.77\n",
    "\n",
    "new_num = num_int + num_float\n",
    "\n",
    "print(\"data type of num_int :\",type(num_int))\n",
    "print(\"data type of num_int :\",type(num_float))\n",
    "\n",
    "print(new_num)\n",
    "print(\"data type of num_int :\",type(new_num))\n"
   ]
  },
  {
   "cell_type": "code",
   "execution_count": 109,
   "metadata": {},
   "outputs": [
    {
     "ename": "TypeError",
     "evalue": "unsupported operand type(s) for +: 'int' and 'str'",
     "output_type": "error",
     "traceback": [
      "\u001b[0;31m---------------------------------------------------------------------------\u001b[0m",
      "\u001b[0;31mTypeError\u001b[0m                                 Traceback (most recent call last)",
      "\u001b[0;32m/tmp/ipykernel_5221/2987159782.py\u001b[0m in \u001b[0;36m<module>\u001b[0;34m\u001b[0m\n\u001b[1;32m      3\u001b[0m \u001b[0mnum_int\u001b[0m \u001b[0;34m=\u001b[0m \u001b[0;36m123\u001b[0m\u001b[0;34m\u001b[0m\u001b[0;34m\u001b[0m\u001b[0m\n\u001b[1;32m      4\u001b[0m \u001b[0mnum_str\u001b[0m \u001b[0;34m=\u001b[0m \u001b[0;34m'221'\u001b[0m\u001b[0;34m\u001b[0m\u001b[0;34m\u001b[0m\u001b[0m\n\u001b[0;32m----> 5\u001b[0;31m \u001b[0mnew_num\u001b[0m \u001b[0;34m=\u001b[0m \u001b[0mnum_int\u001b[0m \u001b[0;34m+\u001b[0m \u001b[0mnum_str\u001b[0m\u001b[0;34m\u001b[0m\u001b[0;34m\u001b[0m\u001b[0m\n\u001b[0m\u001b[1;32m      6\u001b[0m \u001b[0;34m\u001b[0m\u001b[0m\n\u001b[1;32m      7\u001b[0m \u001b[0mprint\u001b[0m\u001b[0;34m(\u001b[0m\u001b[0;34m\"data type of num_int :\"\u001b[0m\u001b[0;34m,\u001b[0m\u001b[0mtype\u001b[0m\u001b[0;34m(\u001b[0m\u001b[0mnum_int\u001b[0m\u001b[0;34m)\u001b[0m\u001b[0;34m)\u001b[0m\u001b[0;34m\u001b[0m\u001b[0;34m\u001b[0m\u001b[0m\n",
      "\u001b[0;31mTypeError\u001b[0m: unsupported operand type(s) for +: 'int' and 'str'"
     ]
    }
   ],
   "source": [
    "# 2 . TypeCasting vs explicit type Coversion done by programmer \n",
    "\n",
    "num_int = 123\n",
    "num_str = '221'\n",
    "new_num = num_int + num_str # TypeError: unsupported operand type(s) for +: 'int' and 'str'\n",
    "\n",
    "print(\"data type of num_int :\",type(num_int))\n",
    "print(\"data type of num_int :\",type(num_float))\n",
    "\n",
    "print(new_num)\n",
    "print(\"data type of num_int :\",type(new_num))\n"
   ]
  },
  {
   "cell_type": "markdown",
   "metadata": {},
   "source": [
    "    This type of conversion is also called typecasting because the user casts (changes) the data type of the objects.\n",
    "\n"
   ]
  },
  {
   "cell_type": "code",
   "execution_count": 110,
   "metadata": {},
   "outputs": [
    {
     "name": "stdout",
     "output_type": "stream",
     "text": [
      "data type of num_int : <class 'int'>\n",
      "data type of num_int : <class 'float'>\n",
      "344\n",
      "data type of num_int : <class 'int'>\n"
     ]
    }
   ],
   "source": [
    "# 2 . TypeCasting vs explicit type Coversion done by programmer \n",
    "\n",
    "num_int = 123\n",
    "num_str = '221'\n",
    "new_num = num_int + int(num_str) # TypeError: unsupported operand type(s) for +: 'int' and 'str'\n",
    "\n",
    "print(\"data type of num_int :\",type(num_int))\n",
    "print(\"data type of num_int :\",type(num_float))\n",
    "\n",
    "print(new_num)\n",
    "print(\"data type of num_int :\",type(new_num))\n"
   ]
  },
  {
   "cell_type": "code",
   "execution_count": null,
   "metadata": {},
   "outputs": [],
   "source": []
  }
 ],
 "metadata": {
  "interpreter": {
   "hash": "916dbcbb3f70747c44a77c7bcd40155683ae19c65e1c03b4aa3499c5328201f1"
  },
  "kernelspec": {
   "display_name": "Python 3.8.10 64-bit",
   "language": "python",
   "name": "python3"
  },
  "language_info": {
   "codemirror_mode": {
    "name": "ipython",
    "version": 3
   },
   "file_extension": ".py",
   "mimetype": "text/x-python",
   "name": "python",
   "nbconvert_exporter": "python",
   "pygments_lexer": "ipython3",
   "version": "3.8.10"
  },
  "orig_nbformat": 4
 },
 "nbformat": 4,
 "nbformat_minor": 2
}
