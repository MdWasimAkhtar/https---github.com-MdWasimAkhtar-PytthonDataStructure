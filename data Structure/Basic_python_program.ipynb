{
 "cells": [
  {
   "cell_type": "markdown",
   "metadata": {},
   "source": [
    "Reverse a string\n",
    "________________"
   ]
  },
  {
   "cell_type": "code",
   "execution_count": 1,
   "metadata": {},
   "outputs": [
    {
     "data": {
      "text/plain": [
       "'rathka misaW'"
      ]
     },
     "execution_count": 1,
     "metadata": {},
     "output_type": "execute_result"
    }
   ],
   "source": [
    "str2 =\"Wasim akhtar\"\n",
    "str2[::-1]"
   ]
  },
  {
   "cell_type": "code",
   "execution_count": 3,
   "metadata": {},
   "outputs": [
    {
     "data": {
      "text/plain": [
       "'gnikrow si aplihS'"
      ]
     },
     "execution_count": 3,
     "metadata": {},
     "output_type": "execute_result"
    }
   ],
   "source": [
    "def reverse_String(s):\n",
    "    str1 = \"\"\n",
    "    for i in s:\n",
    "        str1 = i + str1\n",
    "    return str1\n",
    "\n",
    "s = \"Shilpa is working\"\n",
    "reverse_String(s)"
   ]
  },
  {
   "cell_type": "markdown",
   "metadata": {},
   "source": [
    "_____________________________\n",
    "reverse a Number\n",
    "\n"
   ]
  },
  {
   "cell_type": "markdown",
   "metadata": {},
   "source": [
    "error:\n",
    "\n",
    "    TypeError: 'int' object is not iterable"
   ]
  },
  {
   "cell_type": "code",
   "execution_count": 17,
   "metadata": {},
   "outputs": [
    {
     "name": "stdout",
     "output_type": "stream",
     "text": [
      "123455\n",
      "554321\n"
     ]
    }
   ],
   "source": [
    "def reverse_Number(n):\n",
    "    rev = 0\n",
    "    print(n)\n",
    "    while n!= 0:\n",
    "        rem = n % 10\n",
    "        rev = rev*10 + rem\n",
    "        n = n//10\n",
    "    print(rev)\n",
    "\n",
    "reverse_Number(123455)"
   ]
  },
  {
   "cell_type": "code",
   "execution_count": 18,
   "metadata": {},
   "outputs": [
    {
     "name": "stdout",
     "output_type": "stream",
     "text": [
      "123455\n",
      "554321\n"
     ]
    }
   ],
   "source": [
    "def reverse_Number(n):\n",
    "    rev = 0\n",
    "    print(n)\n",
    "    while n!= 0:\n",
    "        rev = rev*10 + n%10\n",
    "        n = n//10\n",
    "    print(rev)\n",
    "\n",
    "reverse_Number(123455)"
   ]
  },
  {
   "cell_type": "markdown",
   "metadata": {},
   "source": [
    "___________________________________________\n",
    "String Palindrom\n"
   ]
  },
  {
   "cell_type": "code",
   "execution_count": 20,
   "metadata": {},
   "outputs": [
    {
     "name": "stdout",
     "output_type": "stream",
     "text": [
      "not a palindrom\n"
     ]
    }
   ],
   "source": [
    "def str_pal(s):\n",
    "    rev_s = s[::-1]\n",
    "    if rev_s == s:\n",
    "        print(\"yes_palindrom\")\n",
    "    else:\n",
    "        print(\"not a palindrom\")\n",
    "\n",
    "str_pal(\"ADDDAE\")"
   ]
  },
  {
   "cell_type": "code",
   "execution_count": 30,
   "metadata": {},
   "outputs": [
    {
     "name": "stdout",
     "output_type": "stream",
     "text": [
      "Not a Plaindrom\n"
     ]
    }
   ],
   "source": [
    "str3 =\"ABBRBA\"\n",
    "rev = ''\n",
    "for i in str3:\n",
    "    rev = i + rev\n",
    "if rev == str3:\n",
    "    print(\"Palindrom\",str3 ,\" = \",rev)\n",
    "else:\n",
    "    print('Not a Plaindrom')"
   ]
  },
  {
   "cell_type": "markdown",
   "metadata": {},
   "source": [
    "# to differentiate between local variable and instance variable , we also use self keyword"
   ]
  },
  {
   "cell_type": "code",
   "execution_count": null,
   "metadata": {},
   "outputs": [],
   "source": []
  }
 ],
 "metadata": {
  "interpreter": {
   "hash": "916dbcbb3f70747c44a77c7bcd40155683ae19c65e1c03b4aa3499c5328201f1"
  },
  "kernelspec": {
   "display_name": "Python 3.8.10 64-bit",
   "language": "python",
   "name": "python3"
  },
  "language_info": {
   "codemirror_mode": {
    "name": "ipython",
    "version": 3
   },
   "file_extension": ".py",
   "mimetype": "text/x-python",
   "name": "python",
   "nbconvert_exporter": "python",
   "pygments_lexer": "ipython3",
   "version": "3.8.10"
  },
  "orig_nbformat": 4
 },
 "nbformat": 4,
 "nbformat_minor": 2
}
