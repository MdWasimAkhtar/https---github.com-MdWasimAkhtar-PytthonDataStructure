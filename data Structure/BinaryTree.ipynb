{
 "cells": [
  {
   "cell_type": "markdown",
   "metadata": {},
   "source": [
    "Tree represents the nodes connected by edges. It is a non-linear data structure. It has the following properties −\n",
    "\n",
    "One node is marked as Root node.\n",
    "\n",
    "Every node other than the root is associated with one parent node.\n",
    "\n",
    "Each node can have an arbiatry number of chid node."
   ]
  },
  {
   "cell_type": "markdown",
   "metadata": {},
   "source": [
    "Create a Root Node \n",
    "\n",
    "each node can have atmost two children Not more then 2 children \n",
    "\n",
    "the maximum number of node at any level is 2^i , i = level\n",
    "\n",
    "at height assume h = 3 , node =1+ 2^1 + 2^2 + 2^3 = 15\n",
    "\n",
    "maximum number of node at height h = 2^(h+1) -1\n",
    "\n",
    "min...\n",
    "h = log2(n+1) - 1\n",
    "\n",
    "The maximum height can be computed as:\n",
    "\n",
    "As we know that,\n",
    "\n",
    "n = h+1\n",
    "\n",
    "h= n-1\n",
    "\n",
    "Types of Binary Tree\n",
    "\n",
    "There are four types of Binary tree:\n",
    "\n",
    "Full/ proper/ strict Binary tree\n",
    "\n",
    "Complete Binary tree\n",
    "\n",
    "Perfect Binary tree\n",
    "\n",
    "Degenerate Binary tree\n",
    "\n",
    "Balanced Binary tree(AVL Tree)\n",
    "\n"
   ]
  },
  {
   "cell_type": "markdown",
   "metadata": {},
   "source": [
    "full /strict binary tree\n",
    "------\n",
    "The tree can only be considered as the full binary tree if each node must contain either 0 or 2 children. The full binary tree can also be defined as the tree in which each node must contain 2 children except the leaf nodes\n",
    "\n",
    "no. of leaf node = no. of internal node + 1 \n"
   ]
  },
  {
   "cell_type": "code",
   "execution_count": 2,
   "metadata": {},
   "outputs": [],
   "source": [
    "class Node:\n",
    "\n",
    "    def __init__(self,data):\n",
    "\n",
    "        self.left = None\n",
    "        self.right = None\n",
    "        self.data = data\n",
    "    \n",
    "    def printTree(self):\n",
    "        print(self.data)\n"
   ]
  },
  {
   "cell_type": "code",
   "execution_count": 6,
   "metadata": {},
   "outputs": [
    {
     "name": "stdout",
     "output_type": "stream",
     "text": [
      "10\n"
     ]
    }
   ],
   "source": [
    "root1 = Node(10)\n",
    "root1.printTree()"
   ]
  },
  {
   "cell_type": "markdown",
   "metadata": {},
   "source": [
    "To Insert a value to a class , we have to comapre the values of the Node to the root / parent Node , and according to that we can insert into left or right Node "
   ]
  },
  {
   "cell_type": "markdown",
   "metadata": {},
   "source": [
    "Binary Search Tree(BST)\n",
    "----------------------\n",
    "\n",
    "leaf Node --->\n",
    "any node whose left and right children are null is known as a leaf node in a binary tree. They are the nodes that reside in the last level of a binary tree and they don't have any children.\n",
    "________________________________________________\n",
    "\n",
    "Binary search tree is a data structure that quickly allows us to maintain a sorted list of numbers.\n",
    "\n",
    "It is called a binary tree because each tree node has a maximum of two children.\n",
    "It is called a search tree because it can be used to search for the presence of a number in O(log(n)) time.\n",
    "The properties that separate a binary search tree from a regular binary tree is\n",
    "\n",
    "All nodes of left subtree are less than the root node\n",
    "\n",
    "All nodes of right subtree are more than the root node\n",
    "\n",
    "Both subtrees of each node are also BSTs i.e. they have the above two properties\n",
    "\n",
    "Search Operation\n",
    "------------\n",
    "The algorithm depends on the property of BST that if each left subtree has values below root and each right subtree has values above the root.\n",
    "\n",
    "If the value is below the root, we can say for sure that the value is not in the right subtree; we need to only search in the left subtree and if the value is above the root, we can say for sure that the value is not in the left subtree; we need to only search in the right subtree.\n",
    "\n",
    "Insert Operation\n",
    "-------------------\n",
    "Inserting a value in the correct position is similar to searching because we try to maintain the rule that the left subtree is lesser than root and the right subtree is larger than root.\n",
    "\n",
    "We keep going to either right subtree or left subtree depending on the value and when we reach a point left or right subtree is null, we put the new node there.\n",
    "\n",
    "Deletion Operation\n",
    "--------------\n",
    "There are three cases for deleting a node from a binary search tree.\n",
    "\n",
    "Case I\n",
    "---------\n",
    "In the first case, the node to be deleted is the leaf node. In such a case, simply delete the node from the tree.\n",
    "\n",
    "Case II\n",
    "------------\n",
    "In the second case, the node to be deleted lies has a single child node. In such a case follow the steps below:\n",
    "\n",
    "Replace that node with its child node.\n",
    "\n",
    "Remove the child node from its original position.\n",
    "\n",
    "Case III\n",
    "--------------\n",
    "In the third case, the node to be deleted has two children. In such a case follow the steps below:\n",
    "\n",
    "Get the inorder successor of that node.\n",
    "\n",
    "Replace the node with the inorder successor.\n",
    "\n",
    "Remove the inorder successor from its original position.\n"
   ]
  },
  {
   "cell_type": "markdown",
   "metadata": {},
   "source": [
    "Binary Search Tree Complexities\n",
    "---------\n",
    "Time Complexity\n",
    "\n",
    "Operation\tBest Case Complexity\tAverage Case Complexity\tWorst Case Complexity\n",
    "\n",
    "Search\tO(log n)\tO(log n)\tO(n)\n",
    "\n",
    "Insertion\tO(log n)\tO(log n)\tO(n)\n",
    "\n",
    "Deletion\tO(log n)\tO(log n)\tO(n)\n",
    "\n",
    "Space Complexity\n",
    "\n",
    "The space complexity for all the operations is O(n).\n",
    "\n",
    "Binary Search Tree Applications\n",
    "\n",
    "In multilevel indexing in the database\n",
    "\n",
    "For dynamic sorting\n",
    "\n",
    "For managing virtual memory areas in Unix kernel"
   ]
  },
  {
   "cell_type": "code",
   "execution_count": null,
   "metadata": {},
   "outputs": [],
   "source": []
  }
 ],
 "metadata": {
  "interpreter": {
   "hash": "916dbcbb3f70747c44a77c7bcd40155683ae19c65e1c03b4aa3499c5328201f1"
  },
  "kernelspec": {
   "display_name": "Python 3.8.10 64-bit",
   "language": "python",
   "name": "python3"
  },
  "language_info": {
   "codemirror_mode": {
    "name": "ipython",
    "version": 3
   },
   "file_extension": ".py",
   "mimetype": "text/x-python",
   "name": "python",
   "nbconvert_exporter": "python",
   "pygments_lexer": "ipython3",
   "version": "3.8.10"
  },
  "orig_nbformat": 4
 },
 "nbformat": 4,
 "nbformat_minor": 2
}
