{
 "cells": [
  {
   "cell_type": "markdown",
   "metadata": {},
   "source": [
    "self represents the instance of the class. By using the “self” keyword we can access the attributes and methods of the class in python. It binds the attributes with the given arguments."
   ]
  },
  {
   "cell_type": "markdown",
   "metadata": {},
   "source": [
    " self  is reference variable which always points towards current Object. \n",
    " inside python class to refer current class instance variable\n",
    "\n"
   ]
  },
  {
   "cell_type": "code",
   "execution_count": 7,
   "metadata": {},
   "outputs": [
    {
     "name": "stdout",
     "output_type": "stream",
     "text": [
      "Student Id :  909\n"
     ]
    }
   ],
   "source": [
    "class Student:\n",
    "\n",
    "    def __init__(self , id):\n",
    "        self.id  = id\n",
    "        \n",
    "    def display(wasim):   # \n",
    "        print('Student Id : ',wasim.id)\n",
    "\n",
    "s1 = Student(909)\n",
    "s1.display()\n"
   ]
  },
  {
   "cell_type": "markdown",
   "metadata": {},
   "source": [
    "## by creating Object we can access attribute and method outside the class"
   ]
  },
  {
   "cell_type": "code",
   "execution_count": 16,
   "metadata": {},
   "outputs": [
    {
     "name": "stdout",
     "output_type": "stream",
     "text": [
      "Student Id :  wasim\n"
     ]
    }
   ],
   "source": [
    "s2 =Student(\"wasim\")   # type safty is not there in python\n",
    "s2.display()"
   ]
  },
  {
   "cell_type": "markdown",
   "metadata": {},
   "source": [
    "# first argument in the constructor and instance method  should be  self \n",
    "\n",
    "by using self we can declare instance variable\n",
    "\n",
    "\n",
    "by using self we can access instance variable\n"
   ]
  },
  {
   "cell_type": "markdown",
   "metadata": {},
   "source": [
    "type safty is not there in python"
   ]
  },
  {
   "cell_type": "markdown",
   "metadata": {},
   "source": [
    "constructor:-   __init_ _(self)\n",
    "\n",
    "name of the constructor is same for every class/\n",
    "\n",
    "whenever we are creating Object constructor will be executed automatically we are not required t call explicitly\n"
   ]
  },
  {
   "cell_type": "markdown",
   "metadata": {},
   "source": [
    "The main Objective of the Constructor is to declare and initialize instance variable\n",
    "\n",
    "for every Object Constructor will be executed Only Once\n",
    "\n",
    "constructor can take atleast one argument which is self"
   ]
  },
  {
   "cell_type": "markdown",
   "metadata": {},
   "source": [
    "python will provide Default Constructor"
   ]
  },
  {
   "cell_type": "code",
   "execution_count": 39,
   "metadata": {},
   "outputs": [
    {
     "name": "stdout",
     "output_type": "stream",
     "text": [
      "Constructor Execution 12\n",
      "Constructor Execution 12\n"
     ]
    },
    {
     "data": {
      "text/plain": [
       "21"
      ]
     },
     "execution_count": 39,
     "metadata": {},
     "output_type": "execute_result"
    }
   ],
   "source": [
    "class Test:\n",
    "    global count \n",
    "    def __init__(self):\n",
    "        count = 12\n",
    "        print('Constructor Execution',count)\n",
    "    \n",
    "    def func(self):\n",
    "        count =  21 \n",
    "        return count\n",
    "\n",
    "t1 = Test()\n",
    "t2 = Test()\n",
    "t2.func()"
   ]
  },
  {
   "cell_type": "markdown",
   "metadata": {},
   "source": [
    "## $$ Constructor OverLoading Concept Is not Available in Python $$\n",
    "\n",
    "to declare is possible but python PVM will always Consider Last One"
   ]
  },
  {
   "cell_type": "code",
   "execution_count": 29,
   "metadata": {},
   "outputs": [
    {
     "ename": "TypeError",
     "evalue": "__init__() missing 1 required positional argument: 'y'",
     "output_type": "error",
     "traceback": [
      "\u001b[0;31m---------------------------------------------------------------------------\u001b[0m",
      "\u001b[0;31mTypeError\u001b[0m                                 Traceback (most recent call last)",
      "\u001b[0;32m/tmp/ipykernel_7533/4185114092.py\u001b[0m in \u001b[0;36m<module>\u001b[0;34m\u001b[0m\n\u001b[1;32m     10\u001b[0m         \u001b[0mprint\u001b[0m\u001b[0;34m(\u001b[0m\u001b[0mx\u001b[0m \u001b[0;34m,\u001b[0m \u001b[0my\u001b[0m\u001b[0;34m)\u001b[0m\u001b[0;34m\u001b[0m\u001b[0;34m\u001b[0m\u001b[0m\n\u001b[1;32m     11\u001b[0m \u001b[0;34m\u001b[0m\u001b[0m\n\u001b[0;32m---> 12\u001b[0;31m \u001b[0mt1\u001b[0m \u001b[0;34m=\u001b[0m \u001b[0mTest2\u001b[0m\u001b[0;34m(\u001b[0m\u001b[0;36m45\u001b[0m\u001b[0;34m)\u001b[0m\u001b[0;34m\u001b[0m\u001b[0;34m\u001b[0m\u001b[0m\n\u001b[0m",
      "\u001b[0;31mTypeError\u001b[0m: __init__() missing 1 required positional argument: 'y'"
     ]
    }
   ],
   "source": [
    "class Test2:\n",
    "\n",
    "    def __init__(self):\n",
    "        print('No Args')\n",
    "\n",
    "    def __init__(self, x):\n",
    "        print('X args')\n",
    "\n",
    "    def __init__(self,x ,y ):\n",
    "        print(x , y)\n",
    "\n",
    "t1 = Test2(45)\n"
   ]
  },
  {
   "cell_type": "markdown",
   "metadata": {},
   "source": [
    "Inside Python class \n",
    "3 types of variable are there\n",
    "\n",
    "1.instance variable / Object level variable for every object / declare using self.---\n",
    "\n",
    "2.static variable /class level variable/for all object just one copy shared for every objects / only one copy will be created //inside classs but ouside method or constructor\n",
    "\n",
    "\n",
    "\n",
    "3 . Local variable / inside method or constructor without self keyword/cls or className /temproraly\n",
    "requirment purpose / method variable\n",
    "\n",
    "______________________________________________________________________________________\n",
    "global keyword is used for functional programming\n",
    "\n",
    "\n",
    "______________________________________________________________________________________"
   ]
  },
  {
   "cell_type": "markdown",
   "metadata": {},
   "source": [
    "Type of methods \n",
    "\n",
    "1.instance Method /(1). object level method /(2). self.variableName must be required constructor or Method  and declaring var using Object reference outside of class is instance var / for every student seperate name , rollno , age , is required /if value of a vraibel varied from object to Object / for every Object seperate copy will be created \n",
    "\n",
    "2.class Method\n",
    "\n",
    "3.static method / not accessing class level data or Object level data/utility method\n",
    "\n",
    "**** for every class PVm will create one class level Object will be created , and the reference will be maintained by python (cls)"
   ]
  },
  {
   "cell_type": "code",
   "execution_count": 107,
   "metadata": {},
   "outputs": [],
   "source": [
    "class Student2:\n",
    "    college = 'Sea College' # static variable\n",
    "\n",
    "    def __init__(self, x , y):\n",
    "\n",
    "        count = 0   # local variable\n",
    "\n",
    "        self.name = x    # instance Variable\n",
    "        self.rollno = y\n",
    "\n",
    "    # INSTANCE METHOD\n",
    "    def display(self):  \n",
    "        fee = 43000    # local variable\n",
    "\n",
    "        print(self.name ,\"   \",self.rollno, self.college)\n",
    "\n",
    "    @classmethod\n",
    "    def getCollegeName(cls):\n",
    "        print('college name  is :',cls.college)\n",
    "\n",
    "    @staticmethod\n",
    "    def findAvg(x , y):   # static method/utility method /general \n",
    "        return (x+y)/2"
   ]
  },
  {
   "cell_type": "code",
   "execution_count": 109,
   "metadata": {},
   "outputs": [
    {
     "name": "stdout",
     "output_type": "stream",
     "text": [
      "Shilpa     99 Sea College\n",
      "college name  is : Sea College\n"
     ]
    },
    {
     "data": {
      "text/plain": [
       "{'name': 'Shilpa', 'rollno': 99}"
      ]
     },
     "execution_count": 109,
     "metadata": {},
     "output_type": "execute_result"
    }
   ],
   "source": [
    "s4 = Student2('Shilpa',99)\n",
    "s4.display()\n",
    "Student2.getCollegeName()\n",
    "s4.findAvg(90,89)\n",
    "#Student2.findAvg(23,45)\n",
    "s4.__dict__"
   ]
  },
  {
   "cell_type": "code",
   "execution_count": 94,
   "metadata": {},
   "outputs": [
    {
     "data": {
      "text/plain": [
       "{'b': 200, 'd': 700, 'f': 1200}"
      ]
     },
     "execution_count": 94,
     "metadata": {},
     "output_type": "execute_result"
    }
   ],
   "source": [
    "class Test3 :\n",
    "    def __init__(self):\n",
    "        self.a = 100 \n",
    "        self.b = 200\n",
    "        self.c = 500\n",
    "\n",
    "    def m1(self):\n",
    "        self.d =700\n",
    "        del self.a\n",
    "    \n",
    "    def m2(self):\n",
    "        self.e=1000\n",
    "\n",
    "t1 = Test3()\n",
    "t1.m1()\n",
    "t1.f = 1200\n",
    "del t1.c\n",
    "t1.__dict__"
   ]
  },
  {
   "cell_type": "code",
   "execution_count": 88,
   "metadata": {},
   "outputs": [],
   "source": [
    "class Emp:\n",
    "\n",
    "    def __init__(self, name , emp_id):\n",
    "        self.name= name \n",
    "        self.emp_id  = emp_id\n",
    "    \n",
    "    def display(self):\n",
    "        x = 100\n",
    "        print('emp_name :',self.name ,\"emp_id :\",self.emp_id)\n",
    "        \n",
    "    \n",
    "    def info(self):\n",
    "       return''      # self.x cannot access x is from another method local variable\n"
   ]
  },
  {
   "cell_type": "code",
   "execution_count": 89,
   "metadata": {},
   "outputs": [
    {
     "name": "stdout",
     "output_type": "stream",
     "text": [
      "emp_name : Shilpa emp_id : 123001\n"
     ]
    },
    {
     "data": {
      "text/plain": [
       "''"
      ]
     },
     "execution_count": 89,
     "metadata": {},
     "output_type": "execute_result"
    }
   ],
   "source": [
    "e1 = Emp('Shilpa',123001)\n",
    "e1.display()\n",
    "e1.info()"
   ]
  },
  {
   "cell_type": "markdown",
   "metadata": {},
   "source": [
    "$$ Static Variable $$\n",
    "if value is not varied from Object to Object such variable we have to declare static variable\n",
    "\n",
    ". Only One Copy of the variable is maintained at class level\n",
    "\n",
    "We can create static variable inside Constructor and Instance Method Using Class Name\n",
    "\n",
    "** outside of class Using class name \n",
    "\n",
    "Inside classMethod by using className\n",
    "\n",
    "Inside Static method by using class Name \n"
   ]
  },
  {
   "cell_type": "code",
   "execution_count": 123,
   "metadata": {},
   "outputs": [],
   "source": [
    "class Emp:\n",
    "    company_Name = 'Wipro'   # static variable\n",
    "\n",
    "    def __init__(self,Emp_name):\n",
    "        self.Emp_name = Emp_name\n",
    "\n",
    "        Emp.static_var_inCons='static variable Static variable'\n",
    "\n",
    "    def instance_method(self):\n",
    "        Emp.static_var_Instance = \"Static variable inside Instance Method\"\n",
    "\n",
    "    @classmethod\n",
    "    def use_Static_Variable(cls):\n",
    "        static_var_method=\"static var inside class Level Method\"\n",
    "        return Emp.company_Name\n",
    "    \n",
    "\n",
    "    @staticmethod\n",
    "    def staticmethod_use():\n",
    "        return Emp.company_Name\n",
    "\n",
    "Emp.optional_work='for every Emp' # static variable outside of the class\n"
   ]
  },
  {
   "cell_type": "code",
   "execution_count": 122,
   "metadata": {},
   "outputs": [
    {
     "data": {
      "text/plain": [
       "'Wipro'"
      ]
     },
     "execution_count": 122,
     "metadata": {},
     "output_type": "execute_result"
    }
   ],
   "source": [
    "Emp.use_Static_Variable()\n",
    "#Emp.staticmethod_use()"
   ]
  },
  {
   "cell_type": "code",
   "execution_count": 126,
   "metadata": {},
   "outputs": [
    {
     "data": {
      "text/plain": [
       "mappingproxy({'__module__': '__main__',\n",
       "              'company_Name': 'Wipro',\n",
       "              '__init__': <function __main__.Emp.__init__(self, Emp_name)>,\n",
       "              'instance_method': <function __main__.Emp.instance_method(self)>,\n",
       "              'use_Static_Variable': <classmethod at 0x7fedcde33310>,\n",
       "              'staticmethod_use': <staticmethod at 0x7fedcde33580>,\n",
       "              '__dict__': <attribute '__dict__' of 'Emp' objects>,\n",
       "              '__weakref__': <attribute '__weakref__' of 'Emp' objects>,\n",
       "              '__doc__': None,\n",
       "              'optional_work': 'for every Emp'})"
      ]
     },
     "execution_count": 126,
     "metadata": {},
     "output_type": "execute_result"
    }
   ],
   "source": [
    "Emp.company_Name  # access directly by class Name \n",
    "Emp.__dict__"
   ]
  },
  {
   "cell_type": "code",
   "execution_count": 105,
   "metadata": {},
   "outputs": [
    {
     "data": {
      "text/plain": [
       "'Wipro'"
      ]
     },
     "execution_count": 105,
     "metadata": {},
     "output_type": "execute_result"
    }
   ],
   "source": [
    "emp1 = Emp('Wasim')\n",
    "emp1.company_Name           "
   ]
  },
  {
   "cell_type": "markdown",
   "metadata": {},
   "source": [
    "we can access static variable either by class Name or Object reference\n",
    "\n",
    "within class using self,cls , className\n",
    "\n",
    "Outside Class\n",
    "Object_Reference , class_Name\n",
    "\n",
    "______________________________________________________________________________________\n",
    "Modifying \n",
    "\n"
   ]
  },
  {
   "cell_type": "code",
   "execution_count": 157,
   "metadata": {},
   "outputs": [],
   "source": [
    "class Laptop:\n",
    "    Laptop_Name = 'Hp'\n",
    "\n",
    "    def __init__(self):\n",
    "        Laptop.price = 45000\n",
    "        Laptop.Laptop_Name = \"Apple\"\n",
    "        del Laptop.Laptop_Name\n",
    "    \n",
    "    def laptop_Model(self):\n",
    "        Laptop.Gorrilla_Display = 'Yes_ it has Gorrilla+ Display'\n",
    "    \n",
    "    @classmethod\n",
    "    def laptop_body(cls):\n",
    "        Laptop.RamSize = \"16gb\"        \n",
    "        print(id(Laptop.RamSize))\n",
    "        return Laptop.RamSize\n",
    "\n",
    "    @staticmethod\n",
    "    def static_m1():\n",
    "        Laptop.RamSize = '50gb'\n",
    "        print(id(Laptop.RamSize))\n",
    "        return Laptop.RamSize\n"
   ]
  },
  {
   "cell_type": "code",
   "execution_count": 158,
   "metadata": {},
   "outputs": [
    {
     "name": "stdout",
     "output_type": "stream",
     "text": [
      "140659335910448\n"
     ]
    },
    {
     "data": {
      "text/plain": [
       "'16gb'"
      ]
     },
     "execution_count": 158,
     "metadata": {},
     "output_type": "execute_result"
    }
   ],
   "source": [
    "Laptop.RamSize='32GB'\n",
    "Laptop.laptop_body()"
   ]
  },
  {
   "cell_type": "code",
   "execution_count": 159,
   "metadata": {},
   "outputs": [
    {
     "name": "stdout",
     "output_type": "stream",
     "text": [
      "140659335910832\n"
     ]
    },
    {
     "data": {
      "text/plain": [
       "'50gb'"
      ]
     },
     "execution_count": 159,
     "metadata": {},
     "output_type": "execute_result"
    }
   ],
   "source": [
    "Laptop.static_m1()"
   ]
  },
  {
   "cell_type": "code",
   "execution_count": 160,
   "metadata": {},
   "outputs": [
    {
     "data": {
      "text/plain": [
       "'Windows'"
      ]
     },
     "execution_count": 160,
     "metadata": {},
     "output_type": "execute_result"
    }
   ],
   "source": [
    "L1 = Laptop()\n",
    "Laptop.Laptop_Name=\"Windows\"\n",
    "Laptop.Laptop_Name"
   ]
  },
  {
   "cell_type": "code",
   "execution_count": 168,
   "metadata": {},
   "outputs": [
    {
     "ename": "AttributeError",
     "evalue": "'Test' object has no attribute 'y'",
     "output_type": "error",
     "traceback": [
      "\u001b[0;31m---------------------------------------------------------------------------\u001b[0m",
      "\u001b[0;31mAttributeError\u001b[0m                            Traceback (most recent call last)",
      "\u001b[0;32m/tmp/ipykernel_7533/329621985.py\u001b[0m in \u001b[0;36m<module>\u001b[0;34m\u001b[0m\n\u001b[1;32m      8\u001b[0m \u001b[0mt2\u001b[0m \u001b[0;34m=\u001b[0m \u001b[0mTest\u001b[0m\u001b[0;34m(\u001b[0m\u001b[0;34m)\u001b[0m\u001b[0;34m\u001b[0m\u001b[0;34m\u001b[0m\u001b[0m\n\u001b[1;32m      9\u001b[0m \u001b[0;34m\u001b[0m\u001b[0m\n\u001b[0;32m---> 10\u001b[0;31m \u001b[0mt1\u001b[0m\u001b[0;34m.\u001b[0m\u001b[0mx\u001b[0m  \u001b[0;34m,\u001b[0m \u001b[0mt1\u001b[0m\u001b[0;34m.\u001b[0m\u001b[0my\u001b[0m\u001b[0;34m\u001b[0m\u001b[0;34m\u001b[0m\u001b[0m\n\u001b[0m",
      "\u001b[0;31mAttributeError\u001b[0m: 'Test' object has no attribute 'y'"
     ]
    }
   ],
   "source": [
    "class Test:\n",
    "    x = 9\n",
    "\n",
    "    def m1(self):\n",
    "        self.y = 10\n",
    "    \n",
    "t1 = Test()\n",
    "t2 = Test()\n",
    "\n",
    "t1.x  , t1.y"
   ]
  },
  {
   "cell_type": "code",
   "execution_count": null,
   "metadata": {},
   "outputs": [],
   "source": [
    "class Test:\n",
    "    x = 9\n",
    "\n",
    "    def m1(self):\n",
    "        self.y = 10\n",
    "    \n",
    "t1 = Test()\n",
    "t2 = Test()\n",
    "\n",
    "t1.x  , t1.y"
   ]
  },
  {
   "cell_type": "code",
   "execution_count": 179,
   "metadata": {},
   "outputs": [
    {
     "name": "stdout",
     "output_type": "stream",
     "text": [
      "1001\n",
      "global nainy_var\n"
     ]
    }
   ],
   "source": [
    "x = 1001  # global variable\n",
    "\n",
    "class Test4:\n",
    "    x = 999       # static variable\n",
    "    global y \n",
    "    y= 'Global variable' \n",
    "\n",
    "    def m1(self):\n",
    "        global nainy\n",
    "        nainy ='global nainy_var'\n",
    "\n",
    "        print(Test4.x)\n",
    "        print(y)\n",
    "\n",
    "    def m2(self):\n",
    "        print(x)\n",
    "        print(nainy)\n",
    "\n",
    "t1 = Test4()\n",
    "#t1.m1()\n",
    "t1.m2()"
   ]
  },
  {
   "cell_type": "markdown",
   "metadata": {},
   "source": [
    "$$ bankAppLication $$"
   ]
  },
  {
   "cell_type": "code",
   "execution_count": 186,
   "metadata": {},
   "outputs": [
    {
     "name": "stdout",
     "output_type": "stream",
     "text": [
      "Welcome to ICICI Bank  ICICI Bank\n",
      "____________________________________________________________________________________\n",
      "d-Deposite \n",
      " w-withdraw \n",
      " e-exit\n",
      "Balance :  23450000.0\n",
      "____________________________________________________________________________________\n",
      "d-Deposite \n",
      " w-withdraw \n",
      " e-exit\n",
      "Thank you for Banking with US\n"
     ]
    },
    {
     "ename": "SystemExit",
     "evalue": "0",
     "output_type": "error",
     "traceback": [
      "An exception has occurred, use %tb to see the full traceback.\n",
      "\u001b[0;31mSystemExit\u001b[0m\u001b[0;31m:\u001b[0m 0\n"
     ]
    }
   ],
   "source": [
    "import sys\n",
    "\n",
    "class Customer:\n",
    "    bank_Name = \"ICICI Bank\"\n",
    "\n",
    "    def __init__(self, name , balance=0):\n",
    "        self.name = name \n",
    "        self.balance = balance\n",
    "\n",
    "    def deposite(self,amt):\n",
    "        self.balance = self.balance + amt\n",
    "        print(\"Balance : \",self.balance)\n",
    "    \n",
    "    def withdraw(self , amt):\n",
    "        if amt > self.balance:\n",
    "            print('Insufficient Funds..')\n",
    "            sys.exit()\n",
    "        self.balance = self.balance-amt\n",
    "        print(\"after withdraw balance : \",self.balance)\n",
    "    \n",
    "print('Welcome to ICICI Bank ', Customer.bank_Name)\n",
    "name = input(\"Enter your Name \")\n",
    "c = Customer(name)\n",
    "\n",
    "while True:\n",
    "    print('____________________________________________________________________________________')\n",
    "    print('d-Deposite \\n w-withdraw \\n e-exit')\n",
    "    option = input('Choose Your Option:')\n",
    "    if option == 'd' or option =='D':\n",
    "        amt = float(input('Enter the Amount to deposite'))\n",
    "        c.deposite(amt)\n",
    "    elif option == 'w' or option =='W':\n",
    "        amt = float(input('Enter Amount to withdraw'))\n",
    "        c.withdraw(amt)\n",
    "\n",
    "    elif option == 'e' or option =='E':\n",
    "        print(\"Thank you for Banking with US\")\n",
    "        sys.exit(0)\n",
    "    \n",
    "    else:\n",
    "        print('Choose Valid Option')"
   ]
  },
  {
   "cell_type": "markdown",
   "metadata": {},
   "source": [
    "if we are using atleast one instance variable method is always related to object\n",
    "\n",
    "if we are using only static variable but we are not instance variable then we have to declare class_Method()\n",
    "\n",
    "if we are not using any instance or static variable , then we should go for static method ,static method are general utility method\n",
    "\n",
    "\n",
    "inside instance method we can access both instance and static variable\n",
    "\n",
    "\n",
    "we can call class_method either by using Object reference  class Name"
   ]
  },
  {
   "cell_type": "code",
   "execution_count": 222,
   "metadata": {},
   "outputs": [],
   "source": [
    "class Test5:\n",
    "    xz = 34.899\n",
    "\n",
    "    def __init__(self , result):\n",
    "        self.r=result \n",
    "\n",
    "    def m1_inst_method(self):\n",
    "        print('Instance Method ')\n",
    "        x = 900\n",
    "\n",
    "    @classmethod\n",
    "    def m2_class_method(cls):  # NameError: name 'self' is not defined ,if use self     print(self.r)\n",
    "        print(\"Class Method\")\n",
    "        print(cls.xz/7)\n",
    "    "
   ]
  },
  {
   "cell_type": "code",
   "execution_count": 223,
   "metadata": {},
   "outputs": [
    {
     "name": "stdout",
     "output_type": "stream",
     "text": [
      "Instance Method \n",
      "1000990\n",
      "Class Method\n",
      "4.985571428571428\n",
      "Class Method\n",
      "4.985571428571428\n"
     ]
    }
   ],
   "source": [
    "t11 = Test5(199.99)\n",
    "t11.m1_inst_method()\n",
    "t11.r=1000990\n",
    "print(t11.r)\n",
    "\n",
    "Test5.m2_class_method()\n",
    "t11.m2_class_method()"
   ]
  },
  {
   "cell_type": "markdown",
   "metadata": {},
   "source": []
  },
  {
   "cell_type": "code",
   "execution_count": 227,
   "metadata": {},
   "outputs": [
    {
     "name": "stdout",
     "output_type": "stream",
     "text": [
      "Shilpa\n",
      "99\n"
     ]
    }
   ],
   "source": [
    "class Student3:\n",
    "\n",
    "    def setName(self,name ):\n",
    "        self.name = name\n",
    "    def getName(self):\n",
    "        return self.name\n",
    "    \n",
    "    def setMarks(self,marks):\n",
    "        self.marks = marks\n",
    "    def getMarks(self):\n",
    "        return self.marks\n",
    "\n",
    "n = int(input(\"Enter Number of Student\"))\n",
    "\n",
    "for i in range(n):\n",
    "    name = input('Enter your name ')\n",
    "    marks = int(input(\"Enter marks\"))\n",
    "\n",
    "    s = Student3()\n",
    "\n",
    "    s.setName(name)\n",
    "    s.setMarks(marks)\n",
    "\n",
    "    print(s.getName())\n",
    "    print(s.getMarks())\n",
    "\n"
   ]
  },
  {
   "cell_type": "code",
   "execution_count": 247,
   "metadata": {},
   "outputs": [],
   "source": [
    "class Test6:\n",
    "    counting = 0 \n",
    "\n",
    "    def __init__(self):\n",
    "        Test6.counting = Test6.counting + 1 \n",
    "\n",
    "    @classmethod     # if we are not decalring @classmethod , it will treated as instamce method\n",
    "    def getNoOfObjects(cls):\n",
    "        print('The Number of Objects created :',cls.counting)"
   ]
  },
  {
   "cell_type": "code",
   "execution_count": 256,
   "metadata": {},
   "outputs": [
    {
     "name": "stdout",
     "output_type": "stream",
     "text": [
      "The Number of Objects created : 36\n"
     ]
    }
   ],
   "source": [
    "t1 = Test6()\n",
    "t2 = Test6()\n",
    "t3 = Test6()\n",
    "t4 = Test6()\n",
    "\n",
    "\n",
    "t4.getNoOfObjects()"
   ]
  },
  {
   "cell_type": "code",
   "execution_count": 262,
   "metadata": {},
   "outputs": [],
   "source": [
    "class Test7:\n",
    "\n",
    "    def m11(cls , self):  # now cls is treating as self\n",
    "        cls.x = 100\n",
    "        print('Instance Method ',cls.x ,self)\n"
   ]
  },
  {
   "cell_type": "code",
   "execution_count": 263,
   "metadata": {},
   "outputs": [
    {
     "name": "stdout",
     "output_type": "stream",
     "text": [
      "Instance Method  100 Shilpa\n"
     ]
    }
   ],
   "source": [
    "t = Test7()\n",
    "t.m11('Shilpa')  # self is shilpa"
   ]
  },
  {
   "cell_type": "code",
   "execution_count": 275,
   "metadata": {},
   "outputs": [],
   "source": [
    "class test8:\n",
    "    def m12(name , self):\n",
    "        name.x = 18300113\n",
    "        print('Instance Method ',name.x  , self)"
   ]
  },
  {
   "cell_type": "code",
   "execution_count": 276,
   "metadata": {},
   "outputs": [
    {
     "name": "stdout",
     "output_type": "stream",
     "text": [
      "Instance Method  18300113 Windy\n"
     ]
    }
   ],
   "source": [
    "t = test8()\n",
    "t.m12('Windy')"
   ]
  },
  {
   "cell_type": "code",
   "execution_count": 278,
   "metadata": {},
   "outputs": [
    {
     "ename": "TypeError",
     "evalue": "'tuple' object cannot be interpreted as an integer",
     "output_type": "error",
     "traceback": [
      "\u001b[0;31m---------------------------------------------------------------------------\u001b[0m",
      "\u001b[0;31mTypeError\u001b[0m                                 Traceback (most recent call last)",
      "\u001b[0;32m/tmp/ipykernel_7533/4221610244.py\u001b[0m in \u001b[0;36m<module>\u001b[0;34m\u001b[0m\n\u001b[1;32m      8\u001b[0m         \u001b[0mprint\u001b[0m\u001b[0;34m(\u001b[0m\u001b[0msum\u001b[0m\u001b[0;34m)\u001b[0m\u001b[0;34m\u001b[0m\u001b[0;34m\u001b[0m\u001b[0m\n\u001b[1;32m      9\u001b[0m \u001b[0;34m\u001b[0m\u001b[0m\n\u001b[0;32m---> 10\u001b[0;31m \u001b[0mSummation\u001b[0m\u001b[0;34m.\u001b[0m\u001b[0msumm\u001b[0m\u001b[0;34m(\u001b[0m\u001b[0;36m12\u001b[0m\u001b[0;34m,\u001b[0m\u001b[0;36m24\u001b[0m\u001b[0;34m)\u001b[0m\u001b[0;34m\u001b[0m\u001b[0;34m\u001b[0m\u001b[0m\n\u001b[0m",
      "\u001b[0;32m/tmp/ipykernel_7533/4221610244.py\u001b[0m in \u001b[0;36msumm\u001b[0;34m(*x)\u001b[0m\n\u001b[1;32m      4\u001b[0m     \u001b[0;32mdef\u001b[0m \u001b[0msumm\u001b[0m\u001b[0;34m(\u001b[0m\u001b[0;34m*\u001b[0m\u001b[0mx\u001b[0m\u001b[0;34m)\u001b[0m\u001b[0;34m:\u001b[0m\u001b[0;34m\u001b[0m\u001b[0;34m\u001b[0m\u001b[0m\n\u001b[1;32m      5\u001b[0m \u001b[0;34m\u001b[0m\u001b[0m\n\u001b[0;32m----> 6\u001b[0;31m         \u001b[0;32mfor\u001b[0m \u001b[0mi\u001b[0m \u001b[0;32min\u001b[0m \u001b[0mrange\u001b[0m\u001b[0;34m(\u001b[0m\u001b[0mx\u001b[0m\u001b[0;34m)\u001b[0m\u001b[0;34m:\u001b[0m\u001b[0;34m\u001b[0m\u001b[0;34m\u001b[0m\u001b[0m\n\u001b[0m\u001b[1;32m      7\u001b[0m             \u001b[0msum\u001b[0m \u001b[0;34m=\u001b[0m \u001b[0msum\u001b[0m \u001b[0;34m+\u001b[0m \u001b[0mx\u001b[0m\u001b[0;34m\u001b[0m\u001b[0;34m\u001b[0m\u001b[0m\n\u001b[1;32m      8\u001b[0m         \u001b[0mprint\u001b[0m\u001b[0;34m(\u001b[0m\u001b[0msum\u001b[0m\u001b[0;34m)\u001b[0m\u001b[0;34m\u001b[0m\u001b[0;34m\u001b[0m\u001b[0m\n",
      "\u001b[0;31mTypeError\u001b[0m: 'tuple' object cannot be interpreted as an integer"
     ]
    }
   ],
   "source": [
    "class Summation:\n",
    "\n",
    "    @staticmethod\n",
    "    def summ(*x):   \n",
    "        \n",
    "        for i in range(x):\n",
    "            sum = sum + x \n",
    "        print(sum)\n",
    "\n",
    "Summation.summ(12,24)"
   ]
  },
  {
   "cell_type": "markdown",
   "metadata": {},
   "source": [
    "for every class python will create class level Object will be created for class leve data and ref will be maintained by Python internally"
   ]
  },
  {
   "cell_type": "code",
   "execution_count": null,
   "metadata": {},
   "outputs": [],
   "source": []
  }
 ],
 "metadata": {
  "interpreter": {
   "hash": "916dbcbb3f70747c44a77c7bcd40155683ae19c65e1c03b4aa3499c5328201f1"
  },
  "kernelspec": {
   "display_name": "Python 3.8.10 64-bit",
   "language": "python",
   "name": "python3"
  },
  "language_info": {
   "codemirror_mode": {
    "name": "ipython",
    "version": 3
   },
   "file_extension": ".py",
   "mimetype": "text/x-python",
   "name": "python",
   "nbconvert_exporter": "python",
   "pygments_lexer": "ipython3",
   "version": "3.8.10"
  },
  "orig_nbformat": 4
 },
 "nbformat": 4,
 "nbformat_minor": 2
}
