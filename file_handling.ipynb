{
 "cells": [
  {
   "cell_type": "markdown",
   "metadata": {},
   "source": [
    "temporary data stored in list , dict , tuples  as long as program runs  \n",
    "\n",
    "this data is also gone after execution of program\n",
    "\n",
    "temporary ---> our data structure list , set , tuple , dict inside PVM as part of heap area these data are stored "
   ]
  },
  {
   "cell_type": "code",
   "execution_count": 2,
   "metadata": {},
   "outputs": [
    {
     "name": "stdout",
     "output_type": "stream",
     "text": [
      "['shilpa', 'with ', '69']\n"
     ]
    }
   ],
   "source": [
    "l = []\n",
    "\n",
    "n = int(input(\"Enter The Number of values you want to store \"))\n",
    "\n",
    "for i in range(n):\n",
    "    x = input(\"Enter Input\")\n",
    "    l.append(x)\n",
    "\n",
    "print(l)\n"
   ]
  },
  {
   "cell_type": "markdown",
   "metadata": {},
   "source": [
    "permanently stored area's \n",
    "\n",
    "file and database\n",
    "\n",
    "text files ==> text data like name of student \n",
    "\n",
    "Binary file ---> image , video , audio files \n",
    "\n",
    "--------------\n",
    "\n",
    "1...write or read ----> opening of the file \n",
    "open(fileName , mode) -------> mode = read operation , write opeartion\n",
    "\n",
    "f = open('abc.txt','w')\n",
    "\n",
    "the allowed mode in python\n",
    "\n",
    "1.  r\t = It opens the file to read-only mode. The file pointer exists at the beginning. The file is by default open in this mode if no access mode is passed.\n",
    "the default mode is 'r' mode only \n",
    "\n",
    "open a existing file for read opeartion , if the specific file not available then we will get FileNotFoundError\n",
    "\n",
    "\n",
    "2\trb  = \tIt opens the file to read-only in binary format. The file pointer exists at the beginning of the file.\n",
    "\n",
    "3\tr+\tIt opens the file to read and write both. The file pointer exists at the beginning of the file.\n",
    "\n",
    "4\trb+\tIt opens the file to read and write both in binary format. The file pointer exists at the beginning of the file.\n",
    "\n",
    "5\tw\tIt opens the file to write only. It overwrites the file if previously exists or creates a new one if no file exists with the same name. The file pointer exists at the beginning of the file.\n",
    "\n",
    "6\twb =\tIt opens the file to write only in binary format. It overwrites the file if it exists previously or creates a new one if no file exists. The file pointer exists at the beginning of the file.\n",
    "\n",
    "7\tw+\tIt opens the file to write and read both. It is different from r+ in the sense that it overwrites the previous file if one exists whereas r+ doesn't overwrite the previously written file. It creates a new file if no file exists. The file pointer exists at the beginning of the file.\n",
    "\n",
    "8\twb+\tIt opens the file to write and read both in binary format. The file pointer exists at the beginning of the file.\n",
    "\n",
    "9\ta\t= It opens the file in the append mode. The file pointer exists at the end of the previously written \n",
    "file if exists any. It creates a new file if no file exists with the same name.\n",
    "\n",
    "10\tab =\tIt opens the file in the append mode in binary format. The pointer exists at the end of the previously written file. It creates a new file in binary format if no file exists with the same name.\n",
    "\n",
    "11\ta+ =\tIt opens a file to append and read both. The file pointer remains at the end of the file if a file exists. It creates a new file if no file exists with the same name.\n",
    "\n",
    "12\tab+\t= It opens a file to append and read both in binary format. The file pointer remains at the end of the file.\n",
    "\n",
    "13 x ----> exclusive mode \n",
    "it is for write operation \n",
    "\n",
    "compulsory file should not be available , if file exist then we get error  FileExistsError: [Errno 17] File exists: 'abc.txt'\n",
    "\n",
    "always write no new file only \n",
    "\n",
    "f.name\n",
    "\n",
    "f.mode\n",
    "\n",
    "f.closed\n",
    "\n",
    "f.readable()\n",
    "\n",
    "f.writable()"
   ]
  },
  {
   "cell_type": "code",
   "execution_count": 5,
   "metadata": {},
   "outputs": [
    {
     "ename": "FileExistsError",
     "evalue": "[Errno 17] File exists: 'abc.txt'",
     "output_type": "error",
     "traceback": [
      "\u001b[0;31m---------------------------------------------------------------------------\u001b[0m",
      "\u001b[0;31mFileExistsError\u001b[0m                           Traceback (most recent call last)",
      "\u001b[0;32m/tmp/ipykernel_82999/778072477.py\u001b[0m in \u001b[0;36m<module>\u001b[0;34m\u001b[0m\n\u001b[0;32m----> 1\u001b[0;31m \u001b[0mf\u001b[0m\u001b[0;34m=\u001b[0m \u001b[0mopen\u001b[0m\u001b[0;34m(\u001b[0m\u001b[0;34m'abc.txt'\u001b[0m\u001b[0;34m,\u001b[0m\u001b[0;34m'x'\u001b[0m\u001b[0;34m)\u001b[0m\u001b[0;34m\u001b[0m\u001b[0;34m\u001b[0m\u001b[0m\n\u001b[0m",
      "\u001b[0;31mFileExistsError\u001b[0m: [Errno 17] File exists: 'abc.txt'"
     ]
    }
   ],
   "source": [
    "f= open('abc.txt','x')"
   ]
  },
  {
   "cell_type": "code",
   "execution_count": 6,
   "metadata": {},
   "outputs": [
    {
     "ename": "FileNotFoundError",
     "evalue": "[Errno 2] No such file or directory: 'abc3.txt'",
     "output_type": "error",
     "traceback": [
      "\u001b[0;31m---------------------------------------------------------------------------\u001b[0m",
      "\u001b[0;31mFileNotFoundError\u001b[0m                         Traceback (most recent call last)",
      "\u001b[0;32m/tmp/ipykernel_82999/1747015220.py\u001b[0m in \u001b[0;36m<module>\u001b[0;34m\u001b[0m\n\u001b[0;32m----> 1\u001b[0;31m \u001b[0mf\u001b[0m\u001b[0;34m=\u001b[0m \u001b[0mopen\u001b[0m\u001b[0;34m(\u001b[0m\u001b[0;34m'abc3.txt'\u001b[0m\u001b[0;34m,\u001b[0m\u001b[0;34m'r'\u001b[0m\u001b[0;34m)\u001b[0m\u001b[0;34m\u001b[0m\u001b[0;34m\u001b[0m\u001b[0m\n\u001b[0m",
      "\u001b[0;31mFileNotFoundError\u001b[0m: [Errno 2] No such file or directory: 'abc3.txt'"
     ]
    }
   ],
   "source": [
    "f= open('abc3.txt','r')"
   ]
  },
  {
   "cell_type": "code",
   "execution_count": 19,
   "metadata": {},
   "outputs": [
    {
     "name": "stdout",
     "output_type": "stream",
     "text": [
      "fileName : abc.txt\n",
      "file Mode :  r\n",
      "is file readable ? :  True\n",
      "is file writable ? :  False\n",
      "is file closed ? :  True\n"
     ]
    }
   ],
   "source": [
    "f = open('abc.txt','r')\n",
    "print(\"fileName :\",f.name)\n",
    "print(\"file Mode : \",f.mode)\n",
    "print('is file readable ? : ',f.readable())\n",
    "print('is file writable ? : ',f.writable())\n",
    "f.close()\n",
    "print('is file closed ? : ',f.closed)"
   ]
  },
  {
   "cell_type": "markdown",
   "metadata": {},
   "source": [
    "will write in same line , we have to write line separetor manually"
   ]
  },
  {
   "cell_type": "code",
   "execution_count": 29,
   "metadata": {},
   "outputs": [],
   "source": [
    "f= open(\"abc.txt\",'w')\n",
    "f.write(\"Shilpa is working \\n\")\n",
    "f.write(\"it has been 1.5 year she is working \\n\")\n",
    "f.write(\"she is very beautiful \\n\")\n",
    "f.write(\"I could not tell her , that i lover her so much\\n\")\n",
    "f.write('69\\n')\n",
    "f.close()\n",
    "\n"
   ]
  },
  {
   "cell_type": "markdown",
   "metadata": {},
   "source": [
    "TypeError: write() argument must be str, not int\n",
    "\n",
    "writeline() will takes only string"
   ]
  },
  {
   "cell_type": "code",
   "execution_count": 30,
   "metadata": {},
   "outputs": [],
   "source": [
    "f = open(\"abc.txt\",'a')\n",
    "l = [\"shilpa \\n\",'23\\n',\"computer science\\n\",'35000\\n']\n",
    "f.writelines(l)\n",
    "\n",
    "f.close()\n",
    "\n"
   ]
  },
  {
   "cell_type": "code",
   "execution_count": 31,
   "metadata": {},
   "outputs": [],
   "source": [
    "f = open(\"abc.txt\",'a')\n",
    "l = (\"shilpa \\n\",'she is 26 now \\n',\"working on It \\n\",'35000\\n')\n",
    "f.writelines(l)\n",
    "\n",
    "f.close()\n",
    "\n"
   ]
  },
  {
   "cell_type": "code",
   "execution_count": 32,
   "metadata": {},
   "outputs": [],
   "source": [
    "f = open(\"abc.txt\",'a')\n",
    "l = {\"she is smart \\n\",'\\n',\"funny and charming young woman\\n\",'she ride bike\\n'}\n",
    "f.writelines(l)\n",
    "\n",
    "f.close()\n",
    "\n"
   ]
  },
  {
   "cell_type": "code",
   "execution_count": 36,
   "metadata": {},
   "outputs": [],
   "source": [
    "fname = input(\"Enter file Name\")\n",
    "f = open(\"\"+fname,\"w\")\n",
    "feedback = input(\"Enter your Feedback data\")\n",
    "f.write(feedback)\n",
    "f.close()"
   ]
  },
  {
   "cell_type": "markdown",
   "metadata": {},
   "source": [
    "\n",
    "f.read()\n",
    "\n",
    "f.read(n)\n",
    "\n",
    "f.readline()\n",
    "\n",
    "f.readlines() -- read file into list\n"
   ]
  },
  {
   "cell_type": "code",
   "execution_count": 43,
   "metadata": {},
   "outputs": [
    {
     "name": "stdout",
     "output_type": "stream",
     "text": [
      "Shilpa is working \n",
      "it has been 1.5 year she is working \n",
      "she is very beautiful \n",
      "I could not tell her , that i lover her so much\n",
      "69\n",
      "shilpa \n",
      "23\n",
      "computer science\n",
      "35000\n",
      "shilpa \n",
      "she is 26 now \n",
      "working on It \n",
      "35000\n",
      "she ride bike\n",
      "she is smart \n",
      "funny and charming young woman\n",
      "\n",
      "\n"
     ]
    }
   ],
   "source": [
    "f = open('abc.txt') # ('abc.txt','r')\n",
    "data=f.read()\n",
    "print(data)"
   ]
  },
  {
   "cell_type": "markdown",
   "metadata": {},
   "source": [
    "TypeError: 'str' object cannot be interpreted as an integer"
   ]
  },
  {
   "cell_type": "code",
   "execution_count": 51,
   "metadata": {},
   "outputs": [
    {
     "name": "stdout",
     "output_type": "stream",
     "text": [
      "['Shilpa is working \\n', 'it has been 1.5 year she is working \\n', 'she is very beautiful \\n', 'I could not tell her , that i lover her so much\\n', '69\\n', 'shilpa \\n', '23\\n', 'computer science\\n', '35000\\n', 'shilpa \\n', 'she is 26 now \\n', 'working on It \\n', '35000\\n', 'she ride bike\\n', 'she is smart \\n', 'funny and charming young woman\\n', '\\n']\n"
     ]
    }
   ],
   "source": [
    "f=open('abc.txt')\n",
    "all_lines =f.readlines()\n",
    "print(all_lines)"
   ]
  },
  {
   "cell_type": "code",
   "execution_count": 52,
   "metadata": {},
   "outputs": [
    {
     "name": "stdout",
     "output_type": "stream",
     "text": [
      "Shilpa is working \n",
      " it has been 1.5 year she is working \n",
      " she is very beautiful \n",
      " I could not tell her , that i lover her so much\n",
      " 69\n",
      " shilpa \n",
      " 23\n",
      " computer science\n",
      " 35000\n",
      " shilpa \n",
      " she is 26 now \n",
      " working on It \n",
      " 35000\n",
      " she ride bike\n",
      " she is smart \n",
      " funny and charming young woman\n",
      " \n",
      " "
     ]
    }
   ],
   "source": [
    "f= open('abc.txt')\n",
    "lines = f.readlines()\n",
    "for line in lines:\n",
    "    print(line,end=\" \")"
   ]
  },
  {
   "cell_type": "markdown",
   "metadata": {},
   "source": [
    "\n",
    "1\tfile.close()\tIt closes the opened file. The file once closed, it can't be read or write anymore.\n",
    "\n",
    "2\tFile.fush()\tIt flushes the internal buffer.\n",
    "\n",
    "3\tFile.fileno()\tIt returns the file descriptor used by the underlying implementation to request I/O from the OS.\n",
    "\n",
    "4\tFile.isatty()\tIt returns true if the file is connected to a TTY device, otherwise returns false.\n",
    "\n",
    "5\tFile.next()\tIt returns the next line from the file.\n",
    "\n",
    "6\tFile.read([size])\tIt reads the file for the specified size.\n",
    "\n",
    "7\tFile.readline([size])\tIt reads one line from the file and places the file pointer to the beginning of the new \n",
    "line.\n",
    "\n",
    "8\tFile.readlines([sizehint])\tIt returns a list containing all the lines of the file. It reads the file until the EOF occurs using readline() function.\n",
    "\n",
    "\n",
    "9\tFile.seek(offset[,from)\tIt modifies the position of the file pointer to a specified offset with the specifiedreference.\n",
    "\n",
    "10\tFile.tell()\tIt returns the current position of the file pointer within the file.\n",
    "\n",
    "11\tFile.truncate([size])\tIt truncates the file to the optional specified size.\n",
    "\n",
    "12\tFile.write(str)\tIt writes the specified string to a file\n",
    "\n",
    "13\tFile.writelines(seq)\tIt writes a sequence of the strings to a file."
   ]
  },
  {
   "cell_type": "markdown",
   "metadata": {},
   "source": [
    "_______________________________________\n",
    "\n",
    "with open('abc.txt','w') as f :\n",
    "\n",
    "    ...\n",
    "\n",
    "    ...\n",
    "\n",
    "\n",
    "file is automatically closed "
   ]
  },
  {
   "cell_type": "code",
   "execution_count": 1,
   "metadata": {},
   "outputs": [],
   "source": [
    "import os\n",
    "os.getcwd()  \n",
    "os.mkdir(\"Shilpa\")"
   ]
  },
  {
   "cell_type": "markdown",
   "metadata": {},
   "source": [
    "Deleting directory\n",
    "\n",
    "The rmdir() method is used to delete the specified directory.\n",
    "\n",
    "The syntax to use the rmdir() method is given below.\n",
    "\n",
    "Syntax\n",
    "\n",
    "os.rmdir(directory name)    \n"
   ]
  },
  {
   "cell_type": "code",
   "execution_count": null,
   "metadata": {},
   "outputs": [],
   "source": [
    "# os.rmdir(\"  \")"
   ]
  },
  {
   "cell_type": "code",
   "execution_count": 58,
   "metadata": {},
   "outputs": [
    {
     "name": "stdout",
     "output_type": "stream",
     "text": [
      "Shilpa is working \n",
      "it has been 1.5 year she is working \n",
      "she is very beautiful \n",
      "I could not tell her , that i lover her so much\n",
      "69\n",
      "shilpa \n",
      "23\n",
      "computer science\n",
      "35000\n",
      "shilpa \n",
      "she is 26 now \n",
      "working on It \n",
      "35000\n",
      "she ride bike\n",
      "she is smart \n",
      "funny and charming young woman\n",
      "\n",
      "get a job man,  first get a job man,  first \n",
      "\n",
      "IS file closed ? False\n",
      "IS file closed ?  True\n"
     ]
    }
   ],
   "source": [
    "with open('abc.txt',\"r+\") as f :\n",
    "    data = f.read()\n",
    "    print(data)\n",
    "    f.write(\"get a job man,  first \")\n",
    "    data = f.read()\n",
    "    print(data)\n",
    "    print(\"IS file closed ?\",f.closed)\n",
    "print(\"IS file closed ? \",f.closed)\n",
    "\n",
    "\n"
   ]
  },
  {
   "cell_type": "code",
   "execution_count": null,
   "metadata": {},
   "outputs": [],
   "source": []
  }
 ],
 "metadata": {
  "interpreter": {
   "hash": "916dbcbb3f70747c44a77c7bcd40155683ae19c65e1c03b4aa3499c5328201f1"
  },
  "kernelspec": {
   "display_name": "Python 3.8.10 64-bit",
   "language": "python",
   "name": "python3"
  },
  "language_info": {
   "codemirror_mode": {
    "name": "ipython",
    "version": 3
   },
   "file_extension": ".py",
   "mimetype": "text/x-python",
   "name": "python",
   "nbconvert_exporter": "python",
   "pygments_lexer": "ipython3",
   "version": "3.8.10"
  },
  "orig_nbformat": 4
 },
 "nbformat": 4,
 "nbformat_minor": 2
}
