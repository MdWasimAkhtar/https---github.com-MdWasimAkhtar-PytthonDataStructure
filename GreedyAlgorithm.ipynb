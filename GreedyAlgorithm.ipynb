{
 "cells": [
  {
   "cell_type": "markdown",
   "metadata": {},
   "source": [
    "A greedy algorithm is an approach for solving a problem by selecting the best option available at the moment. It doesn't worry whether the current best result will bring the overall optimal result.\n",
    "\n",
    "The algorithm never reverses the earlier decision even if the choice is wrong. It works in a top-down approach.\n",
    "\n",
    "This algorithm may not produce the best result for all the problems. It's because it always goes for the local best choice to produce the global best result.\n",
    "\n",
    "However, we can determine if the algorithm can be used with any problem if the problem has the following properties:\n",
    "\n",
    "An optimization problem can be solved using Greedy if the problem has the following property: At every step, we can make a choice that looks best at the moment, and we get the optimal solution of the complete problem\n",
    "\n",
    "Problem on which greedy approach works has two properties\n",
    "\n",
    "1. Greedy Choice Property\n",
    "\n",
    "If an optimal solution to the problem can be found by choosing the best choice at each step without reconsidering the previous steps once chosen, the problem can be solved using a greedy approach. This property is called greedy choice property.\n",
    "\n",
    "2. Optimal Substructure\n",
    "\n",
    "If the optimal overall solution to the problem corresponds to the optimal solution to its subproblems, then the problem can be solved using a greedy approach. This property is called optimal substructure.\n",
    "\n",
    "Advantages of Greedy Approach\n",
    "The algorithm is easier to describe.\n",
    "This algorithm can perform better than other algorithms (but, not in all cases).\n",
    "Drawback of Greedy Approach\n",
    "As mentioned earlier, the greedy algorithm doesn't always produce the optimal solution. This is the major disadvantage of the algorithm\n",
    "\n",
    "For example, suppose we want to find the longest path in the graph below from root to leaf. Let's use the greedy algorithm here."
   ]
  },
  {
   "cell_type": "markdown",
   "metadata": {},
   "source": [
    "________________________________________________\n",
    "Standard Greedy Algorithms :\n",
    "\n",
    "Activity Selection Problem\n",
    "\n",
    "Egyptian Fraction\n",
    "\n",
    "Job Sequencing Problem\n",
    "\n",
    "Job Sequencing Problem (Using Disjoint Set)\n",
    "\n",
    "Job Sequencing Problem – Loss Minimization\n",
    "\n",
    "Job Selection Problem – Loss Minimization Strategy | Set 2\n",
    "\n",
    "Huffman Coding\n",
    "\n",
    "Efficient Huffman Coding for sorted input\n",
    "\n",
    "Huffman Decoding\n",
    "\n",
    "Water Connection Problem\n",
    "\n",
    "Policemen catch thieves\n",
    "\n",
    "Minimum Swaps for Bracket Balancing\n",
    "\n",
    "Fitting Shelves Problem\n",
    "\n",
    "Assign Mice to Holes"
   ]
  },
  {
   "cell_type": "code",
   "execution_count": 25,
   "metadata": {},
   "outputs": [
    {
     "name": "stdout",
     "output_type": "stream",
     "text": [
      "2\n",
      "[[1, 2], [3, 4], [0, 6], [5, 7], [5, 9], [8, 9]]\n",
      "The following Activity are selected : \n",
      "[[1, 2], [3, 4], [5, 7], [8, 9]]\n"
     ]
    }
   ],
   "source": [
    "def printMaxActivity(arr,n):\n",
    "    \n",
    "    selected = []\n",
    "\n",
    "    Activity.sort(key = lambda x : x[1])\n",
    "\n",
    "    #the first activity is always get seleted\n",
    "\n",
    "    i = 0 \n",
    "    selected.append(arr[i])\n",
    "    print(arr[0][1])\n",
    "\n",
    "    for j in range(1,n):\n",
    "    \n",
    "        if arr[j][0] >= arr[i][1]:\n",
    "            selected.append(arr[j])\n",
    "            i = j \n",
    "    return selected\n",
    "\n",
    "\n",
    "Activity = [[5, 9], [1, 2], [3, 4], [0, 6],[5, 7], [8, 9]]\n",
    "n = len(Activity)\n",
    "selected = printMaxActivity(Activity , n )\n",
    "print(Activity)\n",
    "print(\"The following Activity are selected : \")\n",
    "print(selected)\n",
    "\n",
    "\n"
   ]
  },
  {
   "cell_type": "code",
   "execution_count": null,
   "metadata": {},
   "outputs": [],
   "source": []
  },
  {
   "cell_type": "code",
   "execution_count": null,
   "metadata": {},
   "outputs": [],
   "source": []
  }
 ],
 "metadata": {
  "interpreter": {
   "hash": "916dbcbb3f70747c44a77c7bcd40155683ae19c65e1c03b4aa3499c5328201f1"
  },
  "kernelspec": {
   "display_name": "Python 3.8.10 64-bit",
   "language": "python",
   "name": "python3"
  },
  "language_info": {
   "codemirror_mode": {
    "name": "ipython",
    "version": 3
   },
   "file_extension": ".py",
   "mimetype": "text/x-python",
   "name": "python",
   "nbconvert_exporter": "python",
   "pygments_lexer": "ipython3",
   "version": "3.8.10"
  },
  "orig_nbformat": 4
 },
 "nbformat": 4,
 "nbformat_minor": 2
}
