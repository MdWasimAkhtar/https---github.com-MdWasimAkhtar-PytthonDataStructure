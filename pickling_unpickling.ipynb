{
 "cells": [
  {
   "cell_type": "markdown",
   "metadata": {},
   "source": [
    "Python pickle module is used for serializing and de-serializing python object structures. The process to converts any kind of python objects (list, dict, etc.) into byte streams (0s and 1s) is called pickling or serialization or flattening or marshalling. \n",
    "\n",
    "We can converts the byte stream (generated through pickling) back into python objects by a process called as unpickling.\n",
    "\n",
    "Why Pickle?: In real world sceanario, the use pickling and unpickling are widespread as they allow us to easily transfer data from one server/system to another and then store it in a file or database.\n",
    "\n",
    "The Process of writing state of an Object to the file is known as pickling (serlization)\n",
    "\n",
    "And the process of reading state of an Object from a file is known as Unpickling (de_serlization)\n",
    "\n",
    "pickle module contains \n",
    "\n",
    "Module Interface : \n",
    " \n",
    "dumps() – This function is called to serialize an object hierarchy.\n",
    "\n",
    "loads() – This function is called to de-serialize a data stream.\n",
    "\n",
    "___________________________________\n",
    "pickle.dump(obj, file, protocol = None, *, fix_imports = True) \n",
    "\n",
    "This function is equivalent to Pickler(file, protocol).dump(obj). This is used to write a pickled representation of obj to the open file object file.\n",
    "The optional protocol argument is an integer that tells the pickler to use the given protocol. The supported protocols are 0 to HIGHEST_PROTOCOL. If not specified, the default is DEFAULT_PROTOCOL. If a negative number is specified, HIGHEST_PROTOCOL is selected.\n",
    "If fix_imports is true and protocol is less than 3, the pickle will try to map the new Python 3 names to the old module names used in Python 2, so that the pickle data stream is readable with Python 2. \n",
    "\n",
    "pickle.dump(object, file)\n",
    "\n",
    "\n"
   ]
  },
  {
   "cell_type": "code",
   "execution_count": 18,
   "metadata": {},
   "outputs": [
    {
     "name": "stdout",
     "output_type": "stream",
     "text": [
      "pickling of Employee Object complete\n"
     ]
    }
   ],
   "source": [
    "import pickle\n",
    "\n",
    "class Employee:\n",
    "\n",
    "    def __init__(self,E_id , E_Name , E_Sal ):\n",
    "        self.E_id = E_id\n",
    "        self.E_Name = E_Name \n",
    "        self.E_Sal = E_Sal\n",
    "\n",
    "    def display(self):\n",
    "        print('E_id: {} , E_Name:{} ,  E_Sal :{} '.format(self.E_id, self.E_Name , self.E_Sal))\n",
    "\n",
    "\n",
    "e1 = Employee(101,\"Shilpa\",780000)\n",
    "\n",
    "with open('Emp_list.txt','wb') as f :\n",
    "    pickle.dump(e1,f)\n",
    "    f.flush()\n",
    "    print(\"pickling of Employee Object complete\")"
   ]
  },
  {
   "cell_type": "markdown",
   "metadata": {},
   "source": [
    "Unpickling\n",
    "---------------\n",
    "\n",
    "pickle.load(file)\n",
    "\n",
    "pickle.load(file, *, fix_imports = True, encoding = “ASCII”, errors = “strict”) \n",
    "This function is equivalent to Unpickler(file).load(). This function is used to read a pickled object representation from the open file object file and return the reconstituted object hierarchy specified."
   ]
  },
  {
   "cell_type": "code",
   "execution_count": 19,
   "metadata": {},
   "outputs": [
    {
     "name": "stdout",
     "output_type": "stream",
     "text": [
      "Unpickling complete\n",
      "E_id: 101 , E_Name:Shilpa ,  E_Sal :780000 \n"
     ]
    }
   ],
   "source": [
    "with open('Emp_list.txt','rb') as f :\n",
    "    obj = pickle.load(f)\n",
    "    print(\"Unpickling complete\")\n",
    "    obj.display()"
   ]
  },
  {
   "cell_type": "code",
   "execution_count": 22,
   "metadata": {},
   "outputs": [
    {
     "name": "stdout",
     "output_type": "stream",
     "text": [
      "All Employee Object serialized \n"
     ]
    }
   ],
   "source": [
    "f = open('Emp_list.txt', 'wb')\n",
    "while True:\n",
    "    E_id = int(input('Enter Employee Number :'))\n",
    "    E_Name = input(\"Enter Employee Name : \")\n",
    "    E_Sal = float(input(\"Enter Employee Salary : \"))\n",
    "    e = Employee(E_id , E_Name , E_Sal)\n",
    "    pickle.dump(e , f )\n",
    "    f.flush()\n",
    "    option = input('Do you want to save one more Emp Object yes / no')\n",
    "    if option.lower() == 'no':\n",
    "        break \n",
    "print(\"All Employee Object serialized \")\n",
    "\n"
   ]
  },
  {
   "cell_type": "code",
   "execution_count": 23,
   "metadata": {},
   "outputs": [
    {
     "name": "stdout",
     "output_type": "stream",
     "text": [
      "Unpickling....\n",
      "E_id: 302 , E_Name:williams ,  E_Sal :78000.0 \n",
      "\n"
     ]
    }
   ],
   "source": [
    "# DeSerialized Employee Object\n",
    "\n",
    "f = open('Emp_list.txt','rb')\n",
    "print(\"Unpickling....\")\n",
    "while True:\n",
    "    try:\n",
    "        obj = pickle.load(f)\n",
    "        obj.display()\n",
    "    except EOFError:\n",
    "        print()\n",
    "        break\n",
    "\n",
    "\n"
   ]
  },
  {
   "cell_type": "markdown",
   "metadata": {},
   "source": [
    "EOF Error -- End of FIle error "
   ]
  },
  {
   "cell_type": "markdown",
   "metadata": {},
   "source": []
  }
 ],
 "metadata": {
  "interpreter": {
   "hash": "916dbcbb3f70747c44a77c7bcd40155683ae19c65e1c03b4aa3499c5328201f1"
  },
  "kernelspec": {
   "display_name": "Python 3.8.10 64-bit",
   "language": "python",
   "name": "python3"
  },
  "language_info": {
   "codemirror_mode": {
    "name": "ipython",
    "version": 3
   },
   "file_extension": ".py",
   "mimetype": "text/x-python",
   "name": "python",
   "nbconvert_exporter": "python",
   "pygments_lexer": "ipython3",
   "version": "3.8.10"
  },
  "orig_nbformat": 4
 },
 "nbformat": 4,
 "nbformat_minor": 2
}
