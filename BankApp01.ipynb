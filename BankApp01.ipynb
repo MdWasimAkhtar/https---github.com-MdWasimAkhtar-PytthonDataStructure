{
 "cells": [
  {
   "cell_type": "markdown",
   "metadata": {},
   "source": [
    "error :\n",
    "\n",
    "\n",
    "    UnboundLocalError: local variable 'balance' referenced before assignment\n"
   ]
  },
  {
   "cell_type": "code",
   "execution_count": 2,
   "metadata": {},
   "outputs": [
    {
     "name": "stdout",
     "output_type": "stream",
     "text": [
      "Press-1 for deposite money\n",
      "press-2 for Withdraw money\n",
      "press-3 for check balance\n",
      "press-4 for exit \n",
      "Balance After withdraw !  400\n",
      "Press-1 for deposite money\n",
      "press-2 for Withdraw money\n",
      "press-3 for check balance\n",
      "press-4 for exit \n",
      "Invalid Option ! \n",
      "~~~~~~~~~~~~~~~~~~~~~~~~~~~~~~~~~~~~~~~~~~~~~~~~~~~~~~~~~\n",
      "Press-1 for deposite money\n",
      "press-2 for Withdraw money\n",
      "press-3 for check balance\n",
      "press-4 for exit \n",
      "Balance after deposite  10400\n",
      "Press-1 for deposite money\n",
      "press-2 for Withdraw money\n",
      "press-3 for check balance\n",
      "press-4 for exit \n",
      "Balance after deposite  110400\n",
      "Press-1 for deposite money\n",
      "press-2 for Withdraw money\n",
      "press-3 for check balance\n",
      "press-4 for exit \n",
      "Balance after deposite  7110400\n",
      "Press-1 for deposite money\n",
      "press-2 for Withdraw money\n",
      "press-3 for check balance\n",
      "press-4 for exit \n",
      "Balance After withdraw !  7107400\n"
     ]
    },
    {
     "ename": "SystemExit",
     "evalue": "Thank You for Visiting Our Bank , Have A Wonderful Day ",
     "output_type": "error",
     "traceback": [
      "An exception has occurred, use %tb to see the full traceback.\n",
      "\u001b[0;31mSystemExit\u001b[0m\u001b[0;31m:\u001b[0m Thank You for Visiting Our Bank , Have A Wonderful Day \n"
     ]
    },
    {
     "name": "stderr",
     "output_type": "stream",
     "text": [
      "/home/ubuntu-wasim/.local/lib/python3.8/site-packages/IPython/core/interactiveshell.py:3465: UserWarning: To exit: use 'exit', 'quit', or Ctrl-D.\n",
      "  warn(\"To exit: use 'exit', 'quit', or Ctrl-D.\", stacklevel=1)\n"
     ]
    }
   ],
   "source": [
    "import sys\n",
    "\n",
    "\n",
    "class BankApp:\n",
    "\n",
    "    def __init__(self):\n",
    "        self.balance = 500\n",
    "\n",
    "    def deposite(self,amt):\n",
    "        self.balance = self.balance + amt\n",
    "        print(\"Balance after deposite \",self.balance)\n",
    "    \n",
    "    def withdraw(self,amt):\n",
    "        if self.balance >amt:\n",
    "            self.balance = self.balance - amt\n",
    "            print(\"Balance After withdraw ! \",self.balance)\n",
    "        else:\n",
    "            print(\"Insufficient Funds !\")\n",
    "\n",
    "    def checkBalance(self):\n",
    "        return self.balance\n",
    "\n",
    "    def appWork(self):\n",
    "\n",
    "        bank = BankApp()\n",
    "        while True:    \n",
    "            print(\"Press-1 for deposite money\")\n",
    "            print(\"press-2 for Withdraw money\")\n",
    "            print(\"press-3 for check balance\")\n",
    "            print(\"press-4 for exit \")\n",
    "            choice = int(input(\"Enter your choice \"))\n",
    "            if choice == 1 :\n",
    "                amt = int(input(\"Amount you want to deposite\"))\n",
    "                bank.deposite(amt)\n",
    "\n",
    "            elif choice == 2 :\n",
    "                amt = int(input(\"Enter amount to withdraw\"))\n",
    "                bank.withdraw(amt)\n",
    "\n",
    "            elif choice == 3 :\n",
    "                bank.checkBalance()\n",
    "            elif choice == 4 :\n",
    "                sys.exit(\"Thank You for Visiting Our Bank , Have A Wonderful Day \")\n",
    "            else:\n",
    "                print(\"Invalid Option ! \")\n",
    "                print('~~~~~~~~~~~~~~~~~~~~~~~~~~~~~~~~~~~~~~~~~~~~~~~~~~~~~~~~~')\n",
    "            yes_no=input(\"Do you want to make Transaction again [yes/no]\")\n",
    "            if yes_no =='no':\n",
    "                sys.exit(\"Thank You for Visiting Our Bank , Have A Wonderful Day \")\n",
    "\n",
    "\n",
    "\n",
    "\n",
    "b1 = BankApp()\n",
    "b1.appWork()"
   ]
  },
  {
   "cell_type": "code",
   "execution_count": 16,
   "metadata": {},
   "outputs": [
    {
     "name": "stdout",
     "output_type": "stream",
     "text": [
      "Balance after deposite  1500\n",
      "Balance After withdraw !  500\n",
      "Balance After withdraw !  300\n"
     ]
    }
   ],
   "source": [
    "b1 = BankApp()\n",
    "b1.deposite(1000);\n",
    "b1.withdraw(1000)\n",
    "b1.withdraw(200)"
   ]
  },
  {
   "cell_type": "code",
   "execution_count": null,
   "metadata": {},
   "outputs": [],
   "source": [
    "class BankApplication:\n",
    "\n",
    "    def __init__(self):\n",
    "        self.balance = 100\n",
    "\n",
    "    "
   ]
  }
 ],
 "metadata": {
  "interpreter": {
   "hash": "916dbcbb3f70747c44a77c7bcd40155683ae19c65e1c03b4aa3499c5328201f1"
  },
  "kernelspec": {
   "display_name": "Python 3.8.10 64-bit",
   "language": "python",
   "name": "python3"
  },
  "language_info": {
   "codemirror_mode": {
    "name": "ipython",
    "version": 3
   },
   "file_extension": ".py",
   "mimetype": "text/x-python",
   "name": "python",
   "nbconvert_exporter": "python",
   "pygments_lexer": "ipython3",
   "version": "3.8.10"
  },
  "orig_nbformat": 4
 },
 "nbformat": 4,
 "nbformat_minor": 2
}
