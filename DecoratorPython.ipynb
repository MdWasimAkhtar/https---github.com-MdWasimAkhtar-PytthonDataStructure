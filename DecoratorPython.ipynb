{
 "cells": [
  {
   "cell_type": "markdown",
   "metadata": {},
   "source": [
    "Python has an interesting feature called decorators to add functionality to an existing code.\n",
    "\n",
    "This is also called metaprogramming because a part of the program tries to modify another part of the program at compile time.\n",
    "\n"
   ]
  },
  {
   "cell_type": "code",
   "execution_count": 2,
   "metadata": {},
   "outputs": [
    {
     "name": "stdout",
     "output_type": "stream",
     "text": [
      "Hello Shilpa  I Love You\n"
     ]
    }
   ],
   "source": [
    "def first(msg):\n",
    "    print(\"Hello Shilpa \",msg)\n",
    "\n",
    "\n",
    "first('I Love You')"
   ]
  },
  {
   "cell_type": "code",
   "execution_count": 7,
   "metadata": {},
   "outputs": [
    {
     "name": "stdout",
     "output_type": "stream",
     "text": [
      "Hello Shilpa   love you  Again \n"
     ]
    }
   ],
   "source": [
    "second = first\n",
    "second(\" love you  Again \")"
   ]
  },
  {
   "cell_type": "markdown",
   "metadata": {},
   "source": [
    "When you run the code, both functions first and second give the same output. Here, the names first and second refer to the same function object.\n",
    "\n",
    "Now things start getting weirder.\n",
    "\n",
    "Functions can be passed as arguments to another function.\n",
    "\n",
    "If you have used functions like map, filter and reduce in Python, then you already know about this.\n",
    "\n",
    "Such functions that take other functions as arguments are also called higher order functions. Here is an example of such a function."
   ]
  },
  {
   "cell_type": "code",
   "execution_count": 10,
   "metadata": {},
   "outputs": [],
   "source": [
    "def inc(x):\n",
    "    return x + 1 \n",
    "\n",
    "def dec(x):\n",
    "    return x -1 \n",
    "\n",
    "\n",
    "def operate(func , x):\n",
    "    result = func(x)\n",
    "    return result"
   ]
  },
  {
   "cell_type": "code",
   "execution_count": 11,
   "metadata": {},
   "outputs": [
    {
     "data": {
      "text/plain": [
       "11"
      ]
     },
     "execution_count": 11,
     "metadata": {},
     "output_type": "execute_result"
    }
   ],
   "source": [
    "operate(inc,10)"
   ]
  },
  {
   "cell_type": "code",
   "execution_count": 12,
   "metadata": {},
   "outputs": [
    {
     "data": {
      "text/plain": [
       "9"
      ]
     },
     "execution_count": 12,
     "metadata": {},
     "output_type": "execute_result"
    }
   ],
   "source": [
    "operate(dec , 10)"
   ]
  },
  {
   "cell_type": "markdown",
   "metadata": {},
   "source": [
    "Furthermore, a function can return another function."
   ]
  },
  {
   "cell_type": "code",
   "execution_count": 14,
   "metadata": {},
   "outputs": [
    {
     "name": "stdout",
     "output_type": "stream",
     "text": [
      "Java Is Missing part \n"
     ]
    }
   ],
   "source": [
    "def is_called():\n",
    "    def is_returned():\n",
    "        print(\"Java Is Missing part \")        \n",
    "    return is_returned\n",
    "\n",
    "obj1 = is_called()\n",
    "obj1()"
   ]
  },
  {
   "cell_type": "markdown",
   "metadata": {},
   "source": [
    "Decorators\n",
    "------\n",
    "Functions and methods are called callable as they can be called.\n",
    "\n",
    "In fact, any object which implements the special __call__() method is termed callable. So, in the most basic sense, a decorator is a callable that returns a callable.\n",
    "\n",
    "Basically, a decorator takes in a function, adds some functionality and returns it."
   ]
  },
  {
   "cell_type": "code",
   "execution_count": 15,
   "metadata": {},
   "outputs": [],
   "source": [
    "def make_pretty(func):\n",
    "    def inner():\n",
    "        print(\"I got decorated \")\n",
    "        func()\n",
    "    return inner\n",
    "\n",
    "def ordinary():\n",
    "    print(\"I am ordinary\")\n",
    "    "
   ]
  },
  {
   "cell_type": "code",
   "execution_count": 16,
   "metadata": {},
   "outputs": [
    {
     "name": "stdout",
     "output_type": "stream",
     "text": [
      "I am ordinary\n"
     ]
    }
   ],
   "source": [
    "ordinary()"
   ]
  },
  {
   "cell_type": "code",
   "execution_count": 17,
   "metadata": {},
   "outputs": [
    {
     "name": "stdout",
     "output_type": "stream",
     "text": [
      "I got decorated \n",
      "I am ordinary\n"
     ]
    }
   ],
   "source": [
    "pretty = make_pretty(ordinary)\n",
    "pretty()"
   ]
  },
  {
   "cell_type": "code",
   "execution_count": 18,
   "metadata": {},
   "outputs": [],
   "source": [
    "def make_pretty(func):\n",
    "    def inner():\n",
    "        print(\"I got decorated \")\n",
    "        func()\n",
    "    return inner\n",
    "\n",
    "@make_pretty\n",
    "def ordinary():\n",
    "    print(\"I am ordinary\")\n",
    "    "
   ]
  },
  {
   "cell_type": "code",
   "execution_count": 19,
   "metadata": {},
   "outputs": [
    {
     "name": "stdout",
     "output_type": "stream",
     "text": [
      "I got decorated \n",
      "I am ordinary\n"
     ]
    }
   ],
   "source": [
    "ordinary()"
   ]
  },
  {
   "cell_type": "markdown",
   "metadata": {},
   "source": [
    "Decorating Functions with Parameters"
   ]
  },
  {
   "cell_type": "code",
   "execution_count": 26,
   "metadata": {},
   "outputs": [],
   "source": [
    "def divide(a,b):\n",
    "    return a/b\n"
   ]
  },
  {
   "cell_type": "code",
   "execution_count": 27,
   "metadata": {},
   "outputs": [
    {
     "data": {
      "text/plain": [
       "40000000.0"
      ]
     },
     "execution_count": 27,
     "metadata": {},
     "output_type": "execute_result"
    }
   ],
   "source": [
    "divide(20000000000,500)"
   ]
  },
  {
   "cell_type": "code",
   "execution_count": 42,
   "metadata": {},
   "outputs": [],
   "source": [
    "def smart_division(func):\n",
    "    def inner(a,b):\n",
    "        if b ==0 :\n",
    "            try:\n",
    "                print(a/b)\n",
    "            except ZeroDivisionError as msg:\n",
    "                print(\"can't divide with zero\",msg)\n",
    "            return\n",
    "        return func(a,b)\n",
    "    return inner"
   ]
  },
  {
   "cell_type": "code",
   "execution_count": 43,
   "metadata": {},
   "outputs": [],
   "source": [
    "@smart_division\n",
    "def divide(a,b):\n",
    "    print(a/b)"
   ]
  },
  {
   "cell_type": "code",
   "execution_count": 44,
   "metadata": {},
   "outputs": [
    {
     "name": "stdout",
     "output_type": "stream",
     "text": [
      "can't divide with zero division by zero\n"
     ]
    }
   ],
   "source": [
    "divide(90,0)"
   ]
  },
  {
   "cell_type": "code",
   "execution_count": 45,
   "metadata": {},
   "outputs": [
    {
     "name": "stdout",
     "output_type": "stream",
     "text": [
      "0.9\n"
     ]
    }
   ],
   "source": [
    "divide(90,100)"
   ]
  },
  {
   "cell_type": "code",
   "execution_count": 46,
   "metadata": {},
   "outputs": [],
   "source": [
    "def works_for_all(func):\n",
    "\n",
    "    def inner(*args,**kwargs):\n",
    "        print(\"I can decorate any Function\")\n",
    "\n",
    "        return func(*args,**kwargs)\n",
    "    return inner"
   ]
  },
  {
   "cell_type": "markdown",
   "metadata": {},
   "source": [
    "Chaining Decorators in Python\n",
    "--------------------------------------\n",
    "Multiple decorators can be chained in Python.\n",
    "\n",
    "This is to say, a function can be decorated multiple times with different (or same) decorators. We simply place the decorators above the desired function."
   ]
  },
  {
   "cell_type": "code",
   "execution_count": 49,
   "metadata": {},
   "outputs": [],
   "source": [
    "def star(func):\n",
    "    def inner(*args, **kwargs):\n",
    "        print(\"*\" * 30)\n",
    "\n",
    "        func(*args, **kwargs)\n",
    "        print(\"*\"*30)\n",
    "    return inner\n",
    "\n",
    "def percent(func):\n",
    "\n",
    "    def inner(*args,**kwargs):\n",
    "        print(\"%\"*30)\n",
    "\n",
    "        func(*args,**kwargs)\n",
    "        print(\"%\"*30)\n",
    "    return inner\n"
   ]
  },
  {
   "cell_type": "code",
   "execution_count": 51,
   "metadata": {},
   "outputs": [
    {
     "name": "stdout",
     "output_type": "stream",
     "text": [
      "******************************\n",
      "%%%%%%%%%%%%%%%%%%%%%%%%%%%%%%\n",
      "Hello\n",
      "%%%%%%%%%%%%%%%%%%%%%%%%%%%%%%\n",
      "******************************\n"
     ]
    }
   ],
   "source": [
    "@star\n",
    "@percent\n",
    "def printer(msg):\n",
    "    print(msg)\n",
    "\n",
    "printer(\"Hello\")"
   ]
  },
  {
   "cell_type": "markdown",
   "metadata": {},
   "source": [
    "Destructors in Python\n",
    "------------------\n",
    "Destructors are called when an object gets destroyed. \n",
    "\n",
    "Python has a garbage collector that handles memory management automatically.\n",
    "\n",
    "The __del__() method is a known as a destructor method in Python.\n",
    "-----\n",
    " It is called when all references to the object have been deleted i.e when an object is garbage collected."
   ]
  },
  {
   "cell_type": "markdown",
   "metadata": {},
   "source": []
  },
  {
   "cell_type": "code",
   "execution_count": 55,
   "metadata": {},
   "outputs": [
    {
     "name": "stdout",
     "output_type": "stream",
     "text": [
      "EMployee created  \n",
      "Destructor called \n"
     ]
    }
   ],
   "source": [
    "class Employee:\n",
    "\n",
    "    #Initializing \n",
    "    def __init__(self):\n",
    "        print(\"EMployee created  \")\n",
    "    \n",
    "    def __del__(self):\n",
    "        print(\"Destructor called \")\n",
    "\n",
    "obj = Employee()\n",
    "del obj"
   ]
  },
  {
   "cell_type": "markdown",
   "metadata": {},
   "source": [
    "Note : A reference to objects is also deleted when the object goes out of reference or when the program ends.\n",
    "\n",
    "Note : The destructor was called after the program ended or when all the references to object are deleted i.e when the reference count becomes zero, not when object went out of scope."
   ]
  },
  {
   "cell_type": "markdown",
   "metadata": {},
   "source": []
  },
  {
   "cell_type": "code",
   "execution_count": 57,
   "metadata": {},
   "outputs": [
    {
     "name": "stdout",
     "output_type": "stream",
     "text": [
      "calling Create_obj() function  \n",
      "Making Object.....\n",
      "Employee create\n",
      "Function End.....\n",
      "Program End....\n"
     ]
    }
   ],
   "source": [
    "class Employee:\n",
    "\n",
    "    #Initializing \n",
    "    def __init__(self):\n",
    "        print(\"Employee create\")\n",
    "\n",
    "    def __del__(self):\n",
    "        print(\"Destructor called..... \")\n",
    "    \n",
    "    def Create_obj():\n",
    "        print(\"Making Object.....\")\n",
    "        obj = Employee()\n",
    "        print(\"Function End.....\")\n",
    "        return obj \n",
    "\n",
    "    print(\"calling Create_obj() function  \")\n",
    "    obj = Create_obj()\n",
    "    print(\"Program End....\")"
   ]
  },
  {
   "cell_type": "markdown",
   "metadata": {},
   "source": [
    "Note : The destructor was called after the program ended or when all the references to object are deleted i.e when the reference count becomes zero, not when object went out of scope."
   ]
  },
  {
   "cell_type": "markdown",
   "metadata": {},
   "source": []
  },
  {
   "cell_type": "markdown",
   "metadata": {},
   "source": [
    "function vs Method \n",
    "-----------------\n",
    "\n",
    "Here, key differences between Method and Function in Python are explained. Java is also an OOP language, but their is no concept of Function in it. But Python has both concept of Method and Function.\n",
    "\n",
    "$$ Python Method $$\n",
    "\n",
    "Method is called by its name, but it is associated to an object (dependent).\n",
    "\n",
    "A method is implicitly passed the object on which it is invoked.\n",
    "\n",
    "It may or may not return any data.\n",
    "\n",
    "A method can operate on the data (instance variables) that is contained by the corresponding class\n",
    "\n"
   ]
  },
  {
   "cell_type": "markdown",
   "metadata": {},
   "source": [
    "User define Method\n"
   ]
  },
  {
   "cell_type": "code",
   "execution_count": 2,
   "metadata": {},
   "outputs": [
    {
     "name": "stdout",
     "output_type": "stream",
     "text": [
      "I am a Method of class ABC , and dependent on it \n"
     ]
    }
   ],
   "source": [
    "class ABC:\n",
    "    def method_abc(self):\n",
    "        print(\"I am a Method of class ABC , and dependent on it \")\n",
    "    \n",
    "\n",
    "obj = ABC()\n",
    "obj.method_abc()"
   ]
  },
  {
   "cell_type": "code",
   "execution_count": 5,
   "metadata": {},
   "outputs": [
    {
     "ename": "NameError",
     "evalue": "name 'method_abc' is not defined",
     "output_type": "error",
     "traceback": [
      "\u001b[0;31m---------------------------------------------------------------------------\u001b[0m",
      "\u001b[0;31mNameError\u001b[0m                                 Traceback (most recent call last)",
      "\u001b[0;32m/tmp/ipykernel_24792/1832255469.py\u001b[0m in \u001b[0;36m<module>\u001b[0;34m\u001b[0m\n\u001b[0;32m----> 1\u001b[0;31m \u001b[0mmethod_abc\u001b[0m\u001b[0;34m(\u001b[0m\u001b[0;34m)\u001b[0m\u001b[0;34m\u001b[0m\u001b[0;34m\u001b[0m\u001b[0m\n\u001b[0m",
      "\u001b[0;31mNameError\u001b[0m: name 'method_abc' is not defined"
     ]
    }
   ],
   "source": [
    "method_abc()  # can call directly "
   ]
  },
  {
   "cell_type": "markdown",
   "metadata": {},
   "source": [
    "# $$ Function  $$"
   ]
  },
  {
   "cell_type": "markdown",
   "metadata": {},
   "source": [
    "Function is block of code that is also called by its name. (independent)\n",
    "\n",
    "The function can have different parameters or may not have any at all. If any data (parameters) are \n",
    "passed, they are passed explicitly.\n",
    "\n",
    "It may or may not return any data.\n",
    "\n",
    "Function does not deal with Class and its instance concept."
   ]
  },
  {
   "cell_type": "code",
   "execution_count": 9,
   "metadata": {},
   "outputs": [
    {
     "name": "stdout",
     "output_type": "stream",
     "text": [
      "-101\n"
     ]
    }
   ],
   "source": [
    "def substract(a,b):\n",
    "\n",
    "    return  a - b \n",
    "\n",
    "def substract2(*a):\n",
    "    c = 0 \n",
    "    for i in a :\n",
    "        c = c - i \n",
    "    print(c)\n",
    "\n",
    "substract2(23,44,34)"
   ]
  },
  {
   "cell_type": "code",
   "execution_count": 10,
   "metadata": {},
   "outputs": [
    {
     "data": {
      "text/plain": [
       "12"
      ]
     },
     "execution_count": 10,
     "metadata": {},
     "output_type": "execute_result"
    }
   ],
   "source": [
    "substract(90,78)"
   ]
  },
  {
   "cell_type": "markdown",
   "metadata": {},
   "source": [
    "Difference between method and function\n",
    "\n",
    "Simply, function and method both look similar as they perform in almost similar way, but the key difference is the concept of ‘Class and its Object‘.\n",
    "\n",
    "Functions can be called only by its name, as it is defined independently. But methods can’t be called by its name only, we need to invoke the class by a reference of that class in which it is defined, i.e. method is defined within a class and hence they are dependent on that class."
   ]
  },
  {
   "cell_type": "code",
   "execution_count": null,
   "metadata": {},
   "outputs": [],
   "source": []
  }
 ],
 "metadata": {
  "interpreter": {
   "hash": "916dbcbb3f70747c44a77c7bcd40155683ae19c65e1c03b4aa3499c5328201f1"
  },
  "kernelspec": {
   "display_name": "Python 3.8.10 64-bit",
   "language": "python",
   "name": "python3"
  },
  "language_info": {
   "codemirror_mode": {
    "name": "ipython",
    "version": 3
   },
   "file_extension": ".py",
   "mimetype": "text/x-python",
   "name": "python",
   "nbconvert_exporter": "python",
   "pygments_lexer": "ipython3",
   "version": "3.8.10"
  },
  "orig_nbformat": 4
 },
 "nbformat": 4,
 "nbformat_minor": 2
}
