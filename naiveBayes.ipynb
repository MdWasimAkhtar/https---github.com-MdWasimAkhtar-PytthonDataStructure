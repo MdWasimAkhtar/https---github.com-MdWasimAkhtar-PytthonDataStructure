{
 "cells": [
  {
   "cell_type": "code",
   "execution_count": 7,
   "metadata": {},
   "outputs": [],
   "source": [
    "example_file='/home/ubuntu-wasim/Documents/machineLearningMatrial/easy_ham/0024.771af861a302951df7630ec4ff1965a2'"
   ]
  },
  {
   "cell_type": "code",
   "execution_count": 27,
   "metadata": {},
   "outputs": [
    {
     "name": "stdout",
     "output_type": "stream",
     "text": [
      "Can someone explain what type of operating system Solaris is... as ive never\n",
      "\n",
      "seen or used it i dont know wheather to get a server from Sun or from DELL i\n",
      "\n",
      "would prefer a linux based server and Sun seems to be the one for that but\n",
      "\n",
      "im not sure if Solaris is a distro of linux or a completely different\n",
      "\n",
      "operating system? can someone explain...\n",
      "\n",
      "\n",
      "\n",
      "Kiall Mac Innes\n",
      "\n",
      "\n",
      "\n",
      "\n",
      "\n",
      "-- \n",
      "\n",
      "Irish Linux Users' Group: ilug@linux.ie\n",
      "\n",
      "http://www.linux.ie/mailman/listinfo/ilug for (un)subscription information.\n",
      "\n",
      "List maintainer: listmaster@linux.ie\n",
      "\n",
      "\n",
      "\n"
     ]
    }
   ],
   "source": [
    "stream = open(example_file , encoding='latin-1')\n",
    "#msg= stream.read()\n",
    "\n",
    "is_body = False\n",
    "lines = []\n",
    "\n",
    "for line in stream:\n",
    "    if is_body:\n",
    "        lines.append(line)\n",
    "    elif line == \"\\n\":\n",
    "        is_body = True\n",
    "\n",
    "stream.close()\n",
    "#print(type(msg))\n",
    "\n",
    "email_body = \"\\n\".join(lines)\n",
    "print(email_body)"
   ]
  },
  {
   "cell_type": "code",
   "execution_count": 28,
   "metadata": {},
   "outputs": [
    {
     "name": "stdout",
     "output_type": "stream",
     "text": [
      "From ilug-admin@linux.ie  Thu Aug 22 17:19:25 2002\n",
      "Return-Path: <ilug-admin@linux.ie>\n",
      "Delivered-To: zzzz@localhost.netnoteinc.com\n",
      "Received: from localhost (localhost [127.0.0.1])\n",
      "\tby phobos.labs.netnoteinc.com (Postfix) with ESMTP id CD34B47C67\n",
      "\tfor <zzzz@localhost>; Thu, 22 Aug 2002 12:19:21 -0400 (EDT)\n",
      "Received: from phobos [127.0.0.1]\n",
      "\tby localhost with IMAP (fetchmail-5.9.0)\n",
      "\tfor zzzz@localhost (single-drop); Thu, 22 Aug 2002 17:19:21 +0100 (IST)\n",
      "Received: from lugh.tuatha.org (root@lugh.tuatha.org [194.125.145.45]) by\n",
      "    dogma.slashnull.org (8.11.6/8.11.6) with ESMTP id g7MGHJZ14177 for\n",
      "    <zzzz-ilug@example.com>; Thu, 22 Aug 2002 17:17:19 +0100\n",
      "Received: from lugh (root@localhost [127.0.0.1]) by lugh.tuatha.org\n",
      "    (8.9.3/8.9.3) with ESMTP id RAA09581; Thu, 22 Aug 2002 17:16:28 +0100\n",
      "X-Authentication-Warning: lugh.tuatha.org: Host root@localhost [127.0.0.1]\n",
      "    claimed to be lugh\n",
      "Received: from redpie.com (redpie.com [216.122.135.208] (may be forged))\n",
      "    by lugh.tuatha.org (8.9.3/8.9.3) with ESMTP id RAA09518 for\n",
      "    <ilug@linux.ie>; Thu, 22 Aug 2002 17:16:08 +0100\n",
      "Received: from justin ([194.46.28.223]) by redpie.com (8.8.7/8.8.5) with\n",
      "    SMTP id JAA05201 for <ilug@linux.ie>; Thu, 22 Aug 2002 09:15:59 -0700\n",
      "    (PDT)\n",
      "From: \"Kiall Mac Innes\" <kiall@redpie.com>\n",
      "To: \"ILUG\" <ilug@linux.ie>\n",
      "Date: Thu, 22 Aug 2002 17:23:15 +0100\n",
      "Message-Id: <BCEFLMCEIJHPCPLGADJIGEEFCAAA.kiall@redpie.com>\n",
      "MIME-Version: 1.0\n",
      "Content-Type: text/plain; charset=\"iso-8859-1\"\n",
      "Content-Transfer-Encoding: 7bit\n",
      "X-Priority: 3 (Normal)\n",
      "X-Msmail-Priority: Normal\n",
      "X-Mailer: Microsoft Outlook IMO, Build 9.0.2416 (9.0.2910.0)\n",
      "X-Mimeole: Produced By Microsoft MimeOLE V5.50.4522.1200\n",
      "Importance: Normal\n",
      "Subject: [ILUG] Sun Solaris..\n",
      "Sender: ilug-admin@linux.ie\n",
      "Errors-To: ilug-admin@linux.ie\n",
      "X-Mailman-Version: 1.1\n",
      "Precedence: bulk\n",
      "List-Id: Irish Linux Users' Group <ilug.linux.ie>\n",
      "X-Beenthere: ilug@linux.ie\n",
      "\n",
      "Can someone explain what type of operating system Solaris is... as ive never\n",
      "seen or used it i dont know wheather to get a server from Sun or from DELL i\n",
      "would prefer a linux based server and Sun seems to be the one for that but\n",
      "im not sure if Solaris is a distro of linux or a completely different\n",
      "operating system? can someone explain...\n",
      "\n",
      "Kiall Mac Innes\n",
      "\n",
      "\n",
      "-- \n",
      "Irish Linux Users' Group: ilug@linux.ie\n",
      "http://www.linux.ie/mailman/listinfo/ilug for (un)subscription information.\n",
      "List maintainer: listmaster@linux.ie\n",
      "\n",
      "\n"
     ]
    }
   ],
   "source": [
    "print(msg)"
   ]
  },
  {
   "cell_type": "code",
   "execution_count": 18,
   "metadata": {},
   "outputs": [
    {
     "data": {
      "text/plain": [
       "'utf-8'"
      ]
     },
     "execution_count": 18,
     "metadata": {},
     "output_type": "execute_result"
    }
   ],
   "source": [
    "import sys\n",
    "sys.getfilesystemencoding()"
   ]
  },
  {
   "cell_type": "markdown",
   "metadata": {},
   "source": [
    "## Generator Function"
   ]
  },
  {
   "cell_type": "code",
   "execution_count": null,
   "metadata": {},
   "outputs": [],
   "source": []
  },
  {
   "cell_type": "code",
   "execution_count": null,
   "metadata": {},
   "outputs": [],
   "source": []
  },
  {
   "cell_type": "code",
   "execution_count": null,
   "metadata": {},
   "outputs": [],
   "source": []
  }
 ],
 "metadata": {
  "interpreter": {
   "hash": "916dbcbb3f70747c44a77c7bcd40155683ae19c65e1c03b4aa3499c5328201f1"
  },
  "kernelspec": {
   "display_name": "Python 3.8.10 64-bit",
   "language": "python",
   "name": "python3"
  },
  "language_info": {
   "codemirror_mode": {
    "name": "ipython",
    "version": 3
   },
   "file_extension": ".py",
   "mimetype": "text/x-python",
   "name": "python",
   "nbconvert_exporter": "python",
   "pygments_lexer": "ipython3",
   "version": "3.8.10"
  },
  "orig_nbformat": 4
 },
 "nbformat": 4,
 "nbformat_minor": 2
}
