{
 "cells": [
  {
   "cell_type": "markdown",
   "metadata": {},
   "source": [
    "Linear Search\n",
    "--------------\n",
    "Linear search is a sequential searching algorithm where we start from one end and check every element of the list until the desired element is found. It is the simplest searching algorithm.\n"
   ]
  },
  {
   "cell_type": "code",
   "execution_count": 6,
   "metadata": {},
   "outputs": [
    {
     "name": "stdout",
     "output_type": "stream",
     "text": [
      "key Element is found 67  =  67\n"
     ]
    }
   ],
   "source": [
    "def search(list1,key):\n",
    "    for i in range(len(list1)):\n",
    "        if key == list1[i]:\n",
    "            print(\"key Element is found\",key ,\" = \" ,list1[i])\n",
    "            break\n",
    "    else:\n",
    "        print(\"Element is not found \")\n",
    "\n",
    "\n",
    "list1 = [34,23,4,5,67,221,9,8,67]\n",
    "key = 67\n",
    "search(list1,67)"
   ]
  },
  {
   "cell_type": "code",
   "execution_count": 19,
   "metadata": {},
   "outputs": [
    {
     "name": "stdout",
     "output_type": "stream",
     "text": [
      "Key element found at index : \n",
      "1\n"
     ]
    }
   ],
   "source": [
    "def search_linear(list2 , key):\n",
    "\n",
    "    list_ = []\n",
    "    flag = False\n",
    "    for i in range(len(list2)):\n",
    "        \n",
    "        if key == list2[i]:\n",
    "            flag = True\n",
    "            list_.append(i)\n",
    "\n",
    "    if flag == True:\n",
    "        print(\"Key element found at index : \")\n",
    "        for i in list_:\n",
    "            print(i)\n",
    "    else:\n",
    "        print(\"Element not found\")\n",
    "\n",
    "list2 = [34,23,4,5,67,221,9,8,67]\n",
    "\n",
    "key2=23\n",
    "\n",
    "search_linear(list2,key2)"
   ]
  },
  {
   "cell_type": "markdown",
   "metadata": {},
   "source": [
    "Binary Search\n",
    "--------------------\n",
    "Binary Search is a searching algorithm for finding an element's position in a sorted array.\n",
    "\n",
    "In this approach, the element is always searched in the middle of a portion of an array.\n",
    "\n",
    "Binary search can be implemented only on a sorted list of items. If the elements are not sorted already, we need to sort them first.\n"
   ]
  },
  {
   "cell_type": "code",
   "execution_count": 20,
   "metadata": {},
   "outputs": [],
   "source": [
    "def Binary_search(list_1,key):\n",
    "    low = 0 \n",
    "    high = len(list_1)-1\n",
    "\n",
    "    found = False\n",
    "\n",
    "    while low <= high and not found:\n",
    "        mid = (low+high)//2\n",
    "        if key == list_1[mid]:\n",
    "            found = True\n",
    "        elif key > list_1[mid]:\n",
    "            low = mid+1\n",
    "        else:\n",
    "            high = mid - 1\n",
    "    if found == True:\n",
    "        print(\"The Key Element is found ....\")\n",
    "    else:\n",
    "        print(\"key is not found \")\n",
    "        "
   ]
  },
  {
   "cell_type": "code",
   "execution_count": 28,
   "metadata": {},
   "outputs": [
    {
     "name": "stdout",
     "output_type": "stream",
     "text": [
      "The Key Element is found ....\n"
     ]
    }
   ],
   "source": [
    "list3 = [34,23,4,5,67,221,9,8,67]\n",
    "list3.sort()\n",
    "Binary_search(list3,67)"
   ]
  },
  {
   "cell_type": "code",
   "execution_count": 27,
   "metadata": {},
   "outputs": [
    {
     "name": "stdout",
     "output_type": "stream",
     "text": [
      "4\n",
      "5\n",
      "8\n",
      "9\n",
      "23\n",
      "34\n",
      "67\n",
      "67\n",
      "221\n"
     ]
    }
   ],
   "source": [
    "for i in list3:\n",
    "    print(i)"
   ]
  },
  {
   "cell_type": "code",
   "execution_count": null,
   "metadata": {},
   "outputs": [],
   "source": []
  }
 ],
 "metadata": {
  "interpreter": {
   "hash": "916dbcbb3f70747c44a77c7bcd40155683ae19c65e1c03b4aa3499c5328201f1"
  },
  "kernelspec": {
   "display_name": "Python 3.8.10 64-bit",
   "language": "python",
   "name": "python3"
  },
  "language_info": {
   "codemirror_mode": {
    "name": "ipython",
    "version": 3
   },
   "file_extension": ".py",
   "mimetype": "text/x-python",
   "name": "python",
   "nbconvert_exporter": "python",
   "pygments_lexer": "ipython3",
   "version": "3.8.10"
  },
  "orig_nbformat": 4
 },
 "nbformat": 4,
 "nbformat_minor": 2
}
