{
 "cells": [
  {
   "cell_type": "code",
   "execution_count": 55,
   "metadata": {},
   "outputs": [],
   "source": [
    "import sys\n",
    "import time\n",
    "from bs4 import BeautifulSoup\n",
    "import requests"
   ]
  },
  {
   "cell_type": "code",
   "execution_count": 72,
   "metadata": {},
   "outputs": [],
   "source": [
    "try:\n",
    "    page = requests.get('https://www.cricbuzz.com')\n",
    "\n",
    "except Exception as e :\n",
    "    error_type , error_obj , error_info = sys.exc_info()\n",
    "    print(\"Error For Link \",url)\n",
    "    print(error_type,'Line:',error_info().tb_lineno)\n",
    "\n",
    "time.sleep(3)\n",
    "soup = BeautifulSoup(page.text,'html.parser')\n",
    "#links = soup.find_all('div',attrs={'class':'cb-nws-intr'})\n",
    "links = soup.find_all('div',attrs={'class':'cb-lv-scrs-col text-black'})\n",
    "\n",
    "para1 = soup.find_all('div' ,attrs={'crd-cntxt'})"
   ]
  },
  {
   "cell_type": "code",
   "execution_count": 73,
   "metadata": {},
   "outputs": [
    {
     "data": {
      "text/plain": [
       "<Response [200]>"
      ]
     },
     "execution_count": 73,
     "metadata": {},
     "output_type": "execute_result"
    }
   ],
   "source": [
    "# get respone from the page\n",
    "page"
   ]
  },
  {
   "cell_type": "code",
   "execution_count": 74,
   "metadata": {},
   "outputs": [],
   "source": [
    "# soup\n",
    "#links"
   ]
  },
  {
   "cell_type": "code",
   "execution_count": 75,
   "metadata": {},
   "outputs": [
    {
     "name": "stdout",
     "output_type": "stream",
     "text": [
      "  NZ RSA    116-3  (39)   95   \n",
      "\n",
      "\n",
      "  IND WI    162-4  (18.5)   157-7  (20)   \n",
      "\n",
      "\n",
      "  AUS SL    124-4  (16.5)   121-6  (20)   \n",
      "\n",
      "\n"
     ]
    }
   ],
   "source": [
    "# we don't need the entire html code \n",
    "# in the soup we have entire html code\n",
    "for i in links:\n",
    "    print(i.text)\n",
    "    print(\"\\n\")"
   ]
  },
  {
   "cell_type": "code",
   "execution_count": 76,
   "metadata": {},
   "outputs": [
    {
     "data": {
      "text/plain": [
       "[<div class=\"crd-cntxt\"><span>NZ VS RSA, 1ST TEST</span></div>,\n",
       " <div class=\"crd-cntxt\"><span>IND VS WI, 1ST T20I</span></div>,\n",
       " <div class=\"crd-cntxt\"><span>NEW ZEALAND WOMEN V INDIA WOMEN, 2022</span></div>,\n",
       " <div class=\"crd-cntxt\"><span>IPL 2022</span></div>,\n",
       " <div class=\"crd-cntxt\"><span>IPL AUCTION 2022</span></div>,\n",
       " <div class=\"crd-cntxt\"><span>AUS VS SL, 3RD T20I</span></div>,\n",
       " <div class=\"crd-cntxt\"><span>IPL AUCTION</span></div>,\n",
       " <div class=\"crd-cntxt\">SRI LANKA IN INDIA, 2022</div>,\n",
       " <div class=\"crd-cntxt\">AUSTRALIAN CRICKET NEWS</div>,\n",
       " <div class=\"crd-cntxt\"><span>DEALING WITH SETBACK</span></div>,\n",
       " <div class=\"crd-cntxt\">AUSTRALIA TOUR OF PAKISTAN 2022</div>,\n",
       " <div class=\"crd-cntxt\">AFGHANISTAN TOUR OF BANGLADESH, 2022</div>,\n",
       " <div class=\"crd-cntxt\">PSL 2022</div>,\n",
       " <div class=\"crd-cntxt\">RE-SIGNING</div>,\n",
       " <div class=\"crd-cntxt\">OMAN QUADRANGULAR T20I SERIES, 2022</div>]"
      ]
     },
     "execution_count": 76,
     "metadata": {},
     "output_type": "execute_result"
    }
   ],
   "source": [
    "para1"
   ]
  },
  {
   "cell_type": "code",
   "execution_count": 80,
   "metadata": {},
   "outputs": [
    {
     "ename": "AttributeError",
     "evalue": "'NoneType' object has no attribute 'text'",
     "output_type": "error",
     "traceback": [
      "\u001b[0;31m---------------------------------------------------------------------------\u001b[0m",
      "\u001b[0;31mAttributeError\u001b[0m                            Traceback (most recent call last)",
      "\u001b[0;32m/tmp/ipykernel_42034/954945244.py\u001b[0m in \u001b[0;36m<module>\u001b[0;34m\u001b[0m\n\u001b[0;32m----> 1\u001b[0;31m \u001b[0mtitile\u001b[0m \u001b[0;34m=\u001b[0m \u001b[0mlinks\u001b[0m\u001b[0;34m[\u001b[0m\u001b[0;36m1\u001b[0m\u001b[0;34m]\u001b[0m\u001b[0;34m.\u001b[0m\u001b[0mfind\u001b[0m\u001b[0;34m(\u001b[0m\u001b[0;34m'span'\u001b[0m\u001b[0;34m,\u001b[0m\u001b[0;34m{\u001b[0m\u001b[0;34m'class'\u001b[0m\u001b[0;34m:\u001b[0m\u001b[0;34m'a'\u001b[0m\u001b[0;34m}\u001b[0m\u001b[0;34m)\u001b[0m\u001b[0;34m.\u001b[0m\u001b[0mtext\u001b[0m\u001b[0;34m\u001b[0m\u001b[0;34m\u001b[0m\u001b[0m\n\u001b[0m",
      "\u001b[0;31mAttributeError\u001b[0m: 'NoneType' object has no attribute 'text'"
     ]
    }
   ],
   "source": [
    "titile = links[1].find('span',{'class':'a'}).text"
   ]
  },
  {
   "cell_type": "code",
   "execution_count": null,
   "metadata": {},
   "outputs": [],
   "source": [
    "final_result = []\n",
    "\n",
    "for eachLine in links:\n",
    "    "
   ]
  },
  {
   "cell_type": "code",
   "execution_count": 77,
   "metadata": {},
   "outputs": [
    {
     "name": "stdout",
     "output_type": "stream",
     "text": [
      "NZ VS RSA, 1ST TEST\n",
      "\n",
      "\n",
      "IND VS WI, 1ST T20I\n",
      "\n",
      "\n",
      "NEW ZEALAND WOMEN V INDIA WOMEN, 2022\n",
      "\n",
      "\n",
      "IPL 2022\n",
      "\n",
      "\n",
      "IPL AUCTION 2022\n",
      "\n",
      "\n",
      "AUS VS SL, 3RD T20I\n",
      "\n",
      "\n",
      "IPL AUCTION\n",
      "\n",
      "\n",
      "SRI LANKA IN INDIA, 2022\n",
      "\n",
      "\n",
      "AUSTRALIAN CRICKET NEWS\n",
      "\n",
      "\n",
      "DEALING WITH SETBACK\n",
      "\n",
      "\n",
      "AUSTRALIA TOUR OF PAKISTAN 2022\n",
      "\n",
      "\n",
      "AFGHANISTAN TOUR OF BANGLADESH, 2022\n",
      "\n",
      "\n",
      "PSL 2022\n",
      "\n",
      "\n",
      "RE-SIGNING\n",
      "\n",
      "\n",
      "OMAN QUADRANGULAR T20I SERIES, 2022\n",
      "\n",
      "\n"
     ]
    }
   ],
   "source": [
    "for i in para1:\n",
    "    print(i.text)\n",
    "    print('\\n')"
   ]
  },
  {
   "cell_type": "code",
   "execution_count": null,
   "metadata": {},
   "outputs": [],
   "source": []
  }
 ],
 "metadata": {
  "interpreter": {
   "hash": "916dbcbb3f70747c44a77c7bcd40155683ae19c65e1c03b4aa3499c5328201f1"
  },
  "kernelspec": {
   "display_name": "Python 3.8.10 64-bit",
   "language": "python",
   "name": "python3"
  },
  "language_info": {
   "codemirror_mode": {
    "name": "ipython",
    "version": 3
   },
   "file_extension": ".py",
   "mimetype": "text/x-python",
   "name": "python",
   "nbconvert_exporter": "python",
   "pygments_lexer": "ipython3",
   "version": "3.8.10"
  },
  "orig_nbformat": 4
 },
 "nbformat": 4,
 "nbformat_minor": 2
}
