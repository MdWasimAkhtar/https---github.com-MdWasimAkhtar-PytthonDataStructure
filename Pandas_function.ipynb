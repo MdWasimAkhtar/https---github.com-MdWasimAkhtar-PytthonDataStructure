{
 "cells": [
  {
   "cell_type": "code",
   "execution_count": 1,
   "metadata": {},
   "outputs": [],
   "source": [
    "import pandas as pd"
   ]
  },
  {
   "cell_type": "code",
   "execution_count": 2,
   "metadata": {},
   "outputs": [
    {
     "data": {
      "text/html": [
       "<div>\n",
       "<style scoped>\n",
       "    .dataframe tbody tr th:only-of-type {\n",
       "        vertical-align: middle;\n",
       "    }\n",
       "\n",
       "    .dataframe tbody tr th {\n",
       "        vertical-align: top;\n",
       "    }\n",
       "\n",
       "    .dataframe thead th {\n",
       "        text-align: right;\n",
       "    }\n",
       "</style>\n",
       "<table border=\"1\" class=\"dataframe\">\n",
       "  <thead>\n",
       "    <tr style=\"text-align: right;\">\n",
       "      <th></th>\n",
       "      <th>ID</th>\n",
       "      <th>Name</th>\n",
       "      <th>It</th>\n",
       "      <th>Revenue</th>\n",
       "      <th>Expense</th>\n",
       "      <th>Profit</th>\n",
       "      <th>growth rate</th>\n",
       "    </tr>\n",
       "  </thead>\n",
       "  <tbody>\n",
       "    <tr>\n",
       "      <th>0</th>\n",
       "      <td>1</td>\n",
       "      <td>Lamtone</td>\n",
       "      <td>Financial Services</td>\n",
       "      <td>11757018.0</td>\n",
       "      <td>892383</td>\n",
       "      <td>677323.0</td>\n",
       "      <td>20.0</td>\n",
       "    </tr>\n",
       "    <tr>\n",
       "      <th>1</th>\n",
       "      <td>2</td>\n",
       "      <td>Stripfind</td>\n",
       "      <td>health</td>\n",
       "      <td>12329371.0</td>\n",
       "      <td>332932]</td>\n",
       "      <td>NaN</td>\n",
       "      <td>11.0</td>\n",
       "    </tr>\n",
       "    <tr>\n",
       "      <th>2</th>\n",
       "      <td>3</td>\n",
       "      <td>canecorporaton</td>\n",
       "      <td>It</td>\n",
       "      <td>10597009.0</td>\n",
       "      <td>NaN</td>\n",
       "      <td>787723.0</td>\n",
       "      <td>NaN</td>\n",
       "    </tr>\n",
       "    <tr>\n",
       "      <th>3</th>\n",
       "      <td>4</td>\n",
       "      <td>mattouch</td>\n",
       "      <td>health</td>\n",
       "      <td>NaN</td>\n",
       "      <td>3232233</td>\n",
       "      <td>233123.0</td>\n",
       "      <td>12.0</td>\n",
       "    </tr>\n",
       "    <tr>\n",
       "      <th>4</th>\n",
       "      <td>5</td>\n",
       "      <td>techdrill</td>\n",
       "      <td>health</td>\n",
       "      <td>NaN</td>\n",
       "      <td>32377</td>\n",
       "      <td>56756.0</td>\n",
       "      <td>4.0</td>\n",
       "    </tr>\n",
       "    <tr>\n",
       "      <th>5</th>\n",
       "      <td>6</td>\n",
       "      <td>cityace</td>\n",
       "      <td>health</td>\n",
       "      <td>982723.0</td>\n",
       "      <td>NaN</td>\n",
       "      <td>NaN</td>\n",
       "      <td>56.0</td>\n",
       "    </tr>\n",
       "    <tr>\n",
       "      <th>6</th>\n",
       "      <td>7</td>\n",
       "      <td>Kayele</td>\n",
       "      <td>It</td>\n",
       "      <td>27329392.0</td>\n",
       "      <td>88844</td>\n",
       "      <td>353454.0</td>\n",
       "      <td>90.0</td>\n",
       "    </tr>\n",
       "    <tr>\n",
       "      <th>7</th>\n",
       "      <td>8</td>\n",
       "      <td>Ganzlax</td>\n",
       "      <td>health</td>\n",
       "      <td>2327382.0</td>\n",
       "      <td>448484</td>\n",
       "      <td>33435.0</td>\n",
       "      <td>NaN</td>\n",
       "    </tr>\n",
       "    <tr>\n",
       "      <th>8</th>\n",
       "      <td>9</td>\n",
       "      <td>texhline</td>\n",
       "      <td>Govt</td>\n",
       "      <td>2373.0</td>\n",
       "      <td>494</td>\n",
       "      <td>453454.0</td>\n",
       "      <td>NaN</td>\n",
       "    </tr>\n",
       "    <tr>\n",
       "      <th>9</th>\n",
       "      <td>10</td>\n",
       "      <td>trab</td>\n",
       "      <td>it</td>\n",
       "      <td>NaN</td>\n",
       "      <td>NaN</td>\n",
       "      <td>NaN</td>\n",
       "      <td>NaN</td>\n",
       "    </tr>\n",
       "  </tbody>\n",
       "</table>\n",
       "</div>"
      ],
      "text/plain": [
       "   ID            Name                  It     Revenue  Expense    Profit  \\\n",
       "0   1         Lamtone  Financial Services  11757018.0   892383  677323.0   \n",
       "1   2       Stripfind              health  12329371.0  332932]       NaN   \n",
       "2   3  canecorporaton                  It  10597009.0      NaN  787723.0   \n",
       "3   4        mattouch              health         NaN  3232233  233123.0   \n",
       "4   5       techdrill              health         NaN    32377   56756.0   \n",
       "5   6         cityace              health    982723.0      NaN       NaN   \n",
       "6   7          Kayele                  It  27329392.0    88844  353454.0   \n",
       "7   8         Ganzlax              health   2327382.0   448484   33435.0   \n",
       "8   9        texhline                Govt      2373.0      494  453454.0   \n",
       "9  10            trab                  it         NaN      NaN       NaN   \n",
       "\n",
       "   growth rate  \n",
       "0         20.0  \n",
       "1         11.0  \n",
       "2          NaN  \n",
       "3         12.0  \n",
       "4          4.0  \n",
       "5         56.0  \n",
       "6         90.0  \n",
       "7          NaN  \n",
       "8          NaN  \n",
       "9          NaN  "
      ]
     },
     "execution_count": 2,
     "metadata": {},
     "output_type": "execute_result"
    }
   ],
   "source": [
    "df1 = pd.read_csv('/home/ubuntu-wasim/Documents/Missing_val.csv')\n",
    "df1"
   ]
  },
  {
   "cell_type": "code",
   "execution_count": 9,
   "metadata": {},
   "outputs": [
    {
     "data": {
      "text/plain": [
       "{2373.0: [8], 982723.0: [5], 2327382.0: [7], 10597009.0: [2], 11757018.0: [0], 12329371.0: [1], 27329392.0: [6]}"
      ]
     },
     "execution_count": 9,
     "metadata": {},
     "output_type": "execute_result"
    }
   ],
   "source": [
    "gr1=df1.groupby(by='Revenue')\n",
    "gr1.groups"
   ]
  },
  {
   "cell_type": "code",
   "execution_count": 11,
   "metadata": {},
   "outputs": [
    {
     "data": {
      "text/plain": [
       "{33435.0: [7], 56756.0: [4], 233123.0: [3], 353454.0: [6], 453454.0: [8], 677323.0: [0], 787723.0: [2]}"
      ]
     },
     "execution_count": 11,
     "metadata": {},
     "output_type": "execute_result"
    }
   ],
   "source": [
    "gr2=df1.groupby(by='Profit')\n",
    "gr2.groups"
   ]
  },
  {
   "cell_type": "code",
   "execution_count": 12,
   "metadata": {},
   "outputs": [
    {
     "name": "stdout",
     "output_type": "stream",
     "text": [
      "(33435.0, 2327382.0)\n",
      "(353454.0, 27329392.0)\n",
      "(453454.0, 2373.0)\n",
      "(677323.0, 11757018.0)\n",
      "(787723.0, 10597009.0)\n"
     ]
    }
   ],
   "source": [
    "gr3 = df1.groupby(['Profit','Revenue'])\n",
    "\n",
    "for Revenue , df1 in gr3:\n",
    "    print(Revenue)"
   ]
  },
  {
   "cell_type": "code",
   "execution_count": 13,
   "metadata": {},
   "outputs": [
    {
     "data": {
      "text/plain": [
       "[((33435.0, 2327382.0),\n",
       "     ID     Name      It    Revenue Expense   Profit  growth rate\n",
       "  7   8  Ganzlax  health  2327382.0  448484  33435.0          NaN),\n",
       " ((353454.0, 27329392.0),\n",
       "     ID    Name  It     Revenue Expense    Profit  growth rate\n",
       "  6   7  Kayele  It  27329392.0   88844  353454.0         90.0),\n",
       " ((453454.0, 2373.0),\n",
       "     ID      Name    It  Revenue Expense    Profit  growth rate\n",
       "  8   9  texhline  Govt   2373.0     494  453454.0          NaN),\n",
       " ((677323.0, 11757018.0),\n",
       "     ID     Name                  It     Revenue Expense    Profit  growth rate\n",
       "  0   1  Lamtone  Financial Services  11757018.0  892383  677323.0         20.0),\n",
       " ((787723.0, 10597009.0),\n",
       "     ID            Name  It     Revenue Expense    Profit  growth rate\n",
       "  2   3  canecorporaton  It  10597009.0     NaN  787723.0          NaN)]"
      ]
     },
     "execution_count": 13,
     "metadata": {},
     "output_type": "execute_result"
    }
   ],
   "source": [
    "list(gr3)"
   ]
  },
  {
   "cell_type": "code",
   "execution_count": 15,
   "metadata": {},
   "outputs": [
    {
     "data": {
      "text/plain": [
       "{(33435.0,\n",
       "  2327382.0):    ID     Name      It    Revenue Expense   Profit  growth rate\n",
       " 7   8  Ganzlax  health  2327382.0  448484  33435.0          NaN,\n",
       " (353454.0,\n",
       "  27329392.0):    ID    Name  It     Revenue Expense    Profit  growth rate\n",
       " 6   7  Kayele  It  27329392.0   88844  353454.0         90.0,\n",
       " (453454.0,\n",
       "  2373.0):    ID      Name    It  Revenue Expense    Profit  growth rate\n",
       " 8   9  texhline  Govt   2373.0     494  453454.0          NaN,\n",
       " (677323.0,\n",
       "  11757018.0):    ID     Name                  It     Revenue Expense    Profit  growth rate\n",
       " 0   1  Lamtone  Financial Services  11757018.0  892383  677323.0         20.0,\n",
       " (787723.0,\n",
       "  10597009.0):    ID            Name  It     Revenue Expense    Profit  growth rate\n",
       " 2   3  canecorporaton  It  10597009.0     NaN  787723.0          NaN}"
      ]
     },
     "execution_count": 15,
     "metadata": {},
     "output_type": "execute_result"
    }
   ],
   "source": [
    "dict(list(gr3))"
   ]
  },
  {
   "cell_type": "code",
   "execution_count": 18,
   "metadata": {},
   "outputs": [
    {
     "ename": "KeyError",
     "evalue": "'NaN'",
     "output_type": "error",
     "traceback": [
      "\u001b[0;31m---------------------------------------------------------------------------\u001b[0m",
      "\u001b[0;31mKeyError\u001b[0m                                  Traceback (most recent call last)",
      "\u001b[0;32m/tmp/ipykernel_212523/1912249932.py\u001b[0m in \u001b[0;36m<module>\u001b[0;34m\u001b[0m\n\u001b[0;32m----> 1\u001b[0;31m \u001b[0mdf1\u001b[0m\u001b[0;34m.\u001b[0m\u001b[0mgroupby\u001b[0m\u001b[0;34m(\u001b[0m\u001b[0;34m'Profit'\u001b[0m\u001b[0;34m)\u001b[0m\u001b[0;34m.\u001b[0m\u001b[0mget_group\u001b[0m\u001b[0;34m(\u001b[0m\u001b[0;34m'NaN'\u001b[0m\u001b[0;34m)\u001b[0m\u001b[0;34m\u001b[0m\u001b[0;34m\u001b[0m\u001b[0m\n\u001b[0m",
      "\u001b[0;32m/usr/local/lib/python3.8/dist-packages/pandas/core/groupby/groupby.py\u001b[0m in \u001b[0;36mget_group\u001b[0;34m(self, name, obj)\u001b[0m\n\u001b[1;32m    752\u001b[0m         \u001b[0minds\u001b[0m \u001b[0;34m=\u001b[0m \u001b[0mself\u001b[0m\u001b[0;34m.\u001b[0m\u001b[0m_get_index\u001b[0m\u001b[0;34m(\u001b[0m\u001b[0mname\u001b[0m\u001b[0;34m)\u001b[0m\u001b[0;34m\u001b[0m\u001b[0;34m\u001b[0m\u001b[0m\n\u001b[1;32m    753\u001b[0m         \u001b[0;32mif\u001b[0m \u001b[0;32mnot\u001b[0m \u001b[0mlen\u001b[0m\u001b[0;34m(\u001b[0m\u001b[0minds\u001b[0m\u001b[0;34m)\u001b[0m\u001b[0;34m:\u001b[0m\u001b[0;34m\u001b[0m\u001b[0;34m\u001b[0m\u001b[0m\n\u001b[0;32m--> 754\u001b[0;31m             \u001b[0;32mraise\u001b[0m \u001b[0mKeyError\u001b[0m\u001b[0;34m(\u001b[0m\u001b[0mname\u001b[0m\u001b[0;34m)\u001b[0m\u001b[0;34m\u001b[0m\u001b[0;34m\u001b[0m\u001b[0m\n\u001b[0m\u001b[1;32m    755\u001b[0m \u001b[0;34m\u001b[0m\u001b[0m\n\u001b[1;32m    756\u001b[0m         \u001b[0;32mreturn\u001b[0m \u001b[0mobj\u001b[0m\u001b[0;34m.\u001b[0m\u001b[0m_take_with_is_copy\u001b[0m\u001b[0;34m(\u001b[0m\u001b[0minds\u001b[0m\u001b[0;34m,\u001b[0m \u001b[0maxis\u001b[0m\u001b[0;34m=\u001b[0m\u001b[0mself\u001b[0m\u001b[0;34m.\u001b[0m\u001b[0maxis\u001b[0m\u001b[0;34m)\u001b[0m\u001b[0;34m\u001b[0m\u001b[0;34m\u001b[0m\u001b[0m\n",
      "\u001b[0;31mKeyError\u001b[0m: 'NaN'"
     ]
    }
   ],
   "source": [
    "df1.groupby('Profit').get_group('NaN')"
   ]
  },
  {
   "cell_type": "code",
   "execution_count": 19,
   "metadata": {},
   "outputs": [
    {
     "data": {
      "text/html": [
       "<div>\n",
       "<style scoped>\n",
       "    .dataframe tbody tr th:only-of-type {\n",
       "        vertical-align: middle;\n",
       "    }\n",
       "\n",
       "    .dataframe tbody tr th {\n",
       "        vertical-align: top;\n",
       "    }\n",
       "\n",
       "    .dataframe thead th {\n",
       "        text-align: right;\n",
       "    }\n",
       "</style>\n",
       "<table border=\"1\" class=\"dataframe\">\n",
       "  <thead>\n",
       "    <tr style=\"text-align: right;\">\n",
       "      <th></th>\n",
       "      <th>ID</th>\n",
       "      <th>Profit</th>\n",
       "      <th>growth rate</th>\n",
       "    </tr>\n",
       "    <tr>\n",
       "      <th>Revenue</th>\n",
       "      <th></th>\n",
       "      <th></th>\n",
       "      <th></th>\n",
       "    </tr>\n",
       "  </thead>\n",
       "  <tbody>\n",
       "    <tr>\n",
       "      <th>2373.0</th>\n",
       "      <td>9</td>\n",
       "      <td>453454.0</td>\n",
       "      <td>0.0</td>\n",
       "    </tr>\n",
       "    <tr>\n",
       "      <th>982723.0</th>\n",
       "      <td>6</td>\n",
       "      <td>0.0</td>\n",
       "      <td>56.0</td>\n",
       "    </tr>\n",
       "    <tr>\n",
       "      <th>2327382.0</th>\n",
       "      <td>8</td>\n",
       "      <td>33435.0</td>\n",
       "      <td>0.0</td>\n",
       "    </tr>\n",
       "    <tr>\n",
       "      <th>10597009.0</th>\n",
       "      <td>3</td>\n",
       "      <td>787723.0</td>\n",
       "      <td>0.0</td>\n",
       "    </tr>\n",
       "    <tr>\n",
       "      <th>11757018.0</th>\n",
       "      <td>1</td>\n",
       "      <td>677323.0</td>\n",
       "      <td>20.0</td>\n",
       "    </tr>\n",
       "    <tr>\n",
       "      <th>12329371.0</th>\n",
       "      <td>2</td>\n",
       "      <td>0.0</td>\n",
       "      <td>11.0</td>\n",
       "    </tr>\n",
       "    <tr>\n",
       "      <th>27329392.0</th>\n",
       "      <td>7</td>\n",
       "      <td>353454.0</td>\n",
       "      <td>90.0</td>\n",
       "    </tr>\n",
       "  </tbody>\n",
       "</table>\n",
       "</div>"
      ],
      "text/plain": [
       "            ID    Profit  growth rate\n",
       "Revenue                              \n",
       "2373.0       9  453454.0          0.0\n",
       "982723.0     6       0.0         56.0\n",
       "2327382.0    8   33435.0          0.0\n",
       "10597009.0   3  787723.0          0.0\n",
       "11757018.0   1  677323.0         20.0\n",
       "12329371.0   2       0.0         11.0\n",
       "27329392.0   7  353454.0         90.0"
      ]
     },
     "execution_count": 19,
     "metadata": {},
     "output_type": "execute_result"
    }
   ],
   "source": [
    "gr1.sum()"
   ]
  },
  {
   "cell_type": "code",
   "execution_count": null,
   "metadata": {},
   "outputs": [],
   "source": []
  }
 ],
 "metadata": {
  "interpreter": {
   "hash": "916dbcbb3f70747c44a77c7bcd40155683ae19c65e1c03b4aa3499c5328201f1"
  },
  "kernelspec": {
   "display_name": "Python 3.8.10 64-bit",
   "language": "python",
   "name": "python3"
  },
  "language_info": {
   "codemirror_mode": {
    "name": "ipython",
    "version": 3
   },
   "file_extension": ".py",
   "mimetype": "text/x-python",
   "name": "python",
   "nbconvert_exporter": "python",
   "pygments_lexer": "ipython3",
   "version": "3.8.10"
  },
  "orig_nbformat": 4
 },
 "nbformat": 4,
 "nbformat_minor": 2
}
