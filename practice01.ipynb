{
 "cells": [
  {
   "cell_type": "markdown",
   "metadata": {},
   "source": [
    "Bubble sort"
   ]
  },
  {
   "cell_type": "code",
   "execution_count": 5,
   "metadata": {},
   "outputs": [
    {
     "data": {
      "text/plain": [
       "[-10, 1, 8, 10, 12, 34, 34, 45, 99]"
      ]
     },
     "execution_count": 5,
     "metadata": {},
     "output_type": "execute_result"
    }
   ],
   "source": [
    "list1=[12,34,45,1,-10,34,8,99,10]\n",
    "\n",
    "def sort_B(list1):\n",
    "    for i in range(len(list1)-1,0,-1):\n",
    "        for j in range(i):\n",
    "            if list1[j] > list1[j+1]:\n",
    "                temp = list1[j]\n",
    "                list1[j] = list1[j+1]\n",
    "                list1[j+1]  = temp\n",
    "\n",
    "sort_B(list1)\n",
    "list1"
   ]
  },
  {
   "cell_type": "markdown",
   "metadata": {},
   "source": [
    "Insertion sort"
   ]
  },
  {
   "cell_type": "code",
   "execution_count": 6,
   "metadata": {},
   "outputs": [
    {
     "data": {
      "text/plain": [
       "[-10, 1, 8, 10, 12, 34, 34, 45, 99]"
      ]
     },
     "execution_count": 6,
     "metadata": {},
     "output_type": "execute_result"
    }
   ],
   "source": [
    "def sort_insertion(list2):\n",
    "    for i in range(1,len(list2)):\n",
    "        j = i-1\n",
    "        nxt_element = list2[i]\n",
    "        while j >= 0 and list2[j] > nxt_element:\n",
    "            list2[j+1] = list2[j]\n",
    "            j -=1\n",
    "        list2[j+1] = nxt_element\n",
    "list2=[12,34,45,1,-10,34,8,99,10]\n",
    "sort_insertion(list2)\n",
    "list2"
   ]
  },
  {
   "cell_type": "markdown",
   "metadata": {},
   "source": [
    "Selection_Sort"
   ]
  },
  {
   "cell_type": "code",
   "execution_count": 12,
   "metadata": {},
   "outputs": [
    {
     "data": {
      "text/plain": [
       "[-111, -10, 1, 1, 8, 10, 12, 12, 34, 34, 45, 99, 3444]"
      ]
     },
     "execution_count": 12,
     "metadata": {},
     "output_type": "execute_result"
    }
   ],
   "source": [
    "def sort_selection(list3):\n",
    "\n",
    "    for i in range(len(list3)):\n",
    "        min_indx = i \n",
    "\n",
    "        for j in range(i+1,len(list3)):\n",
    "            if list3[min_indx] > list3[j]:\n",
    "                min_indx = j\n",
    "\n",
    "        temp = list3[i]\n",
    "        list3[i] = list3[min_indx]\n",
    "        list3[min_indx] = temp\n",
    "\n",
    "list3 = [12,34,45,1,-10,34,8,99,10,-111,1,12 , 3444]\n",
    "sort_selection(list3)\n",
    "list3"
   ]
  },
  {
   "cell_type": "code",
   "execution_count": 18,
   "metadata": {},
   "outputs": [],
   "source": [
    "def merg_(list4):\n",
    "    left_list=[]\n",
    "    right_list=[]\n",
    "\n",
    "    if len(list4) > 1:\n",
    "        mid = len(list4)//2\n",
    "        left_list = list4[:mid]\n",
    "        right_list = list4[mid:]\n",
    "\n",
    "        merg_(left_list)\n",
    "        merg_(right_list)\n",
    "#    print(\"left_list\",left_list)\n",
    "#   print(\"right_list\",right_list)\n",
    "\n",
    "list4 =  [12,34,45,1,-10,34,8,99,10,-111,1,12 , 3444]\n",
    "merg_(list4)\n"
   ]
  },
  {
   "cell_type": "code",
   "execution_count": 26,
   "metadata": {},
   "outputs": [
    {
     "name": "stdout",
     "output_type": "stream",
     "text": [
      "[1, 3, 5, 7, 9, 11, 13, 15, 17, 19, 21, 23, 25, 27, 29, 31, 33, 35, 37, 39, 41, 43, 45, 47, 49, 51, 53, 55, 57, 59, 61, 63, 65, 67, 69, 71, 73, 75, 77, 79, 81, 83, 85, 87, 89, 91, 93, 95, 97, 99]\n"
     ]
    }
   ],
   "source": [
    "list5 = [x for x in range(0,101) if x % 2 != 0 ]\n",
    "print(list5)"
   ]
  },
  {
   "cell_type": "code",
   "execution_count": 83,
   "metadata": {},
   "outputs": [
    {
     "name": "stdout",
     "output_type": "stream",
     "text": [
      "Wasi will get a job soon \n",
      " \n",
      "n \n",
      "on \n",
      "oon \n",
      "soon \n",
      " soon \n",
      "b soon \n",
      "ob soon \n",
      "job soon \n",
      " job soon \n",
      "a job soon \n",
      " a job soon \n",
      "t a job soon \n",
      "et a job soon \n",
      "get a job soon \n",
      " get a job soon \n",
      "l get a job soon \n",
      "ll get a job soon \n",
      "ill get a job soon \n",
      "will get a job soon \n",
      " will get a job soon \n",
      "i will get a job soon \n",
      "si will get a job soon \n",
      "asi will get a job soon \n"
     ]
    }
   ],
   "source": [
    "def str_():\n",
    "    str1 = \"Wasi will get a job soon \"\n",
    "    length = len(str1)\n",
    "    for i in range(len(str1)):\n",
    "        print(str1[-i:])\n",
    "\n",
    "str_()"
   ]
  },
  {
   "cell_type": "code",
   "execution_count": 87,
   "metadata": {},
   "outputs": [
    {
     "name": "stdout",
     "output_type": "stream",
     "text": [
      " tuo yaw ruoy krow dna ecnadifnoc eb\n"
     ]
    }
   ],
   "source": [
    "def rev_str():\n",
    "    str2=\"be confidance and work your way out \"\n",
    "    lenght = len(str2)\n",
    "    print(str2[lenght::-1])\n",
    "\n",
    "rev_str()\n"
   ]
  },
  {
   "cell_type": "markdown",
   "metadata": {},
   "source": [
    "Create a slice that starts at the end of the string, and moves backwards.\n",
    "\n",
    "In this particular example, the slice statement [::-1] means start at the end of the string and end at position 0, move with the step -1, negative one, which means one step backwards."
   ]
  },
  {
   "cell_type": "code",
   "execution_count": 100,
   "metadata": {},
   "outputs": [
    {
     "name": "stdout",
     "output_type": "stream",
     "text": [
      " emit ruoy si won misaW\n"
     ]
    }
   ],
   "source": [
    "str4 = \"Wasim now is your time \"\n",
    "print(str4[::-1])"
   ]
  },
  {
   "cell_type": "code",
   "execution_count": 76,
   "metadata": {},
   "outputs": [
    {
     "ename": "IndexError",
     "evalue": "string index out of range",
     "output_type": "error",
     "traceback": [
      "\u001b[0;31m---------------------------------------------------------------------------\u001b[0m",
      "\u001b[0;31mIndexError\u001b[0m                                Traceback (most recent call last)",
      "\u001b[0;32m/tmp/ipykernel_20101/3134597928.py\u001b[0m in \u001b[0;36m<module>\u001b[0;34m\u001b[0m\n\u001b[1;32m      7\u001b[0m         \u001b[0mstr2\u001b[0m\u001b[0;34m[\u001b[0m\u001b[0msum\u001b[0m\u001b[0;34m]\u001b[0m\u001b[0;34m\u001b[0m\u001b[0;34m\u001b[0m\u001b[0m\n\u001b[1;32m      8\u001b[0m     \u001b[0mprint\u001b[0m\u001b[0;34m(\u001b[0m\u001b[0mstr2\u001b[0m\u001b[0;34m)\u001b[0m\u001b[0;34m\u001b[0m\u001b[0;34m\u001b[0m\u001b[0m\n\u001b[0;32m----> 9\u001b[0;31m \u001b[0mrev_Str\u001b[0m\u001b[0;34m(\u001b[0m\u001b[0;34m)\u001b[0m\u001b[0;34m\u001b[0m\u001b[0;34m\u001b[0m\u001b[0m\n\u001b[0m",
      "\u001b[0;32m/tmp/ipykernel_20101/3134597928.py\u001b[0m in \u001b[0;36mrev_Str\u001b[0;34m()\u001b[0m\n\u001b[1;32m      5\u001b[0m         \u001b[0mrem\u001b[0m \u001b[0;34m=\u001b[0m \u001b[0mi\u001b[0m \u001b[0;34m%\u001b[0m \u001b[0;36m10\u001b[0m\u001b[0;34m\u001b[0m\u001b[0;34m\u001b[0m\u001b[0m\n\u001b[1;32m      6\u001b[0m         \u001b[0msum\u001b[0m \u001b[0;34m=\u001b[0m \u001b[0msum\u001b[0m \u001b[0;34m+\u001b[0m \u001b[0mrem\u001b[0m\u001b[0;34m\u001b[0m\u001b[0;34m\u001b[0m\u001b[0m\n\u001b[0;32m----> 7\u001b[0;31m         \u001b[0mstr2\u001b[0m\u001b[0;34m[\u001b[0m\u001b[0msum\u001b[0m\u001b[0;34m]\u001b[0m\u001b[0;34m\u001b[0m\u001b[0;34m\u001b[0m\u001b[0m\n\u001b[0m\u001b[1;32m      8\u001b[0m     \u001b[0mprint\u001b[0m\u001b[0;34m(\u001b[0m\u001b[0mstr2\u001b[0m\u001b[0;34m)\u001b[0m\u001b[0;34m\u001b[0m\u001b[0;34m\u001b[0m\u001b[0m\n\u001b[1;32m      9\u001b[0m \u001b[0mrev_Str\u001b[0m\u001b[0;34m(\u001b[0m\u001b[0;34m)\u001b[0m\u001b[0;34m\u001b[0m\u001b[0;34m\u001b[0m\u001b[0m\n",
      "\u001b[0;31mIndexError\u001b[0m: string index out of range"
     ]
    }
   ],
   "source": [
    "def rev_Str():\n",
    "    str2 =\"Shilpa is working \"\n",
    "    sum = 0\n",
    "    for i in range(len(str2)):\n",
    "        rem = i % 10 \n",
    "        sum = sum + rem\n",
    "        str2[sum]\n",
    "    print(str2)\n",
    "rev_Str()"
   ]
  },
  {
   "cell_type": "code",
   "execution_count": 109,
   "metadata": {},
   "outputs": [
    {
     "name": "stdout",
     "output_type": "stream",
     "text": [
      "Initial index :  27\n",
      "egaugnal lufrewop si nohtyP\n"
     ]
    }
   ],
   "source": [
    "s= \"Python is powerful language\"\n",
    "rev_string = \"\"\n",
    "index = len(s)\n",
    "print(\"Initial index : \",index)\n",
    "while index >0:\n",
    "    rev_string +=  s[index-1]\n",
    "#    print(index, end=\" \")\n",
    "    index -= 1\n",
    "print(rev_string)"
   ]
  },
  {
   "cell_type": "code",
   "execution_count": 118,
   "metadata": {},
   "outputs": [
    {
     "data": {
      "text/plain": [
       "'yadot gniod uoy era woH , aplihs olleH'"
      ]
     },
     "execution_count": 118,
     "metadata": {},
     "output_type": "execute_result"
    }
   ],
   "source": [
    "def rev_Str(s):\n",
    "    str = \"\"\n",
    "    for i in s:\n",
    "        str = i + str \n",
    "    return str\n",
    "\n",
    "rev_Str(\"Hello shilpa , How are you doing today\")"
   ]
  },
  {
   "cell_type": "code",
   "execution_count": null,
   "metadata": {},
   "outputs": [],
   "source": []
  }
 ],
 "metadata": {
  "interpreter": {
   "hash": "916dbcbb3f70747c44a77c7bcd40155683ae19c65e1c03b4aa3499c5328201f1"
  },
  "kernelspec": {
   "display_name": "Python 3.8.10 64-bit",
   "language": "python",
   "name": "python3"
  },
  "language_info": {
   "codemirror_mode": {
    "name": "ipython",
    "version": 3
   },
   "file_extension": ".py",
   "mimetype": "text/x-python",
   "name": "python",
   "nbconvert_exporter": "python",
   "pygments_lexer": "ipython3",
   "version": "3.8.10"
  },
  "orig_nbformat": 4
 },
 "nbformat": 4,
 "nbformat_minor": 2
}
