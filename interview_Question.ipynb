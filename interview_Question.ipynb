{
 "cells": [
  {
   "cell_type": "code",
   "execution_count": 11,
   "metadata": {},
   "outputs": [],
   "source": [
    "class Computer():\n",
    "\n",
    "    def process(self):\n",
    "        pass"
   ]
  },
  {
   "cell_type": "markdown",
   "metadata": {},
   "source": [
    "    we cannot create Object of Abstract Method\n",
    "    But here we are Creating The Object"
   ]
  },
  {
   "cell_type": "code",
   "execution_count": 12,
   "metadata": {},
   "outputs": [],
   "source": [
    "c1 = Computer()\n",
    "c1.process()"
   ]
  },
  {
   "cell_type": "code",
   "execution_count": 13,
   "metadata": {},
   "outputs": [
    {
     "data": {
      "text/plain": [
       "type"
      ]
     },
     "execution_count": 13,
     "metadata": {},
     "output_type": "execute_result"
    }
   ],
   "source": [
    "type(Computer)"
   ]
  },
  {
   "cell_type": "markdown",
   "metadata": {},
   "source": [
    "    TypeError: Can't instantiate abstract class Computer with abstract methods process"
   ]
  },
  {
   "cell_type": "code",
   "execution_count": 14,
   "metadata": {},
   "outputs": [
    {
     "ename": "TypeError",
     "evalue": "Can't instantiate abstract class Computer with abstract methods process",
     "output_type": "error",
     "traceback": [
      "\u001b[0;31m---------------------------------------------------------------------------\u001b[0m",
      "\u001b[0;31mTypeError\u001b[0m                                 Traceback (most recent call last)",
      "\u001b[0;32m/tmp/ipykernel_28734/1855215530.py\u001b[0m in \u001b[0;36m<module>\u001b[0;34m\u001b[0m\n\u001b[1;32m      8\u001b[0m \u001b[0;34m\u001b[0m\u001b[0m\n\u001b[1;32m      9\u001b[0m \u001b[0;34m\u001b[0m\u001b[0m\n\u001b[0;32m---> 10\u001b[0;31m \u001b[0mc1\u001b[0m \u001b[0;34m=\u001b[0m \u001b[0mComputer\u001b[0m\u001b[0;34m(\u001b[0m\u001b[0;34m)\u001b[0m\u001b[0;34m\u001b[0m\u001b[0;34m\u001b[0m\u001b[0m\n\u001b[0m\u001b[1;32m     11\u001b[0m \u001b[0mc1\u001b[0m\u001b[0;34m.\u001b[0m\u001b[0mprocess\u001b[0m\u001b[0;34m(\u001b[0m\u001b[0;34m)\u001b[0m\u001b[0;34m\u001b[0m\u001b[0;34m\u001b[0m\u001b[0m\n",
      "\u001b[0;31mTypeError\u001b[0m: Can't instantiate abstract class Computer with abstract methods process"
     ]
    }
   ],
   "source": [
    "from abc import ABC,abstractmethod\n",
    "\n",
    "class Computer(ABC):\n",
    "\n",
    "    @abstractmethod\n",
    "    def process():\n",
    "        pass\n",
    "\n",
    "\n",
    "c1 = Computer()\n",
    "c1.process()"
   ]
  },
  {
   "cell_type": "markdown",
   "metadata": {},
   "source": [
    "    TypeError: Can't instantiate abstract class Laptop with abstract methods process\n",
    "\n",
    "    it means we need to define the Method"
   ]
  },
  {
   "cell_type": "code",
   "execution_count": 22,
   "metadata": {},
   "outputs": [
    {
     "name": "stdout",
     "output_type": "stream",
     "text": [
      "It is Running \n"
     ]
    },
    {
     "data": {
      "text/plain": [
       "' It is returning '"
      ]
     },
     "execution_count": 22,
     "metadata": {},
     "output_type": "execute_result"
    }
   ],
   "source": [
    "from abc import ABC,abstractmethod\n",
    "\n",
    "class Computer2(ABC):\n",
    "\n",
    "    @abstractmethod\n",
    "    def process():\n",
    "        pass\n",
    "\n",
    "class Laptop(Computer2):\n",
    "    \n",
    "    def process(self):\n",
    "        print(\"It is Running \")\n",
    "        return \" It is returning \"\n",
    "\n",
    "c1 = Laptop()\n",
    "c1.process()"
   ]
  },
  {
   "cell_type": "markdown",
   "metadata": {},
   "source": [
    "    Python By default Doesn't support Abstract , we need to Extend ABC(AbstractBaseClass) and abstractmethod"
   ]
  },
  {
   "cell_type": "markdown",
   "metadata": {},
   "source": [
    "    ~~~~~~~~~~~~~~~~~~~~~~~~~~~~~~~~~~~~~~~~~~~~~~~~~~~~~~~~~~~~~~~~~~~~~~~~~~~~~~~~~~\n",
    "\n",
    "    Convert list element to String"
   ]
  },
  {
   "cell_type": "code",
   "execution_count": 23,
   "metadata": {},
   "outputs": [
    {
     "data": {
      "text/plain": [
       "\"['Sahithi is not talking with me', 23.44, 45]\""
      ]
     },
     "execution_count": 23,
     "metadata": {},
     "output_type": "execute_result"
    }
   ],
   "source": [
    "list_1 =  [\"Sahithi is not talking with me\",23.44 , 45]\n",
    "str(list_1)\n",
    "\n"
   ]
  },
  {
   "cell_type": "code",
   "execution_count": 45,
   "metadata": {},
   "outputs": [
    {
     "data": {
      "text/plain": [
       "'  Sahithi is not talking with me  23.44  45'"
      ]
     },
     "execution_count": 45,
     "metadata": {},
     "output_type": "execute_result"
    }
   ],
   "source": [
    "str2 =\"\"\n",
    "\n",
    "for i in range(len(list_1)):\n",
    "#    print(i)\n",
    "#    str2 = eval('list_1[i]')\n",
    "    str2 = str2+\"  \" + str(list_1[i])\n",
    "\n",
    "str2"
   ]
  },
  {
   "cell_type": "markdown",
   "metadata": {},
   "source": [
    "    converting list element to String"
   ]
  },
  {
   "cell_type": "code",
   "execution_count": 47,
   "metadata": {},
   "outputs": [
    {
     "data": {
      "text/plain": [
       "'Sahithi is not talking with me23.4445'"
      ]
     },
     "execution_count": 47,
     "metadata": {},
     "output_type": "execute_result"
    }
   ],
   "source": [
    "list_1 =  [\"Sahithi is not talking with me\",23.44 , 45]\n",
    "\n",
    "str2 =\"\"\n",
    "for i in range(len(list_1)):\n",
    "\n",
    "    str2 = str2 + str(list_1[i])\n",
    "\n",
    "str2\n",
    "\n"
   ]
  },
  {
   "cell_type": "markdown",
   "metadata": {},
   "source": [
    "    ~~~~~~~~~~~~~~~~~~~~~~~~~~~~~~~~~~~~~~~~~~~~~~~~~~~~~~~~~~~~~~~~\n",
    "    Converting String to list"
   ]
  },
  {
   "cell_type": "code",
   "execution_count": 29,
   "metadata": {},
   "outputs": [
    {
     "data": {
      "text/plain": [
       "['working', 'on', 'huge', 'data']"
      ]
     },
     "execution_count": 29,
     "metadata": {},
     "output_type": "execute_result"
    }
   ],
   "source": [
    "str1 = \" working on huge data \"\n",
    "str1=str1.split()\n",
    "l = []\n",
    "\n",
    "for i in range(len(str1)):\n",
    "    l.append(str1[i])\n",
    "\n",
    "l"
   ]
  },
  {
   "cell_type": "code",
   "execution_count": 30,
   "metadata": {},
   "outputs": [
    {
     "data": {
      "text/plain": [
       "['working', 'on', 'huge', 'data']"
      ]
     },
     "execution_count": 30,
     "metadata": {},
     "output_type": "execute_result"
    }
   ],
   "source": [
    "list(str1)"
   ]
  },
  {
   "cell_type": "markdown",
   "metadata": {},
   "source": [
    "    LCM of Two Number"
   ]
  },
  {
   "cell_type": "code",
   "execution_count": 50,
   "metadata": {},
   "outputs": [
    {
     "name": "stdout",
     "output_type": "stream",
     "text": [
      "LCM of 6 and 11 is : 66\n"
     ]
    }
   ],
   "source": [
    "def lcm(n1,n2):\n",
    "\n",
    "    if n1>n2:\n",
    "        higher = n1\n",
    "    else:\n",
    "        higher = n2\n",
    "    \n",
    "    value = higher\n",
    "    while True:\n",
    "        if higher % n2== 0 and higher % n1 == 0 :\n",
    "            print(f'LCM of {n1} and {n2} is :',higher)\n",
    "            break\n",
    "        else:\n",
    "            higher = higher+ value\n",
    "\n",
    "n1 = int(input(\"Enter n1\"))\n",
    "n2 = int(input(\"Enter N2 \"))\n",
    "lcm(n1,n2)\n"
   ]
  },
  {
   "cell_type": "code",
   "execution_count": 58,
   "metadata": {},
   "outputs": [
    {
     "name": "stdout",
     "output_type": "stream",
     "text": [
      "4 4 4 4 4 "
     ]
    }
   ],
   "source": [
    "a = [0,1,2,3,4]\n",
    "\n",
    "for a[-2] in a :\n",
    "    print(a[-1],end=\" \")"
   ]
  },
  {
   "cell_type": "code",
   "execution_count": 3,
   "metadata": {},
   "outputs": [
    {
     "name": "stdout",
     "output_type": "stream",
     "text": [
      "6\n"
     ]
    }
   ],
   "source": [
    "num = int(input())\n",
    "for i in range(num):\n",
    "\n",
    "    in_ = input()\n",
    "    \n",
    "set_1 = set()\n",
    "count = 0 \n",
    "for i in in_:\n",
    "    set_1.add(i)\n",
    "    count = count +1 \n",
    "\n",
    "print(count)\n"
   ]
  },
  {
   "cell_type": "code",
   "execution_count": 16,
   "metadata": {},
   "outputs": [
    {
     "name": "stdout",
     "output_type": "stream",
     "text": [
      "1\n"
     ]
    }
   ],
   "source": [
    "num = int(input())\n",
    "take =\"\"\n",
    "for i in range(1,num+1):\n",
    "    take = str(input()).split()\n",
    "    \n",
    "set_1 = set()\n",
    " \n",
    "for i in take:\n",
    "    set_1.add(i)\n",
    "    \n",
    "\n",
    "print(len(set_1))\n"
   ]
  },
  {
   "cell_type": "code",
   "execution_count": 17,
   "metadata": {},
   "outputs": [
    {
     "name": "stdout",
     "output_type": "stream",
     "text": [
      "{'wasima'}\n"
     ]
    }
   ],
   "source": [
    "print(set_1)\n"
   ]
  },
  {
   "cell_type": "code",
   "execution_count": 10,
   "metadata": {},
   "outputs": [
    {
     "data": {
      "text/plain": [
       "{'wasim'}"
      ]
     },
     "execution_count": 10,
     "metadata": {},
     "output_type": "execute_result"
    }
   ],
   "source": [
    "str2 = input()\n",
    "\n",
    "set3 = set()\n",
    "\n",
    "set3.add(str2)\n",
    "\n",
    "set3"
   ]
  },
  {
   "cell_type": "code",
   "execution_count": 18,
   "metadata": {},
   "outputs": [
    {
     "data": {
      "text/plain": [
       "dict"
      ]
     },
     "execution_count": 18,
     "metadata": {},
     "output_type": "execute_result"
    }
   ],
   "source": [
    "note = {}\n",
    "\n",
    "type(note)"
   ]
  },
  {
   "cell_type": "code",
   "execution_count": 20,
   "metadata": {},
   "outputs": [],
   "source": [
    "note = {'UK', 'China','USA','France','New Zealand','UK','France' }\n",
    "\n",
    "note.add('UK')"
   ]
  },
  {
   "cell_type": "code",
   "execution_count": 21,
   "metadata": {},
   "outputs": [
    {
     "data": {
      "text/plain": [
       "{'China', 'France', 'New Zealand', 'UK', 'USA'}"
      ]
     },
     "execution_count": 21,
     "metadata": {},
     "output_type": "execute_result"
    }
   ],
   "source": [
    "note"
   ]
  },
  {
   "cell_type": "code",
   "execution_count": 22,
   "metadata": {},
   "outputs": [
    {
     "name": "stdout",
     "output_type": "stream",
     "text": [
      "7\n"
     ]
    }
   ],
   "source": [
    "num = int(input())\n",
    "\n",
    "set_1 = set()\n",
    " \n",
    "for i in range(num):\n",
    "    set_1.add(i)\n",
    "    \n",
    "\n",
    "print(len(set_1))\n"
   ]
  },
  {
   "cell_type": "code",
   "execution_count": 37,
   "metadata": {},
   "outputs": [
    {
     "name": "stdout",
     "output_type": "stream",
     "text": [
      "The Number of Object created is = 2\n"
     ]
    }
   ],
   "source": [
    "class place():\n",
    "\n",
    "\tcount=0\n",
    "\n",
    "\tdef __init__(self):\n",
    "\t\tprint(\"The variable will be executed again and again as constructor call and Object will be created \")\n",
    "\t\tcount= 20000000000       # local variable\n",
    "\t\tplace.count +=1 \n",
    "\t\tprint(count)\n",
    "\n",
    "\tprint(f\"The Number of Object created is = {place.count}\") \n",
    "\n",
    "\tdef display(self):\n",
    "\n",
    "\t\tprint(\"Write Coding\")"
   ]
  },
  {
   "cell_type": "code",
   "execution_count": 36,
   "metadata": {},
   "outputs": [
    {
     "name": "stdout",
     "output_type": "stream",
     "text": [
      "The variable will be executed again and again as constructor call and Object will be created \n",
      "20000000000\n",
      "The variable will be executed again and again as constructor call and Object will be created \n",
      "20000000000\n",
      "Write Coding\n"
     ]
    }
   ],
   "source": [
    "pl1 = place()\n",
    "pl2 = place()\n",
    "\n",
    "pl1.display()"
   ]
  },
  {
   "cell_type": "code",
   "execution_count": 4,
   "metadata": {},
   "outputs": [
    {
     "name": "stdout",
     "output_type": "stream",
     "text": [
      "2\n",
      "[6, 8]\n"
     ]
    }
   ],
   "source": [
    "dict2 = {'12':3,\"34\":6,\"22\":8}\n",
    "list2 =[]\n",
    "for k,v in dict2.items():\n",
    "    if v %2 == 0 :\n",
    "        list2.append(v)\n",
    "\n",
    "print(len(list2))\n",
    "print(list2)"
   ]
  },
  {
   "cell_type": "code",
   "execution_count": null,
   "metadata": {},
   "outputs": [],
   "source": [
    "def sockMerchant(n, ar):\n",
    "    # Write your code here\n",
    "    str1 = \"\"\n",
    "    list2 = []\n",
    "    dict1 = {}\n",
    "    for i in range(len(ar)):\n",
    "        str1 = str1+\" \"+ str(ar[i])\n",
    "        \n",
    "    str2 = str1.split()\n",
    "    for i in str2:\n",
    "        dict1[i] = dict1.get(i,0)+1\n",
    "        \n",
    "    for k,v in dict1.items():\n",
    "        if v % 2 == 0 :\n",
    "            list2.append(v)\n",
    "    \n",
    "    return len(list2)"
   ]
  }
 ],
 "metadata": {
  "interpreter": {
   "hash": "916dbcbb3f70747c44a77c7bcd40155683ae19c65e1c03b4aa3499c5328201f1"
  },
  "kernelspec": {
   "display_name": "Python 3.8.10 64-bit",
   "language": "python",
   "name": "python3"
  },
  "language_info": {
   "codemirror_mode": {
    "name": "ipython",
    "version": 3
   },
   "file_extension": ".py",
   "mimetype": "text/x-python",
   "name": "python",
   "nbconvert_exporter": "python",
   "pygments_lexer": "ipython3",
   "version": "3.8.10"
  },
  "orig_nbformat": 4
 },
 "nbformat": 4,
 "nbformat_minor": 2
}
