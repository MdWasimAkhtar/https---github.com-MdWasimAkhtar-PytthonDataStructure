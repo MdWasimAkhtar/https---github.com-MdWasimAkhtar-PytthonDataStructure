{
 "cells": [
  {
   "cell_type": "markdown",
   "metadata": {},
   "source": [
    "Quick Sort \n",
    "--------------------"
   ]
  },
  {
   "cell_type": "code",
   "execution_count": 7,
   "metadata": {},
   "outputs": [],
   "source": [
    "def pivot_place(list1,first,last):\n",
    "    pivot = list1[first]\n",
    "    left = first+1\n",
    "    right = last\n",
    "\n",
    "    while True:\n",
    "        while left <= right and list1[left] <=pivot:\n",
    "            left += 1 \n",
    "        while left <= right and list1[right] >= pivot:\n",
    "            right = right - 1\n",
    "        if right < left :\n",
    "            break\n",
    "        else:\n",
    "            list1[left] , list1[right] = list1[right], list1[left]\n",
    "\n",
    "    list1[first] , list1[right] = list1[right] , list1[first]\n",
    "\n",
    "    return right\n",
    "    "
   ]
  },
  {
   "cell_type": "code",
   "execution_count": 9,
   "metadata": {},
   "outputs": [
    {
     "data": {
      "text/plain": [
       "[17, 21, 26, 31, 44, 56, 93]"
      ]
     },
     "execution_count": 9,
     "metadata": {},
     "output_type": "execute_result"
    }
   ],
   "source": [
    "def quick_sort(list1,first,last):\n",
    "    if first < last:\n",
    "\n",
    "        p = pivot_place(list1,first,last)\n",
    "        quick_sort(list1,first,p-1)\n",
    "        quick_sort(list1,p+1,last)\n",
    "\n",
    "list1=[56,26,93,17,21,31,44]\n",
    "length = len(list1)\n",
    "quick_sort(list1,0,length-1)\n",
    "list1\n"
   ]
  },
  {
   "cell_type": "code",
   "execution_count": null,
   "metadata": {},
   "outputs": [],
   "source": []
  }
 ],
 "metadata": {
  "interpreter": {
   "hash": "916dbcbb3f70747c44a77c7bcd40155683ae19c65e1c03b4aa3499c5328201f1"
  },
  "kernelspec": {
   "display_name": "Python 3.8.10 64-bit",
   "language": "python",
   "name": "python3"
  },
  "language_info": {
   "codemirror_mode": {
    "name": "ipython",
    "version": 3
   },
   "file_extension": ".py",
   "mimetype": "text/x-python",
   "name": "python",
   "nbconvert_exporter": "python",
   "pygments_lexer": "ipython3",
   "version": "3.8.10"
  },
  "orig_nbformat": 4
 },
 "nbformat": 4,
 "nbformat_minor": 2
}
